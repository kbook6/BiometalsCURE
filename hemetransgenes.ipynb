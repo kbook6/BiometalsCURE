{
 "cells": [
  {
   "cell_type": "markdown",
   "id": "672fd6d0",
   "metadata": {},
   "source": [
    "# Notebook for CHEM 4582 Biochemistry II Lab Biometals CURE\n",
    "Goal: Analyzing variants in heme transport genes in different populations from the 1000 Genomes Project.\n"
   ]
  },
  {
   "cell_type": "markdown",
   "id": "96c4514b",
   "metadata": {},
   "source": [
    "README: "
   ]
  },
  {
   "cell_type": "markdown",
   "id": "69f74e18",
   "metadata": {},
   "source": [
    "# Organization"
   ]
  },
  {
   "cell_type": "code",
   "execution_count": 1,
   "id": "ad9a1d26",
   "metadata": {},
   "outputs": [],
   "source": [
    "#make a directory for the vcf files\n",
    "!mkdir ~/biometals/VCFfiles"
   ]
  },
  {
   "cell_type": "code",
   "execution_count": 1,
   "id": "6a57006d",
   "metadata": {},
   "outputs": [],
   "source": [
    "import pandas as pd\n",
    "import gzip"
   ]
  },
  {
   "cell_type": "code",
   "execution_count": 1,
   "id": "70c9aac7",
   "metadata": {},
   "outputs": [
    {
     "name": "stdout",
     "output_type": "stream",
     "text": [
      "europops.txt has been created and written to.\n"
     ]
    }
   ],
   "source": [
    "#--------------------------------------------------------------\n",
    "#creating text files for the european populations\n",
    "#--------------------------------------------------------------\n",
    "filename = 'europops.txt'\n",
    "\n",
    "# Open the file in write mode ('w') and write content\n",
    "with open(filename, 'w') as file:\n",
    "    file.write(\"FIN.\\n\") #Finnish in Finland\n",
    "    file.write(\"GBR.\\n\") #British in Great Britain and Scotland\n",
    "    file.write(\"IBR.\\n\") #Iberian in Spain\n",
    "    file.write(\"TSI.\\n\") #Toscani in Italy\n",
    "print(f\"{filename} has been created and written to biometals.\")"
   ]
  },
  {
   "cell_type": "code",
   "execution_count": 1,
   "id": "22cc3c98",
   "metadata": {},
   "outputs": [],
   "source": [
    "!mv ALL.chr11.phase3_shapeit2_mvncall_integrated_v5b.20130502.genotypes.vcf.gz ~/biometals/VCFfiles"
   ]
  },
  {
   "cell_type": "code",
   "execution_count": 1,
   "id": "5d5c5e32",
   "metadata": {},
   "outputs": [
    {
     "name": "stdout",
     "output_type": "stream",
     "text": [
      "\n",
      "Program: bcftools (Tools for variant calling and manipulating VCFs and BCFs)\n",
      "License: GNU GPLv3+, due to use of the GNU Scientific Library\n",
      "Version: 1.17 (using htslib 1.17)\n",
      "\n",
      "Usage:   bcftools [--version|--version-only] [--help] <command> <argument>\n",
      "\n",
      "Commands:\n",
      "\n",
      " -- Indexing\n",
      "    index        index VCF/BCF files\n",
      "\n",
      " -- VCF/BCF manipulation\n",
      "    annotate     annotate and edit VCF/BCF files\n",
      "    concat       concatenate VCF/BCF files from the same set of samples\n",
      "    convert      convert VCF/BCF files to different formats and back\n",
      "    head         view VCF/BCF file headers\n",
      "    isec         intersections of VCF/BCF files\n",
      "    merge        merge VCF/BCF files files from non-overlapping sample sets\n",
      "    norm         left-align and normalize indels\n",
      "    plugin       user-defined plugins\n",
      "    query        transform VCF/BCF into user-defined formats\n",
      "    reheader     modify VCF/BCF header, change sample names\n",
      "    sort         sort VCF/BCF file\n",
      "    view         VCF/BCF conversion, view, subset and filter VCF/BCF files\n",
      "\n",
      " -- VCF/BCF analysis\n",
      "    call         SNP/indel calling\n",
      "    consensus    create consensus sequence by applying VCF variants\n",
      "    cnv          HMM CNV calling\n",
      "    csq          call variation consequences\n",
      "    filter       filter VCF/BCF files using fixed thresholds\n",
      "    gtcheck      check sample concordance, detect sample swaps and contamination\n",
      "    mpileup      multi-way pileup producing genotype likelihoods\n",
      "    polysomy     detect number of chromosomal copies\n",
      "    roh          identify runs of autozygosity (HMM)\n",
      "    stats        produce VCF/BCF stats\n",
      "\n",
      " -- Plugins (collection of programs for calling, file manipulation & analysis)\n",
      "    40 plugins available, run \"bcftools plugin -lv\" to see a complete list\n",
      "\n",
      " Most commands accept VCF, bgzipped VCF, and BCF with the file type detected\n",
      " automatically even when streaming from a pipe. Indexed VCF and BCF will work\n",
      " in all situations. Un-indexed VCF and BCF and streams will work in most but\n",
      " not all situations.\n",
      "\n"
     ]
    }
   ],
   "source": [
    "!bcftools"
   ]
  },
  {
   "cell_type": "markdown",
   "id": "041d9049",
   "metadata": {},
   "source": [
    "# HBB Variant (Sickle Cell Anemia)"
   ]
  },
  {
   "cell_type": "code",
   "execution_count": 1,
   "id": "52888d5e",
   "metadata": {
    "scrolled": true
   },
   "outputs": [
    {
     "name": "stdout",
     "output_type": "stream",
     "text": [
      "--2024-11-12 20:18:42--  https://ftp.1000genomes.ebi.ac.uk/vol1/ftp/release/20130502/ALL.chr11.phase3_shapeit2_mvncall_integrated_v5b.20130502.genotypes.vcf.gz\n",
      "Resolving ftp.1000genomes.ebi.ac.uk (ftp.1000genomes.ebi.ac.uk)... 193.62.193.167\n",
      "Connecting to ftp.1000genomes.ebi.ac.uk (ftp.1000genomes.ebi.ac.uk)|193.62.193.167|:443... connected.\n",
      "HTTP request sent, awaiting response... 200 OK\n",
      "Length: 734583405 (701M) [application/x-gzip]\n",
      "Saving to: ‘ALL.chr11.phase3_shapeit2_mvncall_integrated_v5b.20130502.genotypes.vcf.gz’\n",
      "\n",
      "ALL.chr11.phase3_sh 100%[===================>] 700.55M  70.5MB/s    in 9.4s    \n",
      "\n",
      "2024-11-12 20:18:52 (74.6 MB/s) - ‘ALL.chr11.phase3_shapeit2_mvncall_integrated_v5b.20130502.genotypes.vcf.gz’ saved [734583405/734583405]\n",
      "\n"
     ]
    }
   ],
   "source": [
    "#--------------------------------------------------------------\n",
    "# calling the chromosome 11 data\n",
    "#--------------------------------------------------------------\n",
    "!wget https://ftp.1000genomes.ebi.ac.uk/vol1/ftp/release/20130502/ALL.chr11.phase3_shapeit2_mvncall_integrated_v5b.20130502.genotypes.vcf.gz"
   ]
  },
  {
   "cell_type": "code",
   "execution_count": 1,
   "id": "146f908e",
   "metadata": {
    "scrolled": true
   },
   "outputs": [],
   "source": [
    "#index the file for ease of access\n",
    "!bcftools index ~/biometals/VCFfiles/ALL.chr11.phase3_shapeit2_mvncall_integrated_v5b.20130502.genotypes.vcf.gz"
   ]
  },
  {
   "cell_type": "code",
   "execution_count": 1,
   "id": "8fceb4fb",
   "metadata": {},
   "outputs": [
    {
     "name": "stdout",
     "output_type": "stream",
     "text": [
      "##fileformat=VCFv4.1\r\n",
      "##FILTER=<ID=PASS,Description=\"All filters passed\">\r\n",
      "##fileDate=20150218\r\n",
      "##reference=ftp://ftp.1000genomes.ebi.ac.uk//vol1/ftp/technical/reference/phase2_reference_assembly_sequence/hs37d5.fa.gz\r\n",
      "##source=1000GenomesPhase3Pipeline\r\n",
      "##contig=<ID=1,assembly=b37,length=249250621>\r\n",
      "##contig=<ID=2,assembly=b37,length=243199373>\r\n",
      "##contig=<ID=3,assembly=b37,length=198022430>\r\n",
      "##contig=<ID=4,assembly=b37,length=191154276>\r\n",
      "##contig=<ID=5,assembly=b37,length=180915260>\r\n",
      "##contig=<ID=6,assembly=b37,length=171115067>\r\n",
      "##contig=<ID=7,assembly=b37,length=159138663>\r\n",
      "##contig=<ID=8,assembly=b37,length=146364022>\r\n",
      "##contig=<ID=9,assembly=b37,length=141213431>\r\n",
      "##contig=<ID=10,assembly=b37,length=135534747>\r\n",
      "##contig=<ID=11,assembly=b37,length=135006516>\r\n",
      "##contig=<ID=12,assembly=b37,length=133851895>\r\n",
      "##contig=<ID=13,assembly=b37,length=115169878>\r\n",
      "##contig=<ID=14,assembly=b37,length=107349540>\r\n",
      "##contig=<ID=15,assembly=b37,length=102531392>\r\n",
      "##contig=<ID=16,assembly=b37,length=90354753>\r\n",
      "##contig=<ID=17,assembly=b37,length=81195210>\r\n",
      "##contig=<ID=18,assembly=b37,length=78077248>\r\n",
      "##contig=<ID=19,assembly=b37,length=59128983>\r\n",
      "##contig=<ID=20,assembly=b37,length=63025520>\r\n",
      "##contig=<ID=21,assembly=b37,length=48129895>\r\n",
      "##contig=<ID=22,assembly=b37,length=51304566>\r\n",
      "##contig=<ID=GL000191.1,assembly=b37,length=106433>\r\n",
      "##contig=<ID=GL000192.1,assembly=b37,length=547496>\r\n",
      "##contig=<ID=GL000193.1,assembly=b37,length=189789>\r\n",
      "##contig=<ID=GL000194.1,assembly=b37,length=191469>\r\n",
      "##contig=<ID=GL000195.1,assembly=b37,length=182896>\r\n",
      "##contig=<ID=GL000196.1,assembly=b37,length=38914>\r\n",
      "##contig=<ID=GL000197.1,assembly=b37,length=37175>\r\n",
      "##contig=<ID=GL000198.1,assembly=b37,length=90085>\r\n",
      "##contig=<ID=GL000199.1,assembly=b37,length=169874>\r\n",
      "##contig=<ID=GL000200.1,assembly=b37,length=187035>\r\n",
      "##contig=<ID=GL000201.1,assembly=b37,length=36148>\r\n",
      "##contig=<ID=GL000202.1,assembly=b37,length=40103>\r\n",
      "##contig=<ID=GL000203.1,assembly=b37,length=37498>\r\n",
      "##contig=<ID=GL000204.1,assembly=b37,length=81310>\r\n",
      "##contig=<ID=GL000205.1,assembly=b37,length=174588>\r\n",
      "##contig=<ID=GL000206.1,assembly=b37,length=41001>\r\n",
      "##contig=<ID=GL000207.1,assembly=b37,length=4262>\r\n",
      "##contig=<ID=GL000208.1,assembly=b37,length=92689>\r\n",
      "##contig=<ID=GL000209.1,assembly=b37,length=159169>\r\n",
      "##contig=<ID=GL000210.1,assembly=b37,length=27682>\r\n",
      "##contig=<ID=GL000211.1,assembly=b37,length=166566>\r\n",
      "##contig=<ID=GL000212.1,assembly=b37,length=186858>\r\n",
      "##contig=<ID=GL000213.1,assembly=b37,length=164239>\r\n",
      "##contig=<ID=GL000214.1,assembly=b37,length=137718>\r\n",
      "##contig=<ID=GL000215.1,assembly=b37,length=172545>\r\n",
      "##contig=<ID=GL000216.1,assembly=b37,length=172294>\r\n",
      "##contig=<ID=GL000217.1,assembly=b37,length=172149>\r\n",
      "##contig=<ID=GL000218.1,assembly=b37,length=161147>\r\n",
      "##contig=<ID=GL000219.1,assembly=b37,length=179198>\r\n",
      "##contig=<ID=GL000220.1,assembly=b37,length=161802>\r\n",
      "##contig=<ID=GL000221.1,assembly=b37,length=155397>\r\n",
      "##contig=<ID=GL000222.1,assembly=b37,length=186861>\r\n",
      "##contig=<ID=GL000223.1,assembly=b37,length=180455>\r\n",
      "##contig=<ID=GL000224.1,assembly=b37,length=179693>\r\n",
      "##contig=<ID=GL000225.1,assembly=b37,length=211173>\r\n",
      "##contig=<ID=GL000226.1,assembly=b37,length=15008>\r\n",
      "##contig=<ID=GL000227.1,assembly=b37,length=128374>\r\n",
      "##contig=<ID=GL000228.1,assembly=b37,length=129120>\r\n",
      "##contig=<ID=GL000229.1,assembly=b37,length=19913>\r\n",
      "##contig=<ID=GL000230.1,assembly=b37,length=43691>\r\n",
      "##contig=<ID=GL000231.1,assembly=b37,length=27386>\r\n",
      "##contig=<ID=GL000232.1,assembly=b37,length=40652>\r\n",
      "##contig=<ID=GL000233.1,assembly=b37,length=45941>\r\n",
      "##contig=<ID=GL000234.1,assembly=b37,length=40531>\r\n",
      "##contig=<ID=GL000235.1,assembly=b37,length=34474>\r\n",
      "##contig=<ID=GL000236.1,assembly=b37,length=41934>\r\n",
      "##contig=<ID=GL000237.1,assembly=b37,length=45867>\r\n",
      "##contig=<ID=GL000238.1,assembly=b37,length=39939>\r\n",
      "##contig=<ID=GL000239.1,assembly=b37,length=33824>\r\n",
      "##contig=<ID=GL000240.1,assembly=b37,length=41933>\r\n",
      "##contig=<ID=GL000241.1,assembly=b37,length=42152>\r\n",
      "##contig=<ID=GL000242.1,assembly=b37,length=43523>\r\n",
      "##contig=<ID=GL000243.1,assembly=b37,length=43341>\r\n",
      "##contig=<ID=GL000244.1,assembly=b37,length=39929>\r\n",
      "##contig=<ID=GL000245.1,assembly=b37,length=36651>\r\n",
      "##contig=<ID=GL000246.1,assembly=b37,length=38154>\r\n",
      "##contig=<ID=GL000247.1,assembly=b37,length=36422>\r\n",
      "##contig=<ID=GL000248.1,assembly=b37,length=39786>\r\n",
      "##contig=<ID=GL000249.1,assembly=b37,length=38502>\r\n",
      "##contig=<ID=MT,assembly=b37,length=16569>\r\n",
      "##contig=<ID=NC_007605,assembly=b37,length=171823>\r\n",
      "##contig=<ID=X,assembly=b37,length=155270560>\r\n",
      "##contig=<ID=Y,assembly=b37,length=59373566>\r\n",
      "##contig=<ID=hs37d5,assembly=b37,length=35477943>\r\n",
      "##ALT=<ID=CNV,Description=\"Copy Number Polymorphism\">\r\n",
      "##ALT=<ID=DEL,Description=\"Deletion\">\r\n",
      "##ALT=<ID=DUP,Description=\"Duplication\">\r\n",
      "##ALT=<ID=INS:ME:ALU,Description=\"Insertion of ALU element\">\r\n",
      "##ALT=<ID=INS:ME:LINE1,Description=\"Insertion of LINE1 element\">\r\n",
      "##ALT=<ID=INS:ME:SVA,Description=\"Insertion of SVA element\">\r\n",
      "##ALT=<ID=INS:MT,Description=\"Nuclear Mitochondrial Insertion\">\r\n",
      "##ALT=<ID=INV,Description=\"Inversion\">\r\n",
      "##ALT=<ID=CN0,Description=\"Copy number allele: 0 copies\">\r\n",
      "##ALT=<ID=CN1,Description=\"Copy number allele: 1 copy\">\r\n",
      "##ALT=<ID=CN2,Description=\"Copy number allele: 2 copies\">\r\n",
      "##ALT=<ID=CN3,Description=\"Copy number allele: 3 copies\">\r\n",
      "##ALT=<ID=CN4,Description=\"Copy number allele: 4 copies\">\r\n",
      "##ALT=<ID=CN5,Description=\"Copy number allele: 5 copies\">\r\n",
      "##ALT=<ID=CN6,Description=\"Copy number allele: 6 copies\">\r\n",
      "##ALT=<ID=CN7,Description=\"Copy number allele: 7 copies\">\r\n",
      "##ALT=<ID=CN8,Description=\"Copy number allele: 8 copies\">\r\n",
      "##ALT=<ID=CN9,Description=\"Copy number allele: 9 copies\">\r\n",
      "##ALT=<ID=CN10,Description=\"Copy number allele: 10 copies\">\r\n",
      "##ALT=<ID=CN11,Description=\"Copy number allele: 11 copies\">\r\n",
      "##ALT=<ID=CN12,Description=\"Copy number allele: 12 copies\">\r\n",
      "##ALT=<ID=CN13,Description=\"Copy number allele: 13 copies\">\r\n",
      "##ALT=<ID=CN14,Description=\"Copy number allele: 14 copies\">\r\n",
      "##ALT=<ID=CN15,Description=\"Copy number allele: 15 copies\">\r\n",
      "##ALT=<ID=CN16,Description=\"Copy number allele: 16 copies\">\r\n",
      "##ALT=<ID=CN17,Description=\"Copy number allele: 17 copies\">\r\n",
      "##ALT=<ID=CN18,Description=\"Copy number allele: 18 copies\">\r\n",
      "##ALT=<ID=CN19,Description=\"Copy number allele: 19 copies\">\r\n",
      "##ALT=<ID=CN20,Description=\"Copy number allele: 20 copies\">\r\n",
      "##ALT=<ID=CN21,Description=\"Copy number allele: 21 copies\">\r\n",
      "##ALT=<ID=CN22,Description=\"Copy number allele: 22 copies\">\r\n",
      "##ALT=<ID=CN23,Description=\"Copy number allele: 23 copies\">\r\n",
      "##ALT=<ID=CN24,Description=\"Copy number allele: 24 copies\">\r\n",
      "##ALT=<ID=CN25,Description=\"Copy number allele: 25 copies\">\r\n",
      "##ALT=<ID=CN26,Description=\"Copy number allele: 26 copies\">\r\n",
      "##ALT=<ID=CN27,Description=\"Copy number allele: 27 copies\">\r\n",
      "##ALT=<ID=CN28,Description=\"Copy number allele: 28 copies\">\r\n",
      "##ALT=<ID=CN29,Description=\"Copy number allele: 29 copies\">\r\n",
      "##ALT=<ID=CN30,Description=\"Copy number allele: 30 copies\">\r\n",
      "##ALT=<ID=CN31,Description=\"Copy number allele: 31 copies\">\r\n",
      "##ALT=<ID=CN32,Description=\"Copy number allele: 32 copies\">\r\n",
      "##ALT=<ID=CN33,Description=\"Copy number allele: 33 copies\">\r\n",
      "##ALT=<ID=CN34,Description=\"Copy number allele: 34 copies\">\r\n",
      "##ALT=<ID=CN35,Description=\"Copy number allele: 35 copies\">\r\n",
      "##ALT=<ID=CN36,Description=\"Copy number allele: 36 copies\">\r\n",
      "##ALT=<ID=CN37,Description=\"Copy number allele: 37 copies\">\r\n",
      "##ALT=<ID=CN38,Description=\"Copy number allele: 38 copies\">\r\n",
      "##ALT=<ID=CN39,Description=\"Copy number allele: 39 copies\">\r\n",
      "##ALT=<ID=CN40,Description=\"Copy number allele: 40 copies\">\r\n",
      "##ALT=<ID=CN41,Description=\"Copy number allele: 41 copies\">\r\n",
      "##ALT=<ID=CN42,Description=\"Copy number allele: 42 copies\">\r\n",
      "##ALT=<ID=CN43,Description=\"Copy number allele: 43 copies\">\r\n",
      "##ALT=<ID=CN44,Description=\"Copy number allele: 44 copies\">\r\n",
      "##ALT=<ID=CN45,Description=\"Copy number allele: 45 copies\">\r\n",
      "##ALT=<ID=CN46,Description=\"Copy number allele: 46 copies\">\r\n",
      "##ALT=<ID=CN47,Description=\"Copy number allele: 47 copies\">\r\n",
      "##ALT=<ID=CN48,Description=\"Copy number allele: 48 copies\">\r\n",
      "##ALT=<ID=CN49,Description=\"Copy number allele: 49 copies\">\r\n",
      "##ALT=<ID=CN50,Description=\"Copy number allele: 50 copies\">\r\n",
      "##ALT=<ID=CN51,Description=\"Copy number allele: 51 copies\">\r\n",
      "##ALT=<ID=CN52,Description=\"Copy number allele: 52 copies\">\r\n",
      "##ALT=<ID=CN53,Description=\"Copy number allele: 53 copies\">\r\n",
      "##ALT=<ID=CN54,Description=\"Copy number allele: 54 copies\">\r\n",
      "##ALT=<ID=CN55,Description=\"Copy number allele: 55 copies\">\r\n",
      "##ALT=<ID=CN56,Description=\"Copy number allele: 56 copies\">\r\n",
      "##ALT=<ID=CN57,Description=\"Copy number allele: 57 copies\">\r\n",
      "##ALT=<ID=CN58,Description=\"Copy number allele: 58 copies\">\r\n",
      "##ALT=<ID=CN59,Description=\"Copy number allele: 59 copies\">\r\n",
      "##ALT=<ID=CN60,Description=\"Copy number allele: 60 copies\">\r\n",
      "##ALT=<ID=CN61,Description=\"Copy number allele: 61 copies\">\r\n",
      "##ALT=<ID=CN62,Description=\"Copy number allele: 62 copies\">\r\n",
      "##ALT=<ID=CN63,Description=\"Copy number allele: 63 copies\">\r\n",
      "##ALT=<ID=CN64,Description=\"Copy number allele: 64 copies\">\r\n",
      "##ALT=<ID=CN65,Description=\"Copy number allele: 65 copies\">\r\n",
      "##ALT=<ID=CN66,Description=\"Copy number allele: 66 copies\">\r\n",
      "##ALT=<ID=CN67,Description=\"Copy number allele: 67 copies\">\r\n",
      "##ALT=<ID=CN68,Description=\"Copy number allele: 68 copies\">\r\n",
      "##ALT=<ID=CN69,Description=\"Copy number allele: 69 copies\">\r\n",
      "##ALT=<ID=CN70,Description=\"Copy number allele: 70 copies\">\r\n",
      "##ALT=<ID=CN71,Description=\"Copy number allele: 71 copies\">\r\n",
      "##ALT=<ID=CN72,Description=\"Copy number allele: 72 copies\">\r\n",
      "##ALT=<ID=CN73,Description=\"Copy number allele: 73 copies\">\r\n",
      "##ALT=<ID=CN74,Description=\"Copy number allele: 74 copies\">\r\n",
      "##ALT=<ID=CN75,Description=\"Copy number allele: 75 copies\">\r\n",
      "##ALT=<ID=CN76,Description=\"Copy number allele: 76 copies\">\r\n",
      "##ALT=<ID=CN77,Description=\"Copy number allele: 77 copies\">\r\n",
      "##ALT=<ID=CN78,Description=\"Copy number allele: 78 copies\">\r\n",
      "##ALT=<ID=CN79,Description=\"Copy number allele: 79 copies\">\r\n",
      "##ALT=<ID=CN80,Description=\"Copy number allele: 80 copies\">\r\n",
      "##ALT=<ID=CN81,Description=\"Copy number allele: 81 copies\">\r\n",
      "##ALT=<ID=CN82,Description=\"Copy number allele: 82 copies\">\r\n",
      "##ALT=<ID=CN83,Description=\"Copy number allele: 83 copies\">\r\n",
      "##ALT=<ID=CN84,Description=\"Copy number allele: 84 copies\">\r\n",
      "##ALT=<ID=CN85,Description=\"Copy number allele: 85 copies\">\r\n",
      "##ALT=<ID=CN86,Description=\"Copy number allele: 86 copies\">\r\n",
      "##ALT=<ID=CN87,Description=\"Copy number allele: 87 copies\">\r\n",
      "##ALT=<ID=CN88,Description=\"Copy number allele: 88 copies\">\r\n",
      "##ALT=<ID=CN89,Description=\"Copy number allele: 89 copies\">\r\n",
      "##ALT=<ID=CN90,Description=\"Copy number allele: 90 copies\">\r\n",
      "##ALT=<ID=CN91,Description=\"Copy number allele: 91 copies\">\r\n",
      "##ALT=<ID=CN92,Description=\"Copy number allele: 92 copies\">\r\n",
      "##ALT=<ID=CN93,Description=\"Copy number allele: 93 copies\">\r\n",
      "##ALT=<ID=CN94,Description=\"Copy number allele: 94 copies\">\r\n",
      "##ALT=<ID=CN95,Description=\"Copy number allele: 95 copies\">\r\n",
      "##ALT=<ID=CN96,Description=\"Copy number allele: 96 copies\">\r\n",
      "##ALT=<ID=CN97,Description=\"Copy number allele: 97 copies\">\r\n",
      "##ALT=<ID=CN98,Description=\"Copy number allele: 98 copies\">\r\n",
      "##ALT=<ID=CN99,Description=\"Copy number allele: 99 copies\">\r\n",
      "##ALT=<ID=CN100,Description=\"Copy number allele: 100 copies\">\r\n",
      "##ALT=<ID=CN101,Description=\"Copy number allele: 101 copies\">\r\n",
      "##ALT=<ID=CN102,Description=\"Copy number allele: 102 copies\">\r\n",
      "##ALT=<ID=CN103,Description=\"Copy number allele: 103 copies\">\r\n",
      "##ALT=<ID=CN104,Description=\"Copy number allele: 104 copies\">\r\n",
      "##ALT=<ID=CN105,Description=\"Copy number allele: 105 copies\">\r\n",
      "##ALT=<ID=CN106,Description=\"Copy number allele: 106 copies\">\r\n",
      "##ALT=<ID=CN107,Description=\"Copy number allele: 107 copies\">\r\n",
      "##ALT=<ID=CN108,Description=\"Copy number allele: 108 copies\">\r\n",
      "##ALT=<ID=CN109,Description=\"Copy number allele: 109 copies\">\r\n",
      "##ALT=<ID=CN110,Description=\"Copy number allele: 110 copies\">\r\n",
      "##ALT=<ID=CN111,Description=\"Copy number allele: 111 copies\">\r\n",
      "##ALT=<ID=CN112,Description=\"Copy number allele: 112 copies\">\r\n",
      "##ALT=<ID=CN113,Description=\"Copy number allele: 113 copies\">\r\n",
      "##ALT=<ID=CN114,Description=\"Copy number allele: 114 copies\">\r\n",
      "##ALT=<ID=CN115,Description=\"Copy number allele: 115 copies\">\r\n",
      "##ALT=<ID=CN116,Description=\"Copy number allele: 116 copies\">\r\n",
      "##ALT=<ID=CN117,Description=\"Copy number allele: 117 copies\">\r\n",
      "##ALT=<ID=CN118,Description=\"Copy number allele: 118 copies\">\r\n",
      "##ALT=<ID=CN119,Description=\"Copy number allele: 119 copies\">\r\n",
      "##ALT=<ID=CN120,Description=\"Copy number allele: 120 copies\">\r\n",
      "##ALT=<ID=CN121,Description=\"Copy number allele: 121 copies\">\r\n",
      "##ALT=<ID=CN122,Description=\"Copy number allele: 122 copies\">\r\n",
      "##ALT=<ID=CN123,Description=\"Copy number allele: 123 copies\">\r\n",
      "##ALT=<ID=CN124,Description=\"Copy number allele: 124 copies\">\r\n",
      "##FORMAT=<ID=GT,Number=1,Type=String,Description=\"Genotype\">\r\n",
      "##INFO=<ID=CIEND,Number=2,Type=Integer,Description=\"Confidence interval around END for imprecise variants\">\r\n",
      "##INFO=<ID=CIPOS,Number=2,Type=Integer,Description=\"Confidence interval around POS for imprecise variants\">\r\n",
      "##INFO=<ID=CS,Number=1,Type=String,Description=\"Source call set.\">\r\n",
      "##INFO=<ID=END,Number=1,Type=Integer,Description=\"End coordinate of this variant\">\r\n",
      "##INFO=<ID=IMPRECISE,Number=0,Type=Flag,Description=\"Imprecise structural variation\">\r\n",
      "##INFO=<ID=MC,Number=.,Type=String,Description=\"Merged calls.\">\r\n",
      "##INFO=<ID=MEINFO,Number=4,Type=String,Description=\"Mobile element info of the form NAME,START,END<POLARITY; If there is only 5' OR 3' support for this call, will be NULL NULL for START and END\">\r\n",
      "##INFO=<ID=MEND,Number=1,Type=Integer,Description=\"Mitochondrial end coordinate of inserted sequence\">\r\n",
      "##INFO=<ID=MLEN,Number=1,Type=Integer,Description=\"Estimated length of mitochondrial insert\">\r\n",
      "##INFO=<ID=MSTART,Number=1,Type=Integer,Description=\"Mitochondrial start coordinate of inserted sequence\">\r\n",
      "##INFO=<ID=SVLEN,Number=.,Type=Integer,Description=\"SV length. It is only calculated for structural variation MEIs. For other types of SVs; one may calculate the SV length by INFO:END-START+1, or by finding the difference between lengthes of REF and ALT alleles\">\r\n",
      "##INFO=<ID=SVTYPE,Number=1,Type=String,Description=\"Type of structural variant\">\r\n",
      "##INFO=<ID=TSD,Number=1,Type=String,Description=\"Precise Target Site Duplication for bases, if unknown, value will be NULL\">\r\n",
      "##INFO=<ID=AC,Number=A,Type=Integer,Description=\"Total number of alternate alleles in called genotypes\">\r\n",
      "##INFO=<ID=AF,Number=A,Type=Float,Description=\"Estimated allele frequency in the range (0,1)\">\r\n",
      "##INFO=<ID=NS,Number=1,Type=Integer,Description=\"Number of samples with data\">\r\n",
      "##INFO=<ID=AN,Number=1,Type=Integer,Description=\"Total number of alleles in called genotypes\">\r\n",
      "##INFO=<ID=EAS_AF,Number=A,Type=Float,Description=\"Allele frequency in the EAS populations calculated from AC and AN, in the range (0,1)\">\r\n",
      "##INFO=<ID=EUR_AF,Number=A,Type=Float,Description=\"Allele frequency in the EUR populations calculated from AC and AN, in the range (0,1)\">\r\n",
      "##INFO=<ID=AFR_AF,Number=A,Type=Float,Description=\"Allele frequency in the AFR populations calculated from AC and AN, in the range (0,1)\">\r\n",
      "##INFO=<ID=AMR_AF,Number=A,Type=Float,Description=\"Allele frequency in the AMR populations calculated from AC and AN, in the range (0,1)\">\r\n",
      "##INFO=<ID=SAS_AF,Number=A,Type=Float,Description=\"Allele frequency in the SAS populations calculated from AC and AN, in the range (0,1)\">\r\n",
      "##INFO=<ID=DP,Number=1,Type=Integer,Description=\"Total read depth; only low coverage data were counted towards the DP, exome data were not used\">\r\n",
      "##INFO=<ID=AA,Number=1,Type=String,Description=\"Ancestral Allele. Format: AA|REF|ALT|IndelType. AA: Ancestral allele, REF:Reference Allele, ALT:Alternate Allele, IndelType:Type of Indel (REF, ALT and IndelType are only defined for indels)\">\r\n",
      "##INFO=<ID=VT,Number=.,Type=String,Description=\"indicates what type of variant the line represents\">\r\n",
      "##INFO=<ID=EX_TARGET,Number=0,Type=Flag,Description=\"indicates whether a variant is within the exon pull down target boundaries\">\r\n",
      "##INFO=<ID=MULTI_ALLELIC,Number=0,Type=Flag,Description=\"indicates whether a site is multi-allelic\">\r\n",
      "##bcftools_viewVersion=1.17+htslib-1.17\r\n",
      "##bcftools_viewCommand=view -r 11:5291019-5291019 /home/hice1/kbook6/biometals/VCFfiles/ALL.chr11.phase3_shapeit2_mvncall_integrated_v5b.20130502.genotypes.vcf.gz; Date=Wed Nov 13 18:39:18 2024\r\n",
      "#CHROM\tPOS\tID\tREF\tALT\tQUAL\tFILTER\tINFO\tFORMAT\tHG00096\tHG00097\tHG00099\tHG00100\tHG00101\tHG00102\tHG00103\tHG00105\tHG00106\tHG00107\tHG00108\tHG00109\tHG00110\tHG00111\tHG00112\tHG00113\tHG00114\tHG00115\tHG00116\tHG00117\tHG00118\tHG00119\tHG00120\tHG00121\tHG00122\tHG00123\tHG00125\tHG00126\tHG00127\tHG00128\tHG00129\tHG00130\tHG00131\tHG00132\tHG00133\tHG00136\tHG00137\tHG00138\tHG00139\tHG00140\tHG00141\tHG00142\tHG00143\tHG00145\tHG00146\tHG00148\tHG00149\tHG00150\tHG00151\tHG00154\tHG00155\tHG00157\tHG00158\tHG00159\tHG00160\tHG00171\tHG00173\tHG00174\tHG00176\tHG00177\tHG00178\tHG00179\tHG00180\tHG00181\tHG00182\tHG00183\tHG00185\tHG00186\tHG00187\tHG00188\tHG00189\tHG00190\tHG00231\tHG00232\tHG00233\tHG00234\tHG00235\tHG00236\tHG00237\tHG00238\tHG00239\tHG00240\tHG00242\tHG00243\tHG00244\tHG00245\tHG00246\tHG00250\tHG00251\tHG00252\tHG00253\tHG00254\tHG00255\tHG00256\tHG00257\tHG00258\tHG00259\tHG00260\tHG00261\tHG00262\tHG00263\tHG00264\tHG00265\tHG00266\tHG00267\tHG00268\tHG00269\tHG00271\tHG00272\tHG00273\tHG00274\tHG00275\tHG00276\tHG00277\tHG00278\tHG00280\tHG00281\tHG00282\tHG00284\tHG00285\tHG00288\tHG00290\tHG00304\tHG00306\tHG00308\tHG00309\tHG00310\tHG00311\tHG00313\tHG00315\tHG00318\tHG00319\tHG00320\tHG00321\tHG00323\tHG00324\tHG00325\tHG00326\tHG00327\tHG00328\tHG00329\tHG00330\tHG00331\tHG00332\tHG00334\tHG00335\tHG00336\tHG00337\tHG00338\tHG00339\tHG00341\tHG00342\tHG00343\tHG00344\tHG00345\tHG00346\tHG00349\tHG00350\tHG00351\tHG00353\tHG00355\tHG00356\tHG00357\tHG00358\tHG00360\tHG00361\tHG00362\tHG00364\tHG00365\tHG00366\tHG00367\tHG00368\tHG00369\tHG00371\tHG00372\tHG00373\tHG00375\tHG00376\tHG00378\tHG00379\tHG00380\tHG00381\tHG00382\tHG00383\tHG00384\tHG00403\tHG00404\tHG00406\tHG00407\tHG00409\tHG00410\tHG00419\tHG00421\tHG00422\tHG00428\tHG00436\tHG00437\tHG00442\tHG00443\tHG00445\tHG00446\tHG00448\tHG00449\tHG00451\tHG00452\tHG00457\tHG00458\tHG00463\tHG00464\tHG00472\tHG00473\tHG00475\tHG00476\tHG00478\tHG00479\tHG00500\tHG00513\tHG00524\tHG00525\tHG00530\tHG00531\tHG00533\tHG00534\tHG00536\tHG00537\tHG00542\tHG00543\tHG00551\tHG00553\tHG00554\tHG00556\tHG00557\tHG00559\tHG00560\tHG00565\tHG00566\tHG00580\tHG00581\tHG00583\tHG00584\tHG00589\tHG00590\tHG00592\tHG00593\tHG00595\tHG00596\tHG00598\tHG00599\tHG00607\tHG00608\tHG00610\tHG00611\tHG00613\tHG00614\tHG00619\tHG00620\tHG00622\tHG00623\tHG00625\tHG00626\tHG00628\tHG00629\tHG00631\tHG00632\tHG00634\tHG00637\tHG00638\tHG00640\tHG00641\tHG00650\tHG00651\tHG00653\tHG00654\tHG00656\tHG00657\tHG00662\tHG00663\tHG00671\tHG00672\tHG00674\tHG00675\tHG00683\tHG00684\tHG00689\tHG00690\tHG00692\tHG00693\tHG00698\tHG00699\tHG00701\tHG00704\tHG00705\tHG00707\tHG00708\tHG00717\tHG00728\tHG00729\tHG00731\tHG00732\tHG00734\tHG00736\tHG00737\tHG00739\tHG00740\tHG00742\tHG00743\tHG00759\tHG00766\tHG00844\tHG00851\tHG00864\tHG00867\tHG00879\tHG00881\tHG00956\tHG00978\tHG00982\tHG01028\tHG01029\tHG01031\tHG01046\tHG01047\tHG01048\tHG01049\tHG01051\tHG01052\tHG01054\tHG01055\tHG01058\tHG01060\tHG01061\tHG01063\tHG01064\tHG01066\tHG01067\tHG01069\tHG01070\tHG01072\tHG01073\tHG01075\tHG01077\tHG01079\tHG01080\tHG01082\tHG01083\tHG01085\tHG01086\tHG01088\tHG01089\tHG01092\tHG01094\tHG01095\tHG01097\tHG01098\tHG01101\tHG01102\tHG01104\tHG01105\tHG01107\tHG01108\tHG01110\tHG01111\tHG01112\tHG01113\tHG01119\tHG01121\tHG01122\tHG01124\tHG01125\tHG01130\tHG01131\tHG01133\tHG01134\tHG01136\tHG01137\tHG01139\tHG01140\tHG01142\tHG01148\tHG01149\tHG01161\tHG01162\tHG01164\tHG01167\tHG01168\tHG01170\tHG01171\tHG01173\tHG01174\tHG01176\tHG01177\tHG01182\tHG01183\tHG01187\tHG01188\tHG01190\tHG01191\tHG01197\tHG01198\tHG01200\tHG01204\tHG01205\tHG01241\tHG01242\tHG01247\tHG01248\tHG01250\tHG01251\tHG01253\tHG01254\tHG01256\tHG01257\tHG01259\tHG01260\tHG01269\tHG01271\tHG01272\tHG01275\tHG01277\tHG01280\tHG01281\tHG01284\tHG01286\tHG01302\tHG01303\tHG01305\tHG01308\tHG01311\tHG01312\tHG01323\tHG01325\tHG01326\tHG01334\tHG01341\tHG01342\tHG01344\tHG01345\tHG01348\tHG01350\tHG01351\tHG01353\tHG01354\tHG01356\tHG01357\tHG01359\tHG01360\tHG01362\tHG01363\tHG01365\tHG01366\tHG01369\tHG01372\tHG01374\tHG01375\tHG01377\tHG01378\tHG01383\tHG01384\tHG01389\tHG01390\tHG01392\tHG01393\tHG01395\tHG01396\tHG01398\tHG01402\tHG01403\tHG01405\tHG01412\tHG01413\tHG01414\tHG01431\tHG01432\tHG01435\tHG01437\tHG01438\tHG01440\tHG01441\tHG01443\tHG01444\tHG01447\tHG01455\tHG01456\tHG01459\tHG01461\tHG01462\tHG01464\tHG01465\tHG01468\tHG01474\tHG01479\tHG01485\tHG01486\tHG01488\tHG01489\tHG01491\tHG01492\tHG01494\tHG01495\tHG01497\tHG01498\tHG01500\tHG01501\tHG01503\tHG01504\tHG01506\tHG01507\tHG01509\tHG01510\tHG01512\tHG01513\tHG01515\tHG01516\tHG01518\tHG01519\tHG01521\tHG01522\tHG01524\tHG01525\tHG01527\tHG01528\tHG01530\tHG01531\tHG01536\tHG01537\tHG01550\tHG01551\tHG01556\tHG01565\tHG01566\tHG01571\tHG01572\tHG01577\tHG01578\tHG01583\tHG01586\tHG01589\tHG01593\tHG01595\tHG01596\tHG01597\tHG01598\tHG01599\tHG01600\tHG01602\tHG01603\tHG01605\tHG01606\tHG01607\tHG01608\tHG01610\tHG01612\tHG01613\tHG01615\tHG01617\tHG01618\tHG01619\tHG01620\tHG01623\tHG01624\tHG01625\tHG01626\tHG01628\tHG01630\tHG01631\tHG01632\tHG01668\tHG01669\tHG01670\tHG01672\tHG01673\tHG01675\tHG01676\tHG01678\tHG01679\tHG01680\tHG01682\tHG01684\tHG01685\tHG01686\tHG01694\tHG01695\tHG01697\tHG01699\tHG01700\tHG01702\tHG01704\tHG01705\tHG01707\tHG01708\tHG01709\tHG01710\tHG01746\tHG01747\tHG01756\tHG01757\tHG01761\tHG01762\tHG01765\tHG01766\tHG01767\tHG01768\tHG01770\tHG01771\tHG01773\tHG01775\tHG01776\tHG01777\tHG01779\tHG01781\tHG01783\tHG01784\tHG01785\tHG01786\tHG01789\tHG01790\tHG01791\tHG01794\tHG01795\tHG01796\tHG01797\tHG01798\tHG01799\tHG01800\tHG01801\tHG01802\tHG01804\tHG01805\tHG01806\tHG01807\tHG01808\tHG01809\tHG01810\tHG01811\tHG01812\tHG01813\tHG01815\tHG01816\tHG01817\tHG01840\tHG01841\tHG01842\tHG01843\tHG01844\tHG01845\tHG01846\tHG01847\tHG01848\tHG01849\tHG01850\tHG01851\tHG01852\tHG01853\tHG01855\tHG01857\tHG01858\tHG01859\tHG01860\tHG01861\tHG01862\tHG01863\tHG01864\tHG01865\tHG01866\tHG01867\tHG01868\tHG01869\tHG01870\tHG01871\tHG01872\tHG01873\tHG01874\tHG01878\tHG01879\tHG01880\tHG01882\tHG01883\tHG01885\tHG01886\tHG01889\tHG01890\tHG01892\tHG01893\tHG01894\tHG01896\tHG01912\tHG01914\tHG01915\tHG01917\tHG01918\tHG01920\tHG01921\tHG01923\tHG01924\tHG01926\tHG01927\tHG01932\tHG01933\tHG01935\tHG01936\tHG01938\tHG01939\tHG01941\tHG01942\tHG01944\tHG01945\tHG01947\tHG01948\tHG01950\tHG01951\tHG01953\tHG01954\tHG01956\tHG01958\tHG01961\tHG01965\tHG01967\tHG01968\tHG01970\tHG01971\tHG01973\tHG01974\tHG01976\tHG01977\tHG01979\tHG01980\tHG01982\tHG01985\tHG01986\tHG01988\tHG01989\tHG01990\tHG01991\tHG01992\tHG01997\tHG02002\tHG02003\tHG02006\tHG02008\tHG02009\tHG02010\tHG02012\tHG02013\tHG02014\tHG02016\tHG02017\tHG02019\tHG02020\tHG02023\tHG02025\tHG02026\tHG02028\tHG02029\tHG02031\tHG02032\tHG02035\tHG02040\tHG02047\tHG02048\tHG02049\tHG02050\tHG02051\tHG02052\tHG02053\tHG02054\tHG02057\tHG02058\tHG02060\tHG02061\tHG02064\tHG02067\tHG02069\tHG02070\tHG02072\tHG02073\tHG02075\tHG02076\tHG02078\tHG02079\tHG02081\tHG02082\tHG02084\tHG02085\tHG02086\tHG02087\tHG02088\tHG02089\tHG02090\tHG02095\tHG02102\tHG02104\tHG02105\tHG02107\tHG02108\tHG02111\tHG02113\tHG02116\tHG02121\tHG02122\tHG02127\tHG02128\tHG02130\tHG02131\tHG02133\tHG02134\tHG02136\tHG02137\tHG02138\tHG02139\tHG02140\tHG02141\tHG02142\tHG02143\tHG02144\tHG02146\tHG02147\tHG02150\tHG02151\tHG02152\tHG02153\tHG02154\tHG02155\tHG02156\tHG02164\tHG02165\tHG02166\tHG02178\tHG02179\tHG02180\tHG02181\tHG02182\tHG02184\tHG02185\tHG02186\tHG02187\tHG02188\tHG02190\tHG02215\tHG02219\tHG02220\tHG02221\tHG02223\tHG02224\tHG02230\tHG02231\tHG02232\tHG02233\tHG02235\tHG02236\tHG02238\tHG02239\tHG02250\tHG02252\tHG02253\tHG02255\tHG02256\tHG02259\tHG02260\tHG02262\tHG02265\tHG02266\tHG02271\tHG02272\tHG02274\tHG02275\tHG02277\tHG02278\tHG02281\tHG02282\tHG02283\tHG02284\tHG02285\tHG02286\tHG02291\tHG02292\tHG02298\tHG02299\tHG02301\tHG02304\tHG02307\tHG02308\tHG02309\tHG02312\tHG02314\tHG02315\tHG02317\tHG02318\tHG02322\tHG02323\tHG02325\tHG02330\tHG02332\tHG02334\tHG02337\tHG02339\tHG02343\tHG02345\tHG02348\tHG02351\tHG02353\tHG02355\tHG02356\tHG02360\tHG02364\tHG02367\tHG02371\tHG02373\tHG02374\tHG02375\tHG02379\tHG02380\tHG02382\tHG02383\tHG02384\tHG02385\tHG02386\tHG02389\tHG02390\tHG02391\tHG02392\tHG02394\tHG02395\tHG02396\tHG02397\tHG02398\tHG02399\tHG02401\tHG02402\tHG02406\tHG02407\tHG02408\tHG02409\tHG02410\tHG02419\tHG02420\tHG02425\tHG02427\tHG02429\tHG02433\tHG02439\tHG02442\tHG02445\tHG02449\tHG02450\tHG02455\tHG02461\tHG02462\tHG02464\tHG02465\tHG02470\tHG02471\tHG02476\tHG02477\tHG02479\tHG02481\tHG02484\tHG02485\tHG02489\tHG02490\tHG02491\tHG02493\tHG02494\tHG02496\tHG02497\tHG02501\tHG02502\tHG02505\tHG02508\tHG02511\tHG02512\tHG02513\tHG02521\tHG02522\tHG02536\tHG02537\tHG02541\tHG02545\tHG02546\tHG02549\tHG02554\tHG02555\tHG02557\tHG02558\tHG02561\tHG02562\tHG02568\tHG02570\tHG02571\tHG02573\tHG02574\tHG02577\tHG02580\tHG02582\tHG02583\tHG02585\tHG02586\tHG02588\tHG02589\tHG02594\tHG02595\tHG02597\tHG02600\tHG02601\tHG02603\tHG02604\tHG02610\tHG02611\tHG02613\tHG02614\tHG02620\tHG02621\tHG02623\tHG02624\tHG02628\tHG02629\tHG02634\tHG02635\tHG02642\tHG02643\tHG02645\tHG02646\tHG02648\tHG02649\tHG02651\tHG02652\tHG02654\tHG02655\tHG02657\tHG02658\tHG02660\tHG02661\tHG02666\tHG02667\tHG02675\tHG02676\tHG02678\tHG02679\tHG02681\tHG02682\tHG02684\tHG02685\tHG02687\tHG02688\tHG02690\tHG02691\tHG02694\tHG02696\tHG02697\tHG02699\tHG02700\tHG02702\tHG02703\tHG02715\tHG02716\tHG02721\tHG02722\tHG02724\tHG02725\tHG02727\tHG02728\tHG02731\tHG02733\tHG02734\tHG02736\tHG02737\tHG02756\tHG02757\tHG02759\tHG02760\tHG02763\tHG02768\tHG02769\tHG02771\tHG02772\tHG02774\tHG02775\tHG02778\tHG02780\tHG02783\tHG02784\tHG02786\tHG02787\tHG02789\tHG02790\tHG02792\tHG02793\tHG02798\tHG02799\tHG02804\tHG02805\tHG02807\tHG02808\tHG02810\tHG02811\tHG02813\tHG02814\tHG02816\tHG02817\tHG02819\tHG02820\tHG02836\tHG02837\tHG02839\tHG02840\tHG02851\tHG02852\tHG02854\tHG02855\tHG02860\tHG02861\tHG02870\tHG02878\tHG02879\tHG02881\tHG02882\tHG02884\tHG02885\tHG02887\tHG02888\tHG02890\tHG02891\tHG02895\tHG02896\tHG02922\tHG02923\tHG02938\tHG02941\tHG02943\tHG02944\tHG02946\tHG02947\tHG02952\tHG02953\tHG02968\tHG02970\tHG02971\tHG02973\tHG02974\tHG02976\tHG02977\tHG02979\tHG02981\tHG02982\tHG02983\tHG03006\tHG03007\tHG03009\tHG03012\tHG03015\tHG03016\tHG03018\tHG03019\tHG03021\tHG03022\tHG03024\tHG03025\tHG03027\tHG03028\tHG03039\tHG03040\tHG03045\tHG03046\tHG03048\tHG03049\tHG03052\tHG03054\tHG03055\tHG03057\tHG03058\tHG03060\tHG03061\tHG03063\tHG03064\tHG03066\tHG03069\tHG03072\tHG03073\tHG03074\tHG03077\tHG03078\tHG03079\tHG03081\tHG03082\tHG03084\tHG03085\tHG03086\tHG03088\tHG03091\tHG03095\tHG03096\tHG03097\tHG03099\tHG03100\tHG03103\tHG03105\tHG03108\tHG03109\tHG03111\tHG03112\tHG03114\tHG03115\tHG03117\tHG03118\tHG03120\tHG03121\tHG03123\tHG03124\tHG03126\tHG03127\tHG03129\tHG03130\tHG03132\tHG03133\tHG03135\tHG03136\tHG03139\tHG03157\tHG03159\tHG03160\tHG03162\tHG03163\tHG03166\tHG03168\tHG03169\tHG03172\tHG03175\tHG03189\tHG03190\tHG03193\tHG03195\tHG03196\tHG03198\tHG03199\tHG03202\tHG03209\tHG03212\tHG03224\tHG03225\tHG03228\tHG03229\tHG03234\tHG03235\tHG03237\tHG03238\tHG03240\tHG03241\tHG03246\tHG03247\tHG03258\tHG03259\tHG03265\tHG03267\tHG03268\tHG03270\tHG03271\tHG03279\tHG03280\tHG03291\tHG03294\tHG03295\tHG03297\tHG03298\tHG03300\tHG03301\tHG03303\tHG03304\tHG03311\tHG03313\tHG03342\tHG03343\tHG03351\tHG03352\tHG03354\tHG03363\tHG03366\tHG03367\tHG03369\tHG03370\tHG03372\tHG03376\tHG03378\tHG03380\tHG03382\tHG03385\tHG03388\tHG03391\tHG03394\tHG03397\tHG03401\tHG03410\tHG03419\tHG03428\tHG03432\tHG03433\tHG03436\tHG03437\tHG03439\tHG03442\tHG03445\tHG03446\tHG03449\tHG03451\tHG03452\tHG03455\tHG03457\tHG03458\tHG03460\tHG03461\tHG03464\tHG03469\tHG03470\tHG03472\tHG03473\tHG03476\tHG03478\tHG03479\tHG03484\tHG03485\tHG03488\tHG03490\tHG03491\tHG03499\tHG03511\tHG03514\tHG03515\tHG03517\tHG03518\tHG03520\tHG03521\tHG03538\tHG03539\tHG03547\tHG03548\tHG03556\tHG03557\tHG03558\tHG03559\tHG03563\tHG03565\tHG03567\tHG03571\tHG03572\tHG03575\tHG03577\tHG03578\tHG03583\tHG03585\tHG03589\tHG03593\tHG03594\tHG03595\tHG03598\tHG03600\tHG03603\tHG03604\tHG03607\tHG03611\tHG03615\tHG03616\tHG03619\tHG03624\tHG03625\tHG03629\tHG03631\tHG03634\tHG03636\tHG03640\tHG03642\tHG03643\tHG03644\tHG03645\tHG03646\tHG03649\tHG03652\tHG03653\tHG03660\tHG03663\tHG03667\tHG03668\tHG03672\tHG03673\tHG03679\tHG03680\tHG03681\tHG03684\tHG03685\tHG03686\tHG03687\tHG03689\tHG03690\tHG03691\tHG03692\tHG03693\tHG03694\tHG03695\tHG03696\tHG03697\tHG03698\tHG03702\tHG03703\tHG03705\tHG03706\tHG03708\tHG03709\tHG03711\tHG03713\tHG03714\tHG03716\tHG03717\tHG03718\tHG03720\tHG03722\tHG03727\tHG03729\tHG03730\tHG03731\tHG03733\tHG03736\tHG03738\tHG03740\tHG03741\tHG03742\tHG03743\tHG03744\tHG03745\tHG03746\tHG03750\tHG03752\tHG03753\tHG03754\tHG03755\tHG03756\tHG03757\tHG03760\tHG03762\tHG03765\tHG03767\tHG03770\tHG03771\tHG03772\tHG03773\tHG03774\tHG03775\tHG03777\tHG03778\tHG03779\tHG03780\tHG03781\tHG03782\tHG03784\tHG03785\tHG03786\tHG03787\tHG03788\tHG03789\tHG03790\tHG03792\tHG03793\tHG03796\tHG03800\tHG03802\tHG03803\tHG03805\tHG03808\tHG03809\tHG03812\tHG03814\tHG03815\tHG03817\tHG03821\tHG03823\tHG03824\tHG03826\tHG03829\tHG03830\tHG03832\tHG03833\tHG03836\tHG03837\tHG03838\tHG03844\tHG03846\tHG03848\tHG03849\tHG03850\tHG03851\tHG03854\tHG03856\tHG03857\tHG03858\tHG03861\tHG03862\tHG03863\tHG03864\tHG03866\tHG03867\tHG03868\tHG03869\tHG03870\tHG03871\tHG03872\tHG03873\tHG03874\tHG03875\tHG03882\tHG03884\tHG03885\tHG03886\tHG03887\tHG03888\tHG03890\tHG03894\tHG03895\tHG03896\tHG03897\tHG03898\tHG03899\tHG03900\tHG03902\tHG03905\tHG03907\tHG03908\tHG03910\tHG03911\tHG03913\tHG03914\tHG03916\tHG03917\tHG03919\tHG03920\tHG03922\tHG03925\tHG03926\tHG03928\tHG03931\tHG03934\tHG03937\tHG03940\tHG03941\tHG03943\tHG03944\tHG03945\tHG03947\tHG03949\tHG03950\tHG03951\tHG03953\tHG03955\tHG03960\tHG03963\tHG03965\tHG03967\tHG03968\tHG03969\tHG03971\tHG03973\tHG03974\tHG03976\tHG03977\tHG03978\tHG03985\tHG03986\tHG03989\tHG03990\tHG03991\tHG03995\tHG03998\tHG03999\tHG04001\tHG04002\tHG04003\tHG04006\tHG04014\tHG04015\tHG04017\tHG04018\tHG04019\tHG04020\tHG04022\tHG04023\tHG04025\tHG04026\tHG04029\tHG04033\tHG04035\tHG04038\tHG04039\tHG04042\tHG04047\tHG04054\tHG04056\tHG04059\tHG04060\tHG04061\tHG04062\tHG04063\tHG04070\tHG04075\tHG04076\tHG04080\tHG04090\tHG04093\tHG04094\tHG04096\tHG04098\tHG04099\tHG04100\tHG04106\tHG04107\tHG04118\tHG04131\tHG04134\tHG04140\tHG04141\tHG04144\tHG04146\tHG04152\tHG04153\tHG04155\tHG04156\tHG04158\tHG04159\tHG04161\tHG04162\tHG04164\tHG04171\tHG04173\tHG04176\tHG04177\tHG04180\tHG04182\tHG04183\tHG04185\tHG04186\tHG04188\tHG04189\tHG04194\tHG04195\tHG04198\tHG04200\tHG04202\tHG04206\tHG04209\tHG04210\tHG04211\tHG04212\tHG04214\tHG04216\tHG04219\tHG04222\tHG04225\tHG04227\tHG04229\tHG04235\tHG04238\tHG04239\tNA06984\tNA06985\tNA06986\tNA06989\tNA06994\tNA07000\tNA07037\tNA07048\tNA07051\tNA07056\tNA07347\tNA07357\tNA10847\tNA10851\tNA11829\tNA11830\tNA11831\tNA11832\tNA11840\tNA11843\tNA11881\tNA11892\tNA11893\tNA11894\tNA11918\tNA11919\tNA11920\tNA11930\tNA11931\tNA11932\tNA11933\tNA11992\tNA11994\tNA11995\tNA12003\tNA12004\tNA12005\tNA12006\tNA12043\tNA12044\tNA12045\tNA12046\tNA12058\tNA12144\tNA12154\tNA12155\tNA12156\tNA12234\tNA12249\tNA12272\tNA12273\tNA12275\tNA12282\tNA12283\tNA12286\tNA12287\tNA12340\tNA12341\tNA12342\tNA12347\tNA12348\tNA12383\tNA12399\tNA12400\tNA12413\tNA12414\tNA12489\tNA12546\tNA12716\tNA12717\tNA12718\tNA12748\tNA12749\tNA12750\tNA12751\tNA12760\tNA12761\tNA12762\tNA12763\tNA12775\tNA12776\tNA12777\tNA12778\tNA12812\tNA12813\tNA12814\tNA12815\tNA12827\tNA12828\tNA12829\tNA12830\tNA12842\tNA12843\tNA12872\tNA12873\tNA12874\tNA12878\tNA12889\tNA12890\tNA18486\tNA18488\tNA18489\tNA18498\tNA18499\tNA18501\tNA18502\tNA18504\tNA18505\tNA18507\tNA18508\tNA18510\tNA18511\tNA18516\tNA18517\tNA18519\tNA18520\tNA18522\tNA18523\tNA18525\tNA18526\tNA18528\tNA18530\tNA18531\tNA18532\tNA18533\tNA18534\tNA18535\tNA18536\tNA18537\tNA18538\tNA18539\tNA18541\tNA18542\tNA18543\tNA18544\tNA18545\tNA18546\tNA18547\tNA18548\tNA18549\tNA18550\tNA18552\tNA18553\tNA18555\tNA18557\tNA18558\tNA18559\tNA18560\tNA18561\tNA18562\tNA18563\tNA18564\tNA18565\tNA18566\tNA18567\tNA18570\tNA18571\tNA18572\tNA18573\tNA18574\tNA18577\tNA18579\tNA18582\tNA18591\tNA18592\tNA18593\tNA18595\tNA18596\tNA18597\tNA18599\tNA18602\tNA18603\tNA18605\tNA18606\tNA18608\tNA18609\tNA18610\tNA18611\tNA18612\tNA18613\tNA18614\tNA18615\tNA18616\tNA18617\tNA18618\tNA18619\tNA18620\tNA18621\tNA18622\tNA18623\tNA18624\tNA18625\tNA18626\tNA18627\tNA18628\tNA18629\tNA18630\tNA18631\tNA18632\tNA18633\tNA18634\tNA18635\tNA18636\tNA18637\tNA18638\tNA18639\tNA18640\tNA18641\tNA18642\tNA18643\tNA18644\tNA18645\tNA18646\tNA18647\tNA18648\tNA18740\tNA18745\tNA18747\tNA18748\tNA18749\tNA18757\tNA18853\tNA18856\tNA18858\tNA18861\tNA18864\tNA18865\tNA18867\tNA18868\tNA18870\tNA18871\tNA18873\tNA18874\tNA18876\tNA18877\tNA18878\tNA18879\tNA18881\tNA18907\tNA18908\tNA18909\tNA18910\tNA18912\tNA18915\tNA18916\tNA18917\tNA18923\tNA18924\tNA18933\tNA18934\tNA18939\tNA18940\tNA18941\tNA18942\tNA18943\tNA18944\tNA18945\tNA18946\tNA18947\tNA18948\tNA18949\tNA18950\tNA18951\tNA18952\tNA18953\tNA18954\tNA18956\tNA18957\tNA18959\tNA18960\tNA18961\tNA18962\tNA18963\tNA18964\tNA18965\tNA18966\tNA18967\tNA18968\tNA18969\tNA18970\tNA18971\tNA18972\tNA18973\tNA18974\tNA18975\tNA18976\tNA18977\tNA18978\tNA18979\tNA18980\tNA18981\tNA18982\tNA18983\tNA18984\tNA18985\tNA18986\tNA18987\tNA18988\tNA18989\tNA18990\tNA18991\tNA18992\tNA18993\tNA18994\tNA18995\tNA18997\tNA18998\tNA18999\tNA19000\tNA19001\tNA19002\tNA19003\tNA19004\tNA19005\tNA19006\tNA19007\tNA19009\tNA19010\tNA19011\tNA19012\tNA19017\tNA19019\tNA19020\tNA19023\tNA19024\tNA19025\tNA19026\tNA19027\tNA19028\tNA19030\tNA19031\tNA19035\tNA19036\tNA19037\tNA19038\tNA19041\tNA19042\tNA19043\tNA19054\tNA19055\tNA19056\tNA19057\tNA19058\tNA19059\tNA19060\tNA19062\tNA19063\tNA19064\tNA19065\tNA19066\tNA19067\tNA19068\tNA19070\tNA19072\tNA19074\tNA19075\tNA19076\tNA19077\tNA19078\tNA19079\tNA19080\tNA19081\tNA19082\tNA19083\tNA19084\tNA19085\tNA19086\tNA19087\tNA19088\tNA19089\tNA19090\tNA19091\tNA19092\tNA19093\tNA19095\tNA19096\tNA19098\tNA19099\tNA19102\tNA19107\tNA19108\tNA19113\tNA19114\tNA19116\tNA19117\tNA19118\tNA19119\tNA19121\tNA19129\tNA19130\tNA19131\tNA19137\tNA19138\tNA19141\tNA19143\tNA19144\tNA19146\tNA19147\tNA19149\tNA19152\tNA19153\tNA19159\tNA19160\tNA19171\tNA19172\tNA19175\tNA19184\tNA19185\tNA19189\tNA19190\tNA19197\tNA19198\tNA19200\tNA19201\tNA19204\tNA19206\tNA19207\tNA19209\tNA19210\tNA19213\tNA19214\tNA19222\tNA19223\tNA19225\tNA19235\tNA19236\tNA19238\tNA19239\tNA19247\tNA19248\tNA19256\tNA19257\tNA19307\tNA19308\tNA19309\tNA19310\tNA19312\tNA19314\tNA19315\tNA19316\tNA19317\tNA19318\tNA19319\tNA19320\tNA19321\tNA19323\tNA19324\tNA19327\tNA19328\tNA19331\tNA19332\tNA19334\tNA19338\tNA19346\tNA19347\tNA19350\tNA19351\tNA19355\tNA19360\tNA19372\tNA19374\tNA19375\tNA19376\tNA19377\tNA19378\tNA19379\tNA19380\tNA19383\tNA19384\tNA19385\tNA19390\tNA19391\tNA19393\tNA19394\tNA19395\tNA19397\tNA19399\tNA19401\tNA19403\tNA19404\tNA19428\tNA19429\tNA19430\tNA19431\tNA19434\tNA19435\tNA19436\tNA19437\tNA19438\tNA19439\tNA19440\tNA19443\tNA19445\tNA19446\tNA19448\tNA19449\tNA19451\tNA19452\tNA19454\tNA19455\tNA19456\tNA19457\tNA19461\tNA19462\tNA19463\tNA19466\tNA19467\tNA19468\tNA19471\tNA19472\tNA19473\tNA19474\tNA19475\tNA19625\tNA19648\tNA19649\tNA19651\tNA19652\tNA19654\tNA19655\tNA19657\tNA19658\tNA19661\tNA19663\tNA19664\tNA19669\tNA19670\tNA19676\tNA19678\tNA19679\tNA19681\tNA19682\tNA19684\tNA19700\tNA19701\tNA19703\tNA19704\tNA19707\tNA19711\tNA19712\tNA19713\tNA19716\tNA19717\tNA19719\tNA19720\tNA19722\tNA19723\tNA19725\tNA19726\tNA19728\tNA19729\tNA19731\tNA19732\tNA19734\tNA19735\tNA19740\tNA19741\tNA19746\tNA19747\tNA19749\tNA19750\tNA19752\tNA19755\tNA19756\tNA19758\tNA19759\tNA19761\tNA19762\tNA19764\tNA19770\tNA19771\tNA19773\tNA19774\tNA19776\tNA19777\tNA19779\tNA19780\tNA19782\tNA19783\tNA19785\tNA19786\tNA19788\tNA19789\tNA19792\tNA19794\tNA19795\tNA19818\tNA19819\tNA19834\tNA19835\tNA19900\tNA19901\tNA19904\tNA19908\tNA19909\tNA19913\tNA19914\tNA19916\tNA19917\tNA19920\tNA19921\tNA19922\tNA19923\tNA19982\tNA19984\tNA20126\tNA20127\tNA20274\tNA20276\tNA20278\tNA20281\tNA20282\tNA20287\tNA20289\tNA20291\tNA20294\tNA20296\tNA20298\tNA20299\tNA20314\tNA20317\tNA20318\tNA20320\tNA20321\tNA20332\tNA20334\tNA20339\tNA20340\tNA20342\tNA20346\tNA20348\tNA20351\tNA20355\tNA20356\tNA20357\tNA20359\tNA20362\tNA20412\tNA20502\tNA20503\tNA20504\tNA20505\tNA20506\tNA20507\tNA20508\tNA20509\tNA20510\tNA20511\tNA20512\tNA20513\tNA20514\tNA20515\tNA20516\tNA20517\tNA20518\tNA20519\tNA20520\tNA20521\tNA20522\tNA20524\tNA20525\tNA20527\tNA20528\tNA20529\tNA20530\tNA20531\tNA20532\tNA20533\tNA20534\tNA20535\tNA20536\tNA20538\tNA20539\tNA20540\tNA20541\tNA20542\tNA20543\tNA20544\tNA20581\tNA20582\tNA20585\tNA20586\tNA20587\tNA20588\tNA20589\tNA20752\tNA20753\tNA20754\tNA20755\tNA20756\tNA20757\tNA20758\tNA20759\tNA20760\tNA20761\tNA20762\tNA20763\tNA20764\tNA20765\tNA20766\tNA20767\tNA20768\tNA20769\tNA20770\tNA20771\tNA20772\tNA20773\tNA20774\tNA20775\tNA20778\tNA20783\tNA20785\tNA20786\tNA20787\tNA20790\tNA20792\tNA20795\tNA20796\tNA20797\tNA20798\tNA20799\tNA20800\tNA20801\tNA20802\tNA20803\tNA20804\tNA20805\tNA20806\tNA20807\tNA20808\tNA20809\tNA20810\tNA20811\tNA20812\tNA20813\tNA20814\tNA20815\tNA20818\tNA20819\tNA20821\tNA20822\tNA20826\tNA20827\tNA20828\tNA20832\tNA20845\tNA20846\tNA20847\tNA20849\tNA20850\tNA20851\tNA20852\tNA20853\tNA20854\tNA20856\tNA20858\tNA20859\tNA20861\tNA20862\tNA20863\tNA20864\tNA20866\tNA20867\tNA20868\tNA20869\tNA20870\tNA20872\tNA20874\tNA20875\tNA20876\tNA20877\tNA20878\tNA20881\tNA20882\tNA20884\tNA20885\tNA20886\tNA20887\tNA20888\tNA20889\tNA20890\tNA20891\tNA20892\tNA20894\tNA20895\tNA20896\tNA20897\tNA20899\tNA20900\tNA20901\tNA20902\tNA20903\tNA20904\tNA20905\tNA20906\tNA20908\tNA20910\tNA20911\tNA21086\tNA21087\tNA21088\tNA21089\tNA21090\tNA21091\tNA21092\tNA21093\tNA21094\tNA21095\tNA21097\tNA21098\tNA21099\tNA21100\tNA21101\tNA21102\tNA21103\tNA21104\tNA21105\tNA21106\tNA21107\tNA21108\tNA21109\tNA21110\tNA21111\tNA21112\tNA21113\tNA21114\tNA21115\tNA21116\tNA21117\tNA21118\tNA21119\tNA21120\tNA21122\tNA21123\tNA21124\tNA21125\tNA21126\tNA21127\tNA21128\tNA21129\tNA21130\tNA21133\tNA21135\tNA21137\tNA21141\tNA21142\tNA21143\tNA21144\r\n"
     ]
    }
   ],
   "source": [
    "# checking if the variant is present\n",
    "!bcftools view -r 11:5291019-5291019 ~/biometals/VCFfiles/ALL.chr11.phase3_shapeit2_mvncall_integrated_v5b.20130502.genotypes.vcf.gz"
   ]
  },
  {
   "cell_type": "code",
   "execution_count": null,
   "id": "e2dce5cf",
   "metadata": {},
   "outputs": [],
   "source": [
    "#--------------------------------------------------------------\n",
    "# rs334 variant information\n",
    "#--------------------------------------------------------------\n",
    "# located on chr11\n",
    "# position 5291019 (GRCh38)\n",
    "# ref allele: A\n",
    "# alt allele: T"
   ]
  },
  {
   "cell_type": "code",
   "execution_count": 1,
   "id": "a97bc9f2",
   "metadata": {},
   "outputs": [
    {
     "data": {
      "text/plain": [
       "{'FIN': 0, 'GBR': 0, 'IBS': 0, 'TSI': 0}"
      ]
     },
     "execution_count": 1,
     "metadata": {},
     "output_type": "execute_result"
    }
   ],
   "source": [
    "#--------------------------------------------------------------\n",
    "# creating text files containing the sample IDs in each population\n",
    "#--------------------------------------------------------------\n",
    "import pandas as pd\n",
    "# load and filter the population file\n",
    "panel_file = '~/biometals/VCFfiles/integrated_call_samples_v3.20130502.ALL.panel' \n",
    "panel_df = pd.read_csv(panel_file, sep='\\t') \n",
    "\n",
    "# Filter for the target populations\n",
    "target_populations = ['FIN', 'GBR', 'IBS', 'TSI']\n",
    "filtered_samples = panel_df[panel_df['pop'].isin(target_populations)]\n",
    "\n",
    "# Save sample lists for each population\n",
    "sample_dict = {}\n",
    "for pop in target_populations:\n",
    "    sample_ids = filtered_samples[filtered_samples['pop'] == pop]['sample'].tolist()\n",
    "    # Save to a text file for BCFtools\n",
    "    sample_file = f\"{pop}_samples.txt\"\n",
    "    with open(sample_file, 'w') as file:\n",
    "        for sample in sample_ids:\n",
    "            file.write(sample + '\\n')\n",
    "    sample_dict[pop] = sample_file"
   ]
  },
  {
   "cell_type": "code",
   "execution_count": null,
   "id": "3ea4d823",
   "metadata": {},
   "outputs": [],
   "source": [
    "#-----------------------------------------------------"
   ]
  },
  {
   "cell_type": "code",
   "execution_count": 1,
   "id": "e4e13b7d",
   "metadata": {
    "scrolled": true
   },
   "outputs": [
    {
     "name": "stdout",
     "output_type": "stream",
     "text": [
      "--2024-11-13 14:24:43--  https://ftp.1000genomes.ebi.ac.uk/vol1/ftp/release/20130502/ALL.chr11.phase3_shapeit2_mvncall_integrated_v5b.20130502.genotypes.vcf.gz.tbi\n",
      "Resolving ftp.1000genomes.ebi.ac.uk (ftp.1000genomes.ebi.ac.uk)... 193.62.193.167\n",
      "Connecting to ftp.1000genomes.ebi.ac.uk (ftp.1000genomes.ebi.ac.uk)|193.62.193.167|:443... connected.\n",
      "HTTP request sent, awaiting response... 200 OK\n",
      "Length: 133030 (130K) [application/x-gzip]\n",
      "Saving to: ‘ALL.chr11.phase3_shapeit2_mvncall_integrated_v5b.20130502.genotypes.vcf.gz.tbi’\n",
      "\n",
      "ALL.chr11.phase3_sh 100%[===================>] 129.91K   460KB/s    in 0.3s    \n",
      "\n",
      "2024-11-13 14:24:44 (460 KB/s) - ‘ALL.chr11.phase3_shapeit2_mvncall_integrated_v5b.20130502.genotypes.vcf.gz.tbi’ saved [133030/133030]\n",
      "\n"
     ]
    }
   ],
   "source": [
    "#--------------------------------------------------------------\n",
    "# load in the tbi file for chr11\n",
    "#--------------------------------------------------------------\n",
    "!wget https://ftp.1000genomes.ebi.ac.uk/vol1/ftp/release/20130502/\n",
    "        ALL.chr11.phase3_shapeit2_mvncall_integrated_v5b.20130502.genotypes.vcf.gz.tbi"
   ]
  },
  {
   "cell_type": "code",
   "execution_count": 1,
   "id": "27e9dce0",
   "metadata": {},
   "outputs": [],
   "source": [
    "!mv ALL.chr11.phase3_shapeit2_mvncall_integrated_v5b.20130502.genotypes.vcf.gz.tbi ~/biometals/VCFfiles"
   ]
  },
  {
   "cell_type": "code",
   "execution_count": 1,
   "id": "47fa69ac",
   "metadata": {},
   "outputs": [
    {
     "name": "stdout",
     "output_type": "stream",
     "text": [
      "grep: (standard input): binary file matches\r\n"
     ]
    }
   ],
   "source": [
    "!cat ~/biometals/VCFfiles/ALL.chr11.phase3_shapeit2_mvncall_integrated_v5b.20130502.genotypes.vcf.gz.tbi | grep -v \"##\" | cut -f1-5,11-16 | head"
   ]
  },
  {
   "cell_type": "code",
   "execution_count": 1,
   "id": "1cd5a395",
   "metadata": {},
   "outputs": [],
   "source": [
    "#--------------------------------------------------------------\n",
    "#extract identifiers into a text file\n",
    "#--------------------------------------------------------------\n",
    "!bcftools query -l ~/biometals/VCFfiles/rs334_subset.vcf > ~/biometals/VCFfiles/rs334_identifiers.txt"
   ]
  },
  {
   "cell_type": "code",
   "execution_count": 1,
   "id": "145c5bd3",
   "metadata": {},
   "outputs": [
    {
     "name": "stdout",
     "output_type": "stream",
     "text": [
      "Index(['sample', 'pop', 'super_pop', 'gender', 'Unnamed: 4', 'Unnamed: 5'], dtype='object')\n",
      "done\n",
      "done\n",
      "done\n",
      "    pop  counts\n",
      "0   ACB      96\n",
      "1   ASW      61\n",
      "2   BEB      86\n",
      "3   CDX      93\n",
      "4   CEU      99\n",
      "5   CHB     103\n",
      "6   CHS     105\n",
      "7   CLM      94\n",
      "8   ESN      99\n",
      "9   FIN      99\n",
      "10  GBR      91\n",
      "11  GIH     103\n",
      "12  GWD     113\n",
      "13  IBS     107\n",
      "14  ITU     102\n",
      "15  JPT     104\n",
      "16  KHV      99\n",
      "17  LWK      99\n",
      "18  MSL      85\n",
      "19  MXL      64\n",
      "20  PEL      85\n",
      "21  PJL      96\n",
      "22  PUR     104\n",
      "23  STU     102\n",
      "24  TSI     107\n",
      "25  YRI     108\n",
      "done\n"
     ]
    }
   ],
   "source": [
    "#--------------------------------------------------------------\n",
    "# extracting sample and population data from the panel file into a CSV file, samplepopdata.csv\n",
    "# contains all samples (individuals)\n",
    "#--------------------------------------------------------------\n",
    "import pandas as pd\n",
    "popinfo = pd.read_csv('~/biometals/VCFfiles/integrated_call_samples_v3.20130502.ALL.panel', sep='\\t')\n",
    "print(popinfo.columns)\n",
    "samplepopdata = popinfo[['sample', 'pop']]\n",
    "#create a 2-column csv with sample and pop\n",
    "samplepopdata.to_csv('samplepopdata.csv', index=False)\n",
    "print(\"done\")\n",
    "\n",
    "#cross reference the identifiers to the sample populations\n",
    "#load population\n",
    "popmap = pd.read_csv('samplepopdata.csv')\n",
    "# Load identifiers\n",
    "rs334identifiers = pd.read_csv('~/biometals/VCFfiles/rs334_identifiers.txt', header=None, names=['identifier'])\n",
    "print(\"done\")\n",
    "\n",
    "#merge and save as a csv\n",
    "merged_rs334_data = pd.merge(rs334identifiers, popmap, left_on='identifier', right_on='sample', how='left')\n",
    "merged_rs334_data.to_csv('merged_rs334_data.csv', index=False)\n",
    "print(\"done\")\n",
    "\n",
    "#count the number in each population\n",
    "rs334_population_counts = merged_rs334_data.groupby('pop').size().reset_index(name='counts')\n",
    "print(rs334_population_counts)\n",
    "print(\"done\")"
   ]
  },
  {
   "cell_type": "code",
   "execution_count": 1,
   "id": "1361f054",
   "metadata": {},
   "outputs": [],
   "source": [
    "# make new directories to order stuff\n",
    "!mkdir ~/biometals/VCFfiles/identifiers\n",
    "!mkdir ~/biometals/VCFfiles/subsets"
   ]
  },
  {
   "cell_type": "code",
   "execution_count": 1,
   "id": "b9e5b802",
   "metadata": {
    "scrolled": true
   },
   "outputs": [
    {
     "name": "stdout",
     "output_type": "stream",
     "text": [
      "#CHROM\tPOS\tID\tREF\tALT\tHG00097\tHG00099\tHG00100\tHG00101\tHG00102\tHG00103\r\n"
     ]
    }
   ],
   "source": [
    "!cat ~/biometals/rs334_output.vcf | grep -v \"##\" | cut -f1-5,11-16 | head"
   ]
  },
  {
   "cell_type": "markdown",
   "id": "4f333250",
   "metadata": {},
   "source": [
    "---------------------------------------------------------------------------------------------------------------------------\n",
    "\n",
    "\n",
    "\n",
    "\n",
    "\n",
    "\n",
    "\n",
    "\n",
    "\n",
    "Basically what's happening here is that the file directly from the 1000 Genomes website, for whatever reason, isn't showing the individual allele data for me. \n",
    "So, instead of calling it from the website, I use a different method below of using the pre-loaded file in my Genomics and Applied Bioinformatics class, which contains the Ch38 phase 3 data (the same data) in order to complete this study. \n",
    "Theoretically, the files are the same on the website (http://ftp.1000genomes.ebi.ac.uk/vol1/ftp/release/20130502/) and in our shared folder, so it shouldn't make a difference if someone doesn't have access to this folder. At least, as far as I understand this is the case. \n",
    "\n",
    "\n",
    "\n",
    "\n",
    "\n",
    "\n"
   ]
  },
  {
   "cell_type": "code",
   "execution_count": null,
   "id": "9046f60a",
   "metadata": {},
   "outputs": [],
   "source": [
    "#------------------------------\n",
    "# 1) so that file was funky so we're gonna try the GAAB file instead\n",
    "#------------------------------"
   ]
  },
  {
   "cell_type": "markdown",
   "id": "5a9b55c1",
   "metadata": {},
   "source": [
    "the following lines of code were pulled from a DemoNotebook in BIOS4150/BIOL6150"
   ]
  },
  {
   "cell_type": "code",
   "execution_count": 1,
   "id": "61c27cd5",
   "metadata": {},
   "outputs": [],
   "source": [
    "#Set up working directory.\n",
    "!mkdir -p ~/biometals/AnnotateVariants"
   ]
  },
  {
   "cell_type": "code",
   "execution_count": null,
   "id": "55ea909f",
   "metadata": {},
   "outputs": [],
   "source": [
    "#Extract HBB gene area for Sickle Cell Disease\n",
    "#the VCF files are loaded into our notebooks through my BIOL 4150 class so I just call it from there\n",
    "!bcftools view -r chr11:5225464-5227071 -Ov -o ~/biometals/AnnotateVariants/1000Genomes.Chr11.HBB.vcf \n",
    "    ~/biol6150/Data/1000Genomes/phase3.chr11.GRCh38.GT.crossmap.vcf.gz"
   ]
  },
  {
   "cell_type": "code",
   "execution_count": 1,
   "id": "009dbc26",
   "metadata": {},
   "outputs": [
    {
     "name": "stdout",
     "output_type": "stream",
     "text": [
      "#CHROM\tPOS\tID\tREF\tALT\tHG00097\tHG00099\tHG00100\tHG00101\tHG00102\tHG00103\r\n",
      "chr11\t5225469\trs528009939\tA\tT\t0|0\t0|0\t0|0\t0|0\t0|0\t0|0\r\n",
      "chr11\t5225488\trs33978907\tA\tG\t0|0\t0|0\t0|0\t0|0\t0|0\t0|0\r\n",
      "chr11\t5225502\trs34029390\tA\tG\t0|0\t0|0\t0|0\t0|0\t0|0\t0|0\r\n",
      "chr11\t5225542\trs537944366\tT\tC\t0|0\t0|0\t0|0\t0|0\t0|0\t0|0\r\n",
      "chr11\t5225564\trs200399660\tC\tT\t0|0\t0|0\t0|0\t0|0\t0|0\t0|0\r\n",
      "chr11\t5225610\trs36020563\tG\tA\t0|0\t0|0\t0|0\t0|0\t0|0\t0|0\r\n",
      "chr11\t5225640\trs113082294\tC\tG\t0|0\t0|0\t0|0\t0|0\t0|0\t0|0\r\n",
      "chr11\t5225653\trs111645889\tG\tA\t0|0\t0|0\t0|0\t0|0\t0|0\t0|0\r\n",
      "chr11\t5225660\trs33971634\tG\tA\t0|0\t0|0\t0|0\t0|0\t0|0\t0|0\r\n"
     ]
    }
   ],
   "source": [
    "#Check the file.\n",
    "!cat ~/biometals/AnnotateVariants/1000Genomes.Chr11.HBB.vcf | grep -v \"##\" | cut -f1-5,11-16 | head"
   ]
  },
  {
   "cell_type": "markdown",
   "id": "00e076a9",
   "metadata": {},
   "source": [
    "The following code was NOT pulled from the DemoNotebook. ChatGPT was used as an aid for creating the following code. "
   ]
  },
  {
   "cell_type": "code",
   "execution_count": 1,
   "id": "2d6b11a0",
   "metadata": {},
   "outputs": [],
   "source": [
    "#--------------------------------------------------------------\n",
    "# 2) creating text files containing the sample IDs in each population\n",
    "# this can be done using the website population file, since it contains the same data set information\n",
    "# this isn't actually used\n",
    "#--------------------------------------------------------------\n",
    "import pandas as pd\n",
    "# load and filter the population file\n",
    "panel_file = '~/biometals/VCFfiles/integrated_call_samples_v3.20130502.ALL.panel' \n",
    "panel_df = pd.read_csv(panel_file, sep='\\t') \n",
    "\n",
    "# Filter for the target populations\n",
    "target_populations = ['FIN', 'GBR', 'IBS', 'TSI']\n",
    "filtered_samples = panel_df[panel_df['pop'].isin(target_populations)]\n",
    "\n",
    "# Save sample lists for each population\n",
    "sample_dict = {}\n",
    "for pop in target_populations:\n",
    "    sample_ids = filtered_samples[filtered_samples['pop'] == pop]['sample'].tolist()\n",
    "    # Save to a text file for BCFtools\n",
    "    sample_file = f\"{pop}_samples.txt\"\n",
    "    with open(sample_file, 'w') as file:\n",
    "        for sample in sample_ids:\n",
    "            file.write(sample + '\\n')\n",
    "    sample_dict[pop] = sample_file"
   ]
  },
  {
   "cell_type": "code",
   "execution_count": 1,
   "id": "6e31bf9e",
   "metadata": {},
   "outputs": [],
   "source": [
    "#rename the file\n",
    "!mv ~/biometals/AnnotateVariants/1000Genomes.Chr11.HBB.vcf ~/biometals/AnnotateVariants/chr11HBB.vcf"
   ]
  },
  {
   "cell_type": "code",
   "execution_count": null,
   "id": "e345952f",
   "metadata": {},
   "outputs": [],
   "source": [
    "#--------------------------------------------------------------\n",
    "# next step: query the file\n",
    "# this is done on the original filtered VCF for HBB data\n",
    "#--------------------------------------------------------------"
   ]
  },
  {
   "cell_type": "code",
   "execution_count": null,
   "id": "9ee7828b",
   "metadata": {},
   "outputs": [],
   "source": [
    "# query on the non-filtered data\n",
    "!bcftools query -f'[%CHROM:%POS %SAMPLE %GT\\n]' -i 'ID==\"rs334\" && GT=\"alt\"' \n",
    "    ~/biometals/AnnotateVariants/chr11HBB.vcf > ~/biometals/AnnotateVariants/full_SickleCellCarrierInfo.txt"
   ]
  },
  {
   "cell_type": "code",
   "execution_count": null,
   "id": "d5b2f7de",
   "metadata": {},
   "outputs": [],
   "source": [
    "#--------------------------------------------------------------\n",
    "# next step: look at the whole population data set to see what populations have the variant\n",
    "#--------------------------------------------------------------"
   ]
  },
  {
   "cell_type": "code",
   "execution_count": 1,
   "id": "4fada8b6",
   "metadata": {
    "scrolled": true
   },
   "outputs": [
    {
     "name": "stdout",
     "output_type": "stream",
     "text": [
      "   pop  count\n",
      "0  ACB      9\n",
      "1  ASW      2\n",
      "2  CLM      2\n",
      "3  ESN     24\n",
      "4  GWD     26\n",
      "5  LWK     20\n",
      "6  MSL     21\n",
      "7  PUR      3\n",
      "8  YRI     30\n"
     ]
    }
   ],
   "source": [
    "import pandas as pd\n",
    "\n",
    "# 1) Load the genotype text file containing chromosome position, sample ID, genotype\n",
    "genotype_file = '~/biometals/AnnotateVariants/full_SickleCellCarrierInfo.txt' \n",
    "genotype_df = pd.read_csv(genotype_file, sep='\\t', header=None)\n",
    "\n",
    "# 2) Split the genotype file into separate columns\n",
    "genotype_df[['position', 'sample', 'genotype']] = genotype_df[0].str.split(' ', expand=True)\n",
    "# Drop the old column (0) after splitting\n",
    "genotype_df = genotype_df.drop(columns=[0])\n",
    "\n",
    "# 3) load samplepopdata\n",
    "population_file = '~/biometals/samplepopdata.csv'\n",
    "population_df = pd.read_csv(population_file, sep=',', header=None, names=['sample', 'pop'])\n",
    "\n",
    "# 4) Merge the genotype data with samplepopdata\n",
    "merged_df = pd.merge(genotype_df, population_df, on='sample', how='inner')\n",
    "\n",
    "# 5) Filter for samples with the variation allele\n",
    "variation_samples = merged_df[merged_df['genotype'].str.contains('1\\|1|1\\|0|0\\|1')]\n",
    "\n",
    "# 6) Analyze the population distribution of these variation samples\n",
    "population_counts = variation_samples.groupby('pop').size().reset_index(name='count')\n",
    "print(population_counts)"
   ]
  },
  {
   "cell_type": "code",
   "execution_count": 1,
   "id": "44d85e7c",
   "metadata": {},
   "outputs": [
    {
     "name": "stdout",
     "output_type": "stream",
     "text": [
      "    pop  counts\n",
      "0   ACB      96\n",
      "1   ASW      61\n",
      "2   BEB      86\n",
      "3   CDX      93\n",
      "4   CEU      99\n",
      "5   CHB     103\n",
      "6   CHS     105\n",
      "7   CLM      94\n",
      "8   ESN      99\n",
      "9   FIN      99\n",
      "10  GBR      91\n",
      "11  GIH     103\n",
      "12  GWD     113\n",
      "13  IBS     107\n",
      "14  ITU     102\n",
      "15  JPT     104\n",
      "16  KHV      99\n",
      "17  LWK      99\n",
      "18  MSL      85\n",
      "19  MXL      64\n",
      "20  PEL      85\n",
      "21  PJL      96\n",
      "22  PUR     104\n",
      "23  STU     102\n",
      "24  TSI     107\n",
      "25  YRI     108\n"
     ]
    }
   ],
   "source": [
    "#--------------------------------------------------------------\n",
    "# counting the number of samples per population\n",
    "#--------------------------------------------------------------\n",
    "import pandas as pd\n",
    "\n",
    "# Load the population information file\n",
    "population_file = '~/biometals/samplepopdata.csv'\n",
    "population_df = pd.read_csv(population_file, sep=',')\n",
    "\n",
    "# Count the number of samples in each population\n",
    "population_counts = population_df.groupby('pop').size().reset_index(name='counts')\n",
    "\n",
    "# Display the counts for each population\n",
    "print(population_counts)"
   ]
  },
  {
   "cell_type": "markdown",
   "id": "e2003a68",
   "metadata": {},
   "source": [
    "# Beta Thalassemia"
   ]
  },
  {
   "cell_type": "markdown",
   "id": "fdd4bcc2",
   "metadata": {},
   "source": [
    "Beta thalassemia comes from the HBB gene, which is the same as Sickle Cell Disease and thus the files for\n",
    "HBB information from above (chr11HBB.vcf) can be used for this study, as can the population information data (samplepopdata.csv)"
   ]
  },
  {
   "cell_type": "markdown",
   "id": "c804f41a",
   "metadata": {},
   "source": [
    "Positions extracted:\n",
    "chr11HBBbt.vcf: 5280000-5295500\n",
    "chr11HBBbt_2.vcf: 5220000-5230000\n",
    "chr11HBBbt_3.vcf: 113500000-113507000, not used\n",
    "chr11HBBbt_4.vcf: 5285300-5285400, doesn't contain any allelic data\n",
    "chr11HBBbt_5.vcf: 5285000-5285500\n",
    "chr11HBBbt_6.vcf: "
   ]
  },
  {
   "cell_type": "code",
   "execution_count": 1,
   "id": "42ebf50a",
   "metadata": {},
   "outputs": [],
   "source": [
    "#--------------------------------------------------------------\n",
    "#Extract HBB gene area for Beta Thalassemia\n",
    "#--------------------------------------------------------------\n",
    "#the VCF files are loaded into our notebooks through my BIOS4150/BIOL6150 class so I just call it from there since it's easy\n",
    "!bcftools view -r chr11:5280000-5295500 -Ov -o ~/biometals/AnnotateVariants/chr11HBBbt.vcf ~/biol6150/Data/1000Genomes/phase3.chr11.GRCh38.GT.crossmap.vcf.gz\n",
    "# this does not contain the variant I want, so two lines down has a different extraction that was actually used"
   ]
  },
  {
   "cell_type": "code",
   "execution_count": 1,
   "id": "bb363bea",
   "metadata": {
    "scrolled": true
   },
   "outputs": [
    {
     "name": "stdout",
     "output_type": "stream",
     "text": [
      "#CHROM\tPOS\tID\tREF\tALT\tHG00097\tHG00099\tHG00100\tHG00101\tHG00102\tHG00103\r\n",
      "chr11\t5280105\trs575301686\tA\tT\t0|0\t0|0\t0|0\t0|0\t0|0\t0|0\r\n",
      "chr11\t5280222\trs61388411\tC\tT\t0|0\t0|0\t0|0\t0|0\t0|0\t0|0\r\n",
      "chr11\t5280270\trs557812923\tC\tT\t0|0\t0|0\t0|0\t0|0\t0|0\t0|0\r\n",
      "chr11\t5280277\trs541497770\tG\tC\t0|0\t0|0\t0|0\t0|0\t0|0\t0|0\r\n",
      "chr11\t5280320\trs60240093\tT\tA\t0|0\t0|0\t0|0\t0|0\t0|0\t0|0\r\n",
      "chr11\t5280329\trs370648906\tC\tA\t0|0\t0|0\t0|0\t0|0\t0|0\t0|0\r\n",
      "chr11\t5280344\trs530233431\tC\tA\t0|0\t0|0\t0|0\t0|0\t0|0\t0|0\r\n",
      "chr11\t5280372\trs542112597\tG\tT\t0|0\t0|0\t0|0\t0|0\t0|0\t0|0\r\n",
      "chr11\t5280384\trs563681069\tC\tA\t0|0\t0|0\t0|0\t0|0\t0|0\t0|0\r\n",
      "cut: write error: Broken pipe\r\n"
     ]
    }
   ],
   "source": [
    "!cat ~/biometals/AnnotateVariants/chr11HBBbt.vcf | grep -v \"##\" | cut -f1-5,11-16 | head"
   ]
  },
  {
   "cell_type": "markdown",
   "id": "b080057b",
   "metadata": {},
   "source": [
    "#--------------------------------------------------------------\n",
    "#--------------------------------------------------------------"
   ]
  },
  {
   "cell_type": "code",
   "execution_count": null,
   "id": "3c26e6ec",
   "metadata": {},
   "outputs": [],
   "source": [
    "#--------------------------------------------------------------\n",
    "# variant 1) ID==rs33971634 at POS==\n",
    "#--------------------------------------------------------------"
   ]
  },
  {
   "cell_type": "code",
   "execution_count": null,
   "id": "aaf569e2",
   "metadata": {},
   "outputs": [],
   "source": [
    "#--------------------------------------------------------------\n",
    "# Extracting variant positions for ID==rs33971634\n",
    "#--------------------------------------------------------------\n",
    "!bcftools view -r chr11:5220000-5230000 -Ov -o ~/biometals/AnnotateVariants/chr11HBBbt_2.vcf \n",
    "    ~/biol6150/Data/1000Genomes/phase3.chr11.GRCh38.GT.crossmap.vcf.gz"
   ]
  },
  {
   "cell_type": "code",
   "execution_count": 1,
   "id": "fbee5663",
   "metadata": {},
   "outputs": [],
   "source": [
    "#--------------------------------------------------------------\n",
    "# query variant sequence\n",
    "#--------------------------------------------------------------\n",
    "!bcftools query -f '[%CHROM:%POS %SAMPLE %GT\\n]' -i 'ID==\"rs33971634\" && GT=\"alt\"'\n",
    "    ~/biometals/AnnotateVariants/chr11HBBbt_2.vcf > ~/biometals/AnnotateVariants/var1_BetaThalassemiaInfo.txt"
   ]
  },
  {
   "cell_type": "code",
   "execution_count": 1,
   "id": "16a06878",
   "metadata": {},
   "outputs": [
    {
     "name": "stdout",
     "output_type": "stream",
     "text": [
      "   pop  count\n",
      "0  PEL      1\n"
     ]
    }
   ],
   "source": [
    "#--------------------------------------------------------------\n",
    "# next step: look at the whole population data set to see what populations have the variant\n",
    "#--------------------------------------------------------------\n",
    "import pandas as pd\n",
    "\n",
    "# 1) Load the genotype text file containing chromosome position, sample ID, genotype\n",
    "genotype_file = '~/biometals/AnnotateVariants/var1_BetaThalassemiaInfo.txt' \n",
    "genotype_df = pd.read_csv(genotype_file, sep='\\t', header=None)\n",
    "\n",
    "# 2) Split the genotype file into separate columns\n",
    "genotype_df[['position', 'sample', 'genotype']] = genotype_df[0].str.split(' ', expand=True)\n",
    "# Drop the old column (0) after splitting\n",
    "genotype_df = genotype_df.drop(columns=[0])\n",
    "\n",
    "# 3) load samplepopdata\n",
    "population_file = '~/biometals/samplepopdata.csv'\n",
    "population_df = pd.read_csv(population_file, sep=',', header=None, names=['sample', 'pop'])\n",
    "\n",
    "# 4) Merge the genotype data with samplepopdata\n",
    "merged_df = pd.merge(genotype_df, population_df, on='sample', how='inner')\n",
    "\n",
    "# 5) Filter for samples with the variation allele \n",
    "variation_samples = merged_df[merged_df['genotype'].str.contains('1\\|1|1\\|0|0\\|1')]\n",
    "\n",
    "# 6) Analyze the population distribution of these variation samples\n",
    "population_counts = variation_samples.groupby('pop').size().reset_index(name='count')\n",
    "print(population_counts)"
   ]
  },
  {
   "cell_type": "code",
   "execution_count": null,
   "id": "b6996367",
   "metadata": {},
   "outputs": [],
   "source": [
    "#--------------------------------------------------------------\n",
    "# compare it to the total population data already determined from above (output pasted below)\n",
    "#--------------------------------------------------------------"
   ]
  },
  {
   "cell_type": "markdown",
   "id": "03075449",
   "metadata": {},
   "source": [
    "    pop  counts\n",
    "0   ACB      96\n",
    "1   ASW      61\n",
    "2   BEB      86\n",
    "3   CDX      93\n",
    "4   CEU      99\n",
    "5   CHB     103\n",
    "6   CHS     105\n",
    "7   CLM      94\n",
    "8   ESN      99\n",
    "9   FIN      99\n",
    "10  GBR      91\n",
    "11  GIH     103\n",
    "12  GWD     113\n",
    "13  IBS     107\n",
    "14  ITU     102\n",
    "15  JPT     104\n",
    "16  KHV      99\n",
    "17  LWK      99\n",
    "18  MSL      85\n",
    "19  MXL      64\n",
    "20  PEL      85\n",
    "21  PJL      96\n",
    "22  PUR     104\n",
    "23  STU     102\n",
    "24  TSI     107\n",
    "25  YRI     108"
   ]
  },
  {
   "cell_type": "markdown",
   "id": "e6b63aa8",
   "metadata": {},
   "source": [
    "#--------------------------------------------------------------\n",
    "#--------------------------------------------------------------"
   ]
  },
  {
   "cell_type": "code",
   "execution_count": null,
   "id": "12ad9a0f",
   "metadata": {},
   "outputs": [],
   "source": [
    "#--------------------------------------------------------------\n",
    "# variant 2) ID==rs113506946 at POS==5285344\n",
    "#--------------------------------------------------------------"
   ]
  },
  {
   "cell_type": "code",
   "execution_count": 1,
   "id": "7d1d6c04",
   "metadata": {},
   "outputs": [],
   "source": [
    "#--------------------------------------------------------------\n",
    "# Extracting variant positions for ID==rs113506946 at position 5285344\n",
    "#--------------------------------------------------------------\n",
    "!bcftools view -r chr11:5285000-5285500 -Ov -o ~/biometals/AnnotateVariants/chr11HBBbt_5.vcf ~/biol6150/Data/1000Genomes/phase3.chr11.GRCh38.GT.crossmap.vcf.gz"
   ]
  },
  {
   "cell_type": "code",
   "execution_count": 1,
   "id": "86c5007e",
   "metadata": {},
   "outputs": [
    {
     "name": "stdout",
     "output_type": "stream",
     "text": [
      "#CHROM\tPOS\tID\tREF\tALT\tQUAL\tFILTER\tINFO\tFORMAT\tHG00096\tHG00097\tHG00099\tHG00100\tHG00101\tHG00102\tHG00103\tHG00105\tHG00106\tHG00107\tHG00108\tHG00109\tHG00110\tHG00111\tHG00112\tHG00113\tHG00114\tHG00115\tHG00116\tHG00117\tHG00118\tHG00119\tHG00120\tHG00121\tHG00122\tHG00123\tHG00125\tHG00126\tHG00127\tHG00128\tHG00129\tHG00130\tHG00131\tHG00132\tHG00133\tHG00136\tHG00137\tHG00138\tHG00139\tHG00140\tHG00141\tHG00142\tHG00143\tHG00145\tHG00146\tHG00148\tHG00149\tHG00150\tHG00151\tHG00154\tHG00155\tHG00157\tHG00158\tHG00159\tHG00160\tHG00171\tHG00173\tHG00174\tHG00176\tHG00177\tHG00178\tHG00179\tHG00180\tHG00181\tHG00182\tHG00183\tHG00185\tHG00186\tHG00187\tHG00188\tHG00189\tHG00190\tHG00231\tHG00232\tHG00233\tHG00234\tHG00235\tHG00236\tHG00237\tHG00238\tHG00239\tHG00240\tHG00242\tHG00243\tHG00244\tHG00245\tHG00246\tHG00250\tHG00251\tHG00252\tHG00253\tHG00254\tHG00255\tHG00256\tHG00257\tHG00258\tHG00259\tHG00260\tHG00261\tHG00262\tHG00263\tHG00264\tHG00265\tHG00266\tHG00267\tHG00268\tHG00269\tHG00271\tHG00272\tHG00273\tHG00274\tHG00275\tHG00276\tHG00277\tHG00278\tHG00280\tHG00281\tHG00282\tHG00284\tHG00285\tHG00288\tHG00290\tHG00304\tHG00306\tHG00308\tHG00309\tHG00310\tHG00311\tHG00313\tHG00315\tHG00318\tHG00319\tHG00320\tHG00321\tHG00323\tHG00324\tHG00325\tHG00326\tHG00327\tHG00328\tHG00329\tHG00330\tHG00331\tHG00332\tHG00334\tHG00335\tHG00336\tHG00337\tHG00338\tHG00339\tHG00341\tHG00342\tHG00343\tHG00344\tHG00345\tHG00346\tHG00349\tHG00350\tHG00351\tHG00353\tHG00355\tHG00356\tHG00357\tHG00358\tHG00360\tHG00361\tHG00362\tHG00364\tHG00365\tHG00366\tHG00367\tHG00368\tHG00369\tHG00371\tHG00372\tHG00373\tHG00375\tHG00376\tHG00378\tHG00379\tHG00380\tHG00381\tHG00382\tHG00383\tHG00384\tHG00403\tHG00404\tHG00406\tHG00407\tHG00409\tHG00410\tHG00419\tHG00421\tHG00422\tHG00428\tHG00436\tHG00437\tHG00442\tHG00443\tHG00445\tHG00446\tHG00448\tHG00449\tHG00451\tHG00452\tHG00457\tHG00458\tHG00463\tHG00464\tHG00472\tHG00473\tHG00475\tHG00476\tHG00478\tHG00479\tHG00500\tHG00513\tHG00524\tHG00525\tHG00530\tHG00531\tHG00533\tHG00534\tHG00536\tHG00537\tHG00542\tHG00543\tHG00551\tHG00553\tHG00554\tHG00556\tHG00557\tHG00559\tHG00560\tHG00565\tHG00566\tHG00580\tHG00581\tHG00583\tHG00584\tHG00589\tHG00590\tHG00592\tHG00593\tHG00595\tHG00596\tHG00598\tHG00599\tHG00607\tHG00608\tHG00610\tHG00611\tHG00613\tHG00614\tHG00619\tHG00620\tHG00622\tHG00623\tHG00625\tHG00626\tHG00628\tHG00629\tHG00631\tHG00632\tHG00634\tHG00637\tHG00638\tHG00640\tHG00641\tHG00650\tHG00651\tHG00653\tHG00654\tHG00656\tHG00657\tHG00662\tHG00663\tHG00671\tHG00672\tHG00674\tHG00675\tHG00683\tHG00684\tHG00689\tHG00690\tHG00692\tHG00693\tHG00698\tHG00699\tHG00701\tHG00704\tHG00705\tHG00707\tHG00708\tHG00717\tHG00728\tHG00729\tHG00731\tHG00732\tHG00734\tHG00736\tHG00737\tHG00739\tHG00740\tHG00742\tHG00743\tHG00759\tHG00766\tHG00844\tHG00851\tHG00864\tHG00867\tHG00879\tHG00881\tHG00956\tHG00978\tHG00982\tHG01028\tHG01029\tHG01031\tHG01046\tHG01047\tHG01048\tHG01049\tHG01051\tHG01052\tHG01054\tHG01055\tHG01058\tHG01060\tHG01061\tHG01063\tHG01064\tHG01066\tHG01067\tHG01069\tHG01070\tHG01072\tHG01073\tHG01075\tHG01077\tHG01079\tHG01080\tHG01082\tHG01083\tHG01085\tHG01086\tHG01088\tHG01089\tHG01092\tHG01094\tHG01095\tHG01097\tHG01098\tHG01101\tHG01102\tHG01104\tHG01105\tHG01107\tHG01108\tHG01110\tHG01111\tHG01112\tHG01113\tHG01119\tHG01121\tHG01122\tHG01124\tHG01125\tHG01130\tHG01131\tHG01133\tHG01134\tHG01136\tHG01137\tHG01139\tHG01140\tHG01142\tHG01148\tHG01149\tHG01161\tHG01162\tHG01164\tHG01167\tHG01168\tHG01170\tHG01171\tHG01173\tHG01174\tHG01176\tHG01177\tHG01182\tHG01183\tHG01187\tHG01188\tHG01190\tHG01191\tHG01197\tHG01198\tHG01200\tHG01204\tHG01205\tHG01241\tHG01242\tHG01247\tHG01248\tHG01250\tHG01251\tHG01253\tHG01254\tHG01256\tHG01257\tHG01259\tHG01260\tHG01269\tHG01271\tHG01272\tHG01275\tHG01277\tHG01280\tHG01281\tHG01284\tHG01286\tHG01302\tHG01303\tHG01305\tHG01308\tHG01311\tHG01312\tHG01323\tHG01325\tHG01326\tHG01334\tHG01341\tHG01342\tHG01344\tHG01345\tHG01348\tHG01350\tHG01351\tHG01353\tHG01354\tHG01356\tHG01357\tHG01359\tHG01360\tHG01362\tHG01363\tHG01365\tHG01366\tHG01369\tHG01372\tHG01374\tHG01375\tHG01377\tHG01378\tHG01383\tHG01384\tHG01389\tHG01390\tHG01392\tHG01393\tHG01395\tHG01396\tHG01398\tHG01402\tHG01403\tHG01405\tHG01412\tHG01413\tHG01414\tHG01431\tHG01432\tHG01435\tHG01437\tHG01438\tHG01440\tHG01441\tHG01443\tHG01444\tHG01447\tHG01455\tHG01456\tHG01459\tHG01461\tHG01462\tHG01464\tHG01465\tHG01468\tHG01474\tHG01479\tHG01485\tHG01486\tHG01488\tHG01489\tHG01491\tHG01492\tHG01494\tHG01495\tHG01497\tHG01498\tHG01500\tHG01501\tHG01503\tHG01504\tHG01506\tHG01507\tHG01509\tHG01510\tHG01512\tHG01513\tHG01515\tHG01516\tHG01518\tHG01519\tHG01521\tHG01522\tHG01524\tHG01525\tHG01527\tHG01528\tHG01530\tHG01531\tHG01536\tHG01537\tHG01550\tHG01551\tHG01556\tHG01565\tHG01566\tHG01571\tHG01572\tHG01577\tHG01578\tHG01583\tHG01586\tHG01589\tHG01593\tHG01595\tHG01596\tHG01597\tHG01598\tHG01599\tHG01600\tHG01602\tHG01603\tHG01605\tHG01606\tHG01607\tHG01608\tHG01610\tHG01612\tHG01613\tHG01615\tHG01617\tHG01618\tHG01619\tHG01620\tHG01623\tHG01624\tHG01625\tHG01626\tHG01628\tHG01630\tHG01631\tHG01632\tHG01668\tHG01669\tHG01670\tHG01672\tHG01673\tHG01675\tHG01676\tHG01678\tHG01679\tHG01680\tHG01682\tHG01684\tHG01685\tHG01686\tHG01694\tHG01695\tHG01697\tHG01699\tHG01700\tHG01702\tHG01704\tHG01705\tHG01707\tHG01708\tHG01709\tHG01710\tHG01746\tHG01747\tHG01756\tHG01757\tHG01761\tHG01762\tHG01765\tHG01766\tHG01767\tHG01768\tHG01770\tHG01771\tHG01773\tHG01775\tHG01776\tHG01777\tHG01779\tHG01781\tHG01783\tHG01784\tHG01785\tHG01786\tHG01789\tHG01790\tHG01791\tHG01794\tHG01795\tHG01796\tHG01797\tHG01798\tHG01799\tHG01800\tHG01801\tHG01802\tHG01804\tHG01805\tHG01806\tHG01807\tHG01808\tHG01809\tHG01810\tHG01811\tHG01812\tHG01813\tHG01815\tHG01816\tHG01817\tHG01840\tHG01841\tHG01842\tHG01843\tHG01844\tHG01845\tHG01846\tHG01847\tHG01848\tHG01849\tHG01850\tHG01851\tHG01852\tHG01853\tHG01855\tHG01857\tHG01858\tHG01859\tHG01860\tHG01861\tHG01862\tHG01863\tHG01864\tHG01865\tHG01866\tHG01867\tHG01868\tHG01869\tHG01870\tHG01871\tHG01872\tHG01873\tHG01874\tHG01878\tHG01879\tHG01880\tHG01882\tHG01883\tHG01885\tHG01886\tHG01889\tHG01890\tHG01892\tHG01893\tHG01894\tHG01896\tHG01912\tHG01914\tHG01915\tHG01917\tHG01918\tHG01920\tHG01921\tHG01923\tHG01924\tHG01926\tHG01927\tHG01932\tHG01933\tHG01935\tHG01936\tHG01938\tHG01939\tHG01941\tHG01942\tHG01944\tHG01945\tHG01947\tHG01948\tHG01950\tHG01951\tHG01953\tHG01954\tHG01956\tHG01958\tHG01961\tHG01965\tHG01967\tHG01968\tHG01970\tHG01971\tHG01973\tHG01974\tHG01976\tHG01977\tHG01979\tHG01980\tHG01982\tHG01985\tHG01986\tHG01988\tHG01989\tHG01990\tHG01991\tHG01992\tHG01997\tHG02002\tHG02003\tHG02006\tHG02008\tHG02009\tHG02010\tHG02012\tHG02013\tHG02014\tHG02016\tHG02017\tHG02019\tHG02020\tHG02023\tHG02025\tHG02026\tHG02028\tHG02029\tHG02031\tHG02032\tHG02035\tHG02040\tHG02047\tHG02048\tHG02049\tHG02050\tHG02051\tHG02052\tHG02053\tHG02054\tHG02057\tHG02058\tHG02060\tHG02061\tHG02064\tHG02067\tHG02069\tHG02070\tHG02072\tHG02073\tHG02075\tHG02076\tHG02078\tHG02079\tHG02081\tHG02082\tHG02084\tHG02085\tHG02086\tHG02087\tHG02088\tHG02089\tHG02090\tHG02095\tHG02102\tHG02104\tHG02105\tHG02107\tHG02108\tHG02111\tHG02113\tHG02116\tHG02121\tHG02122\tHG02127\tHG02128\tHG02130\tHG02131\tHG02133\tHG02134\tHG02136\tHG02137\tHG02138\tHG02139\tHG02140\tHG02141\tHG02142\tHG02143\tHG02144\tHG02146\tHG02147\tHG02150\tHG02151\tHG02152\tHG02153\tHG02154\tHG02155\tHG02156\tHG02164\tHG02165\tHG02166\tHG02178\tHG02179\tHG02180\tHG02181\tHG02182\tHG02184\tHG02185\tHG02186\tHG02187\tHG02188\tHG02190\tHG02215\tHG02219\tHG02220\tHG02221\tHG02223\tHG02224\tHG02230\tHG02231\tHG02232\tHG02233\tHG02235\tHG02236\tHG02238\tHG02239\tHG02250\tHG02252\tHG02253\tHG02255\tHG02256\tHG02259\tHG02260\tHG02262\tHG02265\tHG02266\tHG02271\tHG02272\tHG02274\tHG02275\tHG02277\tHG02278\tHG02281\tHG02282\tHG02283\tHG02284\tHG02285\tHG02286\tHG02291\tHG02292\tHG02298\tHG02299\tHG02301\tHG02304\tHG02307\tHG02308\tHG02309\tHG02312\tHG02314\tHG02315\tHG02317\tHG02318\tHG02322\tHG02323\tHG02325\tHG02330\tHG02332\tHG02334\tHG02337\tHG02339\tHG02343\tHG02345\tHG02348\tHG02351\tHG02353\tHG02355\tHG02356\tHG02360\tHG02364\tHG02367\tHG02371\tHG02373\tHG02374\tHG02375\tHG02379\tHG02380\tHG02382\tHG02383\tHG02384\tHG02385\tHG02386\tHG02389\tHG02390\tHG02391\tHG02392\tHG02394\tHG02395\tHG02396\tHG02397\tHG02398\tHG02399\tHG02401\tHG02402\tHG02406\tHG02407\tHG02408\tHG02409\tHG02410\tHG02419\tHG02420\tHG02425\tHG02427\tHG02429\tHG02433\tHG02439\tHG02442\tHG02445\tHG02449\tHG02450\tHG02455\tHG02461\tHG02462\tHG02464\tHG02465\tHG02470\tHG02471\tHG02476\tHG02477\tHG02479\tHG02481\tHG02484\tHG02485\tHG02489\tHG02490\tHG02491\tHG02493\tHG02494\tHG02496\tHG02497\tHG02501\tHG02502\tHG02505\tHG02508\tHG02511\tHG02512\tHG02513\tHG02521\tHG02522\tHG02536\tHG02537\tHG02541\tHG02545\tHG02546\tHG02549\tHG02554\tHG02555\tHG02557\tHG02558\tHG02561\tHG02562\tHG02568\tHG02570\tHG02571\tHG02573\tHG02574\tHG02577\tHG02580\tHG02582\tHG02583\tHG02585\tHG02586\tHG02588\tHG02589\tHG02594\tHG02595\tHG02597\tHG02600\tHG02601\tHG02603\tHG02604\tHG02610\tHG02611\tHG02613\tHG02614\tHG02620\tHG02621\tHG02623\tHG02624\tHG02628\tHG02629\tHG02634\tHG02635\tHG02642\tHG02643\tHG02645\tHG02646\tHG02648\tHG02649\tHG02651\tHG02652\tHG02654\tHG02655\tHG02657\tHG02658\tHG02660\tHG02661\tHG02666\tHG02667\tHG02675\tHG02676\tHG02678\tHG02679\tHG02681\tHG02682\tHG02684\tHG02685\tHG02687\tHG02688\tHG02690\tHG02691\tHG02694\tHG02696\tHG02697\tHG02699\tHG02700\tHG02702\tHG02703\tHG02715\tHG02716\tHG02721\tHG02722\tHG02724\tHG02725\tHG02727\tHG02728\tHG02731\tHG02733\tHG02734\tHG02736\tHG02737\tHG02756\tHG02757\tHG02759\tHG02760\tHG02763\tHG02768\tHG02769\tHG02771\tHG02772\tHG02774\tHG02775\tHG02778\tHG02780\tHG02783\tHG02784\tHG02786\tHG02787\tHG02789\tHG02790\tHG02792\tHG02793\tHG02798\tHG02799\tHG02804\tHG02805\tHG02807\tHG02808\tHG02810\tHG02811\tHG02813\tHG02814\tHG02816\tHG02817\tHG02819\tHG02820\tHG02836\tHG02837\tHG02839\tHG02840\tHG02851\tHG02852\tHG02854\tHG02855\tHG02860\tHG02861\tHG02870\tHG02878\tHG02879\tHG02881\tHG02882\tHG02884\tHG02885\tHG02887\tHG02888\tHG02890\tHG02891\tHG02895\tHG02896\tHG02922\tHG02923\tHG02938\tHG02941\tHG02943\tHG02944\tHG02946\tHG02947\tHG02952\tHG02953\tHG02968\tHG02970\tHG02971\tHG02973\tHG02974\tHG02976\tHG02977\tHG02979\tHG02981\tHG02982\tHG02983\tHG03006\tHG03007\tHG03009\tHG03012\tHG03015\tHG03016\tHG03018\tHG03019\tHG03021\tHG03022\tHG03024\tHG03025\tHG03027\tHG03028\tHG03039\tHG03040\tHG03045\tHG03046\tHG03048\tHG03049\tHG03052\tHG03054\tHG03055\tHG03057\tHG03058\tHG03060\tHG03061\tHG03063\tHG03064\tHG03066\tHG03069\tHG03072\tHG03073\tHG03074\tHG03077\tHG03078\tHG03079\tHG03081\tHG03082\tHG03084\tHG03085\tHG03086\tHG03088\tHG03091\tHG03095\tHG03096\tHG03097\tHG03099\tHG03100\tHG03103\tHG03105\tHG03108\tHG03109\tHG03111\tHG03112\tHG03114\tHG03115\tHG03117\tHG03118\tHG03120\tHG03121\tHG03123\tHG03124\tHG03126\tHG03127\tHG03129\tHG03130\tHG03132\tHG03133\tHG03135\tHG03136\tHG03139\tHG03157\tHG03159\tHG03160\tHG03162\tHG03163\tHG03166\tHG03168\tHG03169\tHG03172\tHG03175\tHG03189\tHG03190\tHG03193\tHG03195\tHG03196\tHG03198\tHG03199\tHG03202\tHG03209\tHG03212\tHG03224\tHG03225\tHG03228\tHG03229\tHG03234\tHG03235\tHG03237\tHG03238\tHG03240\tHG03241\tHG03246\tHG03247\tHG03258\tHG03259\tHG03265\tHG03267\tHG03268\tHG03270\tHG03271\tHG03279\tHG03280\tHG03291\tHG03294\tHG03295\tHG03297\tHG03298\tHG03300\tHG03301\tHG03303\tHG03304\tHG03311\tHG03313\tHG03342\tHG03343\tHG03351\tHG03352\tHG03354\tHG03363\tHG03366\tHG03367\tHG03369\tHG03370\tHG03372\tHG03376\tHG03378\tHG03380\tHG03382\tHG03385\tHG03388\tHG03391\tHG03394\tHG03397\tHG03401\tHG03410\tHG03419\tHG03428\tHG03432\tHG03433\tHG03436\tHG03437\tHG03439\tHG03442\tHG03445\tHG03446\tHG03449\tHG03451\tHG03452\tHG03455\tHG03457\tHG03458\tHG03460\tHG03461\tHG03464\tHG03469\tHG03470\tHG03472\tHG03473\tHG03476\tHG03478\tHG03479\tHG03484\tHG03485\tHG03488\tHG03490\tHG03491\tHG03499\tHG03511\tHG03514\tHG03515\tHG03517\tHG03518\tHG03520\tHG03521\tHG03538\tHG03539\tHG03547\tHG03548\tHG03556\tHG03557\tHG03558\tHG03559\tHG03563\tHG03565\tHG03567\tHG03571\tHG03572\tHG03575\tHG03577\tHG03578\tHG03583\tHG03585\tHG03589\tHG03593\tHG03594\tHG03595\tHG03598\tHG03600\tHG03603\tHG03604\tHG03607\tHG03611\tHG03615\tHG03616\tHG03619\tHG03624\tHG03625\tHG03629\tHG03631\tHG03634\tHG03636\tHG03640\tHG03642\tHG03643\tHG03644\tHG03645\tHG03646\tHG03649\tHG03652\tHG03653\tHG03660\tHG03663\tHG03667\tHG03668\tHG03672\tHG03673\tHG03679\tHG03680\tHG03681\tHG03684\tHG03685\tHG03686\tHG03687\tHG03689\tHG03690\tHG03691\tHG03692\tHG03693\tHG03694\tHG03695\tHG03696\tHG03697\tHG03698\tHG03702\tHG03703\tHG03705\tHG03706\tHG03708\tHG03709\tHG03711\tHG03713\tHG03714\tHG03716\tHG03717\tHG03718\tHG03720\tHG03722\tHG03727\tHG03729\tHG03730\tHG03731\tHG03733\tHG03736\tHG03738\tHG03740\tHG03741\tHG03742\tHG03743\tHG03744\tHG03745\tHG03746\tHG03750\tHG03752\tHG03753\tHG03754\tHG03755\tHG03756\tHG03757\tHG03760\tHG03762\tHG03765\tHG03767\tHG03770\tHG03771\tHG03772\tHG03773\tHG03774\tHG03775\tHG03777\tHG03778\tHG03779\tHG03780\tHG03781\tHG03782\tHG03784\tHG03785\tHG03786\tHG03787\tHG03788\tHG03789\tHG03790\tHG03792\tHG03793\tHG03796\tHG03800\tHG03802\tHG03803\tHG03805\tHG03808\tHG03809\tHG03812\tHG03814\tHG03815\tHG03817\tHG03821\tHG03823\tHG03824\tHG03826\tHG03829\tHG03830\tHG03832\tHG03833\tHG03836\tHG03837\tHG03838\tHG03844\tHG03846\tHG03848\tHG03849\tHG03850\tHG03851\tHG03854\tHG03856\tHG03857\tHG03858\tHG03861\tHG03862\tHG03863\tHG03864\tHG03866\tHG03867\tHG03868\tHG03869\tHG03870\tHG03871\tHG03872\tHG03873\tHG03874\tHG03875\tHG03882\tHG03884\tHG03885\tHG03886\tHG03887\tHG03888\tHG03890\tHG03894\tHG03895\tHG03896\tHG03897\tHG03898\tHG03899\tHG03900\tHG03902\tHG03905\tHG03907\tHG03908\tHG03910\tHG03911\tHG03913\tHG03914\tHG03916\tHG03917\tHG03919\tHG03920\tHG03922\tHG03925\tHG03926\tHG03928\tHG03931\tHG03934\tHG03937\tHG03940\tHG03941\tHG03943\tHG03944\tHG03945\tHG03947\tHG03949\tHG03950\tHG03951\tHG03953\tHG03955\tHG03960\tHG03963\tHG03965\tHG03967\tHG03968\tHG03969\tHG03971\tHG03973\tHG03974\tHG03976\tHG03977\tHG03978\tHG03985\tHG03986\tHG03989\tHG03990\tHG03991\tHG03995\tHG03998\tHG03999\tHG04001\tHG04002\tHG04003\tHG04006\tHG04014\tHG04015\tHG04017\tHG04018\tHG04019\tHG04020\tHG04022\tHG04023\tHG04025\tHG04026\tHG04029\tHG04033\tHG04035\tHG04038\tHG04039\tHG04042\tHG04047\tHG04054\tHG04056\tHG04059\tHG04060\tHG04061\tHG04062\tHG04063\tHG04070\tHG04075\tHG04076\tHG04080\tHG04090\tHG04093\tHG04094\tHG04096\tHG04098\tHG04099\tHG04100\tHG04106\tHG04107\tHG04118\tHG04131\tHG04134\tHG04140\tHG04141\tHG04144\tHG04146\tHG04152\tHG04153\tHG04155\tHG04156\tHG04158\tHG04159\tHG04161\tHG04162\tHG04164\tHG04171\tHG04173\tHG04176\tHG04177\tHG04180\tHG04182\tHG04183\tHG04185\tHG04186\tHG04188\tHG04189\tHG04194\tHG04195\tHG04198\tHG04200\tHG04202\tHG04206\tHG04209\tHG04210\tHG04211\tHG04212\tHG04214\tHG04216\tHG04219\tHG04222\tHG04225\tHG04227\tHG04229\tHG04235\tHG04238\tHG04239\tNA06984\tNA06985\tNA06986\tNA06989\tNA06994\tNA07000\tNA07037\tNA07048\tNA07051\tNA07056\tNA07347\tNA07357\tNA10847\tNA10851\tNA11829\tNA11830\tNA11831\tNA11832\tNA11840\tNA11843\tNA11881\tNA11892\tNA11893\tNA11894\tNA11918\tNA11919\tNA11920\tNA11930\tNA11931\tNA11932\tNA11933\tNA11992\tNA11994\tNA11995\tNA12003\tNA12004\tNA12005\tNA12006\tNA12043\tNA12044\tNA12045\tNA12046\tNA12058\tNA12144\tNA12154\tNA12155\tNA12156\tNA12234\tNA12249\tNA12272\tNA12273\tNA12275\tNA12282\tNA12283\tNA12286\tNA12287\tNA12340\tNA12341\tNA12342\tNA12347\tNA12348\tNA12383\tNA12399\tNA12400\tNA12413\tNA12414\tNA12489\tNA12546\tNA12716\tNA12717\tNA12718\tNA12748\tNA12749\tNA12750\tNA12751\tNA12760\tNA12761\tNA12762\tNA12763\tNA12775\tNA12776\tNA12777\tNA12778\tNA12812\tNA12813\tNA12814\tNA12815\tNA12827\tNA12828\tNA12829\tNA12830\tNA12842\tNA12843\tNA12872\tNA12873\tNA12874\tNA12878\tNA12889\tNA12890\tNA18486\tNA18488\tNA18489\tNA18498\tNA18499\tNA18501\tNA18502\tNA18504\tNA18505\tNA18507\tNA18508\tNA18510\tNA18511\tNA18516\tNA18517\tNA18519\tNA18520\tNA18522\tNA18523\tNA18525\tNA18526\tNA18528\tNA18530\tNA18531\tNA18532\tNA18533\tNA18534\tNA18535\tNA18536\tNA18537\tNA18538\tNA18539\tNA18541\tNA18542\tNA18543\tNA18544\tNA18545\tNA18546\tNA18547\tNA18548\tNA18549\tNA18550\tNA18552\tNA18553\tNA18555\tNA18557\tNA18558\tNA18559\tNA18560\tNA18561\tNA18562\tNA18563\tNA18564\tNA18565\tNA18566\tNA18567\tNA18570\tNA18571\tNA18572\tNA18573\tNA18574\tNA18577\tNA18579\tNA18582\tNA18591\tNA18592\tNA18593\tNA18595\tNA18596\tNA18597\tNA18599\tNA18602\tNA18603\tNA18605\tNA18606\tNA18608\tNA18609\tNA18610\tNA18611\tNA18612\tNA18613\tNA18614\tNA18615\tNA18616\tNA18617\tNA18618\tNA18619\tNA18620\tNA18621\tNA18622\tNA18623\tNA18624\tNA18625\tNA18626\tNA18627\tNA18628\tNA18629\tNA18630\tNA18631\tNA18632\tNA18633\tNA18634\tNA18635\tNA18636\tNA18637\tNA18638\tNA18639\tNA18640\tNA18641\tNA18642\tNA18643\tNA18644\tNA18645\tNA18646\tNA18647\tNA18648\tNA18740\tNA18745\tNA18747\tNA18748\tNA18749\tNA18757\tNA18853\tNA18856\tNA18858\tNA18861\tNA18864\tNA18865\tNA18867\tNA18868\tNA18870\tNA18871\tNA18873\tNA18874\tNA18876\tNA18877\tNA18878\tNA18879\tNA18881\tNA18907\tNA18908\tNA18909\tNA18910\tNA18912\tNA18915\tNA18916\tNA18917\tNA18923\tNA18924\tNA18933\tNA18934\tNA18939\tNA18940\tNA18941\tNA18942\tNA18943\tNA18944\tNA18945\tNA18946\tNA18947\tNA18948\tNA18949\tNA18950\tNA18951\tNA18952\tNA18953\tNA18954\tNA18956\tNA18957\tNA18959\tNA18960\tNA18961\tNA18962\tNA18963\tNA18964\tNA18965\tNA18966\tNA18967\tNA18968\tNA18969\tNA18970\tNA18971\tNA18972\tNA18973\tNA18974\tNA18975\tNA18976\tNA18977\tNA18978\tNA18979\tNA18980\tNA18981\tNA18982\tNA18983\tNA18984\tNA18985\tNA18986\tNA18987\tNA18988\tNA18989\tNA18990\tNA18991\tNA18992\tNA18993\tNA18994\tNA18995\tNA18997\tNA18998\tNA18999\tNA19000\tNA19001\tNA19002\tNA19003\tNA19004\tNA19005\tNA19006\tNA19007\tNA19009\tNA19010\tNA19011\tNA19012\tNA19017\tNA19019\tNA19020\tNA19023\tNA19024\tNA19025\tNA19026\tNA19027\tNA19028\tNA19030\tNA19031\tNA19035\tNA19036\tNA19037\tNA19038\tNA19041\tNA19042\tNA19043\tNA19054\tNA19055\tNA19056\tNA19057\tNA19058\tNA19059\tNA19060\tNA19062\tNA19063\tNA19064\tNA19065\tNA19066\tNA19067\tNA19068\tNA19070\tNA19072\tNA19074\tNA19075\tNA19076\tNA19077\tNA19078\tNA19079\tNA19080\tNA19081\tNA19082\tNA19083\tNA19084\tNA19085\tNA19086\tNA19087\tNA19088\tNA19089\tNA19090\tNA19091\tNA19092\tNA19093\tNA19095\tNA19096\tNA19098\tNA19099\tNA19102\tNA19107\tNA19108\tNA19113\tNA19114\tNA19116\tNA19117\tNA19118\tNA19119\tNA19121\tNA19129\tNA19130\tNA19131\tNA19137\tNA19138\tNA19141\tNA19143\tNA19144\tNA19146\tNA19147\tNA19149\tNA19152\tNA19153\tNA19159\tNA19160\tNA19171\tNA19172\tNA19175\tNA19184\tNA19185\tNA19189\tNA19190\tNA19197\tNA19198\tNA19200\tNA19201\tNA19204\tNA19206\tNA19207\tNA19209\tNA19210\tNA19213\tNA19214\tNA19222\tNA19223\tNA19225\tNA19235\tNA19236\tNA19238\tNA19239\tNA19247\tNA19248\tNA19256\tNA19257\tNA19307\tNA19308\tNA19309\tNA19310\tNA19312\tNA19314\tNA19315\tNA19316\tNA19317\tNA19318\tNA19319\tNA19320\tNA19321\tNA19323\tNA19324\tNA19327\tNA19328\tNA19331\tNA19332\tNA19334\tNA19338\tNA19346\tNA19347\tNA19350\tNA19351\tNA19355\tNA19360\tNA19372\tNA19374\tNA19375\tNA19376\tNA19377\tNA19378\tNA19379\tNA19380\tNA19383\tNA19384\tNA19385\tNA19390\tNA19391\tNA19393\tNA19394\tNA19395\tNA19397\tNA19399\tNA19401\tNA19403\tNA19404\tNA19428\tNA19429\tNA19430\tNA19431\tNA19434\tNA19435\tNA19436\tNA19437\tNA19438\tNA19439\tNA19440\tNA19443\tNA19445\tNA19446\tNA19448\tNA19449\tNA19451\tNA19452\tNA19454\tNA19455\tNA19456\tNA19457\tNA19461\tNA19462\tNA19463\tNA19466\tNA19467\tNA19468\tNA19471\tNA19472\tNA19473\tNA19474\tNA19475\tNA19625\tNA19648\tNA19649\tNA19651\tNA19652\tNA19654\tNA19655\tNA19657\tNA19658\tNA19661\tNA19663\tNA19664\tNA19669\tNA19670\tNA19676\tNA19678\tNA19679\tNA19681\tNA19682\tNA19684\tNA19700\tNA19701\tNA19703\tNA19704\tNA19707\tNA19711\tNA19712\tNA19713\tNA19716\tNA19717\tNA19719\tNA19720\tNA19722\tNA19723\tNA19725\tNA19726\tNA19728\tNA19729\tNA19731\tNA19732\tNA19734\tNA19735\tNA19740\tNA19741\tNA19746\tNA19747\tNA19749\tNA19750\tNA19752\tNA19755\tNA19756\tNA19758\tNA19759\tNA19761\tNA19762\tNA19764\tNA19770\tNA19771\tNA19773\tNA19774\tNA19776\tNA19777\tNA19779\tNA19780\tNA19782\tNA19783\tNA19785\tNA19786\tNA19788\tNA19789\tNA19792\tNA19794\tNA19795\tNA19818\tNA19819\tNA19834\tNA19835\tNA19900\tNA19901\tNA19904\tNA19908\tNA19909\tNA19913\tNA19914\tNA19916\tNA19917\tNA19920\tNA19921\tNA19922\tNA19923\tNA19982\tNA19984\tNA20126\tNA20127\tNA20274\tNA20276\tNA20278\tNA20281\tNA20282\tNA20287\tNA20289\tNA20291\tNA20294\tNA20296\tNA20298\tNA20299\tNA20314\tNA20317\tNA20318\tNA20320\tNA20321\tNA20332\tNA20334\tNA20339\tNA20340\tNA20342\tNA20346\tNA20348\tNA20351\tNA20355\tNA20356\tNA20357\tNA20359\tNA20362\tNA20412\tNA20502\tNA20503\tNA20504\tNA20505\tNA20506\tNA20507\tNA20508\tNA20509\tNA20510\tNA20511\tNA20512\tNA20513\tNA20514\tNA20515\tNA20516\tNA20517\tNA20518\tNA20519\tNA20520\tNA20521\tNA20522\tNA20524\tNA20525\tNA20527\tNA20528\tNA20529\tNA20530\tNA20531\tNA20532\tNA20533\tNA20534\tNA20535\tNA20536\tNA20538\tNA20539\tNA20540\tNA20541\tNA20542\tNA20543\tNA20544\tNA20581\tNA20582\tNA20585\tNA20586\tNA20587\tNA20588\tNA20589\tNA20752\tNA20753\tNA20754\tNA20755\tNA20756\tNA20757\tNA20758\tNA20759\tNA20760\tNA20761\tNA20762\tNA20763\tNA20764\tNA20765\tNA20766\tNA20767\tNA20768\tNA20769\tNA20770\tNA20771\tNA20772\tNA20773\tNA20774\tNA20775\tNA20778\tNA20783\tNA20785\tNA20786\tNA20787\tNA20790\tNA20792\tNA20795\tNA20796\tNA20797\tNA20798\tNA20799\tNA20800\tNA20801\tNA20802\tNA20803\tNA20804\tNA20805\tNA20806\tNA20807\tNA20808\tNA20809\tNA20810\tNA20811\tNA20812\tNA20813\tNA20814\tNA20815\tNA20818\tNA20819\tNA20821\tNA20822\tNA20826\tNA20827\tNA20828\tNA20832\tNA20845\tNA20846\tNA20847\tNA20849\tNA20850\tNA20851\tNA20852\tNA20853\tNA20854\tNA20856\tNA20858\tNA20859\tNA20861\tNA20862\tNA20863\tNA20864\tNA20866\tNA20867\tNA20868\tNA20869\tNA20870\tNA20872\tNA20874\tNA20875\tNA20876\tNA20877\tNA20878\tNA20881\tNA20882\tNA20884\tNA20885\tNA20886\tNA20887\tNA20888\tNA20889\tNA20890\tNA20891\tNA20892\tNA20894\tNA20895\tNA20896\tNA20897\tNA20899\tNA20900\tNA20901\tNA20902\tNA20903\tNA20904\tNA20905\tNA20906\tNA20908\tNA20910\tNA20911\tNA21086\tNA21087\tNA21088\tNA21089\tNA21090\tNA21091\tNA21092\tNA21093\tNA21094\tNA21095\tNA21097\tNA21098\tNA21099\tNA21100\tNA21101\tNA21102\tNA21103\tNA21104\tNA21105\tNA21106\tNA21107\tNA21108\tNA21109\tNA21110\tNA21111\tNA21112\tNA21113\tNA21114\tNA21115\tNA21116\tNA21117\tNA21118\tNA21119\tNA21120\tNA21122\tNA21123\tNA21124\tNA21125\tNA21126\tNA21127\tNA21128\tNA21129\tNA21130\tNA21133\tNA21135\tNA21137\tNA21141\tNA21142\tNA21143\tNA21144\r\n",
      "chr11\t5285051\trs60586182\tA\tG\t100\tPASS\tAC=223;AF=0.0445288;AN=5008;NS=2504;DP=15332;EAS_AF=0;AMR_AF=0.0187;AFR_AF=0.1422;EUR_AF=0.006;SAS_AF=0.0164;AA=A|||;VT=SNP\tGT\t0|0\t0|0\t0|0\t0|0\t0|0\t0|0\t0|0\t0|0\t0|0\t0|0\t0|0\t0|0\t0|0\t0|0\t0|0\t0|0\t0|0\t0|0\t0|0\t0|0\t0|0\t0|0\t0|0\t0|0\t0|0\t0|0\t0|0\t0|0\t0|0\t0|0\t0|0\t0|0\t0|0\t0|0\t0|0\t0|0\t0|0\t0|0\t0|0\t0|0\t0|0\t0|0\t0|0\t0|0\t0|0\t0|0\t0|0\t0|0\t0|0\t0|0\t0|0\t0|0\t0|0\t0|0\t0|0\t0|0\t0|0\t0|0\t0|0\t0|0\t0|0\t0|0\t0|0\t0|0\t0|0\t0|0\t0|0\t0|0\t0|0\t0|0\t0|0\t0|0\t0|0\t0|0\t0|0\t0|0\t0|0\t0|0\t0|0\t0|0\t0|0\t0|0\t0|0\t0|0\t0|0\t0|0\t0|0\t0|0\t0|0\t0|0\t0|0\t0|0\t0|0\t0|0\t0|0\t0|0\t0|0\t0|0\t0|0\t0|0\t0|0\t0|0\t0|0\t0|0\t0|0\t0|0\t0|0\t0|0\t0|0\t0|0\t0|0\t0|0\t0|0\t0|0\t0|0\t0|0\t0|0\t0|0\t0|0\t0|0\t0|0\t0|0\t0|0\t0|0\t0|0\t0|0\t0|0\t0|0\t0|0\t0|0\t0|0\t0|0\t0|0\t0|0\t0|0\t0|0\t0|0\t0|0\t0|0\t0|0\t0|0\t0|0\t0|0\t0|0\t0|0\t0|0\t0|0\t0|0\t0|0\t0|0\t0|0\t0|0\t0|0\t0|0\t0|0\t0|0\t0|0\t0|0\t0|0\t0|0\t0|0\t0|0\t0|0\t1|0\t0|0\t0|0\t0|0\t0|0\t0|0\t0|0\t0|0\t0|0\t0|0\t0|0\t0|0\t0|0\t0|0\t0|0\t0|0\t0|0\t0|0\t0|0\t0|0\t0|0\t0|0\t0|0\t0|0\t0|0\t0|0\t0|0\t0|0\t0|0\t0|0\t0|0\t0|0\t0|0\t0|0\t0|0\t0|0\t0|0\t0|0\t0|0\t0|0\t0|0\t0|0\t0|0\t0|0\t0|0\t0|0\t0|0\t0|0\t0|0\t0|0\t0|0\t0|0\t0|0\t0|0\t0|0\t0|0\t0|0\t0|0\t0|0\t0|0\t0|0\t0|0\t0|0\t0|0\t0|0\t0|0\t0|0\t0|0\t0|0\t0|0\t0|0\t0|0\t0|0\t0|0\t0|0\t0|0\t0|0\t0|0\t0|0\t0|0\t0|0\t0|0\t0|0\t0|0\t0|0\t0|0\t0|0\t0|0\t0|0\t0|0\t0|0\t0|0\t0|0\t0|0\t0|0\t0|0\t0|0\t0|0\t0|0\t0|0\t0|0\t0|0\t1|0\t0|1\t0|0\t0|0\t0|0\t0|0\t0|0\t0|0\t0|0\t0|0\t0|0\t0|0\t0|0\t0|0\t0|0\t0|0\t0|0\t0|0\t0|0\t0|0\t0|0\t0|0\t0|0\t0|0\t0|0\t0|0\t0|0\t0|0\t0|0\t0|0\t0|0\t0|0\t0|0\t0|0\t0|0\t0|0\t0|0\t0|0\t0|0\t0|0\t0|0\t0|0\t0|0\t0|0\t0|0\t0|0\t0|0\t0|0\t0|0\t0|0\t0|0\t0|0\t0|0\t0|0\t0|0\t0|0\t0|0\t1|0\t1|0\t0|0\t0|0\t0|0\t0|0\t0|0\t0|0\t0|0\t0|0\t0|0\t0|0\t0|0\t0|0\t0|0\t0|0\t0|0\t0|0\t0|0\t0|0\t0|0\t0|0\t0|0\t0|0\t0|0\t0|0\t0|0\t0|0\t0|0\t0|0\t0|0\t0|0\t0|0\t0|0\t0|0\t0|0\t0|0\t1|0\t0|0\t0|0\t0|0\t0|0\t0|0\t1|0\t0|0\t0|0\t0|0\t0|0\t0|0\t0|0\t0|0\t0|0\t0|0\t0|0\t0|0\t0|0\t0|0\t0|0\t0|0\t0|0\t0|0\t0|0\t0|0\t0|0\t0|0\t0|0\t0|0\t0|0\t0|0\t0|0\t0|0\t0|0\t0|0\t0|0\t0|0\t0|0\t0|0\t0|0\t0|0\t0|0\t0|0\t0|0\t0|0\t0|0\t0|0\t0|0\t0|0\t0|0\t0|0\t0|0\t0|0\t0|0\t0|0\t0|0\t0|0\t0|0\t0|0\t0|0\t0|0\t0|0\t0|0\t0|0\t0|0\t0|0\t0|0\t0|0\t0|0\t0|0\t0|0\t0|0\t0|0\t0|0\t0|0\t0|0\t0|0\t0|0\t0|0\t0|0\t0|0\t0|0\t0|0\t0|0\t0|0\t0|0\t0|0\t0|0\t0|0\t0|0\t0|0\t0|0\t0|0\t0|0\t1|0\t0|0\t0|0\t0|0\t0|0\t0|0\t1|0\t0|0\t0|0\t0|0\t0|0\t0|1\t0|0\t0|0\t0|0\t0|0\t0|0\t0|0\t1|0\t0|0\t0|0\t0|0\t0|0\t0|0\t0|1\t0|0\t0|0\t0|0\t0|0\t0|0\t0|0\t0|0\t0|0\t0|0\t0|0\t0|0\t0|0\t0|0\t0|0\t0|0\t0|0\t0|0\t0|0\t0|0\t0|0\t0|0\t0|0\t0|0\t0|0\t0|0\t0|0\t0|0\t0|0\t0|0\t0|0\t0|0\t0|0\t0|0\t0|0\t0|0\t0|0\t0|0\t0|0\t0|0\t0|1\t0|0\t0|0\t0|0\t0|1\t0|0\t1|0\t0|0\t0|0\t0|0\t0|0\t0|0\t0|0\t0|0\t0|0\t0|0\t0|0\t0|0\t0|0\t0|0\t0|0\t0|0\t0|0\t0|0\t0|0\t0|0\t0|0\t0|0\t0|0\t0|0\t0|0\t0|0\t0|0\t0|0\t0|0\t0|0\t0|0\t0|0\t0|0\t0|0\t0|0\t0|0\t0|0\t0|0\t0|0\t0|0\t0|0\t0|0\t0|0\t0|0\t0|0\t0|0\t0|0\t0|0\t0|0\t0|0\t0|0\t0|0\t0|0\t0|0\t0|0\t0|0\t0|0\t0|0\t0|0\t0|0\t0|0\t0|0\t0|0\t0|0\t0|0\t0|0\t0|0\t0|0\t0|0\t0|0\t0|0\t0|0\t0|0\t0|0\t0|0\t0|0\t0|0\t0|0\t0|0\t0|0\t0|1\t0|0\t0|0\t0|0\t0|0\t0|0\t0|0\t0|0\t0|0\t0|0\t0|0\t0|0\t0|0\t0|0\t0|0\t0|0\t0|0\t0|0\t0|0\t0|0\t0|0\t0|0\t0|0\t0|0\t0|0\t0|0\t0|0\t0|0\t0|0\t0|0\t0|0\t0|0\t0|0\t0|0\t0|0\t0|0\t0|0\t0|0\t0|0\t0|0\t0|0\t0|0\t0|0\t0|0\t0|0\t0|0\t0|0\t0|0\t0|0\t0|0\t0|0\t0|0\t0|0\t0|0\t0|0\t0|0\t0|0\t0|0\t0|0\t0|0\t0|0\t0|0\t0|0\t0|0\t0|0\t0|0\t0|0\t0|0\t0|0\t0|0\t0|0\t0|0\t0|0\t0|0\t1|0\t1|0\t0|1\t0|0\t0|0\t0|0\t0|0\t0|0\t0|0\t0|0\t0|0\t0|0\t0|0\t0|0\t0|0\t0|0\t0|0\t0|0\t0|0\t0|0\t0|0\t0|0\t0|0\t0|0\t0|0\t0|0\t0|0\t0|0\t0|0\t0|0\t0|0\t0|0\t0|0\t0|0\t0|0\t0|0\t0|0\t0|0\t0|0\t0|0\t0|0\t0|0\t0|0\t0|0\t0|0\t0|0\t0|0\t0|0\t0|0\t0|0\t0|0\t0|0\t0|0\t0|1\t0|0\t0|0\t0|0\t0|0\t0|0\t0|0\t0|0\t0|0\t0|1\t1|0\t0|0\t0|0\t0|0\t0|0\t0|0\t0|0\t0|0\t0|0\t0|0\t0|0\t0|0\t0|0\t0|0\t0|0\t0|0\t0|0\t0|0\t0|0\t0|0\t0|0\t0|0\t0|0\t0|0\t0|0\t0|0\t0|0\t0|0\t0|0\t0|0\t0|0\t0|0\t0|0\t0|0\t0|0\t0|0\t0|0\t0|0\t0|0\t0|0\t0|0\t0|0\t0|0\t0|0\t0|0\t0|0\t0|0\t0|0\t0|0\t0|0\t0|0\t0|0\t1|0\t0|0\t0|0\t0|0\t0|0\t0|0\t0|0\t0|0\t0|0\t0|0\t0|0\t0|0\t0|0\t0|0\t0|0\t0|0\t0|0\t0|0\t0|0\t1|0\t0|0\t0|0\t0|0\t0|0\t0|0\t0|0\t0|0\t0|0\t0|0\t0|0\t0|0\t0|0\t0|0\t0|0\t0|0\t0|0\t0|0\t0|0\t0|0\t0|0\t0|0\t0|0\t0|0\t0|0\t0|0\t0|0\t0|0\t0|0\t0|1\t0|0\t0|0\t0|0\t0|0\t0|0\t0|0\t0|0\t0|0\t0|0\t0|0\t0|0\t0|0\t0|0\t0|0\t0|0\t0|0\t0|0\t0|0\t0|0\t0|0\t0|0\t0|0\t0|0\t0|0\t0|0\t0|0\t1|0\t0|0\t1|0\t0|0\t0|0\t0|0\t0|0\t0|0\t0|0\t0|0\t0|0\t0|0\t0|0\t1|0\t0|0\t1|0\t0|0\t0|0\t0|0\t0|0\t0|0\t0|0\t0|0\t0|0\t0|0\t0|1\t0|0\t0|0\t0|0\t0|0\t0|0\t0|0\t0|0\t0|0\t0|0\t0|0\t0|0\t0|0\t0|0\t0|0\t0|0\t0|0\t0|0\t0|0\t0|0\t0|0\t0|0\t0|0\t0|0\t0|0\t0|0\t0|0\t0|0\t0|0\t0|0\t0|0\t0|0\t0|0\t0|0\t0|0\t0|0\t0|0\t0|0\t0|0\t0|0\t1|0\t0|0\t0|0\t0|0\t0|0\t0|0\t0|0\t0|0\t0|1\t1|0\t1|0\t0|0\t0|0\t1|1\t0|0\t0|0\t0|0\t0|0\t0|0\t0|0\t0|0\t0|0\t0|0\t0|1\t0|0\t0|0\t0|0\t0|0\t0|0\t0|0\t1|0\t0|1\t0|0\t0|1\t0|0\t0|0\t0|0\t0|0\t0|0\t0|0\t0|0\t0|0\t0|0\t0|1\t1|0\t0|0\t0|1\t0|1\t0|0\t0|0\t0|0\t1|1\t0|0\t0|0\t0|0\t0|1\t0|0\t0|0\t0|1\t0|0\t0|0\t1|0\t0|0\t0|0\t0|1\t0|0\t0|0\t0|0\t0|0\t0|0\t0|0\t0|0\t0|0\t1|0\t0|0\t0|0\t0|0\t0|0\t0|0\t0|0\t1|1\t0|1\t0|0\t0|0\t0|0\t0|0\t0|0\t1|1\t0|0\t0|0\t0|0\t0|0\t0|0\t0|0\t0|0\t0|0\t0|0\t0|0\t1|0\t0|0\t0|0\t0|0\t0|0\t0|0\t0|0\t0|0\t0|0\t0|0\t0|0\t0|0\t0|0\t0|0\t0|0\t0|0\t0|0\t0|0\t0|0\t0|0\t0|0\t0|0\t0|0\t1|0\t0|0\t0|0\t0|0\t0|0\t0|0\t0|0\t0|0\t0|0\t0|0\t0|0\t0|0\t0|0\t0|0\t0|0\t0|0\t0|0\t0|0\t0|0\t0|0\t0|0\t0|0\t0|0\t0|0\t0|0\t0|0\t0|0\t0|0\t0|0\t0|0\t0|0\t0|0\t0|0\t0|0\t0|0\t0|0\t0|1\t0|0\t0|0\t0|0\t0|0\t0|0\t0|0\t0|0\t0|1\t1|0\t0|0\t0|0\t0|0\t0|1\t0|0\t1|0\t1|0\t0|0\t0|0\t0|0\t0|0\t0|0\t0|0\t0|0\t0|0\t1|1\t0|0\t1|1\t0|0\t0|0\t1|0\t0|0\t0|0\t0|1\t0|0\t0|0\t0|0\t1|0\t0|0\t0|0\t0|0\t0|0\t0|0\t0|0\t0|0\t1|0\t0|0\t0|0\t0|0\t0|0\t0|0\t0|0\t0|0\t0|0\t0|0\t0|0\t0|0\t0|0\t0|0\t0|0\t0|0\t0|0\t0|0\t0|0\t0|0\t0|0\t0|0\t0|1\t0|0\t0|0\t0|0\t0|1\t0|0\t0|0\t0|0\t0|0\t0|0\t0|0\t0|1\t0|0\t1|0\t0|1\t0|0\t1|0\t0|0\t0|0\t0|0\t1|0\t0|0\t0|0\t0|0\t0|1\t0|0\t0|0\t0|0\t0|0\t0|0\t0|0\t1|0\t0|0\t0|0\t0|0\t0|0\t0|0\t0|0\t0|0\t0|0\t0|0\t1|0\t0|0\t0|1\t0|0\t0|0\t0|0\t0|0\t0|0\t0|0\t0|0\t0|1\t0|0\t0|0\t1|0\t0|0\t0|0\t1|0\t1|0\t0|0\t0|0\t0|0\t0|0\t0|0\t0|0\t0|0\t1|1\t0|0\t0|0\t0|0\t0|0\t0|0\t0|0\t0|0\t0|0\t0|1\t0|0\t0|1\t0|0\t0|0\t0|0\t0|0\t0|0\t0|0\t0|0\t0|0\t0|0\t0|0\t0|0\t0|0\t0|0\t0|0\t0|0\t0|0\t0|0\t0|0\t0|0\t0|0\t0|0\t1|0\t0|0\t0|0\t0|0\t1|0\t0|0\t0|0\t1|0\t1|0\t0|0\t1|0\t1|0\t0|0\t0|0\t0|0\t1|0\t0|0\t0|0\t0|0\t1|0\t1|0\t0|0\t0|0\t0|0\t1|0\t0|0\t0|0\t0|1\t0|0\t0|1\t0|1\t0|0\t0|1\t0|0\t0|0\t0|0\t0|1\t0|0\t0|0\t0|0\t0|0\t0|0\t1|0\t0|0\t0|0\t1|0\t0|0\t0|0\t1|0\t0|0\t1|0\t1|1\t0|1\t0|0\t0|0\t1|0\t0|0\t0|0\t0|0\t0|0\t0|0\t0|0\t0|0\t0|0\t0|0\t1|0\t0|0\t0|0\t0|0\t0|0\t0|0\t0|0\t1|0\t0|1\t1|0\t0|0\t1|0\t0|0\t0|0\t0|0\t0|0\t0|0\t1|0\t1|1\t0|0\t0|0\t0|0\t0|0\t0|1\t0|0\t0|0\t0|1\t0|0\t0|0\t0|0\t0|0\t0|0\t0|0\t0|0\t0|0\t1|0\t0|0\t0|0\t0|0\t0|0\t0|0\t0|0\t0|0\t0|0\t0|0\t1|0\t0|0\t0|0\t0|0\t0|0\t0|0\t0|0\t0|0\t0|0\t0|0\t0|0\t0|0\t0|0\t0|0\t0|0\t0|0\t0|0\t0|0\t0|0\t0|0\t0|0\t0|0\t0|0\t0|0\t0|0\t0|0\t0|0\t0|0\t0|0\t0|0\t0|0\t0|0\t0|0\t0|0\t0|0\t0|0\t0|1\t0|0\t0|0\t0|0\t0|0\t0|0\t0|0\t0|0\t0|0\t0|0\t0|0\t0|0\t0|0\t0|0\t0|0\t0|0\t0|0\t0|0\t0|0\t0|0\t0|0\t0|0\t0|0\t0|0\t0|0\t0|0\t0|0\t0|0\t0|0\t0|0\t0|0\t0|0\t0|0\t0|0\t0|0\t0|0\t0|0\t0|0\t0|0\t0|0\t0|0\t0|0\t0|0\t0|0\t0|0\t0|0\t0|0\t0|0\t0|0\t0|0\t0|0\t0|0\t0|0\t0|0\t0|0\t0|0\t0|0\t0|0\t0|0\t0|0\t0|0\t0|0\t0|0\t0|0\t0|0\t0|0\t0|0\t0|0\t0|0\t0|0\t0|0\t0|0\t0|0\t0|1\t0|0\t0|0\t0|0\t0|0\t0|0\t0|0\t0|0\t0|0\t0|0\t0|0\t0|0\t0|0\t0|0\t0|0\t0|0\t0|0\t0|0\t0|0\t0|0\t0|0\t0|0\t0|0\t1|0\t0|0\t0|0\t0|0\t0|0\t0|0\t0|0\t0|0\t0|0\t0|0\t0|0\t0|0\t0|0\t0|0\t0|0\t0|0\t0|0\t0|0\t0|0\t0|0\t0|0\t0|0\t0|0\t0|0\t0|0\t0|0\t0|0\t0|0\t0|0\t0|0\t0|0\t0|0\t0|0\t0|0\t0|0\t0|0\t0|0\t0|0\t0|0\t0|0\t0|0\t0|0\t0|0\t0|0\t0|0\t0|0\t0|0\t0|0\t0|0\t0|0\t0|0\t0|0\t0|0\t0|0\t0|0\t0|0\t0|0\t0|0\t0|1\t0|0\t0|0\t0|0\t0|0\t0|0\t0|0\t0|0\t0|0\t0|0\t0|0\t0|0\t0|0\t0|0\t0|0\t0|0\t0|0\t0|0\t0|0\t0|0\t0|0\t0|0\t0|0\t0|0\t0|0\t0|0\t0|0\t0|0\t0|0\t0|0\t0|0\t0|0\t0|0\t0|0\t0|0\t0|0\t0|0\t0|0\t0|0\t0|0\t0|0\t0|0\t0|0\t0|0\t0|0\t0|0\t0|0\t0|0\t0|0\t0|0\t0|0\t0|0\t0|0\t0|0\t0|0\t0|0\t0|0\t0|0\t0|0\t0|0\t0|0\t0|0\t0|0\t0|0\t0|0\t0|0\t0|0\t0|0\t0|0\t0|0\t0|0\t0|0\t0|0\t0|0\t0|0\t0|0\t0|0\t0|0\t0|0\t0|0\t0|0\t0|0\t0|0\t0|0\t0|0\t0|0\t0|0\t0|0\t0|0\t0|0\t0|0\t0|0\t0|0\t0|0\t0|0\t0|0\t0|0\t0|0\t0|0\t0|0\t0|0\t0|0\t0|0\t0|0\t0|0\t0|0\t0|0\t0|0\t0|0\t0|0\t0|0\t0|0\t0|0\t0|0\t0|0\t0|0\t0|0\t0|0\t0|0\t0|0\t0|0\t0|0\t0|0\t0|0\t0|0\t0|0\t0|0\t0|0\t0|0\t0|0\t0|0\t0|0\t0|0\t0|0\t0|0\t0|0\t0|0\t0|0\t0|0\t0|0\t0|0\t0|0\t0|0\t0|0\t0|0\t0|0\t0|0\t0|0\t0|0\t0|0\t0|0\t0|0\t0|0\t0|0\t0|0\t0|0\t0|0\t0|0\t0|0\t0|0\t0|0\t0|0\t0|0\t0|0\t0|0\t0|0\t0|0\t0|0\t0|0\t0|0\t0|0\t0|0\t0|0\t0|0\t0|0\t0|0\t0|0\t0|0\t0|0\t0|0\t0|0\t0|0\t0|0\t0|0\t0|0\t0|0\t0|0\t0|0\t0|0\t0|0\t0|0\t0|0\t0|0\t0|0\t0|0\t0|0\t0|0\t0|0\t0|0\t1|0\t0|0\t0|0\t1|0\t0|0\t0|0\t0|1\t1|0\t1|0\t0|0\t0|0\t0|0\t0|0\t0|0\t0|0\t0|0\t0|0\t0|1\t0|1\t0|0\t0|0\t0|0\t0|0\t0|0\t0|0\t0|0\t0|0\t0|0\t0|0\t0|0\t0|0\t0|0\t0|0\t0|0\t0|0\t0|0\t0|0\t0|0\t0|0\t0|0\t0|0\t0|0\t0|0\t0|0\t0|0\t0|0\t0|0\t0|0\t0|0\t0|0\t0|0\t0|0\t0|0\t0|0\t0|0\t0|0\t0|0\t0|0\t0|0\t0|0\t0|0\t0|0\t0|0\t0|0\t0|0\t0|0\t0|0\t0|0\t0|0\t0|0\t0|0\t0|0\t0|0\t0|0\t0|0\t0|0\t0|0\t0|0\t0|0\t0|0\t0|0\t0|0\t0|0\t0|0\t0|0\t0|0\t0|0\t0|0\t0|0\t0|0\t0|0\t0|0\t0|0\t0|0\t0|0\t0|0\t0|0\t0|0\t0|0\t0|0\t0|0\t0|0\t0|0\t0|0\t0|0\t0|0\t0|0\t0|0\t0|0\t0|0\t0|0\t0|0\t0|0\t0|0\t0|0\t0|0\t0|0\t0|0\t0|0\t0|0\t0|0\t0|0\t1|0\t0|1\t0|0\t0|0\t0|0\t1|0\t0|1\t0|0\t0|0\t0|0\t1|0\t0|0\t0|1\t0|0\t0|0\t1|0\t0|0\t1|0\t0|0\t0|0\t1|0\t0|0\t0|0\t0|0\t0|0\t0|0\t0|1\t0|0\t0|0\t0|0\t0|0\t0|0\t0|0\t0|0\t0|0\t0|0\t0|0\t0|0\t0|0\t0|0\t0|0\t0|0\t0|0\t0|0\t0|0\t0|0\t0|0\t0|0\t0|0\t0|0\t0|0\t0|0\t0|0\t0|0\t0|0\t0|0\t0|0\t0|0\t0|0\t0|0\t0|0\t0|0\t0|0\t0|0\t0|0\t0|0\t0|0\t0|0\t0|0\t0|0\t0|0\t0|0\t0|0\t0|0\t0|0\t0|0\t0|0\t0|0\t0|0\t0|0\t0|0\t0|0\t0|0\t0|0\t0|0\t0|0\t0|0\t0|0\t0|0\t0|0\t0|0\t0|0\t0|0\t0|0\t0|0\t0|0\t0|0\t0|0\t0|0\t0|0\t1|1\t0|0\t0|1\t1|0\t0|0\t0|0\t0|0\t0|0\t0|0\t1|0\t0|0\t0|0\t0|1\t0|0\t0|0\t0|0\t0|0\t0|0\t0|0\t0|0\t0|0\t0|0\t0|0\t0|0\t0|0\t0|0\t0|0\t0|0\t0|0\t0|0\t0|0\t0|0\t0|0\t0|0\t0|0\t0|0\t0|0\t0|0\t0|0\t0|0\t0|0\t0|0\t0|0\t0|0\t0|0\t0|0\t0|0\t0|0\t0|0\t0|0\t0|0\t0|0\t0|1\t0|1\t0|0\t0|0\t0|0\t0|1\t0|0\t0|0\t0|1\t1|0\t0|0\t1|0\t1|0\t0|0\t0|1\t0|0\t0|1\t0|0\t0|0\t1|0\t1|0\t0|0\t0|0\t0|0\t1|0\t1|0\t0|0\t0|1\t0|0\t1|0\t1|1\t0|0\t0|0\t0|1\t1|0\t0|0\t0|0\t0|0\t0|0\t0|0\t0|0\t0|0\t0|0\t0|0\t0|0\t0|0\t0|1\t0|0\t0|1\t1|0\t0|0\t0|0\t0|0\t0|0\t1|0\t0|0\t1|0\t0|0\t0|0\t0|0\t0|0\t0|0\t0|0\t0|0\t0|0\t0|0\t0|0\t0|0\t0|0\t0|0\t0|1\t0|0\t0|0\t1|0\t0|0\t0|0\t0|0\t0|0\t0|0\t0|0\t0|0\t1|0\t0|0\t0|0\t0|0\t0|0\t0|0\t0|1\t0|0\t1|1\t0|0\t0|0\t0|0\t1|0\t0|0\t1|0\t1|0\t0|0\t0|0\t0|0\t0|0\t0|0\t0|1\t0|0\t0|0\t0|0\t0|0\t0|0\t0|0\t0|0\t0|0\t0|0\t0|0\t0|1\t0|0\t1|0\t0|0\t0|0\t0|0\t1|1\t0|0\t0|0\t1|0\t0|0\t0|0\t1|0\t1|0\t0|0\t0|0\t0|0\t0|0\t0|0\t0|1\t0|0\t0|0\t0|0\t0|0\t0|0\t1|0\t0|0\t0|0\t0|0\t0|0\t0|0\t1|0\t0|0\t0|0\t0|0\t0|0\t0|0\t0|0\t0|0\t0|1\t0|0\t0|0\t0|0\t0|0\t0|0\t0|0\t0|0\t0|0\t0|0\t0|1\t0|0\t0|1\t0|0\t0|0\t1|0\t0|0\t0|0\t0|0\t0|0\t0|0\t0|0\t0|0\t0|0\t0|0\t0|0\t0|0\t0|0\t0|0\t0|0\t0|0\t0|0\t0|0\t0|0\t0|0\t0|0\t0|0\t0|0\t0|0\t0|0\t0|0\t0|0\t0|0\t0|0\t0|0\t0|0\t0|0\t0|0\t0|0\t0|0\t0|0\t0|0\t0|0\t0|0\t0|0\t0|0\t0|0\t0|0\t0|0\t0|0\t0|0\t0|0\t0|0\t0|1\t0|0\t1|0\t0|1\t0|0\t0|0\t0|0\t0|0\t0|0\t0|0\t1|0\t1|0\t1|0\t0|0\t0|0\t0|0\t0|1\t0|0\t0|0\t0|0\t0|1\t0|0\t1|0\t0|0\t0|0\t0|1\t0|0\t0|0\t0|0\t0|0\t0|0\t0|0\t0|0\t0|0\t0|0\t0|0\t0|0\t0|0\t0|1\t0|0\t0|0\t1|0\t0|0\t0|0\t0|0\t0|0\t1|0\t0|0\t0|0\t0|0\t0|0\t0|0\t0|0\t0|0\t0|0\t0|0\t0|0\t0|0\t0|0\t0|0\t0|0\t0|0\t0|0\t0|0\t0|0\t0|0\t0|0\t0|0\t0|0\t0|0\t0|0\t0|0\t0|0\t0|0\t0|0\t0|0\t0|0\t0|0\t0|0\t0|0\t0|0\t0|0\t0|0\t0|0\t0|0\t0|0\t0|0\t0|0\t0|0\t0|0\t0|0\t0|0\t0|0\t0|0\t0|0\t0|0\t0|0\t0|0\t0|0\t0|0\t0|0\t0|0\t0|0\t0|0\t0|0\t0|0\t0|0\t0|0\t0|0\t0|0\t0|0\t0|0\t0|0\t0|0\t0|0\t0|0\t0|0\t0|0\t0|0\t0|0\t0|0\t0|0\t0|0\t0|0\t0|0\t0|0\t0|0\t0|0\t0|0\t0|0\t0|0\t0|0\t0|0\t0|0\t0|0\t0|0\t0|0\t0|0\t0|0\t0|0\t0|0\t0|0\t0|0\t0|0\t0|0\t0|0\t0|0\t0|0\t0|0\t0|0\t0|0\t0|0\t0|0\t0|0\t0|0\t0|0\t0|0\t0|0\t0|0\t0|0\t0|0\t0|1\t0|0\t0|0\t0|0\t0|0\t0|0\t0|1\t0|0\t0|0\t0|0\t0|0\t0|0\t0|0\t0|0\t0|0\t0|0\t0|0\t0|0\t0|0\t0|0\t0|0\t0|0\t1|1\t0|0\t0|0\t0|0\t0|0\t0|0\t0|0\t0|0\t0|0\t0|0\t0|0\t0|0\t0|0\t0|0\t0|0\t0|0\t1|0\t0|0\t0|0\t0|0\t0|0\t0|0\t0|0\t0|0\t0|0\t0|0\t0|0\t0|1\t0|0\t0|0\t1|1\t0|0\t0|1\t0|0\t0|0\t0|0\t0|0\t0|0\t0|0\t0|0\t0|0\t0|0\t0|0\t0|0\t0|0\t0|0\t0|0\t0|0\t0|0\t0|0\t0|0\t0|0\t0|0\t0|0\t0|0\t0|0\t0|0\t0|0\t0|0\t0|0\t0|0\t0|0\t0|0\t0|0\t0|0\t0|0\t0|0\t0|0\t0|0\t0|0\t0|0\t0|0\t0|0\t0|0\t0|0\t0|0\t0|0\r\n",
      "chr11\t5285071\trs78875341\tA\tG\t100\tPASS\tAC=40;AF=0.00798722;AN=5008;NS=2504;DP=15274;EAS_AF=0;AMR_AF=0;AFR_AF=0.0303;EUR_AF=0;SAS_AF=0;AA=A|||;VT=SNP\tGT\t0|0\t0|0\t0|0\t0|0\t0|0\t0|0\t0|0\t0|0\t0|0\t0|0\t0|0\t0|0\t0|0\t0|0\t0|0\t0|0\t0|0\t0|0\t0|0\t0|0\t0|0\t0|0\t0|0\t0|0\t0|0\t0|0\t0|0\t0|0\t0|0\t0|0\t0|0\t0|0\t0|0\t0|0\t0|0\t0|0\t0|0\t0|0\t0|0\t0|0\t0|0\t0|0\t0|0\t0|0\t0|0\t0|0\t0|0\t0|0\t0|0\t0|0\t0|0\t0|0\t0|0\t0|0\t0|0\t0|0\t0|0\t0|0\t0|0\t0|0\t0|0\t0|0\t0|0\t0|0\t0|0\t0|0\t0|0\t0|0\t0|0\t0|0\t0|0\t0|0\t0|0\t0|0\t0|0\t0|0\t0|0\t0|0\t0|0\t0|0\t0|0\t0|0\t0|0\t0|0\t0|0\t0|0\t0|0\t0|0\t0|0\t0|0\t0|0\t0|0\t0|0\t0|0\t0|0\t0|0\t0|0\t0|0\t0|0\t0|0\t0|0\t0|0\t0|0\t0|0\t0|0\t0|0\t0|0\t0|0\t0|0\t0|0\t0|0\t0|0\t0|0\t0|0\t0|0\t0|0\t0|0\t0|0\t0|0\t0|0\t0|0\t0|0\t0|0\t0|0\t0|0\t0|0\t0|0\t0|0\t0|0\t0|0\t0|0\t0|0\t0|0\t0|0\t0|0\t0|0\t0|0\t0|0\t0|0\t0|0\t0|0\t0|0\t0|0\t0|0\t0|0\t0|0\t0|0\t0|0\t0|0\t0|0\t0|0\t0|0\t0|0\t0|0\t0|0\t0|0\t0|0\t0|0\t0|0\t0|0\t0|0\t0|0\t0|0\t0|0\t0|0\t0|0\t0|0\t0|0\t0|0\t0|0\t0|0\t0|0\t0|0\t0|0\t0|0\t0|0\t0|0\t0|0\t0|0\t0|0\t0|0\t0|0\t0|0\t0|0\t0|0\t0|0\t0|0\t0|0\t0|0\t0|0\t0|0\t0|0\t0|0\t0|0\t0|0\t0|0\t0|0\t0|0\t0|0\t0|0\t0|0\t0|0\t0|0\t0|0\t0|0\t0|0\t0|0\t0|0\t0|0\t0|0\t0|0\t0|0\t0|0\t0|0\t0|0\t0|0\t0|0\t0|0\t0|0\t0|0\t0|0\t0|0\t0|0\t0|0\t0|0\t0|0\t0|0\t0|0\t0|0\t0|0\t0|0\t0|0\t0|0\t0|0\t0|0\t0|0\t0|0\t0|0\t0|0\t0|0\t0|0\t0|0\t0|0\t0|0\t0|0\t0|0\t0|0\t0|0\t0|0\t0|0\t0|0\t0|0\t0|0\t0|0\t0|0\t0|0\t0|0\t0|0\t0|0\t0|0\t0|0\t0|0\t0|0\t0|0\t0|0\t0|0\t0|0\t0|0\t0|0\t0|0\t0|0\t0|0\t0|0\t0|0\t0|0\t0|0\t0|0\t0|0\t0|0\t0|0\t0|0\t0|0\t0|0\t0|0\t0|0\t0|0\t0|0\t0|0\t0|0\t0|0\t0|0\t0|0\t0|0\t0|0\t0|0\t0|0\t0|0\t0|0\t0|0\t0|0\t0|0\t0|0\t0|0\t0|0\t0|0\t0|0\t0|0\t0|0\t0|0\t0|0\t0|0\t0|0\t0|0\t0|0\t0|0\t0|0\t0|0\t0|0\t0|0\t0|0\t0|0\t0|0\t0|0\t0|0\t0|0\t0|0\t0|0\t0|0\t0|0\t0|0\t0|0\t0|0\t0|0\t0|0\t0|0\t0|0\t0|0\t0|0\t0|0\t0|0\t0|0\t0|0\t0|0\t0|0\t0|0\t0|0\t0|0\t0|0\t0|0\t0|0\t0|0\t0|0\t0|0\t0|0\t0|0\t0|0\t0|0\t0|0\t0|0\t0|0\t0|0\t0|0\t0|0\t0|0\t0|0\t0|0\t0|0\t0|0\t0|0\t0|0\t0|0\t0|0\t0|0\t0|0\t0|0\t0|0\t0|0\t0|0\t0|0\t0|0\t0|0\t0|0\t0|0\t0|0\t0|0\t0|0\t0|0\t0|0\t0|0\t0|0\t0|0\t0|0\t0|0\t0|0\t0|0\t0|0\t0|0\t0|0\t0|0\t0|0\t0|0\t0|0\t0|0\t0|0\t0|0\t0|0\t0|0\t0|0\t0|0\t0|0\t0|0\t0|0\t0|0\t0|0\t0|0\t0|0\t0|0\t0|0\t0|0\t0|0\t0|0\t0|0\t0|0\t0|0\t0|0\t0|0\t0|0\t0|0\t0|0\t0|0\t0|0\t0|0\t0|0\t0|0\t0|0\t0|0\t0|0\t0|0\t0|0\t0|0\t0|0\t0|0\t0|0\t0|0\t0|0\t0|0\t0|0\t0|0\t0|0\t0|0\t0|0\t0|0\t0|0\t0|0\t0|0\t0|0\t0|0\t0|0\t0|0\t0|0\t0|0\t0|0\t0|0\t0|0\t0|0\t0|0\t0|0\t0|0\t0|0\t0|0\t0|0\t0|0\t0|0\t0|0\t0|0\t0|0\t0|0\t0|0\t0|0\t0|0\t0|0\t0|0\t0|0\t0|0\t0|0\t0|0\t0|0\t0|0\t0|0\t0|0\t0|0\t0|0\t0|0\t0|0\t0|0\t0|0\t0|0\t0|0\t0|0\t0|0\t0|0\t0|0\t0|0\t0|0\t0|0\t0|0\t0|0\t0|0\t0|0\t0|0\t0|0\t0|0\t0|0\t0|0\t0|0\t0|0\t0|0\t0|0\t0|0\t0|0\t0|0\t0|0\t0|0\t0|0\t0|0\t0|0\t0|0\t0|0\t0|0\t0|0\t0|0\t0|0\t0|0\t0|0\t0|0\t0|0\t0|0\t0|0\t0|0\t0|0\t0|0\t0|0\t0|0\t0|0\t0|0\t0|0\t0|0\t0|0\t0|0\t0|0\t0|0\t0|0\t0|0\t0|0\t0|0\t0|0\t0|0\t0|0\t0|0\t0|0\t0|0\t0|0\t0|0\t0|0\t0|0\t0|0\t0|0\t0|0\t0|0\t0|0\t0|0\t0|0\t0|0\t0|0\t0|0\t0|0\t0|0\t0|0\t0|0\t0|0\t0|0\t0|0\t0|0\t0|0\t0|0\t0|0\t0|0\t0|0\t0|0\t0|0\t0|0\t0|0\t0|0\t0|0\t0|0\t0|0\t0|0\t0|0\t0|0\t0|0\t0|0\t0|0\t0|0\t0|0\t0|0\t0|0\t0|0\t0|0\t0|0\t0|0\t0|0\t0|0\t0|0\t0|0\t0|0\t0|0\t0|0\t0|0\t0|0\t0|0\t0|0\t0|0\t0|0\t0|0\t0|0\t0|0\t0|0\t0|0\t0|0\t0|0\t0|0\t0|0\t0|0\t0|0\t0|0\t0|0\t0|0\t0|0\t0|0\t0|0\t0|0\t0|0\t0|0\t0|0\t0|0\t0|0\t0|0\t0|0\t0|0\t0|0\t0|0\t0|0\t0|0\t0|0\t0|0\t0|0\t0|0\t0|0\t0|0\t0|0\t0|0\t0|0\t0|0\t0|0\t0|0\t0|0\t0|0\t0|0\t0|0\t0|0\t0|0\t0|0\t0|0\t0|0\t0|0\t0|0\t0|0\t0|0\t0|0\t0|0\t0|0\t0|0\t0|0\t0|0\t0|0\t0|0\t0|0\t0|0\t0|0\t0|0\t0|0\t0|0\t0|0\t0|0\t0|0\t0|0\t0|0\t0|0\t0|0\t0|0\t0|0\t0|0\t0|0\t0|0\t0|0\t0|0\t0|0\t0|0\t0|0\t0|0\t0|0\t0|0\t0|0\t0|0\t0|0\t0|0\t0|0\t0|0\t0|0\t0|0\t0|0\t0|0\t0|0\t0|0\t0|0\t0|0\t0|0\t0|0\t0|0\t0|0\t0|1\t0|0\t0|0\t0|0\t0|0\t0|0\t0|0\t0|0\t0|0\t0|0\t0|0\t0|0\t0|0\t0|0\t0|0\t0|0\t0|0\t0|0\t0|0\t0|0\t0|0\t0|0\t0|0\t0|0\t0|0\t0|0\t0|0\t0|0\t0|0\t0|0\t0|0\t0|0\t0|0\t0|0\t0|0\t0|0\t0|0\t0|0\t0|0\t0|0\t0|0\t0|0\t0|0\t0|0\t0|0\t0|0\t0|0\t0|0\t0|0\t0|0\t0|0\t0|0\t0|0\t0|0\t0|0\t0|0\t0|0\t0|0\t0|0\t0|0\t0|0\t0|0\t0|0\t0|0\t0|1\t0|0\t0|0\t0|0\t0|0\t0|0\t0|0\t0|0\t0|0\t0|0\t0|0\t0|0\t0|0\t0|0\t0|0\t0|0\t0|0\t0|0\t0|0\t0|0\t0|0\t0|0\t0|0\t0|0\t0|0\t0|0\t0|0\t0|0\t0|0\t0|0\t0|0\t0|0\t0|0\t0|0\t0|0\t0|0\t0|0\t0|0\t0|0\t0|0\t0|0\t0|0\t0|0\t0|0\t0|0\t0|0\t0|0\t0|0\t0|0\t0|0\t0|0\t0|0\t0|0\t0|0\t0|0\t0|0\t0|0\t0|0\t0|0\t0|0\t0|1\t1|0\t0|0\t0|0\t0|0\t0|0\t0|0\t0|0\t0|0\t0|0\t0|0\t0|0\t0|0\t0|0\t0|0\t0|0\t0|1\t0|0\t0|0\t0|0\t0|0\t0|0\t0|0\t0|0\t0|0\t0|0\t0|0\t0|0\t0|0\t0|0\t0|0\t0|0\t0|0\t0|0\t0|0\t0|0\t0|0\t0|0\t0|0\t0|0\t0|0\t0|0\t0|0\t0|0\t0|0\t0|0\t0|0\t0|0\t0|0\t0|0\t0|0\t0|0\t0|0\t0|0\t0|0\t0|0\t0|0\t0|0\t0|0\t0|0\t0|0\t0|0\t0|0\t0|0\t0|0\t0|0\t0|0\t0|0\t0|0\t0|0\t0|0\t0|0\t0|0\t0|0\t0|0\t0|0\t0|0\t0|0\t0|0\t0|0\t1|0\t0|0\t0|0\t0|0\t0|0\t0|0\t0|0\t0|0\t0|0\t0|0\t0|0\t0|0\t0|0\t0|0\t0|0\t0|0\t0|0\t0|0\t0|0\t0|0\t0|1\t0|1\t0|0\t0|0\t0|0\t0|0\t0|0\t0|0\t0|0\t0|0\t0|0\t0|0\t0|0\t0|0\t0|0\t0|0\t0|0\t0|0\t0|0\t0|0\t0|0\t0|0\t0|0\t0|0\t0|0\t0|0\t0|0\t0|0\t0|0\t0|0\t0|0\t0|0\t0|0\t0|0\t0|0\t0|0\t0|0\t0|0\t0|0\t0|0\t0|0\t0|0\t1|1\t0|0\t0|0\t0|0\t0|0\t0|0\t0|0\t0|0\t0|0\t0|0\t0|0\t0|0\t0|0\t0|0\t0|0\t0|0\t0|0\t0|0\t0|0\t0|0\t1|0\t0|0\t1|0\t0|0\t0|0\t0|0\t0|0\t0|0\t0|0\t0|0\t0|0\t0|0\t0|0\t0|0\t0|0\t0|0\t0|0\t0|0\t0|0\t0|0\t0|0\t0|0\t0|0\t0|0\t0|0\t0|0\t0|0\t0|0\t0|0\t0|0\t0|0\t0|0\t0|0\t0|0\t0|0\t0|0\t0|0\t1|0\t0|0\t0|0\t0|0\t0|0\t0|0\t0|0\t0|0\t0|0\t0|0\t0|0\t0|0\t0|0\t0|0\t0|0\t0|0\t0|0\t1|0\t0|0\t0|0\t0|0\t0|0\t0|0\t0|0\t0|0\t0|0\t0|0\t0|0\t0|0\t0|0\t0|0\t0|0\t0|0\t0|0\t0|0\t0|0\t0|0\t0|0\t0|0\t0|0\t1|0\t0|0\t0|0\t0|0\t0|0\t0|0\t0|0\t0|0\t1|0\t0|0\t0|0\t0|1\t0|0\t0|0\t0|0\t0|0\t0|0\t0|0\t0|0\t0|0\t0|0\t0|0\t0|0\t0|1\t0|0\t0|0\t0|0\t0|0\t0|0\t0|0\t0|0\t0|0\t0|0\t1|0\t0|0\t0|0\t0|0\t0|0\t0|0\t0|0\t0|0\t0|0\t0|0\t0|0\t0|0\t0|0\t0|0\t0|0\t0|0\t0|0\t0|0\t0|0\t0|0\t0|0\t0|0\t0|0\t0|0\t0|0\t0|0\t0|0\t0|0\t0|0\t0|0\t0|0\t0|0\t0|0\t0|0\t0|0\t0|0\t0|0\t0|0\t0|0\t0|0\t0|0\t0|0\t0|0\t0|0\t0|0\t0|0\t0|0\t0|0\t0|0\t0|0\t0|0\t0|0\t0|0\t0|0\t0|0\t0|0\t0|0\t0|0\t1|0\t0|0\t0|0\t0|0\t0|0\t0|0\t0|0\t0|0\t0|0\t0|0\t0|0\t0|0\t0|0\t0|0\t0|0\t0|0\t0|0\t0|0\t0|0\t0|0\t0|0\t0|0\t0|0\t0|0\t0|0\t0|0\t0|0\t0|0\t0|0\t0|0\t0|0\t0|0\t0|0\t0|0\t0|0\t0|0\t1|0\t0|0\t0|0\t0|0\t0|0\t0|0\t0|0\t0|0\t0|0\t0|0\t0|0\t0|0\t0|0\t0|0\t0|0\t0|0\t0|0\t0|0\t0|0\t0|0\t0|0\t0|0\t0|0\t0|0\t0|0\t0|0\t0|0\t0|0\t0|0\t1|0\t0|0\t0|0\t0|0\t0|0\t0|0\t0|0\t0|0\t0|0\t0|0\t0|0\t0|0\t0|0\t0|0\t0|0\t0|0\t0|0\t0|0\t0|0\t0|0\t0|0\t0|0\t0|0\t0|0\t0|0\t0|0\t0|0\t0|0\t0|0\t0|0\t0|0\t0|0\t0|0\t0|0\t0|0\t0|0\t0|0\t0|0\t0|0\t0|0\t0|0\t0|0\t0|0\t0|0\t0|1\t0|0\t0|0\t0|0\t0|0\t0|0\t0|0\t0|0\t0|0\t0|0\t0|0\t0|0\t0|0\t0|0\t0|0\t0|0\t0|0\t0|0\t0|0\t0|1\t0|0\t0|0\t0|0\t0|0\t0|0\t0|0\t0|0\t0|0\t0|0\t0|0\t0|0\t0|0\t0|0\t0|0\t0|0\t0|0\t0|0\t0|0\t0|0\t0|0\t0|0\t0|0\t0|0\t0|0\t0|0\t0|0\t0|0\t0|0\t0|0\t0|0\t0|0\t0|0\t0|0\t0|0\t0|0\t0|0\t0|0\t0|0\t0|0\t0|0\t0|0\t0|0\t0|0\t0|0\t0|0\t0|0\t0|0\t0|0\t0|0\t0|0\t0|0\t0|0\t0|0\t0|0\t0|0\t0|0\t0|0\t0|0\t0|0\t0|0\t0|0\t0|0\t0|0\t0|0\t0|0\t0|0\t0|0\t0|0\t0|0\t0|0\t0|0\t0|0\t0|0\t0|0\t0|0\t0|0\t0|0\t0|0\t0|0\t0|0\t0|0\t0|0\t0|0\t0|0\t0|0\t0|0\t0|0\t0|0\t0|0\t0|0\t0|0\t0|0\t0|0\t0|0\t0|0\t0|0\t0|0\t0|0\t0|0\t0|0\t0|0\t0|0\t0|0\t0|0\t0|0\t0|0\t0|0\t0|0\t0|0\t0|0\t0|0\t0|0\t0|0\t0|0\t0|0\t0|0\t0|0\t0|0\t0|0\t0|0\t0|0\t0|0\t0|0\t0|0\t0|0\t0|0\t0|0\t0|0\t0|0\t0|0\t0|0\t0|0\t0|0\t0|0\t0|0\t0|0\t0|0\t0|0\t0|0\t0|0\t0|0\t0|0\t0|0\t0|0\t0|0\t0|0\t0|0\t0|0\t0|0\t0|0\t0|0\t0|0\t0|0\t0|0\t0|0\t0|0\t0|0\t0|0\t0|0\t0|0\t0|0\t0|0\t0|0\t0|0\t0|0\t0|0\t0|0\t0|0\t0|0\t0|0\t0|0\t0|0\t0|0\t0|0\t0|0\t0|0\t0|0\t0|0\t0|0\t0|0\t0|0\t0|0\t0|0\t0|0\t0|0\t0|0\t0|0\t0|0\t0|0\t0|0\t0|0\t0|0\t0|0\t0|0\t0|0\t0|0\t0|0\t0|0\t0|0\t0|0\t0|0\t0|0\t0|0\t0|0\t0|0\t0|0\t0|0\t0|0\t0|0\t0|0\t0|0\t0|0\t0|0\t0|0\t0|0\t0|0\t0|0\t0|0\t0|0\t0|0\t0|0\t0|0\t0|0\t0|0\t0|0\t0|0\t0|0\t0|0\t0|0\t0|0\t0|0\t0|0\t0|0\t0|0\t0|0\t0|0\t0|0\t0|0\t0|0\t0|0\t0|0\t0|0\t0|0\t0|0\t0|0\t0|0\t0|0\t0|0\t0|0\t0|0\t0|0\t0|0\t0|0\t0|0\t0|0\t0|0\t0|0\t0|0\t0|0\t0|0\t0|0\t0|0\t0|0\t0|0\t0|0\t0|0\t0|0\t0|0\t0|0\t0|0\t0|0\t0|0\t0|0\t0|0\t0|0\t0|0\t0|0\t0|0\t0|0\t0|0\t0|0\t0|0\t0|0\t0|0\t0|0\t0|0\t0|0\t0|0\t0|0\t0|0\t0|0\t0|0\t0|0\t0|0\t0|0\t0|0\t0|0\t0|0\t0|0\t0|0\t0|0\t0|0\t0|0\t0|0\t0|0\t0|0\t0|0\t0|0\t0|0\t0|0\t0|0\t0|0\t0|0\t0|0\t0|0\t0|0\t0|0\t0|0\t0|0\t0|0\t0|0\t0|0\t0|0\t0|0\t0|0\t0|0\t0|0\t0|0\t0|0\t0|0\t0|0\t0|0\t0|0\t0|0\t0|0\t0|0\t0|0\t0|0\t0|0\t0|0\t0|0\t0|0\t0|0\t0|0\t0|0\t0|0\t0|0\t0|0\t0|0\t0|0\t0|0\t0|0\t0|0\t0|0\t0|0\t0|0\t0|0\t0|0\t0|0\t0|0\t0|0\t0|0\t0|0\t0|0\t0|0\t0|0\t0|0\t0|0\t0|0\t0|0\t0|0\t0|0\t0|0\t0|0\t0|0\t0|0\t0|0\t0|0\t0|0\t0|0\t0|0\t0|0\t0|0\t0|0\t0|0\t0|0\t0|0\t0|0\t0|0\t0|0\t0|0\t0|0\t0|0\t0|0\t0|0\t0|0\t0|0\t0|0\t0|0\t0|0\t0|0\t0|0\t0|0\t0|0\t0|0\t0|0\t0|0\t0|0\t0|0\t0|0\t0|0\t0|0\t0|0\t0|0\t0|0\t0|0\t0|0\t0|0\t0|0\t0|0\t0|0\t0|0\t0|0\t0|0\t0|0\t0|0\t0|0\t0|0\t0|0\t0|0\t0|0\t0|0\t0|0\t0|0\t0|0\t0|0\t0|0\t0|0\t0|0\t0|0\t0|0\t0|0\t0|0\t0|0\t0|0\t0|0\t0|0\t0|0\t0|0\t0|0\t0|0\t0|0\t0|0\t0|0\t0|0\t0|0\t1|0\t0|0\t0|0\t0|0\t0|0\t0|0\t0|0\t0|0\t0|0\t0|0\t0|0\t0|0\t0|0\t0|0\t0|0\t0|0\t0|0\t0|0\t0|0\t0|0\t0|0\t0|0\t0|0\t0|0\t0|0\t0|0\t0|0\t0|0\t0|0\t0|0\t0|0\t0|0\t0|0\t0|0\t0|0\t0|0\t0|0\t0|0\t0|0\t0|0\t0|0\t0|0\t0|0\t0|0\t0|0\t0|0\t0|0\t0|0\t0|0\t0|0\t0|0\t0|0\t0|0\t0|0\t0|0\t0|0\t0|0\t0|0\t0|0\t0|0\t0|0\t0|0\t0|0\t0|0\t0|0\t0|0\t0|0\t0|0\t0|0\t0|0\t0|0\t0|0\t0|0\t0|0\t0|0\t0|0\t0|0\t0|0\t0|0\t0|0\t0|0\t0|0\t0|0\t0|0\t0|0\t0|0\t0|0\t0|0\t0|0\t0|0\t0|0\t0|0\t0|0\t0|0\t0|0\t0|0\t0|0\t0|0\t0|0\t0|0\t0|0\t0|0\t0|0\t0|0\t0|0\t0|0\t0|0\t0|0\t0|0\t0|0\t0|0\t0|0\t0|0\t0|0\t0|0\t0|0\t0|0\t0|0\t0|0\t0|0\t0|0\t0|0\t0|1\t0|0\t0|0\t0|0\t0|0\t0|0\t0|0\t0|0\t0|1\t0|1\t0|0\t0|1\t0|0\t0|0\t0|0\t0|0\t0|0\t0|0\t0|0\t0|0\t0|0\t0|0\t0|0\t0|0\t0|0\t0|0\t0|0\t0|0\t0|0\t0|0\t0|0\t0|0\t0|0\t0|0\t0|0\t0|0\t0|0\t0|0\t0|0\t0|0\t0|0\t0|0\t0|0\t0|0\t0|0\t0|0\t0|0\t0|0\t0|0\t0|0\t0|0\t0|0\t0|0\t0|0\t0|0\t0|0\t0|0\t0|0\t0|0\t0|0\t0|0\t0|0\t0|0\t0|0\t0|0\t0|0\t0|0\t0|0\t0|0\t0|0\t0|0\t0|0\t0|0\t0|0\t0|0\t0|0\t0|0\t0|0\t0|0\t0|0\t0|0\t0|0\t0|0\t0|0\t0|0\t0|0\t0|0\t0|0\t0|0\t0|0\t0|0\t0|0\t0|0\t0|0\t0|0\t0|0\t0|1\t0|0\t0|0\t0|0\t0|0\t0|0\t0|0\t0|0\t0|0\t0|0\t0|0\t0|0\t0|0\t0|0\t0|0\t0|0\t0|0\t0|0\t0|0\t0|0\t0|0\t0|0\t0|0\t0|0\t0|0\t0|0\t0|0\t0|0\t0|0\t0|0\t0|0\t0|0\t0|0\t0|0\t0|0\t0|0\t0|0\t0|0\t0|0\t0|0\t0|0\t0|0\t0|0\t0|0\t0|0\t0|0\t0|0\t0|0\t0|0\t0|0\t0|0\t0|1\t0|0\t0|0\t0|1\t0|0\t0|0\t0|0\t0|0\t0|0\t0|0\t0|0\t0|0\t0|0\t0|0\t0|0\t0|0\t0|0\t0|0\t0|0\t0|0\t0|0\t0|0\t0|0\t0|0\t0|0\t0|0\t0|0\t0|0\t0|0\t0|0\t0|0\t0|0\t0|0\t0|0\t0|0\t0|0\t0|0\t0|0\t0|0\t0|0\t0|0\t0|0\t0|0\t0|0\t0|0\t0|0\t0|0\t0|0\t0|0\t1|0\t0|0\t0|0\t0|0\t0|0\t0|0\t0|0\t0|0\t0|0\t0|0\t0|0\t0|0\t0|0\t0|0\t0|0\t0|0\t0|0\t0|0\t0|0\t0|0\t0|0\t0|0\t0|0\t0|0\t0|0\t0|0\t0|0\t0|0\t0|0\t0|0\t0|0\t0|0\t0|0\t1|1\t0|0\t0|0\t0|0\t0|0\t0|0\t0|0\t0|0\t0|0\t0|0\t0|0\t0|0\t0|0\t0|0\t0|0\t0|0\t0|0\t0|0\t0|0\t0|0\t0|0\t0|0\t0|0\t0|0\t0|0\t0|0\t0|0\t0|0\t0|0\t0|0\t0|0\t0|0\t0|0\t1|0\t0|0\t0|0\t0|0\t0|1\t0|0\t0|0\t0|0\t0|0\t0|0\t0|0\t0|0\t0|0\t0|0\t0|0\t0|1\t0|0\t0|0\t0|0\t0|0\t0|0\t0|0\t0|0\t0|0\t0|0\t0|0\t0|0\t0|0\t0|0\t0|0\t0|0\t0|0\t0|0\t0|0\t0|0\t0|0\t0|0\t0|0\t0|0\t0|0\t0|0\t0|0\t0|0\t0|0\t0|0\t0|0\t0|0\t0|0\t0|0\t0|0\t0|0\t0|0\t0|0\t0|0\t0|0\t0|0\t0|0\t0|0\t0|0\t0|0\t0|0\t0|0\t0|0\t0|0\t0|0\t0|0\t0|0\t0|0\t0|0\t0|0\t0|0\t0|0\t0|0\t0|0\t0|0\t0|0\t0|0\t0|0\t0|0\t0|0\t0|0\t0|0\t0|0\t0|0\t0|0\t0|0\t0|0\t0|0\t0|0\t0|0\t0|0\t0|0\t0|0\t0|0\t0|0\t0|0\t0|0\t0|0\t0|0\t0|0\t0|0\t0|0\t0|0\t0|0\t0|0\t0|0\t0|0\t1|0\t0|0\t0|0\t0|0\t0|0\t0|0\t0|0\t0|0\t0|0\t0|0\t0|0\t0|0\t0|0\t0|0\t0|0\t0|0\t0|0\t0|0\t0|0\t0|0\t0|0\t0|0\t0|0\t0|0\t0|1\t0|0\t0|0\t0|0\t0|0\t0|0\t0|0\t0|0\t0|0\t0|0\t0|0\t0|0\t0|0\t0|0\t0|0\t0|0\t0|0\t0|0\t0|0\t0|0\t0|0\t0|0\t0|0\t0|0\t0|0\t0|0\t0|0\t0|0\t0|0\t0|0\t0|0\t0|0\t0|0\t0|0\t0|0\t0|0\t0|0\t0|0\t0|0\t0|0\t0|0\t0|0\t0|0\t0|0\t0|0\t0|0\t0|0\t0|0\t0|0\t0|0\t0|0\t0|0\t0|0\t0|0\t0|0\t0|0\t0|0\t0|0\t0|0\t0|0\t0|0\t0|0\t0|0\t0|0\t0|0\t0|0\t0|0\t0|0\t0|0\t0|0\t0|0\t0|0\t0|0\t0|0\t0|0\t0|0\t0|0\t0|0\t0|0\t0|0\t0|0\t0|0\t0|0\t0|0\t0|0\t0|0\t0|0\t0|0\t0|0\t0|0\t0|0\t0|0\t0|0\t0|0\t0|0\t0|0\t0|0\t0|0\t0|0\t0|0\t0|0\t0|0\t0|0\t0|0\t0|0\t0|0\t0|0\t0|0\t0|0\t0|0\t0|0\t0|0\t0|0\t0|0\t0|0\t0|0\t0|0\t0|0\t0|0\t0|0\t0|0\t0|0\t0|0\t0|0\t0|0\t0|0\t0|0\t0|0\t0|0\t0|0\t0|0\t0|0\t0|0\t0|0\t0|0\t0|0\t0|0\t0|0\t0|0\t0|0\t0|0\t0|0\t0|0\t0|0\t0|0\t0|0\t0|0\t0|0\t0|0\t0|0\t0|0\t0|0\t0|0\t0|0\t0|0\t0|0\t0|0\t0|0\t0|0\t0|0\t0|0\t0|0\t0|0\t0|0\t0|0\t0|0\t0|0\t0|0\t0|0\t0|0\t0|0\t0|0\t0|0\t0|0\t0|0\t0|0\t0|0\t0|0\t0|0\t0|0\t0|0\t0|0\t0|0\t0|0\t0|0\t0|0\t0|0\t0|0\t0|0\t0|0\t0|0\t0|0\t0|0\t0|0\t0|0\t0|0\t0|0\t0|0\t0|0\t0|0\t0|0\t0|0\t0|0\t0|0\t0|0\t0|0\t0|0\t0|0\t0|0\t0|0\t0|0\t0|0\t0|0\t0|0\t0|0\t0|0\t0|0\t0|0\t0|0\t0|0\r\n",
      "chr11\t5285207\trs377473611\tC\tT\t100\tPASS\tAC=2;AF=0.000399361;AN=5008;NS=2504;DP=17020;EAS_AF=0.002;AMR_AF=0;AFR_AF=0;EUR_AF=0;SAS_AF=0;AA=c|||;VT=SNP\tGT\t0|0\t0|0\t0|0\t0|0\t0|0\t0|0\t0|0\t0|0\t0|0\t0|0\t0|0\t0|0\t0|0\t0|0\t0|0\t0|0\t0|0\t0|0\t0|0\t0|0\t0|0\t0|0\t0|0\t0|0\t0|0\t0|0\t0|0\t0|0\t0|0\t0|0\t0|0\t0|0\t0|0\t0|0\t0|0\t0|0\t0|0\t0|0\t0|0\t0|0\t0|0\t0|0\t0|0\t0|0\t0|0\t0|0\t0|0\t0|0\t0|0\t0|0\t0|0\t0|0\t0|0\t0|0\t0|0\t0|0\t0|0\t0|0\t0|0\t0|0\t0|0\t0|0\t0|0\t0|0\t0|0\t0|0\t0|0\t0|0\t0|0\t0|0\t0|0\t0|0\t0|0\t0|0\t0|0\t0|0\t0|0\t0|0\t0|0\t0|0\t0|0\t0|0\t0|0\t0|0\t0|0\t0|0\t0|0\t0|0\t0|0\t0|0\t0|0\t0|0\t0|0\t0|0\t0|0\t0|0\t0|0\t0|0\t0|0\t0|0\t0|0\t0|0\t0|0\t0|0\t0|0\t0|0\t0|0\t0|0\t0|0\t0|0\t0|0\t0|0\t0|0\t0|0\t0|0\t0|0\t0|0\t0|0\t0|0\t0|0\t0|0\t0|0\t0|0\t0|0\t0|0\t0|0\t0|0\t0|0\t0|0\t0|0\t0|0\t0|0\t0|0\t0|0\t0|0\t0|0\t0|0\t0|0\t0|0\t0|0\t0|0\t0|0\t0|0\t0|0\t0|0\t0|0\t0|0\t0|0\t0|0\t0|0\t0|0\t0|0\t0|0\t0|0\t0|0\t0|0\t0|0\t0|0\t0|0\t0|0\t0|0\t0|0\t0|0\t0|0\t0|0\t0|0\t0|0\t0|0\t0|0\t0|0\t0|0\t0|0\t0|0\t0|0\t0|0\t0|0\t0|0\t0|0\t0|0\t0|0\t0|0\t0|0\t0|0\t0|0\t0|0\t0|0\t0|0\t0|0\t0|0\t0|0\t0|0\t0|0\t0|0\t0|0\t0|0\t0|0\t0|0\t0|0\t0|0\t0|0\t0|0\t0|0\t0|0\t0|0\t0|0\t0|0\t0|0\t0|0\t0|0\t0|0\t0|0\t0|0\t0|0\t0|0\t0|0\t0|0\t0|0\t0|0\t0|0\t0|0\t0|0\t0|0\t0|0\t0|0\t0|0\t0|0\t0|0\t0|0\t0|0\t0|0\t0|0\t0|0\t0|0\t0|0\t0|0\t0|0\t0|0\t0|0\t0|0\t0|0\t0|0\t0|0\t0|0\t0|0\t0|0\t0|0\t0|0\t0|0\t0|0\t0|0\t0|0\t0|0\t0|0\t0|0\t0|0\t0|0\t0|0\t0|0\t0|0\t0|0\t0|0\t0|0\t0|0\t0|0\t0|0\t0|0\t0|0\t0|0\t0|0\t0|0\t0|0\t0|0\t0|0\t0|0\t0|0\t0|0\t0|0\t0|0\t0|0\t0|0\t0|0\t0|0\t0|0\t0|0\t0|0\t0|0\t0|0\t0|0\t0|0\t0|0\t0|0\t0|0\t0|0\t0|0\t0|0\t0|0\t0|0\t0|0\t0|0\t0|0\t0|0\t0|0\t0|0\t0|0\t0|0\t0|0\t0|0\t0|0\t0|0\t0|0\t0|0\t0|0\t0|0\t0|0\t0|0\t0|0\t0|0\t0|0\t0|0\t0|0\t0|0\t0|0\t0|0\t0|0\t0|0\t0|0\t0|0\t0|0\t0|0\t0|0\t0|0\t0|0\t0|0\t0|0\t0|0\t0|0\t0|0\t0|0\t0|0\t0|0\t0|0\t0|0\t0|0\t0|0\t0|0\t0|0\t0|0\t0|0\t0|0\t0|0\t0|0\t0|0\t0|0\t0|0\t0|0\t0|0\t0|0\t0|0\t0|0\t0|0\t0|0\t0|0\t0|0\t0|0\t0|0\t0|0\t0|0\t0|0\t0|0\t0|0\t0|0\t0|0\t0|0\t0|0\t0|0\t0|0\t0|0\t0|0\t0|0\t0|0\t0|0\t0|0\t0|0\t0|0\t0|0\t0|0\t0|0\t0|0\t0|0\t0|0\t0|0\t0|0\t0|0\t0|0\t0|0\t0|0\t0|0\t0|0\t0|0\t0|0\t0|0\t0|0\t0|0\t0|0\t0|0\t0|0\t0|0\t0|0\t0|0\t0|0\t0|0\t0|0\t0|0\t0|0\t0|0\t0|0\t0|0\t0|0\t0|0\t0|0\t0|0\t0|0\t0|0\t0|0\t0|0\t0|0\t0|0\t0|0\t0|0\t0|0\t0|0\t0|0\t0|0\t0|0\t0|0\t0|0\t0|0\t0|0\t0|0\t0|0\t0|0\t0|0\t0|0\t0|0\t0|0\t0|0\t0|0\t0|0\t0|0\t0|0\t0|0\t0|0\t0|0\t0|0\t0|0\t0|0\t0|0\t0|0\t0|0\t0|0\t0|0\t0|0\t0|0\t0|0\t0|0\t0|0\t0|0\t0|0\t0|0\t0|0\t0|0\t0|0\t0|0\t0|0\t0|0\t0|0\t0|0\t0|0\t0|0\t0|0\t0|0\t0|0\t0|0\t0|0\t0|0\t0|0\t0|0\t0|0\t0|0\t0|0\t0|0\t0|0\t0|0\t0|0\t0|0\t0|0\t0|0\t0|0\t0|0\t0|0\t0|0\t0|0\t0|0\t0|0\t0|0\t0|0\t0|0\t0|0\t0|0\t0|0\t0|0\t0|0\t0|0\t0|0\t0|0\t0|0\t0|0\t0|0\t0|0\t0|0\t0|0\t0|0\t0|0\t0|0\t0|0\t0|0\t0|0\t0|0\t0|0\t0|0\t0|0\t0|0\t0|0\t0|0\t0|0\t0|0\t0|0\t0|0\t0|0\t0|0\t0|0\t0|0\t0|0\t0|0\t0|0\t0|0\t0|0\t0|0\t0|0\t0|0\t0|0\t0|0\t0|0\t0|0\t0|0\t0|0\t0|0\t0|0\t0|0\t0|0\t0|0\t0|0\t0|0\t0|0\t0|0\t0|0\t0|0\t0|0\t0|0\t0|0\t0|0\t0|0\t0|0\t0|0\t0|0\t0|0\t0|0\t0|0\t0|0\t0|0\t0|0\t0|0\t0|0\t0|0\t0|0\t0|0\t0|0\t0|0\t0|0\t0|0\t0|0\t0|0\t0|0\t0|0\t0|0\t0|0\t0|0\t0|0\t0|0\t0|0\t0|0\t0|0\t0|0\t0|0\t0|0\t0|0\t0|0\t0|0\t0|0\t0|0\t0|0\t0|0\t0|0\t0|0\t0|0\t0|0\t0|0\t0|0\t0|0\t0|0\t0|0\t0|0\t0|0\t0|0\t0|0\t0|0\t0|0\t0|0\t0|0\t0|0\t0|0\t0|0\t0|0\t0|0\t0|0\t0|0\t0|0\t0|0\t0|0\t0|0\t0|0\t0|0\t0|0\t0|0\t0|0\t0|0\t0|0\t0|0\t0|0\t0|0\t0|0\t0|0\t0|0\t0|0\t0|0\t0|0\t0|0\t0|0\t0|0\t0|0\t0|0\t1|0\t0|0\t0|0\t0|0\t0|0\t0|0\t0|0\t0|0\t0|0\t0|0\t0|0\t0|0\t0|0\t0|0\t0|0\t0|0\t0|0\t0|0\t0|0\t0|0\t0|0\t0|0\t0|0\t0|0\t0|0\t0|0\t0|0\t0|0\t0|0\t0|0\t0|0\t0|0\t0|0\t0|0\t0|0\t0|0\t0|0\t0|0\t0|0\t0|0\t0|0\t0|0\t0|0\t0|0\t0|0\t0|0\t0|0\t0|0\t0|0\t0|0\t0|0\t0|0\t0|0\t0|0\t0|0\t0|0\t0|0\t0|0\t0|0\t0|0\t0|0\t0|0\t0|0\t0|0\t0|0\t0|0\t0|0\t0|0\t0|0\t0|0\t0|0\t0|0\t0|0\t0|0\t0|0\t0|0\t0|0\t0|0\t0|0\t0|0\t0|0\t0|0\t0|0\t0|0\t0|0\t0|0\t0|0\t0|0\t0|0\t0|0\t0|0\t0|0\t0|0\t0|0\t0|0\t0|0\t0|0\t0|0\t0|0\t0|0\t0|0\t0|0\t0|0\t0|0\t0|0\t0|0\t0|0\t0|0\t0|0\t0|0\t0|0\t0|0\t0|0\t0|0\t0|0\t0|0\t0|0\t0|0\t0|0\t0|0\t0|0\t0|0\t0|0\t0|0\t0|0\t0|0\t0|0\t0|0\t0|0\t0|0\t0|0\t0|0\t0|0\t0|0\t0|0\t0|0\t0|0\t0|0\t0|0\t0|0\t0|0\t0|0\t0|0\t0|0\t0|0\t0|0\t0|0\t0|0\t0|0\t0|0\t0|0\t0|0\t0|0\t0|0\t0|0\t0|0\t0|0\t0|0\t0|0\t0|0\t0|0\t0|0\t0|0\t0|0\t0|0\t0|0\t0|0\t0|0\t0|0\t0|0\t0|0\t0|0\t0|0\t0|0\t0|0\t0|0\t0|0\t0|0\t0|0\t0|0\t0|0\t0|0\t0|0\t0|0\t0|0\t0|0\t0|0\t0|0\t0|0\t0|0\t0|0\t0|0\t0|0\t0|0\t0|0\t0|0\t0|0\t0|0\t0|0\t0|0\t0|0\t0|0\t0|0\t0|0\t0|0\t0|0\t0|0\t0|0\t0|0\t0|0\t0|0\t0|0\t0|0\t0|0\t0|0\t0|0\t0|0\t0|0\t0|0\t0|0\t0|0\t0|0\t0|0\t0|0\t0|0\t0|0\t0|0\t0|0\t0|0\t0|0\t0|0\t0|0\t0|0\t0|0\t0|0\t0|0\t0|0\t0|0\t0|0\t0|0\t0|0\t0|0\t0|0\t0|0\t0|0\t0|0\t0|0\t0|0\t0|0\t0|0\t0|0\t0|0\t0|0\t0|0\t0|0\t0|0\t0|0\t0|0\t0|0\t0|0\t0|0\t0|0\t0|0\t0|0\t0|0\t0|0\t0|0\t0|0\t0|0\t0|0\t0|0\t0|0\t0|0\t0|0\t0|0\t0|0\t0|0\t0|0\t0|0\t0|0\t0|0\t0|0\t0|0\t0|0\t0|0\t0|0\t0|0\t0|0\t0|0\t0|0\t0|0\t0|0\t0|0\t0|0\t0|0\t0|0\t0|0\t0|0\t0|0\t0|0\t0|0\t0|0\t0|0\t0|0\t0|0\t0|0\t0|0\t0|0\t0|0\t0|0\t0|0\t0|0\t0|0\t0|0\t0|0\t0|0\t0|0\t0|0\t0|0\t0|0\t0|0\t0|0\t0|0\t0|0\t0|0\t0|0\t0|0\t0|0\t0|0\t0|0\t0|0\t0|0\t0|0\t0|0\t0|0\t0|0\t0|0\t0|0\t0|0\t0|0\t0|0\t0|0\t0|0\t0|0\t0|0\t0|0\t0|0\t0|0\t0|0\t0|0\t0|0\t0|0\t0|0\t0|0\t0|0\t0|0\t0|0\t0|0\t0|0\t0|0\t0|0\t0|0\t0|0\t0|0\t0|0\t0|0\t0|0\t0|0\t0|0\t0|0\t0|0\t0|0\t0|0\t0|0\t0|0\t0|0\t0|0\t0|0\t0|0\t0|0\t0|0\t0|0\t0|0\t0|0\t0|0\t0|0\t0|0\t0|0\t0|0\t0|0\t0|0\t0|0\t0|0\t0|0\t0|0\t0|0\t0|0\t0|0\t0|0\t0|0\t0|0\t0|0\t0|0\t0|0\t0|0\t0|0\t0|0\t0|0\t0|0\t0|0\t0|0\t0|0\t0|0\t0|0\t0|0\t0|0\t0|0\t0|0\t0|0\t0|0\t0|0\t0|0\t0|0\t0|0\t0|0\t0|0\t0|0\t0|0\t0|0\t0|0\t0|0\t0|0\t0|0\t0|0\t0|0\t0|0\t0|0\t0|0\t0|0\t0|0\t0|0\t0|0\t0|0\t0|0\t0|0\t0|0\t0|0\t0|0\t0|0\t0|0\t0|0\t0|0\t0|0\t0|0\t0|0\t0|0\t0|0\t0|0\t0|0\t0|0\t0|0\t0|0\t0|0\t0|0\t0|0\t0|0\t0|0\t0|0\t0|0\t0|0\t0|0\t0|0\t0|0\t0|0\t0|0\t0|0\t0|0\t0|0\t0|0\t0|0\t0|0\t0|0\t0|0\t0|0\t0|0\t0|0\t0|0\t0|0\t0|0\t0|0\t0|0\t0|0\t0|0\t0|0\t0|0\t0|0\t0|0\t0|0\t0|0\t0|0\t0|0\t0|0\t0|0\t0|0\t0|0\t0|0\t0|0\t0|0\t0|0\t0|0\t0|0\t0|0\t0|0\t0|0\t0|0\t0|0\t0|0\t0|0\t0|0\t0|0\t0|0\t0|0\t0|0\t0|0\t0|0\t0|0\t0|0\t0|0\t0|0\t0|0\t0|0\t0|0\t0|0\t0|0\t0|0\t0|0\t0|0\t0|0\t0|0\t0|0\t0|0\t0|0\t0|0\t0|0\t0|0\t0|0\t0|0\t0|0\t0|0\t0|0\t0|0\t0|0\t0|0\t0|0\t0|0\t0|0\t0|0\t0|0\t0|0\t0|0\t0|0\t0|0\t0|0\t0|0\t0|0\t0|0\t0|0\t0|0\t0|0\t0|0\t0|0\t0|0\t0|0\t0|0\t0|0\t0|0\t0|0\t0|0\t0|0\t0|0\t0|0\t0|0\t0|0\t0|0\t0|0\t0|0\t0|0\t0|0\t0|0\t0|0\t0|0\t0|0\t0|0\t0|0\t0|0\t0|0\t0|0\t0|0\t0|0\t0|0\t0|0\t0|0\t0|0\t0|0\t0|0\t0|0\t0|0\t0|0\t0|0\t0|0\t0|0\t0|0\t0|0\t0|0\t0|0\t0|0\t0|0\t0|0\t0|0\t0|0\t0|0\t0|0\t0|0\t0|0\t0|0\t0|0\t0|0\t0|0\t0|0\t0|0\t0|0\t0|0\t0|0\t0|0\t0|0\t0|0\t0|0\t0|0\t0|0\t0|0\t0|0\t0|0\t0|0\t0|0\t0|0\t0|0\t0|0\t0|0\t0|0\t0|0\t0|0\t0|0\t0|0\t0|0\t0|0\t0|0\t0|0\t0|0\t0|0\t0|0\t0|0\t0|0\t0|0\t0|0\t0|0\t0|0\t0|0\t0|0\t0|0\t0|0\t0|0\t0|0\t0|0\t0|0\t0|0\t0|0\t0|0\t0|0\t0|0\t0|0\t0|0\t0|0\t0|0\t0|0\t0|0\t0|0\t0|0\t0|0\t0|0\t0|0\t0|0\t0|0\t0|0\t0|0\t0|0\t0|0\t0|0\t0|0\t0|0\t0|0\t0|0\t0|0\t0|0\t0|0\t0|0\t0|0\t0|0\t0|0\t0|0\t0|0\t0|0\t0|0\t0|0\t0|0\t0|0\t0|0\t0|0\t0|0\t0|0\t0|0\t0|0\t0|0\t0|0\t0|0\t0|0\t0|0\t0|0\t0|0\t0|0\t0|0\t0|0\t0|0\t0|0\t0|0\t0|0\t0|0\t0|0\t0|0\t0|0\t0|0\t0|0\t0|0\t0|0\t0|0\t0|0\t0|0\t0|0\t0|0\t0|0\t0|0\t0|0\t0|0\t0|0\t0|0\t0|0\t0|0\t0|0\t0|0\t0|0\t0|0\t0|0\t0|0\t0|0\t0|0\t0|0\t0|0\t0|0\t0|0\t0|0\t0|0\t0|0\t0|0\t0|0\t0|0\t0|0\t0|0\t0|0\t0|0\t0|0\t0|0\t0|0\t0|0\t0|0\t0|0\t0|0\t0|0\t0|0\t0|0\t0|0\t0|0\t0|0\t0|0\t0|0\t0|0\t0|0\t0|0\t0|0\t0|0\t0|0\t0|0\t0|0\t0|0\t0|0\t0|0\t0|0\t0|0\t0|0\t0|0\t0|0\t0|0\t0|0\t0|0\t0|0\t0|0\t0|0\t0|0\t0|0\t0|0\t0|0\t0|0\t0|0\t0|0\t0|0\t0|0\t0|0\t0|0\t0|0\t0|0\t0|0\t0|0\t0|0\t0|0\t0|0\t0|0\t0|0\t0|0\t0|0\t0|0\t0|0\t0|0\t0|0\t0|0\t0|0\t0|0\t0|0\t0|0\t0|0\t0|0\t0|0\t0|0\t0|0\t0|0\t0|0\t0|0\t0|0\t0|0\t0|0\t0|0\t0|0\t0|0\t0|0\t0|0\t0|0\t0|0\t0|0\t0|0\t0|0\t0|0\t0|0\t0|0\t0|0\t0|0\t0|0\t0|0\t0|0\t0|0\t0|0\t0|0\t0|0\t0|0\t0|0\t0|0\t0|0\t0|0\t0|0\t0|0\t0|0\t0|0\t0|0\t0|0\t0|0\t0|0\t0|0\t0|0\t0|0\t0|0\t0|0\t0|0\t0|0\t0|0\t0|0\t0|0\t0|0\t0|0\t0|0\t0|0\t0|0\t0|0\t0|0\t0|0\t0|0\t0|0\t0|0\t0|0\t0|0\t0|0\t0|0\t0|0\t0|0\t0|0\t0|0\t0|0\t0|0\t0|0\t0|0\t0|0\t0|0\t0|0\t0|0\t0|0\t0|0\t0|0\t0|0\t0|0\t0|0\t0|0\t0|0\t0|0\t0|0\t0|0\t0|0\t0|0\t0|0\t0|0\t0|0\t0|0\t0|0\t0|0\t0|0\t0|0\t0|0\t0|0\t0|0\t0|0\t0|0\t0|0\t0|0\t0|0\t0|0\t0|0\t0|0\t0|0\t0|0\t0|0\t0|0\t0|0\t0|0\t0|0\t0|0\t0|0\t0|0\t0|0\t0|0\t0|0\t0|0\t0|0\t0|0\t0|0\t0|0\t0|0\t0|0\t0|0\t0|0\t0|0\t0|0\t0|0\t0|0\t0|0\t0|0\t0|0\t0|0\t0|0\t0|0\t0|0\t0|0\t0|0\t0|0\t0|0\t0|0\t0|0\t0|0\t0|0\t0|0\t0|0\t0|0\t0|0\t0|0\t0|0\t0|0\t0|0\t0|0\t0|0\t0|0\t0|0\t0|0\t0|0\t0|0\t0|0\t0|0\t0|0\t0|0\t0|0\t0|0\t0|0\t0|0\t0|0\t0|0\t0|0\t0|0\t0|0\t0|0\t0|0\t0|0\t0|0\t0|0\t0|0\t0|0\t0|0\t0|0\t0|0\t0|0\t0|0\t0|0\t0|0\t0|0\t0|0\t0|0\t0|0\t0|0\t0|0\t0|0\t0|0\t0|0\t0|0\t0|0\t0|0\t0|0\t0|0\t0|0\t0|0\t0|0\t0|0\t0|0\t0|0\t0|0\t0|0\t0|0\t0|0\t0|0\t0|0\t0|0\t0|0\t0|0\t0|0\t0|0\t0|0\t0|0\t0|0\t0|0\t0|0\t0|0\t0|0\t0|0\t0|0\t0|0\t0|0\t0|0\t0|0\t0|0\t0|0\t0|0\t0|0\t0|0\t0|0\t0|0\t0|0\t0|0\t0|0\t0|0\t0|0\t0|0\t0|0\t0|0\t0|0\t0|0\t0|0\t0|0\t0|0\t0|0\t0|0\t0|0\t0|0\t0|0\t0|0\t0|0\t0|0\t0|0\t0|0\t0|0\t0|0\t0|0\t0|0\t0|0\t0|0\t0|0\t0|0\t0|0\t0|0\t0|0\t0|0\t0|0\t0|0\t0|0\t0|0\t0|0\t0|0\t0|0\t0|0\t0|0\t0|0\t0|0\t0|0\t0|0\t0|0\t0|0\t0|0\t0|0\t0|0\t0|0\t0|0\t0|0\t0|0\t0|0\t0|0\t0|0\t0|0\t0|0\t0|0\t0|0\t0|0\t0|0\t0|0\t0|0\t0|0\t0|0\t0|0\t0|0\t0|0\t0|0\t0|0\t0|0\t0|0\t0|0\t0|0\t0|0\t0|0\t0|0\t0|1\t0|0\t0|0\t0|0\t0|0\t0|0\t0|0\t0|0\t0|0\t0|0\t0|0\t0|0\t0|0\t0|0\t0|0\t0|0\t0|0\t0|0\t0|0\t0|0\t0|0\t0|0\t0|0\t0|0\t0|0\t0|0\t0|0\t0|0\t0|0\t0|0\t0|0\t0|0\t0|0\t0|0\t0|0\t0|0\t0|0\t0|0\t0|0\t0|0\t0|0\t0|0\t0|0\t0|0\t0|0\t0|0\t0|0\t0|0\t0|0\t0|0\t0|0\t0|0\t0|0\t0|0\t0|0\t0|0\t0|0\t0|0\t0|0\t0|0\t0|0\t0|0\t0|0\t0|0\t0|0\t0|0\t0|0\t0|0\t0|0\t0|0\t0|0\t0|0\t0|0\t0|0\t0|0\t0|0\t0|0\t0|0\t0|0\t0|0\t0|0\t0|0\t0|0\t0|0\t0|0\t0|0\t0|0\t0|0\t0|0\t0|0\t0|0\t0|0\t0|0\t0|0\t0|0\t0|0\t0|0\t0|0\t0|0\t0|0\t0|0\t0|0\t0|0\t0|0\t0|0\t0|0\t0|0\t0|0\t0|0\t0|0\t0|0\t0|0\t0|0\t0|0\t0|0\t0|0\t0|0\t0|0\t0|0\t0|0\t0|0\t0|0\t0|0\t0|0\t0|0\t0|0\t0|0\t0|0\t0|0\t0|0\t0|0\t0|0\t0|0\t0|0\t0|0\t0|0\t0|0\t0|0\t0|0\t0|0\t0|0\t0|0\t0|0\t0|0\t0|0\t0|0\t0|0\t0|0\t0|0\t0|0\t0|0\t0|0\t0|0\t0|0\t0|0\t0|0\t0|0\t0|0\t0|0\t0|0\t0|0\t0|0\t0|0\t0|0\t0|0\t0|0\t0|0\t0|0\t0|0\t0|0\t0|0\t0|0\t0|0\t0|0\t0|0\t0|0\t0|0\t0|0\t0|0\t0|0\t0|0\t0|0\t0|0\t0|0\t0|0\t0|0\t0|0\t0|0\t0|0\t0|0\t0|0\t0|0\t0|0\t0|0\t0|0\t0|0\t0|0\t0|0\t0|0\t0|0\t0|0\t0|0\t0|0\t0|0\t0|0\t0|0\t0|0\t0|0\t0|0\t0|0\t0|0\t0|0\t0|0\t0|0\t0|0\t0|0\t0|0\t0|0\t0|0\t0|0\t0|0\t0|0\t0|0\t0|0\t0|0\t0|0\t0|0\t0|0\t0|0\t0|0\t0|0\t0|0\t0|0\t0|0\t0|0\t0|0\t0|0\t0|0\t0|0\t0|0\t0|0\t0|0\t0|0\t0|0\t0|0\t0|0\t0|0\t0|0\t0|0\t0|0\t0|0\t0|0\t0|0\t0|0\t0|0\t0|0\t0|0\t0|0\t0|0\t0|0\t0|0\t0|0\t0|0\t0|0\t0|0\t0|0\t0|0\t0|0\t0|0\t0|0\t0|0\t0|0\t0|0\t0|0\t0|0\t0|0\t0|0\t0|0\t0|0\t0|0\t0|0\t0|0\t0|0\t0|0\t0|0\t0|0\t0|0\t0|0\t0|0\t0|0\t0|0\t0|0\t0|0\t0|0\t0|0\t0|0\t0|0\t0|0\t0|0\t0|0\t0|0\t0|0\t0|0\t0|0\t0|0\t0|0\t0|0\t0|0\t0|0\t0|0\t0|0\t0|0\t0|0\t0|0\t0|0\t0|0\t0|0\t0|0\t0|0\t0|0\t0|0\t0|0\t0|0\t0|0\t0|0\t0|0\t0|0\t0|0\t0|0\t0|0\t0|0\t0|0\t0|0\t0|0\t0|0\t0|0\t0|0\t0|0\t0|0\t0|0\t0|0\t0|0\t0|0\t0|0\t0|0\t0|0\t0|0\t0|0\t0|0\t0|0\t0|0\t0|0\t0|0\t0|0\t0|0\t0|0\t0|0\t0|0\t0|0\t0|0\t0|0\t0|0\t0|0\t0|0\t0|0\t0|0\t0|0\t0|0\t0|0\t0|0\t0|0\t0|0\t0|0\t0|0\t0|0\t0|0\t0|0\t0|0\t0|0\t0|0\t0|0\t0|0\t0|0\t0|0\t0|0\t0|0\t0|0\t0|0\t0|0\t0|0\t0|0\t0|0\t0|0\t0|0\t0|0\t0|0\t0|0\t0|0\t0|0\t0|0\t0|0\t0|0\t0|0\t0|0\t0|0\t0|0\t0|0\t0|0\t0|0\t0|0\t0|0\t0|0\t0|0\t0|0\t0|0\t0|0\t0|0\t0|0\t0|0\t0|0\t0|0\t0|0\t0|0\t0|0\t0|0\t0|0\t0|0\t0|0\t0|0\t0|0\t0|0\t0|0\t0|0\t0|0\t0|0\t0|0\t0|0\t0|0\t0|0\t0|0\t0|0\t0|0\t0|0\t0|0\t0|0\t0|0\t0|0\t0|0\t0|0\t0|0\t0|0\t0|0\t0|0\t0|0\t0|0\t0|0\t0|0\t0|0\t0|0\t0|0\t0|0\t0|0\t0|0\t0|0\t0|0\t0|0\t0|0\t0|0\t0|0\t0|0\t0|0\t0|0\t0|0\t0|0\t0|0\t0|0\t0|0\t0|0\t0|0\t0|0\t0|0\t0|0\t0|0\t0|0\t0|0\t0|0\t0|0\t0|0\t0|0\t0|0\t0|0\t0|0\t0|0\t0|0\t0|0\t0|0\t0|0\t0|0\t0|0\t0|0\t0|0\t0|0\t0|0\t0|0\t0|0\t0|0\t0|0\t0|0\t0|0\t0|0\t0|0\t0|0\t0|0\t0|0\t0|0\t0|0\t0|0\t0|0\t0|0\t0|0\t0|0\t0|0\t0|0\t0|0\t0|0\t0|0\t0|0\t0|0\t0|0\t0|0\t0|0\t0|0\t0|0\t0|0\t0|0\t0|0\t0|0\t0|0\t0|0\t0|0\t0|0\t0|0\t0|0\t0|0\t0|0\t0|0\t0|0\t0|0\t0|0\t0|0\t0|0\t0|0\t0|0\t0|0\t0|0\t0|0\t0|0\t0|0\t0|0\t0|0\t0|0\t0|0\t0|0\t0|0\t0|0\t0|0\t0|0\t0|0\t0|0\t0|0\t0|0\t0|0\t0|0\t0|0\t0|0\t0|0\t0|0\t0|0\t0|0\t0|0\t0|0\t0|0\t0|0\t0|0\t0|0\t0|0\t0|0\t0|0\t0|0\t0|0\t0|0\t0|0\t0|0\t0|0\t0|0\t0|0\t0|0\t0|0\t0|0\t0|0\t0|0\t0|0\t0|0\t0|0\t0|0\t0|0\t0|0\t0|0\t0|0\t0|0\t0|0\t0|0\t0|0\t0|0\t0|0\t0|0\t0|0\t0|0\t0|0\t0|0\t0|0\t0|0\t0|0\t0|0\t0|0\t0|0\t0|0\t0|0\t0|0\t0|0\t0|0\t0|0\t0|0\t0|0\t0|0\t0|0\t0|0\t0|0\t0|0\t0|0\t0|0\t0|0\t0|0\t0|0\t0|0\t0|0\t0|0\t0|0\t0|0\t0|0\t0|0\t0|0\t0|0\t0|0\t0|0\t0|0\t0|0\t0|0\t0|0\t0|0\t0|0\t0|0\t0|0\t0|0\t0|0\t0|0\r\n",
      "chr11\t5285233\trs530075321\tT\tC\t100\tPASS\tAC=1;AF=0.000199681;AN=5008;NS=2504;DP=17264;EAS_AF=0;AMR_AF=0;AFR_AF=0;EUR_AF=0.001;SAS_AF=0;AA=T|||;VT=SNP\tGT\t0|0\t0|0\t0|0\t0|0\t0|0\t0|0\t0|0\t0|0\t0|0\t0|0\t0|0\t0|0\t0|0\t0|0\t0|0\t0|0\t0|0\t0|0\t0|0\t0|0\t0|0\t0|0\t0|0\t0|0\t0|0\t0|0\t0|0\t0|0\t0|0\t0|0\t1|0\t0|0\t0|0\t0|0\t0|0\t0|0\t0|0\t0|0\t0|0\t0|0\t0|0\t0|0\t0|0\t0|0\t0|0\t0|0\t0|0\t0|0\t0|0\t0|0\t0|0\t0|0\t0|0\t0|0\t0|0\t0|0\t0|0\t0|0\t0|0\t0|0\t0|0\t0|0\t0|0\t0|0\t0|0\t0|0\t0|0\t0|0\t0|0\t0|0\t0|0\t0|0\t0|0\t0|0\t0|0\t0|0\t0|0\t0|0\t0|0\t0|0\t0|0\t0|0\t0|0\t0|0\t0|0\t0|0\t0|0\t0|0\t0|0\t0|0\t0|0\t0|0\t0|0\t0|0\t0|0\t0|0\t0|0\t0|0\t0|0\t0|0\t0|0\t0|0\t0|0\t0|0\t0|0\t0|0\t0|0\t0|0\t0|0\t0|0\t0|0\t0|0\t0|0\t0|0\t0|0\t0|0\t0|0\t0|0\t0|0\t0|0\t0|0\t0|0\t0|0\t0|0\t0|0\t0|0\t0|0\t0|0\t0|0\t0|0\t0|0\t0|0\t0|0\t0|0\t0|0\t0|0\t0|0\t0|0\t0|0\t0|0\t0|0\t0|0\t0|0\t0|0\t0|0\t0|0\t0|0\t0|0\t0|0\t0|0\t0|0\t0|0\t0|0\t0|0\t0|0\t0|0\t0|0\t0|0\t0|0\t0|0\t0|0\t0|0\t0|0\t0|0\t0|0\t0|0\t0|0\t0|0\t0|0\t0|0\t0|0\t0|0\t0|0\t0|0\t0|0\t0|0\t0|0\t0|0\t0|0\t0|0\t0|0\t0|0\t0|0\t0|0\t0|0\t0|0\t0|0\t0|0\t0|0\t0|0\t0|0\t0|0\t0|0\t0|0\t0|0\t0|0\t0|0\t0|0\t0|0\t0|0\t0|0\t0|0\t0|0\t0|0\t0|0\t0|0\t0|0\t0|0\t0|0\t0|0\t0|0\t0|0\t0|0\t0|0\t0|0\t0|0\t0|0\t0|0\t0|0\t0|0\t0|0\t0|0\t0|0\t0|0\t0|0\t0|0\t0|0\t0|0\t0|0\t0|0\t0|0\t0|0\t0|0\t0|0\t0|0\t0|0\t0|0\t0|0\t0|0\t0|0\t0|0\t0|0\t0|0\t0|0\t0|0\t0|0\t0|0\t0|0\t0|0\t0|0\t0|0\t0|0\t0|0\t0|0\t0|0\t0|0\t0|0\t0|0\t0|0\t0|0\t0|0\t0|0\t0|0\t0|0\t0|0\t0|0\t0|0\t0|0\t0|0\t0|0\t0|0\t0|0\t0|0\t0|0\t0|0\t0|0\t0|0\t0|0\t0|0\t0|0\t0|0\t0|0\t0|0\t0|0\t0|0\t0|0\t0|0\t0|0\t0|0\t0|0\t0|0\t0|0\t0|0\t0|0\t0|0\t0|0\t0|0\t0|0\t0|0\t0|0\t0|0\t0|0\t0|0\t0|0\t0|0\t0|0\t0|0\t0|0\t0|0\t0|0\t0|0\t0|0\t0|0\t0|0\t0|0\t0|0\t0|0\t0|0\t0|0\t0|0\t0|0\t0|0\t0|0\t0|0\t0|0\t0|0\t0|0\t0|0\t0|0\t0|0\t0|0\t0|0\t0|0\t0|0\t0|0\t0|0\t0|0\t0|0\t0|0\t0|0\t0|0\t0|0\t0|0\t0|0\t0|0\t0|0\t0|0\t0|0\t0|0\t0|0\t0|0\t0|0\t0|0\t0|0\t0|0\t0|0\t0|0\t0|0\t0|0\t0|0\t0|0\t0|0\t0|0\t0|0\t0|0\t0|0\t0|0\t0|0\t0|0\t0|0\t0|0\t0|0\t0|0\t0|0\t0|0\t0|0\t0|0\t0|0\t0|0\t0|0\t0|0\t0|0\t0|0\t0|0\t0|0\t0|0\t0|0\t0|0\t0|0\t0|0\t0|0\t0|0\t0|0\t0|0\t0|0\t0|0\t0|0\t0|0\t0|0\t0|0\t0|0\t0|0\t0|0\t0|0\t0|0\t0|0\t0|0\t0|0\t0|0\t0|0\t0|0\t0|0\t0|0\t0|0\t0|0\t0|0\t0|0\t0|0\t0|0\t0|0\t0|0\t0|0\t0|0\t0|0\t0|0\t0|0\t0|0\t0|0\t0|0\t0|0\t0|0\t0|0\t0|0\t0|0\t0|0\t0|0\t0|0\t0|0\t0|0\t0|0\t0|0\t0|0\t0|0\t0|0\t0|0\t0|0\t0|0\t0|0\t0|0\t0|0\t0|0\t0|0\t0|0\t0|0\t0|0\t0|0\t0|0\t0|0\t0|0\t0|0\t0|0\t0|0\t0|0\t0|0\t0|0\t0|0\t0|0\t0|0\t0|0\t0|0\t0|0\t0|0\t0|0\t0|0\t0|0\t0|0\t0|0\t0|0\t0|0\t0|0\t0|0\t0|0\t0|0\t0|0\t0|0\t0|0\t0|0\t0|0\t0|0\t0|0\t0|0\t0|0\t0|0\t0|0\t0|0\t0|0\t0|0\t0|0\t0|0\t0|0\t0|0\t0|0\t0|0\t0|0\t0|0\t0|0\t0|0\t0|0\t0|0\t0|0\t0|0\t0|0\t0|0\t0|0\t0|0\t0|0\t0|0\t0|0\t0|0\t0|0\t0|0\t0|0\t0|0\t0|0\t0|0\t0|0\t0|0\t0|0\t0|0\t0|0\t0|0\t0|0\t0|0\t0|0\t0|0\t0|0\t0|0\t0|0\t0|0\t0|0\t0|0\t0|0\t0|0\t0|0\t0|0\t0|0\t0|0\t0|0\t0|0\t0|0\t0|0\t0|0\t0|0\t0|0\t0|0\t0|0\t0|0\t0|0\t0|0\t0|0\t0|0\t0|0\t0|0\t0|0\t0|0\t0|0\t0|0\t0|0\t0|0\t0|0\t0|0\t0|0\t0|0\t0|0\t0|0\t0|0\t0|0\t0|0\t0|0\t0|0\t0|0\t0|0\t0|0\t0|0\t0|0\t0|0\t0|0\t0|0\t0|0\t0|0\t0|0\t0|0\t0|0\t0|0\t0|0\t0|0\t0|0\t0|0\t0|0\t0|0\t0|0\t0|0\t0|0\t0|0\t0|0\t0|0\t0|0\t0|0\t0|0\t0|0\t0|0\t0|0\t0|0\t0|0\t0|0\t0|0\t0|0\t0|0\t0|0\t0|0\t0|0\t0|0\t0|0\t0|0\t0|0\t0|0\t0|0\t0|0\t0|0\t0|0\t0|0\t0|0\t0|0\t0|0\t0|0\t0|0\t0|0\t0|0\t0|0\t0|0\t0|0\t0|0\t0|0\t0|0\t0|0\t0|0\t0|0\t0|0\t0|0\t0|0\t0|0\t0|0\t0|0\t0|0\t0|0\t0|0\t0|0\t0|0\t0|0\t0|0\t0|0\t0|0\t0|0\t0|0\t0|0\t0|0\t0|0\t0|0\t0|0\t0|0\t0|0\t0|0\t0|0\t0|0\t0|0\t0|0\t0|0\t0|0\t0|0\t0|0\t0|0\t0|0\t0|0\t0|0\t0|0\t0|0\t0|0\t0|0\t0|0\t0|0\t0|0\t0|0\t0|0\t0|0\t0|0\t0|0\t0|0\t0|0\t0|0\t0|0\t0|0\t0|0\t0|0\t0|0\t0|0\t0|0\t0|0\t0|0\t0|0\t0|0\t0|0\t0|0\t0|0\t0|0\t0|0\t0|0\t0|0\t0|0\t0|0\t0|0\t0|0\t0|0\t0|0\t0|0\t0|0\t0|0\t0|0\t0|0\t0|0\t0|0\t0|0\t0|0\t0|0\t0|0\t0|0\t0|0\t0|0\t0|0\t0|0\t0|0\t0|0\t0|0\t0|0\t0|0\t0|0\t0|0\t0|0\t0|0\t0|0\t0|0\t0|0\t0|0\t0|0\t0|0\t0|0\t0|0\t0|0\t0|0\t0|0\t0|0\t0|0\t0|0\t0|0\t0|0\t0|0\t0|0\t0|0\t0|0\t0|0\t0|0\t0|0\t0|0\t0|0\t0|0\t0|0\t0|0\t0|0\t0|0\t0|0\t0|0\t0|0\t0|0\t0|0\t0|0\t0|0\t0|0\t0|0\t0|0\t0|0\t0|0\t0|0\t0|0\t0|0\t0|0\t0|0\t0|0\t0|0\t0|0\t0|0\t0|0\t0|0\t0|0\t0|0\t0|0\t0|0\t0|0\t0|0\t0|0\t0|0\t0|0\t0|0\t0|0\t0|0\t0|0\t0|0\t0|0\t0|0\t0|0\t0|0\t0|0\t0|0\t0|0\t0|0\t0|0\t0|0\t0|0\t0|0\t0|0\t0|0\t0|0\t0|0\t0|0\t0|0\t0|0\t0|0\t0|0\t0|0\t0|0\t0|0\t0|0\t0|0\t0|0\t0|0\t0|0\t0|0\t0|0\t0|0\t0|0\t0|0\t0|0\t0|0\t0|0\t0|0\t0|0\t0|0\t0|0\t0|0\t0|0\t0|0\t0|0\t0|0\t0|0\t0|0\t0|0\t0|0\t0|0\t0|0\t0|0\t0|0\t0|0\t0|0\t0|0\t0|0\t0|0\t0|0\t0|0\t0|0\t0|0\t0|0\t0|0\t0|0\t0|0\t0|0\t0|0\t0|0\t0|0\t0|0\t0|0\t0|0\t0|0\t0|0\t0|0\t0|0\t0|0\t0|0\t0|0\t0|0\t0|0\t0|0\t0|0\t0|0\t0|0\t0|0\t0|0\t0|0\t0|0\t0|0\t0|0\t0|0\t0|0\t0|0\t0|0\t0|0\t0|0\t0|0\t0|0\t0|0\t0|0\t0|0\t0|0\t0|0\t0|0\t0|0\t0|0\t0|0\t0|0\t0|0\t0|0\t0|0\t0|0\t0|0\t0|0\t0|0\t0|0\t0|0\t0|0\t0|0\t0|0\t0|0\t0|0\t0|0\t0|0\t0|0\t0|0\t0|0\t0|0\t0|0\t0|0\t0|0\t0|0\t0|0\t0|0\t0|0\t0|0\t0|0\t0|0\t0|0\t0|0\t0|0\t0|0\t0|0\t0|0\t0|0\t0|0\t0|0\t0|0\t0|0\t0|0\t0|0\t0|0\t0|0\t0|0\t0|0\t0|0\t0|0\t0|0\t0|0\t0|0\t0|0\t0|0\t0|0\t0|0\t0|0\t0|0\t0|0\t0|0\t0|0\t0|0\t0|0\t0|0\t0|0\t0|0\t0|0\t0|0\t0|0\t0|0\t0|0\t0|0\t0|0\t0|0\t0|0\t0|0\t0|0\t0|0\t0|0\t0|0\t0|0\t0|0\t0|0\t0|0\t0|0\t0|0\t0|0\t0|0\t0|0\t0|0\t0|0\t0|0\t0|0\t0|0\t0|0\t0|0\t0|0\t0|0\t0|0\t0|0\t0|0\t0|0\t0|0\t0|0\t0|0\t0|0\t0|0\t0|0\t0|0\t0|0\t0|0\t0|0\t0|0\t0|0\t0|0\t0|0\t0|0\t0|0\t0|0\t0|0\t0|0\t0|0\t0|0\t0|0\t0|0\t0|0\t0|0\t0|0\t0|0\t0|0\t0|0\t0|0\t0|0\t0|0\t0|0\t0|0\t0|0\t0|0\t0|0\t0|0\t0|0\t0|0\t0|0\t0|0\t0|0\t0|0\t0|0\t0|0\t0|0\t0|0\t0|0\t0|0\t0|0\t0|0\t0|0\t0|0\t0|0\t0|0\t0|0\t0|0\t0|0\t0|0\t0|0\t0|0\t0|0\t0|0\t0|0\t0|0\t0|0\t0|0\t0|0\t0|0\t0|0\t0|0\t0|0\t0|0\t0|0\t0|0\t0|0\t0|0\t0|0\t0|0\t0|0\t0|0\t0|0\t0|0\t0|0\t0|0\t0|0\t0|0\t0|0\t0|0\t0|0\t0|0\t0|0\t0|0\t0|0\t0|0\t0|0\t0|0\t0|0\t0|0\t0|0\t0|0\t0|0\t0|0\t0|0\t0|0\t0|0\t0|0\t0|0\t0|0\t0|0\t0|0\t0|0\t0|0\t0|0\t0|0\t0|0\t0|0\t0|0\t0|0\t0|0\t0|0\t0|0\t0|0\t0|0\t0|0\t0|0\t0|0\t0|0\t0|0\t0|0\t0|0\t0|0\t0|0\t0|0\t0|0\t0|0\t0|0\t0|0\t0|0\t0|0\t0|0\t0|0\t0|0\t0|0\t0|0\t0|0\t0|0\t0|0\t0|0\t0|0\t0|0\t0|0\t0|0\t0|0\t0|0\t0|0\t0|0\t0|0\t0|0\t0|0\t0|0\t0|0\t0|0\t0|0\t0|0\t0|0\t0|0\t0|0\t0|0\t0|0\t0|0\t0|0\t0|0\t0|0\t0|0\t0|0\t0|0\t0|0\t0|0\t0|0\t0|0\t0|0\t0|0\t0|0\t0|0\t0|0\t0|0\t0|0\t0|0\t0|0\t0|0\t0|0\t0|0\t0|0\t0|0\t0|0\t0|0\t0|0\t0|0\t0|0\t0|0\t0|0\t0|0\t0|0\t0|0\t0|0\t0|0\t0|0\t0|0\t0|0\t0|0\t0|0\t0|0\t0|0\t0|0\t0|0\t0|0\t0|0\t0|0\t0|0\t0|0\t0|0\t0|0\t0|0\t0|0\t0|0\t0|0\t0|0\t0|0\t0|0\t0|0\t0|0\t0|0\t0|0\t0|0\t0|0\t0|0\t0|0\t0|0\t0|0\t0|0\t0|0\t0|0\t0|0\t0|0\t0|0\t0|0\t0|0\t0|0\t0|0\t0|0\t0|0\t0|0\t0|0\t0|0\t0|0\t0|0\t0|0\t0|0\t0|0\t0|0\t0|0\t0|0\t0|0\t0|0\t0|0\t0|0\t0|0\t0|0\t0|0\t0|0\t0|0\t0|0\t0|0\t0|0\t0|0\t0|0\t0|0\t0|0\t0|0\t0|0\t0|0\t0|0\t0|0\t0|0\t0|0\t0|0\t0|0\t0|0\t0|0\t0|0\t0|0\t0|0\t0|0\t0|0\t0|0\t0|0\t0|0\t0|0\t0|0\t0|0\t0|0\t0|0\t0|0\t0|0\t0|0\t0|0\t0|0\t0|0\t0|0\t0|0\t0|0\t0|0\t0|0\t0|0\t0|0\t0|0\t0|0\t0|0\t0|0\t0|0\t0|0\t0|0\t0|0\t0|0\t0|0\t0|0\t0|0\t0|0\t0|0\t0|0\t0|0\t0|0\t0|0\t0|0\t0|0\t0|0\t0|0\t0|0\t0|0\t0|0\t0|0\t0|0\t0|0\t0|0\t0|0\t0|0\t0|0\t0|0\t0|0\t0|0\t0|0\t0|0\t0|0\t0|0\t0|0\t0|0\t0|0\t0|0\t0|0\t0|0\t0|0\t0|0\t0|0\t0|0\t0|0\t0|0\t0|0\t0|0\t0|0\t0|0\t0|0\t0|0\t0|0\t0|0\t0|0\t0|0\t0|0\t0|0\t0|0\t0|0\t0|0\t0|0\t0|0\t0|0\t0|0\t0|0\t0|0\t0|0\t0|0\t0|0\t0|0\t0|0\t0|0\t0|0\t0|0\t0|0\t0|0\t0|0\t0|0\t0|0\t0|0\t0|0\t0|0\t0|0\t0|0\t0|0\t0|0\t0|0\t0|0\t0|0\t0|0\t0|0\t0|0\t0|0\t0|0\t0|0\t0|0\t0|0\t0|0\t0|0\t0|0\t0|0\t0|0\t0|0\t0|0\t0|0\t0|0\t0|0\t0|0\t0|0\t0|0\t0|0\t0|0\t0|0\t0|0\t0|0\t0|0\t0|0\t0|0\t0|0\t0|0\t0|0\t0|0\t0|0\t0|0\t0|0\t0|0\t0|0\t0|0\t0|0\t0|0\t0|0\t0|0\t0|0\t0|0\t0|0\t0|0\t0|0\t0|0\t0|0\t0|0\t0|0\t0|0\t0|0\t0|0\t0|0\t0|0\t0|0\t0|0\t0|0\t0|0\t0|0\t0|0\t0|0\t0|0\t0|0\t0|0\t0|0\t0|0\t0|0\t0|0\t0|0\t0|0\t0|0\t0|0\t0|0\t0|0\t0|0\t0|0\t0|0\t0|0\t0|0\t0|0\t0|0\t0|0\t0|0\t0|0\t0|0\t0|0\t0|0\t0|0\t0|0\t0|0\t0|0\t0|0\t0|0\t0|0\t0|0\t0|0\t0|0\t0|0\t0|0\t0|0\t0|0\t0|0\t0|0\t0|0\t0|0\t0|0\t0|0\t0|0\t0|0\t0|0\t0|0\t0|0\t0|0\t0|0\t0|0\t0|0\t0|0\t0|0\t0|0\t0|0\t0|0\t0|0\t0|0\t0|0\t0|0\t0|0\t0|0\t0|0\t0|0\t0|0\t0|0\t0|0\t0|0\t0|0\t0|0\t0|0\t0|0\t0|0\t0|0\t0|0\t0|0\t0|0\t0|0\t0|0\t0|0\t0|0\t0|0\t0|0\t0|0\t0|0\t0|0\t0|0\t0|0\t0|0\t0|0\t0|0\t0|0\t0|0\t0|0\t0|0\t0|0\t0|0\t0|0\t0|0\t0|0\t0|0\t0|0\t0|0\t0|0\t0|0\t0|0\t0|0\t0|0\t0|0\t0|0\t0|0\t0|0\t0|0\t0|0\t0|0\t0|0\t0|0\t0|0\t0|0\t0|0\t0|0\t0|0\t0|0\t0|0\t0|0\t0|0\t0|0\t0|0\t0|0\t0|0\t0|0\t0|0\t0|0\t0|0\t0|0\t0|0\t0|0\t0|0\t0|0\t0|0\t0|0\t0|0\t0|0\t0|0\t0|0\t0|0\t0|0\t0|0\t0|0\t0|0\t0|0\t0|0\t0|0\t0|0\t0|0\t0|0\t0|0\t0|0\t0|0\t0|0\t0|0\t0|0\t0|0\t0|0\t0|0\t0|0\t0|0\t0|0\t0|0\t0|0\t0|0\t0|0\t0|0\t0|0\t0|0\t0|0\t0|0\t0|0\t0|0\t0|0\t0|0\t0|0\t0|0\t0|0\t0|0\t0|0\t0|0\t0|0\t0|0\t0|0\t0|0\t0|0\t0|0\t0|0\t0|0\t0|0\t0|0\t0|0\t0|0\t0|0\t0|0\t0|0\t0|0\t0|0\t0|0\t0|0\t0|0\t0|0\t0|0\t0|0\t0|0\t0|0\t0|0\t0|0\t0|0\t0|0\t0|0\t0|0\t0|0\t0|0\t0|0\t0|0\t0|0\t0|0\t0|0\t0|0\t0|0\t0|0\t0|0\t0|0\t0|0\t0|0\t0|0\t0|0\t0|0\t0|0\t0|0\t0|0\t0|0\t0|0\t0|0\t0|0\t0|0\t0|0\t0|0\t0|0\t0|0\t0|0\t0|0\t0|0\t0|0\t0|0\t0|0\t0|0\t0|0\t0|0\t0|0\t0|0\t0|0\t0|0\t0|0\t0|0\t0|0\t0|0\t0|0\t0|0\t0|0\t0|0\t0|0\t0|0\t0|0\t0|0\t0|0\t0|0\t0|0\t0|0\t0|0\t0|0\t0|0\t0|0\t0|0\t0|0\t0|0\t0|0\t0|0\t0|0\t0|0\t0|0\t0|0\t0|0\t0|0\t0|0\t0|0\t0|0\t0|0\t0|0\t0|0\t0|0\t0|0\t0|0\t0|0\t0|0\t0|0\t0|0\t0|0\t0|0\t0|0\t0|0\t0|0\t0|0\t0|0\t0|0\t0|0\t0|0\t0|0\t0|0\t0|0\t0|0\t0|0\t0|0\t0|0\t0|0\t0|0\t0|0\t0|0\t0|0\t0|0\t0|0\t0|0\t0|0\t0|0\t0|0\t0|0\t0|0\t0|0\t0|0\t0|0\t0|0\t0|0\t0|0\t0|0\t0|0\t0|0\t0|0\t0|0\t0|0\t0|0\t0|0\t0|0\t0|0\t0|0\t0|0\t0|0\t0|0\t0|0\t0|0\t0|0\t0|0\t0|0\t0|0\t0|0\t0|0\t0|0\t0|0\t0|0\t0|0\t0|0\t0|0\t0|0\t0|0\t0|0\t0|0\t0|0\t0|0\t0|0\t0|0\t0|0\t0|0\t0|0\t0|0\t0|0\t0|0\t0|0\t0|0\t0|0\t0|0\t0|0\t0|0\t0|0\t0|0\t0|0\t0|0\t0|0\t0|0\t0|0\t0|0\t0|0\t0|0\t0|0\t0|0\t0|0\t0|0\t0|0\t0|0\t0|0\t0|0\t0|0\t0|0\t0|0\t0|0\t0|0\t0|0\t0|0\t0|0\t0|0\t0|0\t0|0\t0|0\t0|0\t0|0\t0|0\t0|0\t0|0\t0|0\t0|0\t0|0\t0|0\t0|0\t0|0\t0|0\t0|0\t0|0\t0|0\t0|0\t0|0\t0|0\t0|0\t0|0\t0|0\t0|0\t0|0\t0|0\t0|0\t0|0\t0|0\t0|0\t0|0\t0|0\t0|0\t0|0\t0|0\t0|0\t0|0\t0|0\t0|0\t0|0\t0|0\t0|0\t0|0\t0|0\t0|0\t0|0\t0|0\t0|0\t0|0\t0|0\t0|0\t0|0\t0|0\t0|0\t0|0\t0|0\t0|0\t0|0\t0|0\t0|0\t0|0\t0|0\t0|0\t0|0\t0|0\t0|0\t0|0\t0|0\t0|0\t0|0\t0|0\t0|0\t0|0\t0|0\t0|0\t0|0\t0|0\t0|0\t0|0\t0|0\t0|0\t0|0\t0|0\t0|0\t0|0\t0|0\t0|0\t0|0\t0|0\t0|0\t0|0\t0|0\t0|0\t0|0\t0|0\t0|0\t0|0\t0|0\t0|0\t0|0\t0|0\t0|0\t0|0\t0|0\t0|0\t0|0\t0|0\t0|0\t0|0\t0|0\t0|0\t0|0\t0|0\t0|0\t0|0\t0|0\t0|0\t0|0\t0|0\t0|0\t0|0\t0|0\t0|0\t0|0\t0|0\t0|0\t0|0\t0|0\t0|0\t0|0\t0|0\t0|0\t0|0\t0|0\t0|0\t0|0\t0|0\t0|0\t0|0\t0|0\t0|0\t0|0\t0|0\t0|0\t0|0\t0|0\t0|0\t0|0\t0|0\t0|0\t0|0\t0|0\t0|0\t0|0\t0|0\t0|0\t0|0\t0|0\t0|0\t0|0\t0|0\t0|0\t0|0\t0|0\t0|0\t0|0\t0|0\t0|0\t0|0\t0|0\t0|0\t0|0\t0|0\t0|0\t0|0\t0|0\t0|0\t0|0\t0|0\t0|0\t0|0\t0|0\t0|0\t0|0\t0|0\t0|0\t0|0\t0|0\t0|0\t0|0\t0|0\t0|0\t0|0\t0|0\t0|0\t0|0\t0|0\t0|0\t0|0\t0|0\t0|0\t0|0\t0|0\t0|0\t0|0\t0|0\t0|0\t0|0\t0|0\t0|0\t0|0\t0|0\t0|0\t0|0\t0|0\t0|0\t0|0\t0|0\t0|0\t0|0\t0|0\t0|0\t0|0\t0|0\t0|0\t0|0\t0|0\t0|0\t0|0\t0|0\t0|0\t0|0\t0|0\t0|0\t0|0\t0|0\t0|0\t0|0\t0|0\t0|0\t0|0\t0|0\t0|0\t0|0\t0|0\t0|0\t0|0\t0|0\t0|0\t0|0\t0|0\t0|0\t0|0\t0|0\t0|0\t0|0\t0|0\t0|0\t0|0\t0|0\t0|0\t0|0\t0|0\t0|0\t0|0\t0|0\t0|0\t0|0\t0|0\t0|0\t0|0\t0|0\t0|0\t0|0\t0|0\t0|0\t0|0\t0|0\t0|0\t0|0\t0|0\t0|0\t0|0\t0|0\t0|0\t0|0\t0|0\t0|0\t0|0\t0|0\t0|0\t0|0\t0|0\t0|0\t0|0\t0|0\t0|0\t0|0\t0|0\t0|0\t0|0\t0|0\t0|0\t0|0\t0|0\t0|0\t0|0\t0|0\t0|0\t0|0\t0|0\t0|0\t0|0\t0|0\t0|0\t0|0\t0|0\t0|0\t0|0\t0|0\t0|0\t0|0\t0|0\t0|0\t0|0\t0|0\t0|0\t0|0\t0|0\t0|0\t0|0\t0|0\t0|0\t0|0\t0|0\t0|0\t0|0\t0|0\t0|0\t0|0\t0|0\t0|0\t0|0\t0|0\t0|0\t0|0\t0|0\t0|0\t0|0\t0|0\t0|0\t0|0\t0|0\t0|0\t0|0\t0|0\t0|0\t0|0\t0|0\t0|0\t0|0\t0|0\t0|0\t0|0\t0|0\t0|0\t0|0\t0|0\t0|0\t0|0\t0|0\t0|0\t0|0\t0|0\t0|0\t0|0\t0|0\t0|0\t0|0\t0|0\t0|0\t0|0\t0|0\t0|0\t0|0\t0|0\t0|0\t0|0\t0|0\t0|0\t0|0\t0|0\t0|0\t0|0\t0|0\t0|0\t0|0\t0|0\t0|0\t0|0\t0|0\t0|0\t0|0\t0|0\t0|0\t0|0\t0|0\t0|0\t0|0\t0|0\t0|0\t0|0\t0|0\t0|0\t0|0\t0|0\t0|0\t0|0\t0|0\t0|0\t0|0\t0|0\t0|0\t0|0\t0|0\t0|0\t0|0\t0|0\t0|0\t0|0\t0|0\t0|0\t0|0\t0|0\t0|0\t0|0\t0|0\t0|0\t0|0\t0|0\t0|0\t0|0\t0|0\t0|0\t0|0\t0|0\t0|0\t0|0\t0|0\t0|0\t0|0\t0|0\t0|0\t0|0\t0|0\t0|0\t0|0\t0|0\t0|0\t0|0\t0|0\t0|0\t0|0\t0|0\t0|0\t0|0\t0|0\t0|0\t0|0\t0|0\t0|0\t0|0\t0|0\t0|0\t0|0\t0|0\t0|0\t0|0\t0|0\t0|0\t0|0\t0|0\t0|0\t0|0\t0|0\t0|0\t0|0\t0|0\t0|0\t0|0\t0|0\t0|0\t0|0\t0|0\t0|0\t0|0\t0|0\t0|0\t0|0\t0|0\t0|0\t0|0\t0|0\t0|0\t0|0\t0|0\t0|0\t0|0\t0|0\t0|0\t0|0\t0|0\t0|0\t0|0\t0|0\t0|0\t0|0\t0|0\t0|0\t0|0\t0|0\t0|0\t0|0\t0|0\t0|0\t0|0\t0|0\t0|0\t0|0\t0|0\t0|0\t0|0\t0|0\t0|0\t0|0\t0|0\t0|0\t0|0\t0|0\t0|0\t0|0\t0|0\t0|0\t0|0\t0|0\t0|0\t0|0\t0|0\t0|0\t0|0\t0|0\t0|0\t0|0\t0|0\t0|0\t0|0\t0|0\t0|0\t0|0\t0|0\t0|0\t0|0\t0|0\t0|0\t0|0\t0|0\t0|0\t0|0\t0|0\t0|0\t0|0\t0|0\t0|0\t0|0\t0|0\t0|0\t0|0\t0|0\t0|0\t0|0\r\n",
      "chr11\t5285252\trs548259300\tT\tG\t100\tPASS\tAC=2;AF=0.000399361;AN=5008;NS=2504;DP=17096;EAS_AF=0;AMR_AF=0;AFR_AF=0;EUR_AF=0;SAS_AF=0.002;AA=T|||;VT=SNP\tGT\t0|0\t0|0\t0|0\t0|0\t0|0\t0|0\t0|0\t0|0\t0|0\t0|0\t0|0\t0|0\t0|0\t0|0\t0|0\t0|0\t0|0\t0|0\t0|0\t0|0\t0|0\t0|0\t0|0\t0|0\t0|0\t0|0\t0|0\t0|0\t0|0\t0|0\t0|0\t0|0\t0|0\t0|0\t0|0\t0|0\t0|0\t0|0\t0|0\t0|0\t0|0\t0|0\t0|0\t0|0\t0|0\t0|0\t0|0\t0|0\t0|0\t0|0\t0|0\t0|0\t0|0\t0|0\t0|0\t0|0\t0|0\t0|0\t0|0\t0|0\t0|0\t0|0\t0|0\t0|0\t0|0\t0|0\t0|0\t0|0\t0|0\t0|0\t0|0\t0|0\t0|0\t0|0\t0|0\t0|0\t0|0\t0|0\t0|0\t0|0\t0|0\t0|0\t0|0\t0|0\t0|0\t0|0\t0|0\t0|0\t0|0\t0|0\t0|0\t0|0\t0|0\t0|0\t0|0\t0|0\t0|0\t0|0\t0|0\t0|0\t0|0\t0|0\t0|0\t0|0\t0|0\t0|0\t0|0\t0|0\t0|0\t0|0\t0|0\t0|0\t0|0\t0|0\t0|0\t0|0\t0|0\t0|0\t0|0\t0|0\t0|0\t0|0\t0|0\t0|0\t0|0\t0|0\t0|0\t0|0\t0|0\t0|0\t0|0\t0|0\t0|0\t0|0\t0|0\t0|0\t0|0\t0|0\t0|0\t0|0\t0|0\t0|0\t0|0\t0|0\t0|0\t0|0\t0|0\t0|0\t0|0\t0|0\t0|0\t0|0\t0|0\t0|0\t0|0\t0|0\t0|0\t0|0\t0|0\t0|0\t0|0\t0|0\t0|0\t0|0\t0|0\t0|0\t0|0\t0|0\t0|0\t0|0\t0|0\t0|0\t0|0\t0|0\t0|0\t0|0\t0|0\t0|0\t0|0\t0|0\t0|0\t0|0\t0|0\t0|0\t0|0\t0|0\t0|0\t0|0\t0|0\t0|0\t0|0\t0|0\t0|0\t0|0\t0|0\t0|0\t0|0\t0|0\t0|0\t0|0\t0|0\t0|0\t0|0\t0|0\t0|0\t0|0\t0|0\t0|0\t0|0\t0|0\t0|0\t0|0\t0|0\t0|0\t0|0\t0|0\t0|0\t0|0\t0|0\t0|0\t0|0\t0|0\t0|0\t0|0\t0|0\t0|0\t0|0\t0|0\t0|0\t0|0\t0|0\t0|0\t0|0\t0|0\t0|0\t0|0\t0|0\t0|0\t0|0\t0|0\t0|0\t0|0\t0|0\t0|0\t0|0\t0|0\t0|0\t0|0\t0|0\t0|0\t0|0\t0|0\t0|0\t0|0\t0|0\t0|0\t0|0\t0|0\t0|0\t0|0\t0|0\t0|0\t0|0\t0|0\t0|0\t0|0\t0|0\t0|0\t0|0\t0|0\t0|0\t0|0\t0|0\t0|0\t0|0\t0|0\t0|0\t0|0\t0|0\t0|0\t0|0\t0|0\t0|0\t0|0\t0|0\t0|0\t0|0\t0|0\t0|0\t0|0\t0|0\t0|0\t0|0\t0|0\t0|0\t0|0\t0|0\t0|0\t0|0\t0|0\t0|0\t0|0\t0|0\t0|0\t0|0\t0|0\t0|0\t0|0\t0|0\t0|0\t0|0\t0|0\t0|0\t0|0\t0|0\t0|0\t0|0\t0|0\t0|0\t0|0\t0|0\t0|0\t0|0\t0|0\t0|0\t0|0\t0|0\t0|0\t0|0\t0|0\t0|0\t0|0\t0|0\t0|0\t0|0\t0|0\t0|0\t0|0\t0|0\t0|0\t0|0\t0|0\t0|0\t0|0\t0|0\t0|0\t0|0\t0|0\t0|0\t0|0\t0|0\t0|0\t0|0\t0|0\t0|0\t0|0\t0|0\t0|0\t0|0\t0|0\t0|0\t0|0\t0|0\t0|0\t0|0\t0|0\t0|0\t0|0\t0|0\t0|0\t0|0\t0|0\t0|0\t0|0\t0|0\t0|0\t0|0\t0|0\t0|0\t0|0\t0|0\t0|0\t0|0\t0|0\t0|0\t0|0\t0|0\t0|0\t0|0\t0|0\t0|0\t0|0\t0|0\t0|0\t0|0\t0|0\t0|0\t0|0\t0|0\t0|0\t0|0\t0|0\t0|0\t0|0\t0|0\t0|0\t0|0\t0|0\t0|0\t0|0\t0|0\t0|0\t0|0\t0|0\t0|0\t0|0\t0|0\t0|0\t0|0\t0|0\t0|0\t0|0\t0|0\t0|0\t0|0\t0|0\t0|0\t0|0\t0|0\t0|0\t0|0\t0|0\t0|0\t0|0\t0|0\t0|0\t0|0\t0|0\t0|0\t0|0\t0|0\t0|0\t0|0\t0|0\t0|0\t0|0\t0|0\t0|0\t0|0\t0|0\t0|0\t0|0\t0|0\t0|0\t0|0\t0|0\t0|0\t0|0\t0|0\t0|0\t0|0\t0|0\t0|0\t0|0\t0|0\t0|0\t0|0\t0|0\t0|0\t0|0\t0|0\t0|0\t0|0\t0|0\t0|0\t0|0\t0|0\t0|0\t0|0\t0|0\t0|0\t0|0\t0|0\t0|0\t0|0\t0|0\t0|0\t0|0\t0|0\t0|0\t0|0\t0|0\t0|0\t0|0\t0|0\t0|0\t0|0\t0|0\t0|0\t0|0\t0|0\t0|0\t0|0\t0|0\t0|0\t0|0\t0|0\t0|0\t0|0\t0|0\t0|0\t0|0\t0|0\t0|0\t0|0\t0|0\t0|0\t0|0\t0|0\t0|0\t0|0\t0|0\t0|0\t0|0\t0|0\t0|0\t0|0\t0|0\t0|0\t0|0\t0|0\t0|0\t0|0\t0|0\t0|0\t0|0\t0|0\t0|0\t0|0\t0|0\t0|0\t0|0\t0|0\t0|0\t0|0\t0|0\t0|0\t0|0\t0|0\t0|0\t0|0\t0|0\t0|0\t0|0\t0|0\t0|0\t0|0\t0|0\t0|0\t0|0\t0|0\t0|0\t0|0\t0|0\t0|0\t0|0\t0|0\t0|0\t0|0\t0|0\t0|0\t0|0\t0|0\t0|0\t0|0\t0|0\t0|0\t0|0\t0|0\t0|0\t0|0\t0|0\t0|0\t0|0\t0|0\t0|0\t0|0\t0|0\t0|0\t0|0\t0|0\t0|0\t0|0\t0|0\t0|0\t0|0\t0|0\t0|0\t0|0\t0|0\t0|0\t0|0\t0|0\t0|0\t0|0\t0|0\t0|0\t0|0\t0|0\t0|0\t0|0\t0|0\t0|0\t0|0\t0|0\t0|0\t0|0\t0|0\t0|0\t0|0\t0|0\t0|0\t0|0\t0|0\t0|0\t0|0\t0|0\t0|0\t0|0\t0|0\t0|0\t0|0\t0|0\t0|0\t0|0\t0|0\t0|0\t0|0\t0|0\t0|0\t0|0\t0|0\t0|0\t0|0\t0|0\t0|0\t0|0\t0|0\t0|0\t0|0\t0|0\t0|0\t0|0\t0|0\t0|0\t0|0\t0|0\t0|0\t0|0\t0|0\t0|0\t0|0\t0|0\t0|0\t0|0\t0|0\t0|0\t0|0\t0|0\t0|0\t0|0\t0|0\t0|0\t0|0\t0|0\t0|0\t0|0\t0|0\t0|0\t0|0\t0|0\t0|0\t0|0\t0|0\t0|0\t0|0\t0|0\t0|0\t0|0\t0|0\t0|0\t0|0\t0|0\t0|0\t0|0\t0|0\t0|0\t0|0\t0|0\t0|0\t0|0\t0|0\t0|0\t0|0\t0|0\t0|0\t0|0\t0|0\t0|0\t0|0\t0|0\t0|0\t0|0\t0|0\t0|0\t0|0\t0|0\t0|0\t0|0\t0|0\t0|0\t0|0\t0|0\t0|0\t0|0\t0|0\t0|0\t0|0\t0|0\t0|0\t0|0\t0|0\t0|0\t0|0\t0|0\t0|0\t0|0\t0|0\t0|0\t0|0\t0|0\t0|0\t0|0\t0|0\t0|0\t0|0\t0|0\t0|0\t0|0\t0|0\t0|0\t0|0\t0|0\t0|0\t0|0\t0|0\t0|0\t0|0\t0|0\t0|0\t0|0\t0|0\t0|0\t0|0\t0|0\t0|0\t0|0\t0|0\t0|0\t0|0\t0|0\t0|0\t0|0\t0|0\t0|0\t0|0\t0|0\t0|0\t0|0\t0|0\t0|0\t0|0\t0|0\t0|0\t0|0\t0|0\t0|0\t0|0\t0|0\t0|0\t0|0\t0|0\t0|0\t0|0\t0|0\t0|0\t0|0\t0|0\t0|0\t0|0\t0|0\t0|0\t0|0\t0|0\t0|0\t0|0\t0|0\t0|0\t0|0\t0|0\t0|0\t0|0\t0|0\t0|0\t0|0\t0|0\t0|0\t0|0\t0|0\t0|0\t0|0\t0|0\t0|0\t0|0\t0|0\t0|0\t0|0\t0|0\t0|0\t0|0\t0|0\t0|0\t0|0\t0|0\t0|0\t0|0\t0|0\t0|0\t0|0\t0|0\t0|0\t0|0\t0|0\t0|0\t0|0\t0|0\t0|0\t0|0\t0|0\t0|0\t0|0\t0|0\t0|0\t0|0\t0|0\t0|0\t0|0\t0|0\t0|0\t0|0\t0|0\t0|0\t0|0\t0|0\t0|0\t0|0\t0|0\t0|0\t0|0\t0|0\t0|0\t0|0\t0|0\t0|0\t0|0\t0|0\t0|0\t0|0\t0|0\t0|0\t0|0\t0|0\t0|0\t0|0\t0|0\t0|0\t0|0\t0|0\t0|0\t0|0\t0|0\t0|0\t0|0\t0|0\t0|0\t0|0\t0|0\t0|0\t0|0\t0|0\t0|0\t0|0\t0|0\t0|0\t0|0\t0|0\t0|0\t0|0\t0|0\t0|0\t0|0\t0|0\t0|0\t0|0\t0|0\t0|0\t0|0\t0|0\t0|0\t0|0\t0|0\t0|0\t0|0\t0|0\t0|0\t0|0\t0|0\t0|0\t0|0\t0|0\t0|0\t0|0\t0|0\t0|0\t0|0\t0|0\t0|0\t0|0\t0|0\t0|0\t0|0\t0|0\t0|0\t0|0\t0|0\t0|0\t0|0\t0|0\t0|0\t0|0\t0|0\t0|0\t0|0\t0|0\t0|0\t0|0\t0|0\t0|0\t0|0\t0|0\t0|0\t1|0\t0|0\t0|0\t0|0\t0|0\t0|0\t0|0\t0|0\t0|0\t0|0\t0|0\t0|0\t0|0\t0|0\t0|0\t0|0\t0|0\t0|0\t0|0\t0|0\t0|0\t0|0\t0|0\t0|0\t0|0\t0|0\t0|0\t0|0\t0|0\t0|0\t0|0\t0|0\t0|0\t0|0\t0|0\t0|0\t0|0\t0|0\t0|0\t0|0\t0|0\t0|0\t0|0\t0|0\t0|0\t0|0\t0|0\t0|0\t0|0\t0|0\t0|0\t0|0\t0|0\t0|0\t0|0\t0|0\t0|0\t0|0\t0|0\t0|0\t0|0\t0|0\t0|0\t0|0\t0|0\t0|0\t0|0\t0|0\t0|0\t0|0\t0|0\t0|0\t0|0\t0|0\t0|0\t0|0\t0|0\t0|0\t0|0\t0|0\t0|0\t0|0\t0|0\t0|0\t0|0\t0|0\t0|0\t0|0\t0|0\t0|0\t0|0\t0|0\t0|0\t0|0\t0|0\t0|0\t0|0\t0|0\t0|0\t0|0\t0|0\t0|0\t0|0\t0|1\t0|0\t0|0\t0|0\t0|0\t0|0\t0|0\t0|0\t0|0\t0|0\t0|0\t0|0\t0|0\t0|0\t0|0\t0|0\t0|0\t0|0\t0|0\t0|0\t0|0\t0|0\t0|0\t0|0\t0|0\t0|0\t0|0\t0|0\t0|0\t0|0\t0|0\t0|0\t0|0\t0|0\t0|0\t0|0\t0|0\t0|0\t0|0\t0|0\t0|0\t0|0\t0|0\t0|0\t0|0\t0|0\t0|0\t0|0\t0|0\t0|0\t0|0\t0|0\t0|0\t0|0\t0|0\t0|0\t0|0\t0|0\t0|0\t0|0\t0|0\t0|0\t0|0\t0|0\t0|0\t0|0\t0|0\t0|0\t0|0\t0|0\t0|0\t0|0\t0|0\t0|0\t0|0\t0|0\t0|0\t0|0\t0|0\t0|0\t0|0\t0|0\t0|0\t0|0\t0|0\t0|0\t0|0\t0|0\t0|0\t0|0\t0|0\t0|0\t0|0\t0|0\t0|0\t0|0\t0|0\t0|0\t0|0\t0|0\t0|0\t0|0\t0|0\t0|0\t0|0\t0|0\t0|0\t0|0\t0|0\t0|0\t0|0\t0|0\t0|0\t0|0\t0|0\t0|0\t0|0\t0|0\t0|0\t0|0\t0|0\t0|0\t0|0\t0|0\t0|0\t0|0\t0|0\t0|0\t0|0\t0|0\t0|0\t0|0\t0|0\t0|0\t0|0\t0|0\t0|0\t0|0\t0|0\t0|0\t0|0\t0|0\t0|0\t0|0\t0|0\t0|0\t0|0\t0|0\t0|0\t0|0\t0|0\t0|0\t0|0\t0|0\t0|0\t0|0\t0|0\t0|0\t0|0\t0|0\t0|0\t0|0\t0|0\t0|0\t0|0\t0|0\t0|0\t0|0\t0|0\t0|0\t0|0\t0|0\t0|0\t0|0\t0|0\t0|0\t0|0\t0|0\t0|0\t0|0\t0|0\t0|0\t0|0\t0|0\t0|0\t0|0\t0|0\t0|0\t0|0\t0|0\t0|0\t0|0\t0|0\t0|0\t0|0\t0|0\t0|0\t0|0\t0|0\t0|0\t0|0\t0|0\t0|0\t0|0\t0|0\t0|0\t0|0\t0|0\t0|0\t0|0\t0|0\t0|0\t0|0\t0|0\t0|0\t0|0\t0|0\t0|0\t0|0\t0|0\t0|0\t0|0\t0|0\t0|0\t0|0\t0|0\t0|0\t0|0\t0|0\t0|0\t0|0\t0|0\t0|0\t0|0\t0|0\t0|0\t0|0\t0|0\t0|0\t0|0\t0|0\t0|0\t0|0\t0|0\t0|0\t0|0\t0|0\t0|0\t0|0\t0|0\t0|0\t0|0\t0|0\t0|0\t0|0\t0|0\t0|0\t0|0\t0|0\t0|0\t0|0\t0|0\t0|0\t0|0\t0|0\t0|0\t0|0\t0|0\t0|0\t0|0\t0|0\t0|0\t0|0\t0|0\t0|0\t0|0\t0|0\t0|0\t0|0\t0|0\t0|0\t0|0\t0|0\t0|0\t0|0\t0|0\t0|0\t0|0\t0|0\t0|0\t0|0\t0|0\t0|0\t0|0\t0|0\t0|0\t0|0\t0|0\t0|0\t0|0\t0|0\t0|0\t0|0\t0|0\t0|0\t0|0\t0|0\t0|0\t0|0\t0|0\t0|0\t0|0\t0|0\t0|0\t0|0\t0|0\t0|0\t0|0\t0|0\t0|0\t0|0\t0|0\t0|0\t0|0\t0|0\t0|0\t0|0\t0|0\t0|0\t0|0\t0|0\t0|0\t0|0\t0|0\t0|0\t0|0\t0|0\t0|0\t0|0\t0|0\t0|0\t0|0\t0|0\t0|0\t0|0\t0|0\t0|0\t0|0\t0|0\t0|0\t0|0\t0|0\t0|0\t0|0\t0|0\t0|0\t0|0\t0|0\t0|0\t0|0\t0|0\t0|0\t0|0\t0|0\t0|0\t0|0\t0|0\t0|0\t0|0\t0|0\t0|0\t0|0\t0|0\t0|0\t0|0\t0|0\t0|0\t0|0\t0|0\t0|0\t0|0\t0|0\t0|0\t0|0\t0|0\t0|0\t0|0\t0|0\t0|0\t0|0\t0|0\t0|0\t0|0\t0|0\t0|0\t0|0\t0|0\t0|0\t0|0\t0|0\t0|0\t0|0\t0|0\t0|0\t0|0\t0|0\t0|0\t0|0\t0|0\t0|0\t0|0\t0|0\t0|0\t0|0\t0|0\t0|0\t0|0\t0|0\t0|0\t0|0\t0|0\t0|0\t0|0\t0|0\t0|0\t0|0\t0|0\t0|0\t0|0\t0|0\t0|0\t0|0\t0|0\t0|0\t0|0\t0|0\t0|0\t0|0\t0|0\t0|0\t0|0\t0|0\t0|0\t0|0\t0|0\t0|0\t0|0\t0|0\t0|0\t0|0\t0|0\t0|0\t0|0\t0|0\t0|0\t0|0\t0|0\t0|0\t0|0\t0|0\t0|0\t0|0\t0|0\t0|0\t0|0\t0|0\t0|0\t0|0\t0|0\t0|0\t0|0\t0|0\t0|0\t0|0\t0|0\t0|0\t0|0\t0|0\t0|0\t0|0\t0|0\t0|0\t0|0\t0|0\t0|0\t0|0\t0|0\t0|0\t0|0\t0|0\t0|0\t0|0\t0|0\t0|0\t0|0\t0|0\t0|0\t0|0\t0|0\t0|0\t0|0\t0|0\t0|0\t0|0\t0|0\t0|0\t0|0\t0|0\t0|0\t0|0\t0|0\t0|0\t0|0\t0|0\t0|0\t0|0\t0|0\t0|0\t0|0\t0|0\t0|0\t0|0\t0|0\t0|0\t0|0\t0|0\t0|0\t0|0\t0|0\t0|0\t0|0\t0|0\t0|0\t0|0\t0|0\t0|0\t0|0\t0|0\t0|0\t0|0\t0|0\t0|0\t0|0\t0|0\t0|0\t0|0\t0|0\t0|0\t0|0\t0|0\t0|0\t0|0\t0|0\t0|0\t0|0\t0|0\t0|0\t0|0\t0|0\t0|0\t0|0\t0|0\t0|0\t0|0\t0|0\t0|0\t0|0\t0|0\t0|0\t0|0\t0|0\t0|0\t0|0\t0|0\t0|0\t0|0\t0|0\t0|0\t0|0\t0|0\t0|0\t0|0\t0|0\t0|0\t0|0\t0|0\t0|0\t0|0\t0|0\t0|0\t0|0\t0|0\t0|0\t0|0\t0|0\t0|0\t0|0\t0|0\t0|0\t0|0\t0|0\t0|0\t0|0\t0|0\t0|0\t0|0\t0|0\t0|0\t0|0\t0|0\t0|0\t0|0\t0|0\t0|0\t0|0\t0|0\t0|0\t0|0\t0|0\t0|0\t0|0\t0|0\t0|0\t0|0\t0|0\t0|0\t0|0\t0|0\t0|0\t0|0\t0|0\t0|0\t0|0\t0|0\t0|0\t0|0\t0|0\t0|0\t0|0\t0|0\t0|0\t0|0\t0|0\t0|0\t0|0\t0|0\t0|0\t0|0\t0|0\t0|0\t0|0\t0|0\t0|0\t0|0\t0|0\t0|0\t0|0\t0|0\t0|0\t0|0\t0|0\t0|0\t0|0\t0|0\t0|0\t0|0\t0|0\t0|0\t0|0\t0|0\t0|0\t0|0\t0|0\t0|0\t0|0\t0|0\t0|0\t0|0\t0|0\t0|0\t0|0\t0|0\t0|0\t0|0\t0|0\t0|0\t0|0\t0|0\t0|0\t0|0\t0|0\t0|0\t0|0\t0|0\t0|0\t0|0\t0|0\t0|0\t0|0\t0|0\t0|0\t0|0\t0|0\t0|0\t0|0\t0|0\t0|0\t0|0\t0|0\t0|0\t0|0\t0|0\t0|0\t0|0\t0|0\t0|0\t0|0\t0|0\t0|0\t0|0\t0|0\t0|0\t0|0\t0|0\t0|0\t0|0\t0|0\t0|0\t0|0\t0|0\t0|0\t0|0\t0|0\t0|0\t0|0\t0|0\t0|0\t0|0\t0|0\t0|0\t0|0\t0|0\t0|0\t0|0\t0|0\t0|0\t0|0\t0|0\t0|0\t0|0\t0|0\t0|0\t0|0\t0|0\t0|0\t0|0\t0|0\t0|0\t0|0\t0|0\t0|0\t0|0\t0|0\t0|0\t0|0\t0|0\t0|0\t0|0\t0|0\t0|0\t0|0\t0|0\t0|0\t0|0\t0|0\t0|0\t0|0\t0|0\t0|0\t0|0\t0|0\t0|0\t0|0\t0|0\t0|0\t0|0\t0|0\t0|0\t0|0\t0|0\t0|0\t0|0\t0|0\t0|0\t0|0\t0|0\t0|0\t0|0\t0|0\t0|0\t0|0\t0|0\t0|0\t0|0\t0|0\t0|0\t0|0\t0|0\t0|0\t0|0\t0|0\t0|0\t0|0\t0|0\t0|0\t0|0\t0|0\t0|0\t0|0\t0|0\t0|0\t0|0\t0|0\t0|0\t0|0\t0|0\t0|0\t0|0\t0|0\t0|0\t0|0\t0|0\t0|0\t0|0\t0|0\t0|0\t0|0\t0|0\t0|0\t0|0\t0|0\t0|0\t0|0\t0|0\t0|0\t0|0\t0|0\t0|0\t0|0\t0|0\t0|0\t0|0\t0|0\t0|0\t0|0\t0|0\t0|0\t0|0\t0|0\t0|0\t0|0\t0|0\t0|0\t0|0\t0|0\t0|0\t0|0\t0|0\t0|0\t0|0\t0|0\t0|0\t0|0\t0|0\t0|0\t0|0\t0|0\t0|0\t0|0\t0|0\t0|0\t0|0\t0|0\t0|0\t0|0\t0|0\t0|0\t0|0\t0|0\t0|0\t0|0\t0|0\t0|0\t0|0\t0|0\t0|0\t0|0\t0|0\t0|0\t0|0\t0|0\t0|0\t0|0\t0|0\t0|0\t0|0\t0|0\t0|0\t0|0\t0|0\t0|0\t0|0\t0|0\t0|0\t0|0\t0|0\t0|0\t0|0\t0|0\t0|0\t0|0\t0|0\t0|0\t0|0\t0|0\t0|0\t0|0\t0|0\t0|0\t0|0\t0|0\t0|0\t0|0\t0|0\t0|0\t0|0\t0|0\t0|0\t0|0\t0|0\t0|0\t0|0\t0|0\t0|0\t0|0\t0|0\t0|0\t0|0\t0|0\t0|0\t0|0\t0|0\t0|0\t0|0\t0|0\t0|0\t0|0\t0|0\t0|0\t0|0\t0|0\t0|0\t0|0\t0|0\t0|0\t0|0\t0|0\t0|0\t0|0\t0|0\t0|0\t0|0\t0|0\t0|0\t0|0\t0|0\t0|0\t0|0\t0|0\t0|0\t0|0\t0|0\t0|0\t0|0\t0|0\t0|0\t0|0\t0|0\t0|0\t0|0\t0|0\t0|0\t0|0\t0|0\t0|0\t0|0\t0|0\t0|0\t0|0\t0|0\t0|0\t0|0\t0|0\t0|0\t0|0\t0|0\t0|0\t0|0\t0|0\t0|0\t0|0\t0|0\t0|0\t0|0\t0|0\t0|0\t0|0\t0|0\t0|0\t0|0\t0|0\t0|0\t0|0\t0|0\t0|0\t0|0\t0|0\t0|0\t0|0\t0|0\t0|0\t0|0\t0|0\t0|0\t0|0\t0|0\t0|0\t0|0\t0|0\t0|0\t0|0\t0|0\t0|0\t0|0\t0|0\t0|0\t0|0\t0|0\t0|0\t0|0\t0|0\t0|0\t0|0\t0|0\t0|0\t0|0\t0|0\t0|0\t0|0\t0|0\t0|0\t0|0\t0|0\t0|0\t0|0\t0|0\t0|0\t0|0\t0|0\t0|0\t0|0\t0|0\t0|0\t0|0\t0|0\t0|0\t0|0\t0|0\t0|0\t0|0\t0|0\t0|0\t0|0\t0|0\t0|0\t0|0\t0|0\t0|0\t0|0\t0|0\t0|0\t0|0\t0|0\t0|0\t0|0\t0|0\t0|0\t0|0\t0|0\t0|0\t0|0\t0|0\t0|0\t0|0\t0|0\t0|0\t0|0\t0|0\t0|0\t0|0\t0|0\t0|0\t0|0\t0|0\t0|0\t0|0\t0|0\t0|0\t0|0\t0|0\t0|0\t0|0\t0|0\t0|0\t0|0\t0|0\t0|0\t0|0\t0|0\t0|0\t0|0\t0|0\t0|0\t0|0\t0|0\t0|0\t0|0\t0|0\t0|0\t0|0\t0|0\t0|0\t0|0\t0|0\t0|0\t0|0\t0|0\t0|0\t0|0\t0|0\t0|0\t0|0\t0|0\t0|0\t0|0\t0|0\t0|0\t0|0\t0|0\t0|0\t0|0\t0|0\t0|0\t0|0\t0|0\t0|0\t0|0\t0|0\t0|0\t0|0\t0|0\t0|0\t0|0\t0|0\t0|0\t0|0\t0|0\t0|0\t0|0\t0|0\t0|0\t0|0\t0|0\t0|0\t0|0\t0|0\t0|0\t0|0\t0|0\t0|0\t0|0\t0|0\t0|0\t0|0\t0|0\t0|0\t0|0\t0|0\t0|0\t0|0\t0|0\t0|0\t0|0\t0|0\t0|0\t0|0\t0|0\t0|0\t0|0\t0|0\t0|0\t0|0\t0|0\t0|0\t0|0\t0|0\t0|0\t0|0\t0|0\t0|0\t0|0\t0|0\t0|0\t0|0\t0|0\t0|0\t0|0\t0|0\t0|0\t0|0\t0|0\t0|0\t0|0\t0|0\t0|0\t0|0\t0|0\t0|0\t0|0\t0|0\t0|0\t0|0\t0|0\t0|0\t0|0\t0|0\t0|0\t0|0\t0|0\t0|0\t0|0\t0|0\t0|0\t0|0\t0|0\t0|0\t0|0\t0|0\t0|0\t0|0\t0|0\t0|0\t0|0\t0|0\t0|0\t0|0\t0|0\t0|0\t0|0\t0|0\t0|0\t0|0\t0|0\t0|0\t0|0\t0|0\t0|0\t0|0\t0|0\t0|0\t0|0\t0|0\t0|0\t0|0\t0|0\t0|0\t0|0\t0|0\t0|0\t0|0\t0|0\t0|0\t0|0\t0|0\t0|0\t0|0\t0|0\t0|0\t0|0\t0|0\t0|0\t0|0\t0|0\t0|0\t0|0\t0|0\t0|0\t0|0\t0|0\t0|0\t0|0\t0|0\t0|0\t0|0\t0|0\t0|0\t0|0\t0|0\t0|0\t0|0\t0|0\t0|0\t0|0\t0|0\t0|0\t0|0\t0|0\t0|0\t0|0\t0|0\t0|0\t0|0\t0|0\t0|0\t0|0\t0|0\t0|0\t0|0\t0|0\t0|0\t0|0\t0|0\t0|0\t0|0\t0|0\t0|0\t0|0\t0|0\t0|0\t0|0\t0|0\t0|0\t0|0\t0|0\t0|0\t0|0\t0|0\t0|0\t0|0\t0|0\t0|0\t0|0\t0|0\t0|0\t0|0\t0|0\t0|0\t0|0\t0|0\t0|0\t0|0\t0|0\t0|0\t0|0\t0|0\t0|0\t0|0\t0|0\t0|0\t0|0\t0|0\t0|0\t0|0\t0|0\t0|0\t0|0\t0|0\t0|0\t0|0\t0|0\t0|0\t0|0\t0|0\t0|0\t0|0\t0|0\t0|0\t0|0\t0|0\t0|0\t0|0\t0|0\t0|0\t0|0\t0|0\t0|0\t0|0\t0|0\t0|0\t0|0\t0|0\t0|0\t0|0\t0|0\t0|0\t0|0\t0|0\t0|0\t0|0\t0|0\t0|0\t0|0\t0|0\t0|0\t0|0\t0|0\t0|0\t0|0\t0|0\t0|0\t0|0\t0|0\t0|0\t0|0\t0|0\t0|0\t0|0\t0|0\t0|0\t0|0\r\n",
      "chr11\t5285254\trs189971387\tT\tC\t100\tPASS\tAC=4;AF=0.000798722;AN=5008;NS=2504;DP=17091;EAS_AF=0;AMR_AF=0;AFR_AF=0.003;EUR_AF=0;SAS_AF=0;AA=T|||;VT=SNP\tGT\t0|0\t0|0\t0|0\t0|0\t0|0\t0|0\t0|0\t0|0\t0|0\t0|0\t0|0\t0|0\t0|0\t0|0\t0|0\t0|0\t0|0\t0|0\t0|0\t0|0\t0|0\t0|0\t0|0\t0|0\t0|0\t0|0\t0|0\t0|0\t0|0\t0|0\t0|0\t0|0\t0|0\t0|0\t0|0\t0|0\t0|0\t0|0\t0|0\t0|0\t0|0\t0|0\t0|0\t0|0\t0|0\t0|0\t0|0\t0|0\t0|0\t0|0\t0|0\t0|0\t0|0\t0|0\t0|0\t0|0\t0|0\t0|0\t0|0\t0|0\t0|0\t0|0\t0|0\t0|0\t0|0\t0|0\t0|0\t0|0\t0|0\t0|0\t0|0\t0|0\t0|0\t0|0\t0|0\t0|0\t0|0\t0|0\t0|0\t0|0\t0|0\t0|0\t0|0\t0|0\t0|0\t0|0\t0|0\t0|0\t0|0\t0|0\t0|0\t0|0\t0|0\t0|0\t0|0\t0|0\t0|0\t0|0\t0|0\t0|0\t0|0\t0|0\t0|0\t0|0\t0|0\t0|0\t0|0\t0|0\t0|0\t0|0\t0|0\t0|0\t0|0\t0|0\t0|0\t0|0\t0|0\t0|0\t0|0\t0|0\t0|0\t0|0\t0|0\t0|0\t0|0\t0|0\t0|0\t0|0\t0|0\t0|0\t0|0\t0|0\t0|0\t0|0\t0|0\t0|0\t0|0\t0|0\t0|0\t0|0\t0|0\t0|0\t0|0\t0|0\t0|0\t0|0\t0|0\t0|0\t0|0\t0|0\t0|0\t0|0\t0|0\t0|0\t0|0\t0|0\t0|0\t0|0\t0|0\t0|0\t0|0\t0|0\t0|0\t0|0\t0|0\t0|0\t0|0\t0|0\t0|0\t0|0\t0|0\t0|0\t0|0\t0|0\t0|0\t0|0\t0|0\t0|0\t0|0\t0|0\t0|0\t0|0\t0|0\t0|0\t0|0\t0|0\t0|0\t0|0\t0|0\t0|0\t0|0\t0|0\t0|0\t0|0\t0|0\t0|0\t0|0\t0|0\t0|0\t0|0\t0|0\t0|0\t0|0\t0|0\t0|0\t0|0\t0|0\t0|0\t0|0\t0|0\t0|0\t0|0\t0|0\t0|0\t0|0\t0|0\t0|0\t0|0\t0|0\t0|0\t0|0\t0|0\t0|0\t0|0\t0|0\t0|0\t0|0\t0|0\t0|0\t0|0\t0|0\t0|0\t0|0\t0|0\t0|0\t0|0\t0|0\t0|0\t0|0\t0|0\t0|0\t0|0\t0|0\t0|0\t0|0\t0|0\t0|0\t0|0\t0|0\t0|0\t0|0\t0|0\t0|0\t0|0\t0|0\t0|0\t0|0\t0|0\t0|0\t0|0\t0|0\t0|0\t0|0\t0|0\t0|0\t0|0\t0|0\t0|0\t0|0\t0|0\t0|0\t0|0\t0|0\t0|0\t0|0\t0|0\t0|0\t0|0\t0|0\t0|0\t0|0\t0|0\t0|0\t0|0\t0|0\t0|0\t0|0\t0|0\t0|0\t0|0\t0|0\t0|0\t0|0\t0|0\t0|0\t0|0\t0|0\t0|0\t0|0\t0|0\t0|0\t0|0\t0|0\t0|0\t0|0\t0|0\t0|0\t0|0\t0|0\t0|0\t0|0\t0|0\t0|0\t0|0\t0|0\t0|0\t0|0\t0|0\t0|0\t0|0\t0|0\t0|0\t0|0\t0|0\t0|0\t0|0\t0|0\t0|0\t0|0\t0|0\t0|0\t0|0\t0|0\t0|0\t0|0\t0|0\t0|0\t0|0\t0|0\t0|0\t0|0\t0|0\t0|0\t0|0\t0|0\t0|0\t0|0\t0|0\t0|0\t0|0\t0|0\t0|0\t0|0\t0|0\t0|0\t0|0\t0|0\t0|0\t0|0\t0|0\t0|0\t0|0\t0|0\t0|0\t0|0\t0|0\t0|0\t0|0\t0|0\t0|0\t0|0\t0|0\t0|0\t0|0\t0|0\t0|0\t0|0\t0|0\t0|0\t0|0\t0|0\t0|0\t0|0\t0|0\t0|0\t0|0\t0|0\t0|0\t0|0\t0|0\t0|0\t0|0\t0|0\t0|0\t0|0\t0|0\t0|0\t0|0\t0|0\t0|0\t0|0\t0|0\t0|0\t0|0\t0|0\t0|0\t0|0\t0|0\t0|0\t0|0\t0|0\t0|0\t0|0\t0|0\t0|0\t0|0\t0|0\t0|0\t0|0\t0|0\t0|0\t0|0\t0|0\t0|0\t0|0\t0|0\t0|0\t0|0\t0|0\t0|0\t0|0\t0|0\t0|0\t0|0\t0|0\t0|0\t0|0\t0|0\t0|0\t0|0\t0|0\t0|0\t0|0\t0|0\t0|0\t0|0\t0|0\t0|0\t0|0\t0|0\t0|0\t0|0\t0|0\t0|0\t0|0\t0|0\t0|0\t0|0\t0|0\t0|0\t0|0\t0|0\t0|0\t0|0\t0|0\t0|0\t0|0\t0|0\t0|0\t0|0\t0|0\t0|0\t0|0\t0|0\t0|0\t0|0\t0|0\t0|0\t0|0\t0|0\t0|0\t0|0\t0|0\t0|0\t0|0\t0|0\t0|0\t0|0\t0|0\t0|0\t0|0\t0|0\t0|0\t0|0\t0|0\t0|0\t0|0\t0|0\t0|0\t0|0\t0|0\t0|0\t0|0\t0|0\t0|0\t0|0\t0|0\t0|0\t0|0\t0|0\t0|0\t0|0\t0|0\t0|0\t0|0\t0|0\t0|0\t0|0\t0|0\t0|0\t0|0\t0|0\t0|0\t0|0\t0|0\t0|0\t0|0\t0|0\t0|0\t0|0\t0|0\t0|0\t0|0\t0|0\t0|0\t0|0\t0|0\t0|0\t0|0\t0|0\t0|0\t0|0\t0|0\t0|0\t0|0\t0|0\t0|0\t0|0\t0|0\t0|0\t0|0\t0|0\t0|0\t0|0\t0|0\t0|0\t0|0\t0|0\t0|0\t0|0\t0|0\t0|0\t0|0\t0|0\t0|0\t0|0\t0|0\t0|0\t0|0\t0|0\t0|0\t0|0\t0|0\t0|0\t0|0\t0|0\t0|0\t0|0\t0|0\t0|0\t0|0\t0|0\t0|0\t0|0\t0|0\t0|0\t0|0\t0|0\t0|0\t0|0\t0|0\t0|0\t0|0\t0|0\t0|0\t0|0\t0|0\t0|0\t0|0\t0|0\t0|0\t0|0\t0|0\t0|0\t0|0\t0|0\t0|0\t0|0\t0|0\t0|0\t0|0\t0|0\t0|0\t0|0\t0|0\t0|0\t0|0\t0|0\t0|0\t0|0\t0|0\t0|0\t0|0\t0|0\t0|0\t0|0\t0|0\t0|0\t0|0\t0|0\t0|0\t0|0\t0|0\t0|0\t0|0\t0|0\t0|0\t0|0\t0|0\t0|0\t0|0\t0|0\t0|0\t0|0\t0|0\t0|0\t0|0\t0|0\t0|0\t0|0\t0|0\t0|0\t0|0\t0|0\t0|0\t0|0\t0|0\t0|0\t0|0\t0|0\t0|0\t0|0\t0|0\t0|0\t0|0\t0|0\t0|0\t0|0\t0|0\t0|0\t0|0\t0|0\t0|0\t0|0\t0|0\t0|0\t0|0\t0|0\t0|0\t0|0\t0|0\t0|0\t0|0\t0|0\t0|0\t0|0\t0|0\t0|0\t0|0\t0|0\t0|0\t0|0\t0|0\t0|0\t0|0\t0|0\t0|0\t0|0\t0|0\t0|0\t0|0\t0|0\t0|0\t0|0\t0|0\t0|0\t0|0\t0|0\t0|0\t0|0\t0|0\t0|0\t0|0\t0|0\t0|0\t0|0\t0|0\t0|0\t0|0\t0|0\t0|0\t0|0\t0|0\t0|0\t0|0\t0|0\t0|0\t0|0\t0|0\t0|0\t0|0\t0|0\t0|0\t0|0\t0|0\t0|0\t0|0\t0|0\t0|0\t0|0\t0|0\t0|0\t0|0\t0|0\t0|0\t0|0\t0|0\t0|0\t0|0\t0|0\t0|0\t0|0\t0|0\t0|0\t0|0\t0|0\t0|0\t0|0\t0|0\t0|0\t0|0\t0|0\t0|0\t0|0\t0|0\t0|0\t0|0\t0|0\t0|0\t0|0\t0|0\t0|0\t0|0\t0|0\t0|0\t0|0\t0|0\t0|0\t0|0\t0|0\t0|0\t0|0\t0|0\t0|0\t0|0\t0|0\t0|0\t0|0\t0|0\t0|0\t0|0\t0|0\t0|0\t0|0\t0|0\t0|0\t0|0\t0|0\t0|0\t0|0\t0|0\t0|0\t0|0\t0|0\t0|0\t0|0\t0|0\t0|0\t0|0\t0|0\t0|0\t0|0\t0|0\t0|0\t0|0\t0|0\t0|0\t0|0\t0|0\t0|0\t0|0\t0|0\t0|0\t0|0\t0|0\t0|0\t0|0\t0|0\t0|0\t0|0\t0|0\t0|0\t0|0\t0|0\t0|0\t0|0\t0|0\t0|0\t0|0\t0|0\t0|0\t0|0\t0|0\t0|0\t0|0\t0|0\t0|0\t0|0\t0|0\t0|0\t0|0\t0|0\t0|0\t0|0\t0|0\t0|0\t0|0\t0|0\t0|0\t0|0\t0|0\t0|0\t0|0\t0|0\t0|0\t0|0\t0|0\t0|0\t0|0\t0|0\t0|0\t0|0\t0|0\t0|0\t0|0\t0|0\t0|0\t0|0\t0|0\t0|0\t0|0\t0|0\t0|0\t0|0\t0|0\t0|0\t0|0\t0|0\t0|0\t0|0\t0|0\t0|0\t0|0\t0|0\t0|0\t0|0\t0|0\t0|0\t0|0\t0|0\t0|0\t0|0\t0|0\t0|0\t0|0\t0|0\t0|0\t0|0\t0|0\t0|0\t0|0\t0|0\t0|0\t0|0\t0|0\t0|0\t0|0\t0|0\t0|0\t0|0\t0|0\t0|0\t0|0\t0|0\t0|0\t0|0\t0|0\t0|0\t0|0\t0|0\t0|0\t0|0\t0|0\t0|0\t0|0\t0|0\t0|0\t0|0\t0|0\t0|0\t0|0\t0|0\t0|0\t0|0\t0|0\t0|0\t0|0\t0|0\t0|0\t0|0\t0|0\t0|0\t0|0\t0|0\t0|0\t0|0\t0|0\t0|0\t0|0\t0|0\t0|0\t0|0\t0|0\t0|0\t0|0\t0|0\t0|0\t0|0\t0|0\t0|0\t0|0\t0|0\t0|0\t0|0\t0|0\t0|0\t0|0\t0|0\t0|0\t0|0\t0|0\t0|0\t0|0\t0|0\t0|0\t0|0\t0|0\t0|0\t0|0\t0|0\t0|0\t0|0\t0|0\t0|0\t0|0\t0|0\t0|0\t0|0\t0|0\t0|0\t0|0\t0|0\t0|0\t0|0\t0|0\t0|0\t0|0\t0|0\t0|0\t0|0\t0|0\t0|0\t0|0\t0|0\t0|0\t0|0\t0|0\t0|0\t0|0\t0|0\t0|0\t0|0\t0|0\t0|0\t0|0\t0|0\t0|0\t0|0\t0|0\t0|0\t0|0\t0|0\t0|0\t0|0\t0|0\t0|0\t0|0\t0|0\t0|0\t0|0\t0|0\t0|0\t0|0\t0|0\t0|0\t0|0\t0|0\t0|0\t0|0\t0|0\t0|0\t0|0\t0|0\t0|0\t0|0\t0|0\t0|0\t0|0\t0|0\t0|0\t0|0\t0|0\t0|0\t0|0\t0|0\t0|0\t0|0\t0|0\t0|0\t0|0\t0|0\t0|0\t0|0\t0|0\t0|0\t0|0\t0|0\t0|0\t0|0\t0|0\t0|0\t0|0\t0|0\t0|0\t0|0\t0|0\t0|0\t0|0\t0|0\t0|0\t0|0\t0|0\t0|0\t0|0\t0|0\t0|0\t0|0\t0|0\t0|0\t0|0\t0|0\t0|0\t0|0\t0|0\t0|0\t0|0\t0|0\t0|0\t0|0\t0|0\t0|0\t0|0\t0|0\t0|0\t0|0\t0|0\t0|0\t0|0\t0|0\t0|0\t0|0\t0|0\t0|0\t0|0\t0|0\t0|0\t0|0\t0|0\t0|0\t0|0\t0|0\t0|0\t0|0\t0|0\t0|0\t0|0\t0|0\t0|0\t0|0\t0|0\t0|0\t0|0\t0|0\t0|0\t0|0\t0|0\t0|0\t0|0\t0|0\t0|0\t0|0\t0|0\t0|0\t0|0\t0|0\t0|0\t0|0\t0|0\t0|0\t0|0\t0|0\t0|0\t0|0\t0|0\t0|0\t0|0\t0|0\t0|0\t0|0\t0|0\t0|0\t0|0\t0|0\t0|0\t0|0\t0|0\t0|0\t0|0\t0|0\t0|0\t0|0\t0|0\t0|0\t0|0\t0|0\t0|0\t0|0\t0|0\t0|0\t0|0\t0|0\t0|0\t0|0\t0|0\t0|0\t0|0\t0|0\t0|0\t0|0\t0|0\t0|0\t0|0\t0|0\t0|0\t0|0\t0|0\t0|0\t0|0\t0|0\t0|0\t0|0\t0|0\t0|0\t0|0\t0|0\t0|0\t0|0\t0|0\t0|0\t0|0\t0|0\t0|0\t0|0\t0|0\t0|0\t0|0\t0|0\t0|0\t0|0\t0|0\t0|0\t0|0\t0|0\t0|0\t0|0\t0|0\t0|0\t0|0\t0|0\t0|0\t0|0\t0|0\t0|0\t0|0\t0|0\t0|0\t0|0\t0|0\t0|0\t0|0\t0|0\t0|0\t0|0\t0|0\t0|0\t0|0\t0|0\t0|0\t0|0\t0|0\t0|0\t0|0\t0|0\t0|0\t0|0\t0|0\t0|0\t0|0\t0|0\t0|0\t0|0\t0|0\t0|0\t0|0\t0|0\t0|0\t0|0\t0|0\t0|0\t0|0\t0|0\t0|0\t0|0\t0|0\t0|0\t0|0\t0|0\t0|0\t0|0\t0|0\t0|0\t0|0\t0|0\t0|0\t0|0\t0|0\t0|0\t0|0\t0|0\t0|0\t0|0\t0|0\t0|0\t0|0\t0|0\t0|0\t0|0\t0|0\t0|0\t0|0\t0|0\t0|0\t0|0\t0|0\t0|0\t0|0\t0|0\t0|0\t0|0\t0|0\t0|0\t0|0\t0|0\t0|0\t0|0\t0|0\t0|0\t0|0\t0|0\t0|0\t0|0\t0|0\t0|0\t0|0\t0|0\t0|0\t0|0\t0|0\t0|0\t0|0\t0|0\t0|0\t0|0\t0|0\t0|0\t0|0\t0|0\t0|0\t0|0\t0|0\t0|0\t0|0\t0|0\t0|0\t0|0\t0|0\t0|0\t0|0\t0|0\t0|0\t0|0\t0|0\t0|0\t0|0\t0|0\t0|0\t0|0\t0|0\t0|0\t0|0\t0|0\t0|0\t0|0\t0|0\t0|0\t0|0\t0|0\t0|0\t0|0\t0|0\t0|0\t0|0\t0|0\t0|0\t0|0\t0|0\t0|0\t0|0\t0|0\t0|0\t0|0\t0|0\t0|0\t0|0\t0|0\t0|0\t0|0\t0|0\t0|0\t0|0\t0|0\t0|0\t0|0\t0|0\t0|0\t0|0\t0|0\t0|0\t0|0\t0|0\t0|0\t0|0\t0|0\t0|0\t0|0\t0|0\t0|0\t0|0\t0|0\t0|0\t0|0\t0|0\t0|0\t0|0\t0|0\t0|0\t0|0\t0|0\t0|0\t0|0\t0|0\t0|0\t0|0\t0|0\t0|0\t0|0\t0|0\t0|0\t0|0\t0|0\t0|0\t0|0\t0|0\t0|0\t0|0\t0|0\t0|0\t0|0\t0|0\t0|0\t0|0\t0|0\t0|0\t0|0\t0|0\t0|0\t0|0\t0|0\t0|0\t0|0\t0|0\t0|0\t0|0\t0|0\t0|0\t0|0\t0|0\t0|0\t0|0\t0|0\t0|0\t0|0\t0|0\t0|0\t0|0\t0|0\t0|0\t0|0\t0|0\t0|0\t0|0\t0|0\t0|0\t0|0\t0|0\t0|0\t0|0\t0|0\t0|0\t0|0\t0|0\t0|0\t0|0\t0|0\t0|0\t0|0\t0|0\t0|0\t0|0\t0|0\t0|0\t0|0\t0|0\t0|0\t0|0\t0|0\t0|0\t0|0\t0|0\t0|0\t0|0\t0|0\t0|0\t0|0\t0|0\t0|0\t0|0\t0|0\t0|0\t0|0\t0|0\t0|0\t0|0\t0|0\t0|0\t0|0\t0|0\t0|0\t0|0\t0|0\t0|0\t0|0\t0|0\t0|0\t0|0\t0|0\t0|0\t0|0\t0|0\t0|0\t0|0\t0|0\t0|0\t0|0\t0|0\t0|0\t0|0\t0|0\t0|0\t0|0\t0|0\t0|0\t0|0\t0|0\t0|0\t0|0\t0|0\t0|0\t0|0\t0|0\t0|0\t0|0\t0|0\t0|0\t0|0\t0|0\t0|0\t0|0\t0|0\t0|0\t0|0\t0|0\t0|0\t0|0\t0|0\t0|0\t0|0\t0|0\t0|0\t0|0\t0|0\t0|0\t0|0\t0|0\t0|0\t0|0\t0|0\t0|0\t0|0\t0|0\t0|0\t0|0\t0|0\t0|0\t0|0\t0|0\t0|0\t0|0\t0|0\t0|0\t0|0\t0|0\t0|0\t0|0\t0|0\t0|0\t0|0\t0|0\t0|0\t0|0\t0|0\t0|0\t0|0\t0|0\t0|0\t0|0\t0|0\t0|0\t0|0\t0|0\t0|0\t0|0\t0|0\t0|0\t0|0\t0|0\t0|0\t0|0\t0|0\t0|0\t0|0\t0|0\t0|0\t0|0\t0|0\t0|0\t0|0\t0|0\t0|0\t0|0\t0|0\t0|0\t0|0\t0|0\t0|0\t0|0\t0|0\t0|0\t0|0\t0|0\t0|0\t0|0\t0|0\t0|0\t0|0\t0|0\t0|0\t0|0\t0|0\t0|0\t0|0\t0|0\t0|0\t0|0\t0|0\t0|0\t0|0\t0|0\t0|0\t0|0\t0|0\t0|0\t0|0\t0|0\t0|0\t0|0\t0|0\t0|0\t0|0\t0|0\t0|0\t0|0\t0|0\t0|0\t0|0\t0|0\t0|0\t0|0\t0|0\t0|0\t0|0\t0|0\t0|0\t0|0\t0|0\t0|0\t0|0\t0|0\t0|0\t0|0\t0|0\t0|0\t0|0\t0|0\t0|0\t0|0\t0|0\t0|0\t0|0\t0|0\t0|0\t0|0\t0|0\t0|0\t0|0\t0|0\t0|0\t0|0\t0|0\t0|0\t0|0\t0|0\t0|0\t0|0\t0|0\t0|0\t0|0\t0|0\t0|0\t0|0\t0|0\t0|0\t0|0\t0|0\t0|0\t0|0\t0|0\t0|0\t0|0\t0|0\t0|0\t0|0\t0|0\t0|0\t0|0\t0|0\t0|0\t0|0\t0|0\t0|0\t0|0\t0|0\t0|0\t0|0\t0|0\t0|0\t0|0\t0|0\t0|0\t0|0\t0|0\t0|0\t0|0\t0|0\t0|0\t0|0\t0|0\t0|0\t0|0\t0|0\t0|0\t0|0\t0|0\t0|0\t0|0\t0|0\t0|0\t0|0\t0|0\t0|0\t0|0\t0|0\t0|0\t0|0\t0|0\t0|0\t0|0\t0|0\t0|0\t0|0\t0|0\t0|0\t0|0\t0|0\t0|0\t0|0\t0|0\t0|0\t0|0\t0|0\t0|0\t0|0\t0|0\t0|0\t0|0\t0|0\t0|0\t0|0\t0|0\t0|0\t0|0\t0|0\t0|0\t0|0\t0|0\t0|0\t0|0\t0|0\t0|0\t0|0\t0|0\t0|0\t0|0\t0|0\t0|0\t0|0\t0|0\t0|0\t0|0\t0|0\t0|0\t0|0\t0|0\t0|0\t0|0\t0|0\t0|0\t0|0\t0|0\t0|0\t0|0\t0|0\t0|0\t0|0\t0|0\t0|0\t0|0\t0|0\t0|0\t0|0\t0|0\t0|0\t0|0\t0|0\t0|0\t0|0\t0|0\t0|0\t0|0\t0|0\t0|0\t0|0\t0|0\t0|0\t0|0\t0|0\t0|0\t0|0\t0|0\t0|0\t0|0\t0|0\t0|0\t0|0\t0|0\t0|0\t0|0\t0|0\t0|0\t0|0\t0|0\t0|0\t0|0\t0|0\t0|0\t0|0\t0|0\t0|0\t0|0\t0|0\t0|0\t0|0\t0|0\t0|0\t0|0\t0|0\t0|0\t0|0\t0|0\t0|0\t0|0\t0|0\t0|0\t0|0\t0|0\t0|0\t0|0\t0|0\t0|0\t0|0\t0|0\t0|0\t0|0\t0|0\t0|0\t0|0\t0|0\t0|0\t0|0\t0|0\t0|0\t0|0\t0|0\t0|0\t0|0\t0|0\t0|0\t0|0\t0|0\t0|0\t0|0\t0|0\t0|0\t0|0\t0|0\t0|0\t0|0\t0|0\t0|0\t0|0\t0|0\t0|0\t0|0\t0|0\t0|0\t0|0\t0|0\t0|0\t0|0\t0|0\t0|0\t0|0\t0|0\t0|0\t0|0\t0|0\t0|0\t0|0\t0|0\t0|0\t0|0\t0|0\t0|0\t0|0\t0|0\t0|0\t0|0\t0|0\t0|0\t0|0\t0|0\t0|0\t0|0\t0|0\t0|0\t0|0\t0|0\t0|0\t0|0\t0|0\t0|0\t0|1\t0|0\t0|0\t0|0\t0|0\t0|0\t0|0\t0|0\t0|0\t0|0\t0|0\t0|0\t0|0\t0|0\t0|0\t0|0\t0|0\t0|0\t0|0\t0|0\t0|0\t0|0\t0|0\t0|0\t0|0\t0|0\t0|0\t0|0\t0|0\t0|0\t0|0\t0|0\t0|0\t0|0\t0|0\t0|0\t0|0\t0|0\t0|0\t0|0\t0|0\t0|0\t0|0\t0|0\t0|0\t0|0\t0|0\t0|0\t0|0\t0|0\t0|0\t0|0\t0|0\t0|0\t0|0\t0|0\t0|0\t0|0\t0|0\t0|0\t0|0\t0|0\t0|0\t0|0\t0|0\t0|0\t0|0\t0|0\t0|0\t0|0\t0|0\t0|0\t0|0\t0|0\t0|0\t0|0\t0|0\t0|0\t0|0\t0|0\t0|0\t0|0\t0|0\t0|0\t0|0\t0|0\t0|0\t0|0\t0|0\t0|0\t0|0\t0|0\t0|0\t0|0\t0|0\t0|0\t0|0\t0|0\t0|0\t0|0\t0|0\t0|0\t0|0\t0|0\t0|0\t0|0\t0|0\t0|0\t0|0\t0|0\t0|0\t0|0\t0|0\t0|0\t0|0\t0|0\t0|0\t0|0\t0|0\t0|0\t0|0\t0|0\t0|0\t0|0\t0|0\t0|0\t0|1\t0|0\t0|0\t0|0\t0|0\t0|0\t0|0\t0|0\t0|0\t0|0\t0|0\t0|0\t0|0\t0|0\t0|0\t0|0\t0|0\t0|0\t0|0\t0|0\t0|0\t0|0\t0|0\t0|0\t0|0\t0|0\t0|0\t0|0\t0|0\t0|0\t0|0\t1|0\t0|0\t0|0\t0|0\t0|0\t0|0\t0|0\t0|0\t0|0\t0|0\t0|0\t0|0\t0|0\t0|0\t0|0\t0|0\t0|0\t0|0\t0|0\t0|0\t0|0\t0|0\t0|0\t0|0\t0|0\t0|0\t0|0\t1|0\t0|0\t0|0\t0|0\t0|0\t0|0\t0|0\t0|0\t0|0\t0|0\t0|0\t0|0\t0|0\t0|0\t0|0\t0|0\t0|0\t0|0\t0|0\t0|0\t0|0\t0|0\t0|0\t0|0\t0|0\t0|0\t0|0\t0|0\t0|0\t0|0\t0|0\t0|0\t0|0\t0|0\t0|0\t0|0\t0|0\t0|0\t0|0\t0|0\t0|0\t0|0\t0|0\t0|0\t0|0\t0|0\t0|0\t0|0\t0|0\t0|0\t0|0\t0|0\t0|0\t0|0\t0|0\t0|0\t0|0\t0|0\t0|0\t0|0\t0|0\t0|0\t0|0\t0|0\t0|0\t0|0\t0|0\t0|0\t0|0\t0|0\t0|0\t0|0\t0|0\t0|0\t0|0\t0|0\t0|0\t0|0\t0|0\t0|0\t0|0\t0|0\t0|0\t0|0\t0|0\t0|0\t0|0\t0|0\t0|0\t0|0\t0|0\t0|0\t0|0\t0|0\t0|0\t0|0\t0|0\t0|0\t0|0\t0|0\t0|0\t0|0\t0|0\t0|0\t0|0\t0|0\t0|0\t0|0\t0|0\t0|0\t0|0\t0|0\t0|0\t0|0\t0|0\t0|0\t0|0\t0|0\t0|0\t0|0\t0|0\t0|0\t0|0\t0|0\t0|0\t0|0\t0|0\t0|0\t0|0\t0|0\t0|0\t0|0\t0|0\t0|0\t0|0\t0|0\t0|0\t0|0\t0|0\t0|0\t0|0\t0|0\t0|0\t0|0\t0|0\t0|0\t0|0\t0|0\t0|0\t0|0\t0|0\t0|0\t0|0\t0|0\t0|0\t0|0\t0|0\t0|0\t0|0\t0|0\t0|0\t0|0\t0|0\t0|0\t0|0\t0|0\t0|0\t0|0\t0|0\t0|0\t0|0\t0|0\t0|0\t0|0\t0|0\t0|0\t0|0\t0|0\t0|0\t0|0\t0|0\t0|0\t0|0\t0|0\t0|0\t0|0\t0|0\t0|0\t0|0\t0|0\t0|0\t0|0\t0|0\t0|0\t0|0\t0|0\t0|0\t0|0\t0|0\t0|0\t0|0\t0|0\t0|0\t0|0\t0|0\t0|0\t0|0\t0|0\t0|0\t0|0\t0|0\t0|0\t0|0\t0|0\t0|0\t0|0\t0|0\t0|0\t0|0\t0|0\t0|0\t0|0\t0|0\t0|0\t0|0\t0|0\t0|0\t0|0\t0|0\t0|0\t0|0\t0|0\t0|0\t0|0\t0|0\t0|0\t0|0\t0|0\t0|0\t0|0\t0|0\t0|0\t0|0\t0|0\t0|0\t0|0\t0|0\t0|0\t0|0\t0|0\t0|0\t0|0\t0|0\t0|0\t0|0\t0|0\t0|0\t0|0\t0|0\t0|0\t0|0\t0|0\t0|0\t0|0\t0|0\t0|0\t0|0\t0|0\t0|0\t0|0\t0|0\t0|0\t0|0\t0|0\t0|0\t0|0\t0|0\t0|0\t0|0\t0|0\t0|0\t0|0\t0|0\t0|0\t0|0\t0|0\t0|0\t0|0\t0|0\t0|0\t0|0\t0|0\t0|0\t0|0\t0|0\t0|0\t0|0\t0|0\t0|0\t0|0\t0|0\t0|0\t0|0\t0|0\t0|0\t0|0\t0|0\t0|0\t0|0\t0|0\t0|0\t0|0\t0|0\t0|0\t0|0\t0|0\t0|0\t0|0\t0|0\t0|0\t0|0\t0|0\t0|0\t0|0\t0|0\t0|0\t0|0\t0|0\t0|0\t0|0\t0|0\t0|0\t0|0\t0|0\t0|0\t0|0\t0|0\t0|0\t0|0\r\n",
      "chr11\t5285279\trs4910742\tG\tA\t100\tPASS\tAC=4745;AF=0.947484;AN=5008;NS=2504;DP=16453;EAS_AF=0.9177;AMR_AF=0.9769;AFR_AF=0.9977;EUR_AF=0.9473;SAS_AF=0.8896;AA=A|||;VT=SNP\tGT\t1|1\t1|1\t1|1\t1|1\t1|0\t1|1\t1|1\t1|1\t1|1\t1|1\t1|1\t1|0\t1|1\t1|1\t1|1\t0|1\t1|1\t1|1\t1|1\t1|1\t1|1\t0|1\t1|1\t1|1\t1|1\t1|1\t1|1\t1|1\t0|1\t1|1\t1|1\t1|1\t1|1\t1|1\t0|1\t1|1\t1|1\t1|1\t1|1\t1|1\t1|1\t1|1\t1|1\t1|1\t1|1\t1|1\t1|1\t1|1\t1|1\t1|1\t1|1\t1|1\t1|1\t1|1\t1|1\t1|1\t1|1\t1|1\t0|1\t1|0\t1|1\t1|1\t1|1\t1|1\t1|1\t1|1\t1|1\t1|1\t1|1\t1|1\t1|1\t1|1\t1|1\t1|1\t1|1\t1|1\t1|0\t1|1\t1|0\t0|1\t1|1\t1|1\t0|1\t1|1\t1|1\t1|1\t1|1\t1|1\t1|1\t1|1\t1|1\t1|1\t1|1\t1|1\t1|1\t1|1\t1|1\t1|1\t0|1\t1|1\t1|0\t1|1\t1|0\t1|1\t1|1\t1|1\t1|1\t1|0\t1|1\t1|1\t1|1\t1|1\t1|1\t1|1\t1|1\t1|1\t1|1\t1|1\t1|0\t1|1\t1|1\t1|1\t1|1\t1|1\t1|1\t1|1\t1|0\t1|1\t1|1\t1|1\t1|1\t1|1\t1|1\t1|0\t1|1\t1|1\t1|0\t1|1\t1|1\t1|1\t1|1\t1|1\t1|1\t1|1\t1|0\t1|1\t1|1\t0|1\t1|1\t1|1\t1|1\t1|1\t1|1\t1|1\t1|0\t1|1\t1|1\t1|1\t1|1\t1|1\t1|1\t1|1\t1|1\t1|1\t1|1\t1|1\t1|1\t1|0\t1|1\t1|1\t1|1\t1|1\t1|1\t1|1\t1|1\t1|1\t0|1\t1|1\t1|1\t1|1\t1|1\t1|1\t1|0\t1|1\t0|1\t1|1\t1|1\t1|1\t1|1\t1|1\t1|1\t1|1\t1|1\t1|1\t1|1\t1|1\t1|1\t1|1\t1|1\t1|1\t1|1\t1|1\t1|1\t1|1\t1|0\t1|1\t1|1\t1|1\t1|0\t1|1\t1|1\t1|0\t1|1\t1|1\t1|1\t0|1\t0|1\t1|1\t1|1\t1|1\t1|1\t1|1\t1|1\t0|1\t1|1\t1|1\t1|1\t1|1\t1|0\t1|1\t0|1\t1|1\t1|1\t1|1\t1|1\t1|1\t1|1\t1|1\t1|1\t1|1\t1|1\t1|1\t1|1\t1|1\t1|1\t1|1\t1|1\t1|1\t1|1\t1|1\t1|1\t0|1\t1|1\t1|1\t1|0\t1|1\t1|1\t1|1\t1|1\t1|1\t1|1\t1|1\t0|1\t1|1\t1|1\t1|1\t1|1\t1|1\t1|1\t1|1\t1|1\t1|1\t1|1\t1|1\t1|0\t1|1\t1|1\t1|0\t1|0\t1|1\t1|1\t1|1\t1|1\t1|1\t1|1\t1|1\t1|1\t1|1\t1|1\t1|1\t1|1\t1|1\t1|1\t1|1\t1|1\t1|1\t1|1\t1|0\t1|1\t1|1\t1|1\t1|1\t1|1\t1|1\t1|1\t1|1\t1|1\t1|1\t1|1\t1|1\t1|1\t1|1\t1|1\t1|1\t1|1\t1|1\t1|1\t1|1\t1|1\t0|1\t1|0\t1|1\t1|1\t1|1\t1|1\t0|1\t1|1\t1|1\t1|1\t1|1\t1|1\t1|1\t1|1\t1|1\t1|1\t1|1\t1|1\t1|1\t1|1\t1|0\t1|1\t1|1\t1|1\t1|1\t1|1\t1|1\t1|1\t1|1\t1|1\t1|1\t1|1\t1|1\t1|1\t1|1\t1|1\t1|1\t1|1\t0|1\t1|1\t1|1\t1|1\t1|1\t1|1\t1|1\t1|1\t1|1\t0|1\t1|1\t1|1\t1|1\t1|1\t1|1\t1|1\t1|1\t1|1\t1|1\t1|1\t1|1\t1|1\t1|1\t1|1\t1|1\t1|1\t1|1\t1|1\t1|1\t1|1\t1|1\t1|1\t1|1\t1|0\t1|1\t1|1\t1|1\t1|1\t1|1\t1|1\t1|1\t1|1\t1|1\t1|1\t1|1\t1|1\t1|1\t1|1\t1|1\t1|1\t1|0\t1|1\t1|1\t1|1\t1|1\t1|1\t1|1\t1|1\t1|1\t1|1\t1|0\t1|1\t1|1\t1|1\t1|1\t1|1\t1|1\t0|1\t1|1\t1|1\t1|1\t1|1\t1|1\t1|1\t1|1\t1|1\t1|1\t1|1\t1|1\t1|1\t1|1\t1|1\t1|1\t1|1\t1|1\t1|1\t1|1\t1|1\t1|1\t1|1\t1|1\t1|1\t1|1\t1|1\t1|1\t1|1\t1|1\t1|1\t1|1\t1|1\t1|1\t0|1\t1|1\t1|1\t1|1\t1|1\t1|1\t1|1\t1|1\t1|1\t1|1\t1|1\t1|1\t1|1\t1|1\t1|1\t1|1\t1|1\t1|1\t1|1\t1|1\t1|1\t1|1\t1|1\t1|1\t1|1\t1|1\t1|1\t1|1\t1|1\t1|1\t1|1\t1|1\t1|1\t1|1\t1|1\t1|1\t1|1\t1|1\t1|1\t1|1\t1|1\t1|1\t1|1\t1|1\t1|1\t1|1\t1|1\t1|0\t1|1\t1|0\t1|1\t1|1\t1|1\t1|1\t1|1\t1|1\t1|1\t1|1\t1|1\t0|1\t1|1\t1|1\t1|1\t1|1\t1|1\t1|1\t1|1\t1|1\t1|1\t1|1\t1|1\t1|1\t1|1\t1|1\t0|1\t1|1\t1|1\t1|1\t1|1\t1|1\t1|1\t1|0\t1|1\t1|1\t1|1\t0|1\t1|1\t1|1\t1|1\t1|1\t1|1\t1|1\t1|1\t1|1\t1|1\t1|1\t1|1\t1|1\t1|1\t0|1\t1|1\t1|1\t1|1\t1|1\t1|1\t1|1\t1|1\t1|1\t1|1\t1|0\t1|1\t1|1\t1|1\t1|1\t1|1\t1|1\t0|1\t1|1\t1|1\t1|1\t1|1\t1|1\t0|1\t1|1\t1|1\t1|1\t1|1\t1|1\t1|1\t1|1\t1|1\t1|1\t1|1\t1|1\t1|0\t1|1\t1|1\t1|1\t1|1\t1|0\t1|0\t1|0\t1|1\t1|1\t0|0\t1|1\t1|1\t1|1\t1|1\t1|1\t1|1\t1|1\t1|1\t1|1\t1|1\t1|1\t1|1\t1|1\t1|1\t0|1\t0|1\t1|1\t1|1\t1|1\t1|1\t1|1\t1|1\t1|1\t1|1\t1|1\t1|1\t1|1\t1|1\t1|1\t1|1\t1|1\t1|1\t1|1\t1|1\t1|1\t0|1\t1|1\t1|1\t1|1\t1|1\t1|1\t1|1\t1|1\t1|0\t0|1\t1|1\t1|1\t1|1\t1|1\t1|1\t1|1\t1|1\t1|1\t1|1\t1|1\t1|1\t1|1\t1|0\t1|1\t1|1\t1|1\t1|1\t1|1\t1|1\t1|1\t1|1\t1|1\t1|1\t1|1\t1|1\t1|1\t1|1\t1|1\t1|1\t1|1\t1|1\t1|1\t1|1\t1|1\t0|1\t1|1\t1|1\t1|1\t1|1\t1|1\t1|1\t1|1\t1|1\t1|1\t1|1\t1|1\t1|1\t1|1\t1|1\t1|1\t1|1\t1|1\t1|1\t1|1\t1|1\t1|1\t1|1\t1|1\t1|1\t1|1\t1|1\t1|1\t1|1\t1|1\t1|1\t1|1\t1|1\t1|1\t1|1\t1|1\t1|1\t1|1\t1|1\t1|1\t1|1\t1|1\t1|1\t1|1\t1|1\t1|1\t1|1\t1|1\t1|1\t1|1\t1|1\t1|1\t1|1\t1|1\t1|1\t1|1\t1|1\t1|1\t1|1\t1|1\t1|1\t1|1\t1|1\t1|1\t1|1\t0|1\t1|1\t1|1\t1|1\t1|1\t1|1\t1|1\t1|1\t1|1\t1|1\t1|1\t1|1\t1|1\t1|1\t1|1\t1|1\t1|1\t0|1\t1|1\t1|1\t1|1\t1|1\t1|1\t0|1\t1|1\t1|1\t1|1\t0|1\t1|1\t1|1\t1|1\t1|1\t1|1\t1|1\t1|1\t1|1\t1|1\t1|1\t1|1\t1|1\t1|1\t1|1\t1|1\t1|1\t1|1\t1|1\t1|1\t1|1\t1|1\t1|1\t0|1\t1|1\t1|1\t1|1\t1|1\t1|1\t1|1\t1|1\t1|1\t1|1\t1|1\t1|1\t1|1\t1|1\t1|1\t1|1\t1|1\t1|1\t1|1\t1|1\t1|1\t1|1\t1|1\t1|1\t1|1\t1|1\t1|1\t0|1\t1|1\t1|1\t1|1\t1|1\t1|1\t1|1\t1|0\t1|1\t1|1\t1|1\t1|0\t1|1\t1|1\t1|1\t1|1\t1|1\t1|1\t1|1\t1|1\t1|1\t1|1\t0|1\t1|1\t1|1\t1|1\t1|1\t1|1\t1|1\t1|1\t1|1\t1|1\t1|1\t1|1\t1|1\t1|1\t1|1\t1|1\t1|1\t1|1\t1|1\t1|1\t1|1\t1|1\t1|1\t1|1\t1|1\t1|1\t1|1\t1|1\t1|1\t1|1\t1|1\t1|1\t1|1\t1|1\t1|1\t1|1\t1|1\t1|1\t1|1\t1|1\t1|1\t1|1\t1|1\t1|1\t1|1\t1|1\t1|1\t1|1\t1|1\t1|1\t1|1\t1|1\t1|1\t1|1\t0|1\t1|1\t1|1\t1|1\t1|1\t1|1\t1|1\t1|1\t1|1\t1|1\t1|1\t1|1\t1|1\t1|1\t1|0\t1|1\t1|1\t1|1\t0|1\t1|1\t1|1\t1|1\t1|1\t0|1\t1|1\t1|1\t1|1\t1|1\t1|1\t0|1\t1|1\t1|1\t1|1\t1|1\t1|1\t1|0\t1|1\t1|1\t1|1\t1|1\t1|1\t1|1\t1|1\t1|1\t1|1\t1|1\t1|1\t1|1\t1|1\t1|1\t1|1\t1|1\t1|1\t1|1\t1|1\t1|1\t1|1\t1|1\t1|1\t1|1\t1|1\t1|1\t1|1\t1|1\t1|1\t1|1\t1|1\t1|1\t1|1\t1|0\t1|1\t1|1\t1|1\t1|1\t1|1\t1|1\t1|1\t1|1\t1|1\t1|1\t1|1\t1|1\t1|1\t1|1\t1|1\t1|1\t1|1\t1|1\t1|1\t1|1\t1|1\t1|1\t1|1\t1|1\t1|1\t1|1\t1|1\t1|1\t1|1\t1|1\t1|1\t1|1\t1|1\t1|1\t1|1\t1|1\t1|1\t1|1\t1|1\t1|1\t1|1\t1|1\t1|1\t1|1\t1|1\t1|1\t1|1\t1|1\t1|1\t1|1\t1|1\t0|1\t0|1\t1|1\t1|1\t1|1\t1|1\t1|1\t1|1\t1|1\t1|1\t1|1\t1|1\t1|1\t1|1\t1|1\t1|1\t1|1\t1|1\t1|1\t1|1\t1|1\t1|1\t1|1\t1|1\t1|1\t1|1\t1|1\t1|1\t1|1\t1|1\t1|1\t1|1\t1|1\t1|1\t1|1\t1|1\t0|1\t1|0\t1|1\t1|1\t1|1\t1|1\t1|1\t1|1\t1|1\t1|1\t1|1\t1|1\t1|1\t1|1\t1|1\t1|1\t1|1\t1|0\t1|1\t1|1\t1|1\t1|1\t1|1\t1|1\t1|1\t1|1\t1|1\t0|0\t1|0\t1|1\t1|1\t1|1\t1|1\t1|1\t1|1\t1|1\t1|1\t1|1\t1|1\t1|1\t1|1\t1|1\t1|1\t1|1\t1|1\t1|1\t1|1\t1|1\t1|1\t1|1\t1|1\t1|1\t1|1\t1|1\t1|1\t1|1\t1|1\t1|1\t1|1\t1|1\t1|1\t1|1\t1|1\t1|1\t1|1\t1|1\t1|1\t1|1\t1|1\t1|1\t1|1\t1|1\t1|1\t1|1\t1|1\t1|1\t1|1\t1|1\t1|1\t1|1\t1|1\t1|1\t1|1\t1|1\t1|1\t1|1\t1|1\t1|1\t1|1\t1|0\t1|1\t1|1\t1|1\t1|1\t1|1\t1|1\t1|1\t1|1\t1|1\t1|1\t1|1\t1|1\t1|1\t1|1\t1|1\t1|1\t1|1\t1|1\t1|1\t1|1\t1|1\t1|1\t1|1\t1|1\t1|1\t1|1\t1|1\t1|1\t1|1\t1|1\t1|1\t1|1\t1|1\t1|1\t1|1\t1|1\t1|1\t1|1\t1|1\t1|1\t1|1\t1|1\t1|1\t1|1\t1|1\t1|1\t1|1\t1|1\t1|1\t1|1\t1|1\t1|1\t1|1\t1|1\t1|1\t1|1\t1|1\t1|1\t1|1\t1|1\t1|1\t1|1\t1|1\t1|1\t1|1\t1|1\t1|1\t1|1\t1|1\t1|1\t1|1\t1|1\t1|1\t1|1\t1|1\t1|1\t1|1\t1|1\t1|1\t1|1\t1|1\t1|1\t1|1\t1|1\t1|1\t1|1\t1|1\t1|1\t1|1\t1|1\t1|1\t1|1\t1|0\t1|1\t1|1\t1|1\t1|1\t1|1\t1|1\t1|1\t1|1\t1|1\t1|1\t1|1\t1|1\t1|1\t1|1\t1|1\t1|1\t1|1\t1|1\t1|1\t1|1\t1|1\t1|1\t1|1\t1|1\t1|1\t1|1\t1|1\t1|1\t1|1\t1|1\t1|1\t1|1\t1|1\t1|1\t1|1\t1|1\t1|1\t1|1\t1|1\t1|1\t1|1\t1|1\t1|1\t1|1\t1|1\t1|1\t1|1\t1|1\t1|1\t1|1\t1|1\t1|1\t1|1\t1|1\t1|1\t1|1\t1|1\t1|1\t1|1\t1|1\t1|1\t1|1\t1|1\t1|1\t1|1\t1|1\t1|1\t1|1\t1|1\t1|1\t1|1\t1|1\t1|1\t1|1\t1|1\t1|1\t1|1\t1|1\t1|1\t1|1\t0|0\t1|1\t1|1\t1|1\t1|1\t1|1\t1|1\t1|1\t1|1\t1|1\t1|1\t1|1\t1|1\t1|1\t1|1\t1|1\t1|1\t1|1\t1|1\t1|1\t1|1\t1|1\t1|1\t1|1\t1|1\t1|1\t1|0\t1|1\t1|1\t1|0\t1|1\t1|1\t1|1\t1|0\t1|1\t1|1\t1|1\t1|1\t1|1\t1|1\t1|1\t0|1\t1|1\t1|1\t1|1\t1|1\t1|0\t0|1\t1|1\t1|1\t1|0\t1|1\t1|1\t1|1\t0|0\t1|1\t1|1\t1|1\t1|1\t1|1\t1|1\t1|1\t1|1\t0|1\t0|1\t1|1\t1|1\t0|1\t1|1\t1|1\t1|1\t1|1\t1|1\t1|1\t1|1\t1|1\t0|1\t1|1\t0|1\t1|0\t1|1\t1|1\t1|1\t1|1\t1|1\t1|1\t1|0\t1|1\t1|1\t1|1\t0|1\t1|1\t1|1\t1|1\t1|1\t1|1\t1|1\t0|1\t1|1\t1|1\t1|1\t1|1\t1|1\t1|1\t1|1\t1|1\t1|1\t1|1\t1|1\t1|1\t1|1\t1|1\t0|1\t1|1\t1|1\t1|1\t1|1\t1|1\t1|1\t1|1\t1|1\t1|1\t1|1\t1|1\t1|1\t0|1\t1|1\t1|1\t1|0\t1|0\t1|1\t1|1\t0|1\t1|1\t1|0\t1|1\t1|1\t1|1\t1|0\t0|1\t0|1\t1|1\t1|1\t0|1\t0|1\t0|1\t0|1\t1|1\t0|1\t1|0\t1|1\t0|1\t1|1\t0|1\t1|1\t1|1\t1|1\t1|1\t1|0\t1|1\t1|1\t1|1\t1|1\t1|1\t1|1\t1|1\t1|1\t1|0\t1|1\t1|1\t1|0\t1|1\t1|1\t1|1\t1|1\t1|1\t1|1\t1|1\t1|1\t1|1\t1|1\t1|0\t1|1\t1|1\t0|1\t1|1\t1|1\t1|1\t0|0\t1|1\t1|0\t1|0\t0|1\t1|1\t1|0\t1|1\t1|1\t0|1\t1|1\t1|1\t1|1\t1|1\t1|1\t1|1\t1|1\t1|1\t0|1\t1|1\t0|1\t1|1\t1|1\t1|1\t1|0\t1|1\t1|1\t1|1\t1|1\t1|1\t1|1\t1|1\t1|1\t1|1\t1|0\t1|1\t1|1\t1|1\t0|1\t1|1\t1|1\t1|1\t1|1\t1|1\t1|1\t1|1\t1|1\t1|1\t1|1\t1|1\t1|1\t1|0\t1|1\t1|1\t0|1\t1|1\t1|1\t0|0\t1|1\t1|0\t1|1\t1|1\t1|1\t1|1\t1|1\t1|1\t1|1\t1|1\t1|1\t1|1\t1|1\t1|1\t1|1\t1|1\t1|1\t0|1\t1|1\t1|1\t1|1\t1|1\t1|1\t1|1\t1|1\t1|1\t1|1\t1|1\t1|1\t1|1\t1|1\t1|1\t1|1\t1|1\t1|1\t1|0\t1|1\t1|1\t1|0\t1|1\t1|1\t0|1\t1|0\t1|1\t0|0\t1|1\t1|1\t1|1\t1|1\t1|1\t1|1\t1|1\t1|1\t1|1\t0|1\t1|1\t1|1\t1|1\t1|1\t0|1\t0|1\t1|1\t1|1\t1|1\t1|1\t1|1\t1|0\t1|1\t1|1\t1|1\t1|0\t1|1\t1|1\t1|1\t1|1\t1|1\t1|1\t0|1\t1|1\t1|1\t0|1\t1|1\t1|1\t1|1\t1|1\t1|1\t1|1\t1|1\t1|1\t1|1\t1|1\t1|1\t1|1\t1|1\t1|1\t1|1\t1|1\t1|1\t1|1\t1|1\t1|1\t1|1\t1|1\t1|0\t1|1\t1|1\t1|1\t1|1\t1|1\t1|1\t1|1\t1|1\t1|1\t1|1\t1|1\t1|1\t1|1\t1|1\t1|1\t0|1\t1|1\t1|1\t1|1\t1|1\t1|1\t1|1\t1|1\t1|1\t1|1\t1|1\t1|1\t1|1\t1|1\t1|1\t1|1\t1|0\t1|1\t1|1\t1|1\t1|1\t1|1\t1|1\t1|1\t1|1\t1|1\t1|1\t1|1\t1|1\t1|1\t1|1\t1|1\t0|1\t1|1\t1|1\t1|1\t1|1\t1|1\t1|1\t1|1\t1|1\t1|1\t1|1\t1|1\t0|1\t1|1\t1|1\t1|1\t1|1\t1|1\t0|1\t1|1\t1|1\t1|1\t1|1\t1|1\t1|1\t1|1\t1|1\t1|1\t1|1\t1|1\t0|1\t1|1\t1|1\t1|1\t1|1\t1|1\t1|1\t1|1\t1|1\t1|1\t1|1\t1|1\t1|1\t1|1\t1|1\t1|1\t1|1\t1|1\t1|1\t1|1\t1|1\t1|1\t1|1\t1|1\t1|1\t1|1\t1|1\t1|0\t1|0\t1|1\t1|1\t1|1\t1|1\t1|1\t1|1\t1|1\t1|1\t1|1\t1|1\t1|1\t1|1\t1|1\t1|1\t1|1\t1|1\t1|1\t1|1\t1|1\t1|1\t1|1\t1|1\t1|1\t1|1\t1|1\t1|1\t1|1\t1|1\t0|1\t1|1\t1|1\t1|1\t1|1\t1|1\t0|1\t1|1\t1|1\t0|1\t1|1\t1|1\t1|0\t1|1\t1|0\t1|1\t1|1\t1|1\t1|1\t1|1\t1|0\t1|1\t1|1\t1|1\t1|1\t1|1\t1|1\t1|1\t1|1\t1|1\t1|1\t0|1\t1|1\t1|1\t0|1\t1|1\t1|1\t1|1\t1|1\t1|1\t1|1\t1|1\t1|1\t1|1\t1|1\t1|1\t1|1\t1|1\t1|1\t1|1\t1|0\t1|1\t1|0\t1|1\t1|1\t1|1\t1|0\t1|1\t1|1\t1|1\t1|1\t1|1\t1|1\t1|1\t1|1\t1|1\t1|1\t1|0\t1|1\t1|1\t1|1\t1|1\t1|1\t1|1\t1|1\t1|1\t1|1\t1|1\t1|1\t1|1\t1|1\t1|1\t1|1\t1|1\t1|1\t1|1\t1|1\t1|1\t1|1\t1|1\t1|1\t1|1\t1|1\t1|1\t1|1\t1|1\t1|1\t1|1\t1|1\t1|1\t1|1\t1|1\t1|0\t1|1\t0|1\t1|1\t1|1\t1|1\t1|0\t1|1\t1|1\t1|0\t1|0\t1|1\t1|1\t1|1\t1|1\t1|1\t0|1\t1|0\t1|1\t1|0\t1|1\t1|1\t1|1\t1|1\t1|1\t1|1\t1|0\t1|0\t1|0\t1|1\t1|1\t1|1\t1|1\t0|1\t1|1\t1|1\t1|1\t1|1\t1|1\t1|0\t1|1\t1|1\t0|1\t1|1\t1|1\t1|0\t1|1\t1|1\t1|1\t1|1\t1|0\t1|1\t0|1\t1|1\t1|1\t0|0\t1|1\t1|1\t1|1\t0|1\t1|1\t1|1\t1|1\t1|0\t1|1\t1|0\t1|1\t1|0\t1|0\t1|0\t1|1\t1|1\t1|1\t1|1\t1|1\t1|1\t1|1\t1|1\t1|1\t1|1\t1|1\t1|1\t1|1\t1|1\t1|1\t1|1\t1|1\t1|1\t1|1\t1|0\t1|0\t1|1\t1|1\t1|0\t1|1\t1|1\t1|1\t1|1\t1|0\t1|1\t1|1\t1|1\t1|1\t1|1\t1|1\t1|1\t1|0\t1|1\t1|1\t1|1\t1|1\t1|1\t1|1\t1|1\t1|0\t1|1\t1|1\t0|1\t1|1\t1|1\t1|0\t1|1\t1|1\t1|1\t1|1\t1|1\t1|1\t1|1\t1|1\t1|1\t1|1\t1|1\t1|1\t1|1\t1|1\t1|1\t1|1\t1|1\t1|1\t1|1\t1|1\t1|1\t1|1\t1|1\t1|1\t1|1\t1|1\t1|1\t1|1\t1|1\t1|1\t1|1\t1|1\t1|1\t1|1\t1|1\t1|1\t1|1\t1|1\t1|1\t1|1\t1|1\t1|1\t1|1\t1|1\t1|1\t1|1\t1|1\t1|1\t1|1\t1|1\t1|1\t1|1\t1|1\t1|1\t1|1\t1|1\t1|1\t1|1\t1|1\t1|1\t1|1\t1|1\t1|1\t1|1\t1|1\t1|1\t1|1\t1|1\t1|1\t1|1\t1|1\t1|1\t1|1\t1|1\t1|1\t1|1\t1|1\t1|1\t1|1\t1|1\t1|1\t1|1\t1|1\t1|1\t1|1\t1|1\t1|1\t1|1\t1|1\t1|1\t1|1\t1|1\t1|1\t1|1\t1|1\t1|1\t1|1\t1|1\t1|1\t1|1\t1|1\t1|1\t1|1\t1|1\t1|1\t1|1\t1|1\t1|1\t1|1\t1|1\t1|1\t1|1\t1|1\t1|1\t1|1\t1|1\t1|1\t1|1\t1|1\t1|1\t1|1\t1|1\t1|1\t1|1\t1|1\t1|1\t1|1\t1|1\t1|1\t1|1\t1|1\t1|1\t1|1\t1|1\t1|1\t1|1\t1|1\t1|1\t1|1\t1|1\t1|1\t1|1\t1|1\t1|1\t1|1\t1|1\t1|1\t1|1\t1|1\t1|1\t1|1\t1|1\t1|1\t1|1\t1|1\t1|1\t1|1\t1|1\t1|1\t1|1\t1|1\t1|1\t0|1\t1|1\t1|1\t1|1\t1|1\t1|1\t1|1\t1|1\t1|1\t1|1\t1|1\t1|1\t1|1\t1|1\t1|1\t1|1\t1|1\t1|1\t1|1\t1|1\t1|1\t1|1\t1|1\t1|1\t1|1\t1|1\t1|1\t1|1\t1|1\t1|1\t1|1\t1|1\t1|1\t1|1\t1|1\t1|1\t1|1\t1|1\t1|1\t1|1\t1|1\t1|1\t1|1\t1|1\t1|0\t0|1\t1|1\t1|1\t1|1\t1|1\t1|1\t1|1\t1|1\t1|1\t1|1\t1|1\t1|1\t1|1\t1|1\t1|1\t1|1\t1|1\t1|1\t1|1\t1|1\t1|0\t1|1\t1|1\t1|1\t1|1\t1|1\t1|1\t1|1\t1|1\t1|1\t1|1\t1|1\t1|1\t1|1\t1|1\t1|1\t1|1\t1|1\t1|1\t1|1\t1|1\t1|1\t1|1\t1|1\t1|1\t1|1\t1|1\t1|1\t1|1\t1|1\t1|1\t1|1\t1|1\t1|1\t1|1\t1|1\t1|1\t1|1\t1|1\t1|1\t1|1\t1|1\t1|1\t1|1\t1|1\t1|1\t1|0\t1|1\t1|1\t1|1\t1|1\t1|1\t1|1\t1|1\t1|1\t1|1\t0|1\t1|1\t1|1\t1|1\t1|1\t1|1\t1|1\t1|1\t1|1\t1|1\t1|1\t1|1\t1|1\t1|1\t1|1\t1|1\t1|1\t1|1\t1|1\t1|1\t1|1\t1|1\t1|1\t1|1\t1|1\t1|1\t1|1\t1|1\t1|1\t1|1\t1|1\t1|1\t1|1\t1|1\t1|1\t1|1\t1|1\t1|1\t1|1\t1|1\t1|1\t1|1\t1|1\t1|1\t1|1\t1|1\t1|1\t1|1\t1|1\t1|1\t1|1\t1|1\t1|1\t1|1\t1|0\t1|1\t1|1\t1|1\t1|1\t1|1\t1|1\t1|1\t1|1\t1|1\t0|1\t1|1\t1|1\t1|1\t1|1\t1|1\t1|1\t1|1\t1|1\t1|1\t1|1\t1|1\t1|0\t1|1\t1|1\t1|1\t1|1\t1|1\t1|1\t1|1\t1|1\t1|1\t1|1\t1|1\t1|1\t1|1\t1|1\t1|0\t0|1\t1|1\t1|0\t1|1\t1|1\t1|1\t1|1\t1|1\t1|1\t1|1\t1|1\t1|1\t1|1\t0|1\t0|1\t1|1\t1|1\t0|1\t1|1\t1|1\t1|1\t1|1\t0|1\t0|1\t0|1\t1|1\t1|1\t1|1\t1|1\t1|1\t1|1\t1|1\t1|1\t1|1\t1|1\t1|1\t1|1\t1|1\t0|1\t1|1\t0|1\t1|1\t1|1\t1|1\t1|1\t1|0\t1|1\t1|1\t1|1\t1|1\t1|1\t1|1\t1|1\t1|1\t1|1\t1|1\t1|1\t1|1\t1|1\t1|0\t1|1\t1|1\t1|1\t1|1\t1|1\t1|1\t1|1\t1|1\t1|1\t1|1\t1|1\t1|1\t1|0\t0|1\t1|1\t0|0\t1|1\t1|1\t1|1\t0|1\t1|0\t1|1\t1|1\t1|1\t1|1\t1|1\t0|0\t1|1\t1|1\t1|1\t1|1\t1|1\t1|1\t0|1\t1|1\t1|1\t1|0\t1|0\t1|1\t1|1\t1|1\t0|1\r\n",
      "chr11\t5285405\trs558430693\tG\tA\t100\tPASS\tAC=3;AF=0.000599042;AN=5008;NS=2504;DP=15868;EAS_AF=0;AMR_AF=0;AFR_AF=0.0023;EUR_AF=0;SAS_AF=0;AA=G|||;VT=SNP\tGT\t0|0\t0|0\t0|0\t0|0\t0|0\t0|0\t0|0\t0|0\t0|0\t0|0\t0|0\t0|0\t0|0\t0|0\t0|0\t0|0\t0|0\t0|0\t0|0\t0|0\t0|0\t0|0\t0|0\t0|0\t0|0\t0|0\t0|0\t0|0\t0|0\t0|0\t0|0\t0|0\t0|0\t0|0\t0|0\t0|0\t0|0\t0|0\t0|0\t0|0\t0|0\t0|0\t0|0\t0|0\t0|0\t0|0\t0|0\t0|0\t0|0\t0|0\t0|0\t0|0\t0|0\t0|0\t0|0\t0|0\t0|0\t0|0\t0|0\t0|0\t0|0\t0|0\t0|0\t0|0\t0|0\t0|0\t0|0\t0|0\t0|0\t0|0\t0|0\t0|0\t0|0\t0|0\t0|0\t0|0\t0|0\t0|0\t0|0\t0|0\t0|0\t0|0\t0|0\t0|0\t0|0\t0|0\t0|0\t0|0\t0|0\t0|0\t0|0\t0|0\t0|0\t0|0\t0|0\t0|0\t0|0\t0|0\t0|0\t0|0\t0|0\t0|0\t0|0\t0|0\t0|0\t0|0\t0|0\t0|0\t0|0\t0|0\t0|0\t0|0\t0|0\t0|0\t0|0\t0|0\t0|0\t0|0\t0|0\t0|0\t0|0\t0|0\t0|0\t0|0\t0|0\t0|0\t0|0\t0|0\t0|0\t0|0\t0|0\t0|0\t0|0\t0|0\t0|0\t0|0\t0|0\t0|0\t0|0\t0|0\t0|0\t0|0\t0|0\t0|0\t0|0\t0|0\t0|0\t0|0\t0|0\t0|0\t0|0\t0|0\t0|0\t0|0\t0|0\t0|0\t0|0\t0|0\t0|0\t0|0\t0|0\t0|0\t0|0\t0|0\t0|0\t0|0\t0|0\t0|0\t0|0\t0|0\t0|0\t0|0\t0|0\t0|0\t0|0\t0|0\t0|0\t0|0\t0|0\t0|0\t0|0\t0|0\t0|0\t0|0\t0|0\t0|0\t0|0\t0|0\t0|0\t0|0\t0|0\t0|0\t0|0\t0|0\t0|0\t0|0\t0|0\t0|0\t0|0\t0|0\t0|0\t0|0\t0|0\t0|0\t0|0\t0|0\t0|0\t0|0\t0|0\t0|0\t0|0\t0|0\t0|0\t0|0\t0|0\t0|0\t0|0\t0|0\t0|0\t0|0\t0|0\t0|0\t0|0\t0|0\t0|0\t0|0\t0|0\t0|0\t0|0\t0|0\t0|0\t0|0\t0|0\t0|0\t0|0\t0|0\t0|0\t0|0\t0|0\t0|0\t0|0\t0|0\t0|0\t0|0\t0|0\t0|0\t0|0\t0|0\t0|0\t0|0\t0|0\t0|0\t0|0\t0|0\t0|0\t0|0\t0|0\t0|0\t0|0\t0|0\t0|0\t0|0\t0|0\t0|0\t0|0\t0|0\t0|0\t0|0\t0|0\t0|0\t0|0\t0|0\t0|0\t0|0\t0|0\t0|0\t0|0\t0|0\t0|0\t0|0\t0|0\t0|0\t0|0\t0|0\t0|0\t0|0\t0|0\t0|0\t0|0\t0|0\t0|0\t0|0\t0|0\t0|0\t0|0\t0|0\t0|0\t0|0\t0|0\t0|0\t0|0\t0|0\t0|0\t0|0\t0|0\t0|0\t0|0\t0|0\t0|0\t0|0\t0|0\t0|0\t0|0\t0|0\t0|0\t0|0\t0|0\t0|0\t0|0\t0|0\t0|0\t0|0\t0|0\t0|0\t0|0\t0|0\t0|0\t0|0\t0|0\t0|0\t0|0\t0|0\t0|0\t0|0\t0|0\t0|0\t0|0\t0|0\t0|0\t0|0\t0|0\t0|0\t0|0\t0|0\t0|0\t0|0\t0|0\t0|0\t0|0\t0|0\t0|0\t0|0\t0|0\t0|0\t0|0\t0|0\t0|0\t0|0\t0|0\t0|0\t0|0\t0|0\t0|0\t0|0\t0|0\t0|0\t0|0\t0|0\t0|0\t0|0\t0|0\t0|0\t0|0\t0|0\t0|0\t0|0\t0|0\t0|0\t0|0\t0|0\t0|0\t0|0\t0|0\t0|0\t0|0\t0|0\t0|0\t0|0\t0|0\t0|0\t0|0\t0|0\t0|0\t0|0\t0|0\t0|0\t0|0\t0|0\t0|0\t0|0\t0|0\t0|0\t0|0\t0|0\t0|0\t0|0\t0|0\t0|0\t0|0\t0|0\t0|0\t0|0\t0|0\t0|0\t0|0\t0|0\t0|0\t0|0\t0|0\t0|0\t0|0\t0|0\t0|0\t0|0\t0|0\t0|0\t0|0\t0|0\t0|0\t0|0\t0|0\t0|0\t0|0\t0|0\t0|0\t0|0\t0|0\t0|0\t0|0\t0|0\t0|0\t0|0\t0|0\t0|0\t0|0\t0|0\t0|0\t0|0\t0|0\t0|0\t0|0\t0|0\t0|0\t0|0\t0|0\t0|0\t0|0\t0|0\t0|0\t0|0\t0|0\t0|0\t0|0\t0|0\t0|0\t0|0\t0|0\t0|0\t0|0\t0|0\t0|0\t0|0\t0|0\t0|0\t0|0\t0|0\t0|0\t0|0\t0|0\t0|0\t0|0\t0|0\t0|0\t0|0\t0|0\t0|0\t0|0\t0|0\t0|0\t0|0\t0|0\t0|0\t0|0\t0|0\t0|0\t0|0\t0|0\t0|0\t0|0\t0|0\t0|0\t0|0\t0|0\t0|0\t0|0\t0|0\t0|0\t0|0\t0|0\t0|0\t0|0\t0|0\t0|0\t0|0\t0|0\t0|0\t0|0\t0|0\t0|0\t0|0\t0|0\t0|0\t0|0\t0|0\t0|0\t0|0\t0|0\t0|0\t0|0\t0|0\t0|0\t0|0\t0|0\t0|0\t0|0\t0|0\t0|0\t0|0\t0|0\t0|0\t0|0\t0|0\t0|0\t0|0\t0|0\t0|0\t0|0\t0|0\t0|0\t0|0\t0|0\t0|0\t0|0\t0|0\t0|0\t0|0\t0|0\t0|0\t0|0\t0|0\t0|0\t0|0\t0|0\t0|0\t0|0\t0|0\t0|0\t0|0\t0|0\t0|0\t0|0\t0|0\t0|0\t0|0\t0|0\t0|0\t0|0\t0|0\t0|0\t0|0\t0|0\t0|0\t0|0\t0|0\t0|0\t0|0\t0|0\t0|0\t0|0\t0|0\t0|0\t0|0\t0|0\t0|0\t0|0\t0|0\t0|0\t0|0\t0|0\t0|0\t0|0\t0|0\t0|0\t0|0\t0|0\t0|0\t0|0\t0|0\t0|0\t0|0\t0|0\t0|0\t0|0\t0|0\t0|0\t0|0\t0|0\t0|0\t0|0\t0|0\t0|0\t0|0\t0|0\t0|0\t0|0\t0|0\t0|0\t0|0\t0|0\t0|0\t0|0\t0|0\t0|0\t0|0\t0|0\t0|0\t0|0\t0|0\t0|0\t0|0\t0|0\t0|0\t0|0\t0|0\t0|0\t0|0\t0|0\t0|0\t0|0\t0|0\t0|0\t0|0\t0|0\t0|0\t0|0\t0|0\t0|0\t0|0\t0|0\t0|0\t0|0\t0|0\t0|0\t0|0\t0|0\t0|0\t0|0\t0|0\t0|0\t0|0\t0|0\t0|0\t0|0\t0|0\t0|0\t0|0\t0|0\t0|0\t0|0\t0|0\t0|0\t0|0\t0|0\t0|0\t0|0\t0|0\t0|0\t0|0\t0|0\t0|0\t0|0\t0|0\t0|0\t0|0\t0|0\t0|0\t0|0\t0|0\t0|0\t0|0\t0|0\t0|0\t0|0\t0|0\t0|0\t0|0\t0|0\t0|0\t0|0\t0|0\t0|0\t0|0\t0|0\t0|0\t0|0\t0|0\t0|0\t0|0\t0|0\t0|0\t0|0\t0|0\t0|0\t0|0\t0|0\t0|0\t0|0\t0|0\t0|0\t0|0\t0|0\t0|0\t0|0\t0|0\t0|0\t0|0\t0|0\t0|0\t0|0\t0|0\t0|0\t0|0\t0|0\t0|0\t0|0\t0|0\t0|0\t0|0\t0|0\t0|0\t0|0\t0|0\t0|0\t0|0\t0|0\t0|0\t0|0\t0|0\t0|0\t0|0\t0|0\t0|0\t0|0\t0|0\t0|0\t0|0\t0|0\t0|0\t0|0\t0|0\t0|0\t0|0\t0|0\t0|0\t0|0\t0|0\t0|0\t0|0\t0|0\t0|0\t0|0\t0|0\t0|0\t0|0\t0|0\t0|0\t0|0\t0|0\t0|0\t0|0\t0|0\t0|0\t0|0\t0|0\t0|0\t0|0\t0|0\t0|0\t0|0\t0|0\t0|0\t0|0\t0|0\t0|0\t0|0\t0|0\t0|0\t0|0\t0|0\t0|0\t0|0\t0|0\t0|0\t0|0\t0|0\t0|0\t0|0\t0|0\t0|0\t0|0\t0|0\t0|0\t0|0\t0|0\t0|0\t0|0\t0|0\t0|0\t0|0\t0|0\t0|0\t0|0\t0|0\t0|0\t0|0\t0|0\t0|0\t0|0\t0|0\t0|0\t0|0\t0|0\t0|0\t0|0\t0|0\t0|0\t0|0\t0|0\t0|0\t0|0\t0|0\t0|0\t0|0\t0|0\t0|0\t0|0\t0|0\t0|0\t0|0\t0|0\t0|0\t0|0\t0|0\t0|0\t0|0\t0|0\t0|0\t0|0\t0|0\t0|0\t0|0\t0|0\t0|0\t0|0\t0|0\t0|0\t0|0\t0|0\t0|0\t0|0\t0|0\t0|0\t0|0\t0|0\t0|0\t0|0\t0|0\t0|0\t0|0\t0|0\t0|0\t0|0\t0|0\t0|0\t0|0\t0|0\t0|0\t0|0\t0|0\t0|0\t0|0\t0|0\t0|0\t0|0\t0|0\t0|0\t0|0\t0|0\t0|0\t0|0\t0|0\t0|0\t0|0\t0|0\t0|0\t0|0\t0|0\t0|0\t0|0\t0|0\t0|0\t0|0\t0|0\t0|0\t0|0\t0|0\t0|0\t0|0\t0|0\t0|0\t0|0\t0|0\t0|0\t0|0\t0|0\t0|0\t0|0\t0|0\t0|0\t0|0\t0|0\t0|0\t0|0\t0|0\t0|0\t0|0\t0|0\t0|0\t0|0\t0|0\t0|0\t0|0\t0|0\t0|0\t0|0\t0|0\t0|0\t0|0\t0|0\t0|0\t0|0\t0|0\t0|0\t0|0\t0|0\t0|0\t0|0\t0|0\t0|0\t0|0\t0|0\t0|0\t0|0\t0|0\t0|0\t0|0\t0|0\t0|0\t0|0\t0|0\t0|0\t0|0\t0|0\t0|0\t0|0\t0|0\t0|0\t0|0\t0|0\t0|0\t0|0\t0|0\t0|0\t0|0\t0|0\t0|0\t0|0\t1|0\t0|0\t0|0\t0|0\t0|0\t0|0\t0|0\t0|0\t0|0\t0|0\t0|0\t0|0\t0|0\t0|0\t0|0\t0|0\t0|0\t0|0\t0|0\t0|0\t0|0\t0|0\t0|0\t0|0\t0|0\t0|0\t0|0\t0|0\t0|0\t0|0\t0|0\t0|0\t0|0\t0|0\t0|0\t0|0\t0|0\t0|0\t0|0\t0|0\t0|0\t0|0\t0|0\t0|0\t0|0\t0|0\t0|0\t0|0\t0|0\t0|0\t0|0\t0|0\t0|0\t0|0\t0|0\t0|0\t0|0\t0|0\t0|0\t0|0\t0|0\t0|0\t0|0\t0|0\t0|0\t0|0\t0|0\t0|0\t0|0\t0|0\t0|0\t0|0\t0|0\t0|0\t0|0\t0|0\t0|0\t0|0\t0|0\t0|0\t0|0\t0|0\t0|0\t0|0\t0|0\t0|0\t0|0\t0|0\t0|0\t0|0\t0|0\t0|0\t0|0\t0|0\t0|0\t0|0\t0|0\t0|0\t0|0\t0|0\t0|0\t0|0\t0|0\t0|0\t0|0\t0|0\t0|0\t0|0\t0|0\t0|0\t0|0\t0|0\t0|0\t0|0\t0|0\t0|0\t0|0\t0|0\t0|0\t0|0\t0|0\t0|0\t0|0\t0|0\t0|0\t0|0\t0|0\t0|0\t0|0\t0|0\t0|0\t0|0\t0|0\t0|0\t0|0\t0|0\t0|0\t0|0\t0|0\t0|0\t0|0\t0|0\t0|0\t0|0\t0|0\t0|0\t0|0\t0|0\t0|0\t0|0\t0|0\t0|0\t0|0\t0|0\t0|0\t0|0\t0|0\t0|0\t0|0\t0|0\t0|0\t0|0\t0|0\t0|0\t0|0\t0|0\t0|0\t0|0\t0|0\t0|0\t0|0\t0|0\t0|0\t0|0\t0|0\t0|0\t0|0\t0|0\t0|0\t0|0\t0|0\t0|0\t0|0\t0|0\t0|0\t0|0\t0|0\t0|0\t0|0\t0|0\t0|0\t0|0\t0|0\t0|0\t0|0\t0|0\t0|0\t0|0\t0|0\t0|0\t0|0\t0|0\t0|0\t0|0\t0|0\t0|0\t0|0\t0|0\t0|0\t0|0\t0|0\t0|0\t0|0\t0|0\t0|0\t0|0\t0|0\t0|0\t0|0\t0|0\t0|0\t0|0\t0|0\t0|0\t0|0\t0|0\t0|0\t0|0\t0|0\t0|0\t0|0\t0|0\t0|0\t0|0\t0|0\t0|0\t0|0\t0|0\t0|0\t0|0\t0|0\t0|0\t0|0\t0|0\t0|0\t0|0\t0|0\t0|0\t0|0\t0|0\t0|0\t0|0\t0|0\t0|0\t0|0\t0|0\t0|0\t0|0\t0|0\t0|0\t0|0\t0|0\t0|0\t0|0\t0|0\t0|0\t0|0\t0|0\t0|0\t0|0\t0|0\t0|0\t0|0\t0|0\t0|0\t0|0\t0|0\t0|0\t0|0\t0|0\t0|0\t0|0\t0|0\t0|0\t0|0\t0|0\t0|0\t0|0\t0|0\t0|0\t0|0\t0|0\t0|0\t0|0\t0|0\t0|0\t0|0\t0|0\t0|0\t0|0\t0|0\t0|0\t0|0\t0|0\t0|0\t0|0\t0|0\t0|0\t0|0\t0|0\t0|0\t0|0\t0|0\t0|0\t0|0\t0|0\t0|0\t0|0\t0|0\t0|0\t0|0\t0|0\t0|0\t0|0\t0|0\t0|0\t0|0\t0|0\t0|0\t0|0\t1|0\t0|0\t0|0\t0|0\t0|0\t0|0\t0|0\t0|0\t0|0\t0|0\t0|0\t0|0\t0|0\t0|0\t0|0\t0|0\t0|0\t0|0\t0|0\t0|0\t0|0\t0|0\t0|0\t0|0\t0|0\t0|0\t0|0\t0|0\t0|0\t0|0\t0|0\t0|0\t0|0\t0|0\t0|0\t0|0\t0|0\t0|0\t0|0\t0|0\t0|0\t0|0\t0|0\t0|0\t0|0\t0|0\t0|0\t0|0\t0|0\t0|0\t0|0\t0|0\t0|0\t0|0\t0|0\t0|0\t0|0\t0|0\t0|0\t0|0\t0|0\t0|0\t0|0\t0|0\t0|0\t0|0\t0|0\t0|0\t0|0\t0|0\t0|0\t0|0\t0|0\t0|0\t0|0\t0|0\t0|0\t0|0\t0|0\t0|0\t0|0\t0|0\t0|0\t0|0\t0|0\t0|0\t0|0\t0|0\t0|0\t0|0\t0|0\t0|0\t0|0\t0|0\t0|0\t0|0\t0|0\t0|0\t0|0\t0|0\t0|0\t0|0\t0|0\t0|0\t0|0\t0|0\t0|0\t0|0\t0|0\t0|0\t0|0\t0|0\t0|0\t0|0\t0|0\t0|0\t0|0\t0|0\t0|0\t0|0\t0|0\t0|0\t0|0\t0|0\t0|0\t0|0\t0|0\t0|0\t0|0\t0|0\t0|0\t0|0\t0|0\t0|0\t0|0\t0|0\t0|0\t0|0\t0|0\t0|0\t0|0\t0|0\t0|0\t0|0\t0|0\t0|0\t0|0\t0|0\t0|0\t0|0\t0|0\t0|0\t0|0\t0|0\t0|0\t0|0\t0|0\t0|0\t0|0\t0|0\t0|0\t0|0\t0|0\t0|0\t0|0\t0|0\t0|0\t0|0\t0|0\t0|0\t0|0\t0|0\t0|0\t0|0\t0|0\t0|0\t0|0\t0|0\t0|0\t0|0\t0|0\t0|0\t0|0\t0|0\t0|0\t0|0\t0|0\t0|0\t0|0\t0|0\t0|0\t0|0\t0|0\t0|0\t0|0\t0|0\t0|0\t0|0\t0|0\t0|0\t0|0\t0|0\t0|0\t0|0\t0|0\t0|0\t0|0\t0|0\t0|0\t0|0\t0|0\t0|0\t0|0\t0|0\t0|0\t0|0\t0|0\t0|0\t0|0\t0|0\t0|0\t0|0\t0|0\t0|0\t0|0\t0|0\t0|0\t0|0\t0|0\t0|0\t0|0\t0|0\t0|0\t0|0\t0|0\t0|0\t0|0\t0|0\t0|0\t0|0\t0|0\t0|0\t0|0\t0|0\t0|0\t0|0\t0|0\t0|0\t0|0\t0|0\t0|0\t0|0\t0|0\t0|0\t0|0\t0|0\t0|0\t0|0\t0|0\t0|0\t0|0\t0|0\t0|0\t0|0\t0|0\t0|0\t0|0\t0|0\t0|0\t0|0\t0|0\t0|0\t0|0\t0|0\t0|0\t0|0\t0|0\t0|0\t0|0\t0|0\t0|0\t0|0\t0|0\t0|0\t0|0\t0|0\t0|0\t0|0\t0|0\t0|0\t0|0\t0|0\t0|0\t0|0\t0|0\t0|0\t0|0\t0|0\t0|0\t0|0\t0|0\t0|0\t0|0\t0|0\t0|0\t0|0\t0|0\t0|0\t0|0\t0|0\t0|0\t0|0\t0|0\t0|0\t0|0\t0|0\t0|0\t0|0\t0|0\t0|0\t0|0\t0|0\t0|0\t0|0\t0|0\t0|0\t0|0\t0|0\t0|0\t0|0\t0|0\t0|0\t0|0\t0|0\t0|0\t0|0\t0|0\t0|0\t0|0\t0|0\t0|0\t0|0\t0|0\t0|0\t0|0\t0|0\t0|0\t0|0\t0|0\t0|0\t0|0\t0|0\t0|0\t0|0\t0|0\t0|0\t0|0\t0|0\t0|0\t0|0\t0|0\t0|0\t0|0\t0|0\t0|0\t0|0\t0|0\t0|0\t0|0\t0|0\t0|0\t0|0\t0|0\t0|0\t0|0\t0|0\t0|0\t0|0\t0|0\t0|0\t0|0\t0|0\t0|0\t0|0\t0|0\t0|0\t0|0\t0|0\t0|0\t0|0\t0|0\t0|0\t0|0\t0|0\t0|0\t0|0\t0|0\t0|0\t0|0\t0|0\t0|0\t0|0\t0|0\t0|0\t0|0\t0|0\t0|0\t0|0\t0|0\t0|0\t0|0\t0|0\t0|0\t0|0\t0|0\t0|0\t0|0\t0|0\t0|0\t0|0\t0|0\t0|0\t0|0\t0|0\t0|0\t0|0\t0|0\t0|0\t0|0\t0|0\t0|0\t0|0\t0|0\t0|0\t0|0\t0|0\t0|0\t0|0\t0|0\t0|0\t0|0\t0|0\t0|0\t0|0\t0|0\t0|0\t0|0\t0|0\t0|0\t0|0\t0|0\t0|0\t0|0\t0|0\t0|0\t0|0\t0|0\t0|0\t0|0\t0|0\t0|0\t0|0\t0|0\t0|0\t0|0\t0|0\t0|0\t0|0\t0|0\t0|0\t0|0\t0|0\t0|0\t0|0\t0|0\t0|0\t0|0\t0|0\t0|0\t0|0\t0|0\t0|0\t0|0\t0|0\t0|0\t0|0\t0|0\t0|0\t0|0\t0|0\t0|0\t0|0\t0|0\t0|0\t0|0\t0|0\t0|0\t0|0\t0|0\t0|0\t0|0\t0|0\t0|0\t0|0\t0|0\t0|0\t0|0\t0|0\t0|0\t0|0\t0|0\t0|0\t0|0\t0|0\t0|0\t0|0\t0|0\t0|0\t0|0\t0|0\t0|0\t0|0\t0|0\t0|0\t0|0\t0|0\t0|0\t0|0\t0|0\t0|0\t0|0\t0|0\t0|0\t0|0\t0|0\t0|0\t0|0\t0|0\t0|0\t0|0\t0|0\t0|0\t0|0\t0|0\t0|0\t0|0\t0|0\t0|0\t0|0\t0|0\t0|0\t0|0\t0|0\t0|0\t0|0\t0|0\t0|0\t0|0\t0|0\t0|0\t0|0\t0|0\t0|0\t0|0\t0|0\t0|0\t0|0\t0|0\t0|0\t0|0\t0|0\t0|0\t0|0\t0|0\t0|0\t0|0\t0|0\t0|0\t0|0\t0|0\t0|0\t0|0\t0|0\t0|0\t0|0\t0|0\t0|0\t0|0\t0|0\t0|0\t0|0\t0|0\t0|0\t0|0\t0|0\t0|0\t0|0\t0|0\t0|0\t0|0\t0|0\t0|0\t0|0\t0|0\t0|0\t0|0\t0|0\t0|0\t0|0\t0|0\t0|0\t0|0\t0|0\t0|0\t0|0\t0|0\t0|0\t0|0\t0|0\t0|0\t0|0\t0|0\t0|0\t0|0\t0|0\t0|0\t0|0\t0|0\t0|0\t0|0\t0|0\t0|0\t0|0\t0|0\t0|0\t0|0\t0|0\t0|0\t0|0\t0|0\t0|0\t0|0\t0|0\t0|0\t0|0\t0|0\t0|0\t0|0\t0|0\t0|0\t0|0\t0|0\t0|0\t0|0\t0|0\t0|0\t0|0\t0|0\t0|0\t0|0\t0|0\t0|0\t0|0\t0|0\t0|0\t0|0\t0|0\t0|0\t0|0\t0|0\t0|0\t0|0\t0|0\t0|0\t0|0\t0|0\t0|0\t0|0\t0|0\t0|0\t0|0\t0|0\t0|0\t0|0\t0|0\t0|0\t0|0\t0|0\t0|0\t0|0\t0|0\t0|0\t0|0\t0|0\t0|0\t0|0\t0|0\t0|0\t0|0\t0|0\t0|0\t0|0\t0|0\t0|0\t0|0\t0|0\t0|0\t0|0\t0|0\t0|0\t0|0\t0|0\t0|0\t0|0\t0|0\t0|0\t0|0\t0|0\t0|0\t0|0\t0|1\t0|0\t0|0\t0|0\t0|0\t0|0\t0|0\t0|0\t0|0\t0|0\t0|0\t0|0\t0|0\t0|0\t0|0\t0|0\t0|0\t0|0\t0|0\t0|0\t0|0\t0|0\t0|0\t0|0\t0|0\t0|0\t0|0\t0|0\t0|0\t0|0\t0|0\t0|0\t0|0\t0|0\t0|0\t0|0\t0|0\t0|0\t0|0\t0|0\t0|0\t0|0\t0|0\t0|0\t0|0\t0|0\t0|0\t0|0\t0|0\t0|0\t0|0\t0|0\t0|0\t0|0\t0|0\t0|0\t0|0\t0|0\t0|0\t0|0\t0|0\t0|0\t0|0\t0|0\t0|0\t0|0\t0|0\t0|0\t0|0\t0|0\t0|0\t0|0\t0|0\t0|0\t0|0\t0|0\t0|0\t0|0\t0|0\t0|0\t0|0\t0|0\t0|0\t0|0\t0|0\t0|0\t0|0\t0|0\t0|0\t0|0\t0|0\t0|0\t0|0\t0|0\t0|0\t0|0\t0|0\t0|0\t0|0\t0|0\t0|0\t0|0\t0|0\t0|0\t0|0\t0|0\t0|0\t0|0\t0|0\t0|0\t0|0\t0|0\t0|0\t0|0\t0|0\t0|0\t0|0\t0|0\t0|0\t0|0\t0|0\t0|0\t0|0\t0|0\t0|0\t0|0\t0|0\t0|0\t0|0\t0|0\t0|0\t0|0\t0|0\t0|0\t0|0\t0|0\t0|0\t0|0\t0|0\t0|0\t0|0\t0|0\t0|0\t0|0\t0|0\t0|0\t0|0\t0|0\t0|0\t0|0\t0|0\t0|0\t0|0\t0|0\t0|0\t0|0\t0|0\t0|0\t0|0\t0|0\t0|0\t0|0\t0|0\t0|0\t0|0\t0|0\t0|0\t0|0\t0|0\t0|0\t0|0\t0|0\t0|0\t0|0\t0|0\t0|0\t0|0\t0|0\t0|0\t0|0\t0|0\t0|0\t0|0\t0|0\t0|0\t0|0\t0|0\t0|0\t0|0\t0|0\t0|0\t0|0\t0|0\t0|0\t0|0\t0|0\t0|0\t0|0\t0|0\t0|0\t0|0\t0|0\t0|0\t0|0\t0|0\t0|0\t0|0\t0|0\t0|0\t0|0\t0|0\t0|0\t0|0\t0|0\t0|0\t0|0\t0|0\t0|0\t0|0\t0|0\t0|0\t0|0\t0|0\t0|0\t0|0\t0|0\t0|0\t0|0\t0|0\t0|0\t0|0\t0|0\t0|0\t0|0\t0|0\t0|0\t0|0\t0|0\t0|0\t0|0\t0|0\t0|0\t0|0\t0|0\t0|0\t0|0\t0|0\t0|0\t0|0\t0|0\t0|0\t0|0\t0|0\t0|0\t0|0\t0|0\t0|0\t0|0\t0|0\t0|0\t0|0\t0|0\t0|0\t0|0\t0|0\t0|0\t0|0\t0|0\t0|0\t0|0\t0|0\t0|0\t0|0\t0|0\t0|0\t0|0\t0|0\t0|0\t0|0\t0|0\t0|0\t0|0\t0|0\t0|0\t0|0\t0|0\t0|0\t0|0\t0|0\t0|0\t0|0\t0|0\t0|0\t0|0\t0|0\t0|0\t0|0\t0|0\t0|0\t0|0\t0|0\t0|0\t0|0\t0|0\t0|0\t0|0\t0|0\t0|0\t0|0\t0|0\t0|0\t0|0\t0|0\t0|0\t0|0\t0|0\t0|0\t0|0\t0|0\t0|0\t0|0\t0|0\t0|0\t0|0\t0|0\t0|0\t0|0\t0|0\t0|0\t0|0\t0|0\t0|0\t0|0\t0|0\t0|0\t0|0\t0|0\t0|0\t0|0\t0|0\t0|0\t0|0\t0|0\t0|0\t0|0\t0|0\t0|0\t0|0\t0|0\t0|0\t0|0\t0|0\t0|0\t0|0\t0|0\t0|0\t0|0\t0|0\t0|0\t0|0\t0|0\t0|0\t0|0\t0|0\t0|0\t0|0\t0|0\t0|0\t0|0\t0|0\t0|0\t0|0\t0|0\t0|0\t0|0\t0|0\t0|0\t0|0\t0|0\t0|0\t0|0\t0|0\t0|0\t0|0\t0|0\t0|0\t0|0\t0|0\t0|0\t0|0\t0|0\t0|0\t0|0\t0|0\t0|0\t0|0\t0|0\t0|0\t0|0\t0|0\t0|0\t0|0\t0|0\t0|0\t0|0\t0|0\t0|0\t0|0\t0|0\t0|0\t0|0\t0|0\t0|0\t0|0\t0|0\t0|0\t0|0\t0|0\t0|0\t0|0\t0|0\t0|0\t0|0\t0|0\t0|0\t0|0\t0|0\t0|0\t0|0\t0|0\t0|0\t0|0\t0|0\t0|0\t0|0\t0|0\t0|0\t0|0\t0|0\t0|0\t0|0\t0|0\t0|0\t0|0\t0|0\t0|0\t0|0\t0|0\t0|0\t0|0\t0|0\t0|0\t0|0\t0|0\t0|0\t0|0\t0|0\r\n",
      "chr11\t5285429\trs570636845\tG\tA\t100\tPASS\tAC=1;AF=0.000199681;AN=5008;NS=2504;DP=16746;EAS_AF=0;AMR_AF=0;AFR_AF=0;EUR_AF=0;SAS_AF=0.001;AA=G|||;VT=SNP\tGT\t0|0\t0|0\t0|0\t0|0\t0|0\t0|0\t0|0\t0|0\t0|0\t0|0\t0|0\t0|0\t0|0\t0|0\t0|0\t0|0\t0|0\t0|0\t0|0\t0|0\t0|0\t0|0\t0|0\t0|0\t0|0\t0|0\t0|0\t0|0\t0|0\t0|0\t0|0\t0|0\t0|0\t0|0\t0|0\t0|0\t0|0\t0|0\t0|0\t0|0\t0|0\t0|0\t0|0\t0|0\t0|0\t0|0\t0|0\t0|0\t0|0\t0|0\t0|0\t0|0\t0|0\t0|0\t0|0\t0|0\t0|0\t0|0\t0|0\t0|0\t0|0\t0|0\t0|0\t0|0\t0|0\t0|0\t0|0\t0|0\t0|0\t0|0\t0|0\t0|0\t0|0\t0|0\t0|0\t0|0\t0|0\t0|0\t0|0\t0|0\t0|0\t0|0\t0|0\t0|0\t0|0\t0|0\t0|0\t0|0\t0|0\t0|0\t0|0\t0|0\t0|0\t0|0\t0|0\t0|0\t0|0\t0|0\t0|0\t0|0\t0|0\t0|0\t0|0\t0|0\t0|0\t0|0\t0|0\t0|0\t0|0\t0|0\t0|0\t0|0\t0|0\t0|0\t0|0\t0|0\t0|0\t0|0\t0|0\t0|0\t0|0\t0|0\t0|0\t0|0\t0|0\t0|0\t0|0\t0|0\t0|0\t0|0\t0|0\t0|0\t0|0\t0|0\t0|0\t0|0\t0|0\t0|0\t0|0\t0|0\t0|0\t0|0\t0|0\t0|0\t0|0\t0|0\t0|0\t0|0\t0|0\t0|0\t0|0\t0|0\t0|0\t0|0\t0|0\t0|0\t0|0\t0|0\t0|0\t0|0\t0|0\t0|0\t0|0\t0|0\t0|0\t0|0\t0|0\t0|0\t0|0\t0|0\t0|0\t0|0\t0|0\t0|0\t0|0\t0|0\t0|0\t0|0\t0|0\t0|0\t0|0\t0|0\t0|0\t0|0\t0|0\t0|0\t0|0\t0|0\t0|0\t0|0\t0|0\t0|0\t0|0\t0|0\t0|0\t0|0\t0|0\t0|0\t0|0\t0|0\t0|0\t0|0\t0|0\t0|0\t0|0\t0|0\t0|0\t0|0\t0|0\t0|0\t0|0\t0|0\t0|0\t0|0\t0|0\t0|0\t0|0\t0|0\t0|0\t0|0\t0|0\t0|0\t0|0\t0|0\t0|0\t0|0\t0|0\t0|0\t0|0\t0|0\t0|0\t0|0\t0|0\t0|0\t0|0\t0|0\t0|0\t0|0\t0|0\t0|0\t0|0\t0|0\t0|0\t0|0\t0|0\t0|0\t0|0\t0|0\t0|0\t0|0\t0|0\t0|0\t0|0\t0|0\t0|0\t0|0\t0|0\t0|0\t0|0\t0|0\t0|0\t0|0\t0|0\t0|0\t0|0\t0|0\t0|0\t0|0\t0|0\t0|0\t0|0\t0|0\t0|0\t0|0\t0|0\t0|0\t0|0\t0|0\t0|0\t0|0\t0|0\t0|0\t0|0\t0|0\t0|0\t0|0\t0|0\t0|0\t0|0\t0|0\t0|0\t0|0\t0|0\t0|0\t0|0\t0|0\t0|0\t0|0\t0|0\t0|0\t0|0\t0|0\t0|0\t0|0\t0|0\t0|0\t0|0\t0|0\t0|0\t0|0\t0|0\t0|0\t0|0\t0|0\t0|0\t0|0\t0|0\t0|0\t0|0\t0|0\t0|0\t0|0\t0|0\t0|0\t0|0\t0|0\t0|0\t0|0\t0|0\t0|0\t0|0\t0|0\t0|0\t0|0\t0|0\t0|0\t0|0\t0|0\t0|0\t0|0\t0|0\t0|0\t0|0\t0|0\t0|0\t0|0\t0|0\t0|0\t0|0\t0|0\t0|0\t0|0\t0|0\t0|0\t0|0\t0|0\t0|0\t0|0\t0|0\t0|0\t0|0\t0|0\t0|0\t0|0\t0|0\t0|0\t0|0\t0|0\t0|0\t0|0\t0|0\t0|0\t0|0\t0|0\t0|0\t0|0\t0|0\t0|0\t0|0\t0|0\t0|0\t0|0\t0|0\t0|0\t0|0\t0|0\t0|0\t0|0\t0|0\t0|0\t0|0\t0|0\t0|0\t0|0\t0|0\t0|0\t0|0\t0|0\t0|0\t0|0\t0|0\t0|0\t0|0\t0|0\t0|0\t0|0\t0|0\t0|0\t0|0\t0|0\t0|0\t0|0\t0|0\t0|0\t0|0\t0|0\t0|0\t0|0\t0|0\t0|0\t0|0\t0|0\t0|0\t0|0\t0|0\t0|0\t0|0\t0|0\t0|0\t0|0\t0|0\t0|0\t0|0\t0|0\t0|0\t0|0\t0|0\t0|0\t0|0\t0|0\t0|0\t0|0\t0|0\t0|0\t0|0\t0|0\t0|0\t0|0\t0|0\t0|0\t0|0\t0|0\t0|0\t0|0\t0|0\t0|0\t0|0\t0|0\t0|0\t0|0\t0|0\t0|0\t0|0\t0|0\t0|0\t0|0\t0|0\t0|0\t0|0\t0|0\t0|0\t0|0\t0|0\t0|0\t0|0\t0|0\t0|0\t0|0\t0|0\t0|0\t0|0\t0|0\t0|0\t0|0\t0|0\t0|0\t0|0\t0|0\t0|0\t0|0\t0|0\t0|0\t0|0\t0|0\t0|0\t0|0\t0|0\t0|0\t0|0\t0|0\t0|0\t0|0\t0|0\t0|0\t0|0\t0|0\t0|0\t0|0\t0|0\t0|0\t0|0\t0|0\t0|0\t0|0\t0|0\t0|0\t0|0\t0|0\t0|0\t0|0\t0|0\t0|0\t0|0\t0|0\t0|0\t0|0\t0|0\t0|0\t0|0\t0|0\t0|0\t0|0\t0|0\t0|0\t0|0\t0|0\t0|0\t0|0\t0|0\t0|0\t0|0\t0|0\t0|0\t0|0\t0|0\t0|0\t0|0\t0|0\t0|0\t0|0\t0|0\t0|0\t0|0\t0|0\t0|0\t0|0\t0|0\t0|0\t0|0\t0|0\t0|0\t0|0\t0|0\t0|0\t0|0\t0|0\t0|0\t0|0\t0|0\t0|0\t0|0\t0|0\t0|0\t0|0\t0|0\t0|0\t0|0\t0|0\t0|0\t0|0\t0|0\t0|0\t0|0\t0|0\t0|0\t0|0\t0|0\t0|0\t0|0\t0|0\t0|0\t0|0\t0|0\t0|0\t0|0\t0|0\t0|0\t0|0\t0|0\t0|0\t0|0\t0|0\t0|0\t0|0\t0|0\t0|0\t0|0\t0|0\t0|0\t0|0\t0|0\t0|0\t0|0\t0|0\t0|0\t0|0\t0|0\t0|0\t0|0\t0|0\t0|0\t0|0\t0|0\t0|0\t0|0\t0|0\t0|0\t0|0\t0|0\t0|0\t0|0\t0|0\t0|0\t0|0\t0|0\t0|0\t0|0\t0|0\t0|0\t0|0\t0|0\t0|0\t0|0\t0|0\t0|0\t0|0\t0|0\t0|0\t0|0\t0|0\t0|0\t0|0\t0|0\t0|0\t0|0\t0|0\t0|0\t0|0\t0|0\t0|0\t0|0\t0|0\t0|0\t0|0\t0|0\t0|0\t0|0\t0|0\t0|0\t0|0\t0|0\t0|0\t0|0\t0|0\t0|0\t0|0\t0|0\t0|0\t0|0\t0|0\t0|0\t0|0\t0|0\t0|0\t0|0\t0|0\t0|0\t0|0\t0|0\t0|0\t0|0\t0|0\t0|0\t0|0\t0|0\t0|0\t0|0\t0|0\t0|0\t0|0\t0|0\t0|0\t0|0\t0|0\t0|0\t0|0\t0|0\t0|0\t0|0\t0|0\t0|0\t0|0\t0|0\t0|0\t0|0\t0|0\t0|0\t0|0\t0|0\t0|0\t0|0\t0|0\t0|0\t0|0\t0|0\t0|0\t0|0\t0|0\t0|0\t0|0\t0|0\t0|0\t0|0\t0|0\t0|0\t0|0\t0|0\t0|0\t0|0\t0|0\t0|0\t0|0\t0|0\t0|0\t0|0\t0|0\t0|0\t0|0\t0|0\t0|0\t0|0\t0|0\t0|0\t0|0\t0|0\t0|0\t0|0\t0|0\t0|0\t0|0\t0|0\t0|0\t0|0\t0|0\t0|0\t0|0\t0|0\t0|0\t0|0\t0|0\t0|0\t0|0\t0|0\t0|0\t0|0\t0|0\t0|0\t0|0\t0|0\t0|0\t0|0\t0|0\t0|0\t0|0\t0|0\t0|0\t0|0\t0|0\t0|0\t0|0\t0|0\t0|0\t0|0\t0|0\t0|0\t0|0\t0|0\t0|0\t0|0\t0|0\t0|0\t0|0\t0|0\t0|0\t0|0\t0|0\t0|0\t0|0\t0|0\t0|0\t0|0\t0|0\t0|0\t0|0\t0|0\t0|0\t0|0\t0|0\t0|0\t0|0\t0|0\t0|0\t0|0\t0|0\t0|0\t0|0\t0|0\t0|0\t0|0\t0|0\t0|0\t0|0\t0|0\t0|0\t0|0\t0|0\t0|0\t0|0\t0|0\t0|0\t0|0\t0|0\t0|0\t0|0\t0|0\t0|0\t0|0\t0|0\t0|0\t0|0\t0|0\t0|0\t0|0\t0|0\t0|0\t0|0\t0|0\t0|0\t0|0\t0|0\t0|0\t0|0\t0|0\t0|0\t0|0\t0|0\t0|0\t0|0\t0|0\t0|0\t0|0\t0|0\t0|0\t0|0\t0|0\t0|0\t0|0\t0|0\t0|0\t0|0\t0|0\t0|0\t0|0\t0|0\t0|0\t0|0\t0|0\t0|0\t0|0\t0|0\t0|0\t0|0\t0|0\t0|0\t0|0\t0|0\t0|0\t0|0\t0|0\t0|0\t0|0\t0|0\t0|0\t0|0\t0|0\t0|0\t0|0\t0|0\t0|0\t0|0\t0|0\t0|0\t0|0\t0|0\t0|0\t0|0\t0|0\t0|0\t0|0\t0|0\t0|0\t0|0\t0|0\t0|0\t0|0\t0|0\t0|0\t0|0\t0|0\t0|0\t0|0\t0|0\t0|0\t0|0\t0|0\t0|0\t0|0\t0|0\t0|0\t0|0\t0|0\t0|0\t0|0\t0|0\t0|0\t0|0\t0|0\t0|0\t0|0\t0|0\t0|0\t0|0\t0|0\t0|0\t0|0\t0|0\t0|0\t0|0\t0|0\t0|0\t0|0\t0|0\t0|0\t0|0\t0|0\t0|0\t0|0\t0|0\t0|0\t0|0\t0|0\t0|0\t0|0\t0|0\t0|0\t0|0\t0|0\t0|0\t0|0\t0|0\t0|0\t0|0\t0|0\t0|0\t0|0\t0|0\t0|0\t0|0\t0|0\t0|0\t0|0\t0|0\t0|0\t0|0\t0|0\t0|0\t0|0\t0|0\t0|0\t0|0\t0|0\t0|0\t0|0\t0|0\t0|0\t0|0\t0|0\t0|0\t0|0\t0|0\t0|0\t0|0\t0|0\t0|0\t0|0\t0|0\t0|0\t0|0\t0|0\t0|0\t0|0\t0|0\t0|0\t0|0\t0|0\t0|0\t0|0\t0|0\t0|0\t0|0\t0|0\t0|0\t0|0\t0|0\t0|0\t0|0\t0|0\t0|0\t0|0\t0|0\t0|0\t0|0\t0|0\t0|0\t0|0\t0|0\t0|0\t0|0\t0|0\t0|0\t0|0\t0|0\t0|0\t0|0\t0|0\t0|0\t0|0\t0|0\t0|0\t0|0\t0|0\t0|0\t0|0\t0|0\t0|0\t0|0\t0|0\t0|0\t0|0\t0|0\t0|0\t0|0\t0|0\t0|0\t0|0\t0|0\t0|0\t0|0\t0|0\t0|0\t0|0\t0|0\t0|0\t0|0\t0|0\t0|0\t0|0\t0|0\t0|0\t0|0\t0|0\t0|0\t0|0\t0|0\t0|0\t0|0\t0|0\t0|0\t0|0\t0|0\t0|0\t0|0\t0|0\t0|0\t0|0\t0|0\t0|0\t0|0\t0|0\t0|0\t0|0\t0|0\t0|0\t0|0\t0|0\t0|0\t0|0\t0|0\t0|0\t0|0\t0|0\t0|0\t0|0\t0|0\t0|0\t0|0\t0|0\t0|0\t0|0\t0|0\t0|0\t0|0\t0|0\t0|0\t0|0\t0|0\t0|0\t0|0\t0|0\t0|0\t0|0\t0|0\t0|0\t0|0\t0|0\t0|0\t0|0\t0|0\t0|0\t0|0\t0|0\t0|0\t0|0\t0|0\t0|0\t0|0\t0|0\t0|0\t0|0\t0|0\t0|0\t0|0\t0|0\t0|0\t0|0\t0|0\t0|0\t0|0\t0|0\t0|0\t0|0\t0|0\t0|0\t0|0\t0|0\t0|0\t0|0\t0|0\t0|0\t0|0\t0|0\t0|0\t0|0\t0|0\t0|0\t0|0\t0|0\t0|0\t0|0\t0|0\t0|0\t0|0\t0|0\t0|0\t0|0\t0|0\t0|0\t0|0\t0|0\t0|0\t0|0\t0|0\t0|0\t0|0\t0|0\t0|0\t0|0\t0|0\t0|0\t0|0\t0|0\t0|0\t0|0\t0|0\t0|0\t0|0\t0|0\t0|0\t0|0\t0|0\t0|0\t0|0\t0|0\t0|0\t0|0\t0|0\t0|0\t0|0\t0|0\t0|0\t0|0\t0|0\t0|0\t0|0\t0|0\t0|0\t0|0\t0|0\t0|0\t0|0\t0|0\t0|0\t0|0\t0|0\t0|0\t0|0\t0|0\t0|0\t0|0\t0|0\t0|0\t0|0\t0|0\t0|0\t0|0\t0|0\t0|0\t0|0\t0|0\t0|0\t0|0\t0|0\t0|0\t0|0\t0|0\t0|0\t0|0\t0|0\t0|0\t0|0\t0|0\t0|0\t0|0\t0|0\t0|0\t0|0\t0|0\t0|0\t0|0\t0|0\t0|0\t0|0\t0|0\t0|0\t0|0\t0|0\t0|0\t0|0\t0|0\t0|0\t0|0\t0|0\t0|0\t0|0\t0|0\t0|0\t0|0\t0|0\t0|0\t0|0\t0|0\t0|0\t0|0\t0|0\t0|0\t0|0\t0|0\t0|0\t0|0\t0|0\t0|0\t0|0\t0|0\t0|0\t0|0\t0|0\t0|0\t0|0\t0|0\t0|0\t0|0\t0|0\t0|0\t0|0\t0|0\t0|0\t0|0\t0|0\t0|0\t0|0\t0|0\t0|0\t0|0\t0|0\t0|0\t0|0\t0|0\t0|0\t0|0\t0|0\t0|0\t0|0\t0|0\t0|0\t0|0\t0|0\t0|0\t0|0\t0|0\t0|0\t0|0\t0|0\t0|0\t0|0\t0|0\t0|0\t0|0\t0|0\t0|0\t0|0\t0|0\t0|0\t0|0\t0|0\t0|0\t0|0\t0|0\t0|0\t0|0\t0|0\t0|0\t0|0\t0|0\t0|0\t0|0\t0|0\t0|0\t0|0\t0|0\t0|0\t0|0\t0|0\t0|0\t0|0\t0|0\t0|0\t0|0\t0|0\t0|0\t0|0\t0|0\t0|0\t0|0\t0|0\t0|0\t0|0\t0|0\t0|0\t0|0\t0|0\t0|0\t0|0\t0|0\t0|0\t0|0\t0|0\t0|0\t0|0\t0|0\t0|0\t0|0\t0|0\t0|0\t0|0\t0|0\t0|0\t0|0\t0|0\t0|0\t0|0\t0|0\t0|0\t0|0\t0|0\t0|0\t0|0\t0|0\t0|0\t0|0\t0|0\t0|0\t0|0\t0|0\t0|0\t0|0\t0|0\t0|0\t0|0\t0|0\t0|0\t0|0\t0|0\t0|0\t0|0\t0|0\t0|0\t0|0\t0|0\t0|0\t0|0\t0|0\t0|0\t0|0\t0|0\t0|0\t0|0\t0|0\t0|0\t0|0\t0|0\t0|0\t0|0\t0|0\t0|0\t0|0\t0|0\t0|0\t0|0\t0|0\t0|0\t0|0\t0|0\t0|0\t0|0\t0|0\t0|0\t0|0\t0|0\t0|0\t0|0\t0|0\t0|0\t0|0\t0|0\t0|0\t0|0\t0|0\t0|0\t0|0\t0|0\t0|0\t0|0\t0|0\t0|0\t0|0\t0|0\t0|0\t0|0\t0|0\t0|0\t0|0\t0|0\t0|0\t0|0\t0|0\t0|0\t0|0\t0|0\t0|0\t0|0\t0|0\t0|0\t0|0\t0|0\t0|0\t0|0\t0|0\t0|0\t0|0\t0|0\t0|0\t0|0\t0|0\t0|0\t0|0\t0|0\t0|1\t0|0\t0|0\t0|0\t0|0\t0|0\t0|0\t0|0\t0|0\t0|0\t0|0\t0|0\t0|0\t0|0\t0|0\t0|0\t0|0\t0|0\t0|0\t0|0\t0|0\t0|0\t0|0\t0|0\t0|0\t0|0\t0|0\t0|0\t0|0\t0|0\t0|0\t0|0\t0|0\t0|0\t0|0\t0|0\t0|0\t0|0\t0|0\t0|0\t0|0\t0|0\t0|0\t0|0\t0|0\t0|0\t0|0\t0|0\t0|0\t0|0\t0|0\t0|0\t0|0\t0|0\t0|0\t0|0\t0|0\t0|0\t0|0\t0|0\t0|0\t0|0\t0|0\t0|0\t0|0\t0|0\t0|0\t0|0\t0|0\t0|0\t0|0\t0|0\t0|0\t0|0\t0|0\t0|0\t0|0\t0|0\t0|0\t0|0\t0|0\t0|0\t0|0\t0|0\t0|0\t0|0\t0|0\t0|0\t0|0\t0|0\t0|0\t0|0\t0|0\t0|0\t0|0\t0|0\t0|0\t0|0\t0|0\t0|0\t0|0\t0|0\t0|0\t0|0\t0|0\t0|0\t0|0\t0|0\t0|0\t0|0\t0|0\t0|0\t0|0\t0|0\t0|0\t0|0\t0|0\t0|0\t0|0\t0|0\t0|0\t0|0\t0|0\t0|0\t0|0\t0|0\t0|0\t0|0\t0|0\t0|0\t0|0\t0|0\t0|0\t0|0\t0|0\t0|0\t0|0\t0|0\t0|0\t0|0\t0|0\t0|0\t0|0\t0|0\t0|0\t0|0\t0|0\t0|0\t0|0\t0|0\t0|0\t0|0\t0|0\t0|0\t0|0\t0|0\t0|0\t0|0\t0|0\t0|0\t0|0\t0|0\t0|0\t0|0\t0|0\t0|0\t0|0\t0|0\t0|0\t0|0\t0|0\t0|0\t0|0\t0|0\t0|0\t0|0\t0|0\t0|0\t0|0\t0|0\t0|0\t0|0\t0|0\t0|0\t0|0\t0|0\t0|0\t0|0\t0|0\t0|0\t0|0\t0|0\t0|0\t0|0\t0|0\t0|0\t0|0\t0|0\t0|0\t0|0\t0|0\t0|0\t0|0\t0|0\t0|0\t0|0\t0|0\t0|0\t0|0\t0|0\t0|0\t0|0\t0|0\t0|0\t0|0\t0|0\t0|0\t0|0\t0|0\t0|0\t0|0\t0|0\t0|0\t0|0\t0|0\t0|0\t0|0\t0|0\t0|0\t0|0\t0|0\t0|0\t0|0\t0|0\t0|0\t0|0\t0|0\t0|0\t0|0\t0|0\t0|0\t0|0\t0|0\t0|0\t0|0\t0|0\t0|0\t0|0\t0|0\t0|0\t0|0\t0|0\t0|0\t0|0\t0|0\t0|0\t0|0\t0|0\t0|0\t0|0\t0|0\t0|0\t0|0\t0|0\t0|0\t0|0\t0|0\t0|0\t0|0\t0|0\t0|0\t0|0\t0|0\t0|0\t0|0\t0|0\t0|0\t0|0\t0|0\t0|0\t0|0\t0|0\t0|0\t0|0\t0|0\t0|0\t0|0\t0|0\t0|0\t0|0\t0|0\t0|0\t0|0\t0|0\t0|0\t0|0\t0|0\t0|0\t0|0\t0|0\t0|0\t0|0\t0|0\t0|0\t0|0\t0|0\t0|0\t0|0\t0|0\t0|0\t0|0\t0|0\t0|0\t0|0\t0|0\t0|0\t0|0\t0|0\t0|0\t0|0\t0|0\t0|0\t0|0\t0|0\t0|0\t0|0\t0|0\t0|0\t0|0\t0|0\t0|0\t0|0\t0|0\t0|0\t0|0\t0|0\t0|0\t0|0\t0|0\t0|0\t0|0\t0|0\t0|0\t0|0\t0|0\t0|0\t0|0\t0|0\t0|0\t0|0\t0|0\t0|0\t0|0\t0|0\t0|0\t0|0\t0|0\t0|0\t0|0\t0|0\t0|0\t0|0\t0|0\t0|0\t0|0\t0|0\t0|0\t0|0\t0|0\t0|0\t0|0\t0|0\t0|0\t0|0\t0|0\t0|0\t0|0\t0|0\t0|0\t0|0\t0|0\t0|0\t0|0\t0|0\t0|0\t0|0\t0|0\t0|0\t0|0\t0|0\t0|0\t0|0\t0|0\t0|0\t0|0\t0|0\t0|0\t0|0\t0|0\t0|0\t0|0\t0|0\t0|0\t0|0\t0|0\t0|0\t0|0\t0|0\t0|0\t0|0\t0|0\t0|0\t0|0\t0|0\t0|0\t0|0\t0|0\t0|0\t0|0\t0|0\t0|0\t0|0\t0|0\t0|0\t0|0\t0|0\t0|0\t0|0\t0|0\t0|0\t0|0\t0|0\t0|0\t0|0\t0|0\t0|0\t0|0\t0|0\t0|0\t0|0\t0|0\t0|0\t0|0\t0|0\t0|0\t0|0\t0|0\t0|0\t0|0\t0|0\t0|0\t0|0\t0|0\t0|0\t0|0\t0|0\t0|0\t0|0\t0|0\t0|0\t0|0\t0|0\t0|0\t0|0\t0|0\t0|0\t0|0\t0|0\t0|0\t0|0\t0|0\t0|0\t0|0\t0|0\t0|0\t0|0\t0|0\t0|0\t0|0\t0|0\t0|0\t0|0\t0|0\t0|0\t0|0\t0|0\t0|0\t0|0\t0|0\t0|0\t0|0\t0|0\t0|0\t0|0\t0|0\t0|0\t0|0\t0|0\t0|0\t0|0\t0|0\t0|0\t0|0\t0|0\t0|0\t0|0\t0|0\t0|0\t0|0\t0|0\t0|0\t0|0\t0|0\t0|0\t0|0\t0|0\t0|0\t0|0\t0|0\t0|0\t0|0\t0|0\t0|0\t0|0\t0|0\t0|0\t0|0\t0|0\t0|0\t0|0\t0|0\t0|0\t0|0\t0|0\t0|0\t0|0\t0|0\t0|0\t0|0\t0|0\t0|0\t0|0\t0|0\t0|0\t0|0\t0|0\t0|0\t0|0\t0|0\t0|0\t0|0\t0|0\t0|0\t0|0\t0|0\t0|0\t0|0\t0|0\t0|0\t0|0\t0|0\t0|0\t0|0\t0|0\t0|0\t0|0\t0|0\t0|0\t0|0\t0|0\t0|0\t0|0\t0|0\t0|0\t0|0\t0|0\t0|0\t0|0\t0|0\t0|0\t0|0\t0|0\t0|0\t0|0\t0|0\t0|0\t0|0\t0|0\t0|0\t0|0\t0|0\t0|0\t0|0\t0|0\t0|0\t0|0\t0|0\t0|0\t0|0\t0|0\t0|0\t0|0\t0|0\t0|0\t0|0\t0|0\t0|0\t0|0\t0|0\t0|0\t0|0\t0|0\t0|0\t0|0\t0|0\t0|0\t0|0\t0|0\t0|0\t0|0\t0|0\t0|0\t0|0\t0|0\t0|0\t0|0\t0|0\t0|0\t0|0\t0|0\t0|0\t0|0\t0|0\t0|0\t0|0\t0|0\t0|0\t0|0\t0|0\t0|0\t0|0\t0|0\t0|0\t0|0\t0|0\t0|0\t0|0\t0|0\t0|0\t0|0\t0|0\t0|0\t0|0\t0|0\t0|0\t0|0\t0|0\t0|0\t0|0\t0|0\t0|0\t0|0\t0|0\t0|0\t0|0\t0|0\t0|0\t0|0\t0|0\t0|0\t0|0\t0|0\t0|0\t0|0\t0|0\t0|0\t0|0\t0|0\t0|0\t0|0\t0|0\t0|0\t0|0\t0|0\t0|0\t0|0\t0|0\t0|0\t0|0\t0|0\t0|0\t0|0\t0|0\t0|0\t0|0\t0|0\t0|0\t0|0\t0|0\t0|0\t0|0\t0|0\t0|0\t0|0\t0|0\t0|0\t0|0\t0|0\t0|0\t0|0\t0|0\t0|0\t0|0\t0|0\t0|0\t0|0\t0|0\t0|0\t0|0\t0|0\t0|0\t0|0\t0|0\t0|0\t0|0\t0|0\t0|0\t0|0\t0|0\t0|0\t0|0\t0|0\t0|0\t0|0\t0|0\t0|0\t0|0\t0|0\t0|0\t0|0\t0|0\t0|0\t0|0\t0|0\t0|0\t0|0\t0|0\t0|0\t0|0\t0|0\t0|0\t0|0\t0|0\t0|0\t0|0\t0|0\t0|0\t0|0\t0|0\t0|0\t0|0\t0|0\t0|0\t0|0\t0|0\t0|0\t0|0\t0|0\t0|0\t0|0\t0|0\t0|0\t0|0\t0|0\t0|0\t0|0\t0|0\t0|0\t0|0\t0|0\t0|0\t0|0\t0|0\t0|0\t0|0\t0|0\t0|0\t0|0\t0|0\t0|0\t0|0\t0|0\t0|0\t0|0\t0|0\t0|0\t0|0\t0|0\t0|0\t0|0\t0|0\t0|0\t0|0\t0|0\t0|0\t0|0\t0|0\t0|0\t0|0\t0|0\t0|0\t0|0\t0|0\t0|0\t0|0\t0|0\t0|0\t0|0\t0|0\t0|0\t0|0\t0|0\t0|0\t0|0\t0|0\t0|0\t0|0\t0|0\t0|0\t0|0\t0|0\t0|0\t0|0\t0|0\t0|0\t0|0\t0|0\t0|0\t0|0\t0|0\t0|0\t0|0\t0|0\t0|0\t0|0\t0|0\t0|0\t0|0\t0|0\t0|0\t0|0\t0|0\t0|0\t0|0\t0|0\t0|0\t0|0\t0|0\t0|0\t0|0\t0|0\t0|0\t0|0\t0|0\t0|0\t0|0\t0|0\t0|0\t0|0\t0|0\t0|0\t0|0\t0|0\t0|0\t0|0\t0|0\t0|0\t0|0\t0|0\t0|0\t0|0\t0|0\t0|0\t0|0\t0|0\t0|0\t0|0\t0|0\t0|0\t0|0\t0|0\t0|0\t0|0\t0|0\t0|0\t0|0\t0|0\t0|0\t0|0\t0|0\t0|0\t0|0\t0|0\t0|0\t0|0\t0|0\t0|0\t0|0\t0|0\t0|0\t0|0\t0|0\t0|0\t0|0\t0|0\t0|0\t0|0\t0|0\t0|0\t0|0\t0|0\t0|0\t0|0\t0|0\t0|0\t0|0\t0|0\t0|0\t0|0\t0|0\t0|0\t0|0\t0|0\t0|0\t0|0\t0|0\t0|0\t0|0\t0|0\t0|0\t0|0\t0|0\t0|0\t0|0\t0|0\t0|0\t0|0\t0|0\t0|0\t0|0\t0|0\t0|0\t0|0\t0|0\t0|0\t0|0\t0|0\t0|0\t0|0\t0|0\t0|0\t0|0\t0|0\t0|0\t0|0\t0|0\t0|0\t0|0\t0|0\t0|0\t0|0\t0|0\t0|0\t0|0\t0|0\t0|0\t0|0\t0|0\r\n"
     ]
    }
   ],
   "source": [
    "!grep -v \"^##\" ~/biometals/AnnotateVariants/chr11HBBbt_5.vcf | head"
   ]
  },
  {
   "cell_type": "code",
   "execution_count": 1,
   "id": "83fd5684",
   "metadata": {},
   "outputs": [],
   "source": [
    "# Check if rs113506946 is in the file\n",
    "!grep \"rs113506946\" ~/biometals/AnnotateVariants/chr11HBBbt_5.vcf # returns nothing, so it is not\n",
    "# trying the position instead\n",
    "!grep '5285344' ~/biometals/AnnotateVariants/chr11HBBbt_5.vcf"
   ]
  },
  {
   "cell_type": "code",
   "execution_count": 1,
   "id": "f3779492",
   "metadata": {},
   "outputs": [
    {
     "name": "stdout",
     "output_type": "stream",
     "text": [
      "Error: cannot use arithmetic operators to compare strings and numbers\r\n"
     ]
    }
   ],
   "source": [
    "#--------------------------------------------------------------\n",
    "# query variant sequence\n",
    "#--------------------------------------------------------------\n",
    "!bcftools query -f '[%CHROM:%POS %SAMPLE %GT\\n]' -i 'POS==\"5285344\" && GT=\"alt\"' ~/biometals/AnnotateVariants/chr11HBBbt_5.vcf > ~/biometals/AnnotateVariants/var2_BetaThalassemiaInfo.txt"
   ]
  },
  {
   "cell_type": "markdown",
   "id": "1dc96aac",
   "metadata": {},
   "source": [
    "Conclusion: variant ID==rs113506946 at position 5285344 does not exist on the VCF file, given that it does not show up on multiple extracted files containing its location. "
   ]
  },
  {
   "cell_type": "markdown",
   "id": "4e101594",
   "metadata": {},
   "source": [
    "#--------------------------------------------------------------\n",
    "#--------------------------------------------------------------"
   ]
  },
  {
   "cell_type": "code",
   "execution_count": null,
   "id": "45d71ff4",
   "metadata": {},
   "outputs": [],
   "source": [
    "#--------------------------------------------------------------\n",
    "# variant 3) ID==rs11549489 at POS==5288667 \n",
    "#--------------------------------------------------------------"
   ]
  },
  {
   "cell_type": "code",
   "execution_count": 1,
   "id": "86117866",
   "metadata": {},
   "outputs": [],
   "source": [
    "#--------------------------------------------------------------\n",
    "# query variant sequence on chr11HBBbt.vcf\n",
    "#--------------------------------------------------------------\n",
    "!bcftools query -f '[%CHROM:%POS %SAMPLE %GT\\n]' -i 'ID==\"rs11549489\" && GT=\"alt\"' ~/biometals/AnnotateVariants/chr11HBBbt.vcf > ~/biometals/AnnotateVariants/var3_BetaThalassemiaInfo.txt"
   ]
  },
  {
   "cell_type": "code",
   "execution_count": 1,
   "id": "fcc48be3",
   "metadata": {},
   "outputs": [],
   "source": [
    "# checking if the variant is present\n",
    "!grep 'POS==\"5288667\"' ~/biometals/AnnotateVariants/chr11HBBbt.vcf\n",
    "# looks like this variant is also not present"
   ]
  },
  {
   "cell_type": "markdown",
   "id": "b9e6b3f1",
   "metadata": {},
   "source": [
    "# Alpha Thalassemia"
   ]
  },
  {
   "cell_type": "markdown",
   "id": "b0762382",
   "metadata": {},
   "source": [
    "Located on HBA1 and HBA2 genes on Chr 16\n",
    "Chr16:159,632-164,969 (HBA1 region, GRCh38)\n",
    "Chr16:222,623-227,510 (HBA2 region, GRCh38)"
   ]
  },
  {
   "cell_type": "code",
   "execution_count": 1,
   "id": "ad04ec12",
   "metadata": {},
   "outputs": [],
   "source": [
    "# extract the HBA1 gene\n",
    "!bcftools view -r chr16:159632-164969 -Ov -o ~/biometals/AnnotateVariants/1000Genomes.Chr16.HBA1.vcf ~/biol6150/Data/1000Genomes/phase3.chr16.GRCh38.GT.crossmap.vcf.gz"
   ]
  },
  {
   "cell_type": "code",
   "execution_count": 1,
   "id": "b5f99b9b",
   "metadata": {},
   "outputs": [],
   "source": [
    "# query variant sequence\n",
    "!bcftools query -f '[%CHROM:%POS %SAMPLE %GT\\n]' -i 'ID==\"rs11041357\" && GT=\"alt\"' ~/biometals/AnnotateVariants/1000Genomes.Chr11.HMBS.vcf > ~/biometals/AnnotateVariants/var1_HBA1.txt"
   ]
  },
  {
   "cell_type": "code",
   "execution_count": null,
   "id": "41089ac6",
   "metadata": {},
   "outputs": [],
   "source": []
  },
  {
   "cell_type": "code",
   "execution_count": 1,
   "id": "3cafb079",
   "metadata": {},
   "outputs": [],
   "source": [
    "# extract the HBA2 gene\n",
    "!bcftools view -r chr16:222623-227510 -Ov -o ~/biometals/AnnotateVariants/1000Genomes.Chr16.HBA2.vcf ~/biol6150/Data/1000Genomes/phase3.chr16.GRCh38.GT.crossmap.vcf.gz"
   ]
  },
  {
   "cell_type": "code",
   "execution_count": 1,
   "id": "1cf0a870",
   "metadata": {},
   "outputs": [],
   "source": [
    "# query variant sequence\n",
    "!bcftools query -f '[%CHROM:%POS %SAMPLE %GT\\n]' -i 'ID==\"rs63749907\" && GT=\"alt\"' ~/biometals/AnnotateVariants/1000Genomes.Chr11.HMBS.vcf > ~/biometals/AnnotateVariants/var1_HBA2.txt"
   ]
  },
  {
   "cell_type": "markdown",
   "id": "a8e8db34",
   "metadata": {},
   "source": [
    "neither of these worked"
   ]
  },
  {
   "cell_type": "markdown",
   "id": "c7802df5",
   "metadata": {},
   "source": [
    "# Porphyria"
   ]
  },
  {
   "cell_type": "markdown",
   "id": "0d4b8858",
   "metadata": {},
   "source": [
    "# Acute Intermittent Porpyria (AIP) "
   ]
  },
  {
   "cell_type": "markdown",
   "id": "a82f4477",
   "metadata": {},
   "source": [
    "Acute Intermittent Porpyria comes from a variation located on the HMBS Gene on Chromosome 11. Thus, the chromosome 11 VCF file from above can be used, but the gene needs to be extracted first before analyzing the variant. "
   ]
  },
  {
   "cell_type": "code",
   "execution_count": 1,
   "id": "023fe2b5",
   "metadata": {},
   "outputs": [],
   "source": [
    "# extract the HMBS gene\n",
    "!bcftools view -r chr11:118050000-119092000 -Ov -o ~/biometals/AnnotateVariants/1000Genomes.Chr11.HMBS_2.vcf ~/biol6150/Data/1000Genomes/phase3.chr11.GRCh38.GT.crossmap.vcf.gz"
   ]
  },
  {
   "cell_type": "code",
   "execution_count": 1,
   "id": "f6fa660b",
   "metadata": {},
   "outputs": [],
   "source": [
    "# query variant sequence\n",
    "!bcftools query -f '[%CHROM:%POS %SAMPLE %GT\\n]' -i 'ID==\"rs80338839\" && GT=\"alt\"' ~/biometals/AnnotateVariants/1000Genomes.Chr11.HMBS_2.vcf > ~/biometals/AnnotateVariants/var1_AIP.txt"
   ]
  },
  {
   "cell_type": "markdown",
   "id": "9c0eedff",
   "metadata": {},
   "source": [
    "ID: rs80338839\n",
    "pos: 118548644"
   ]
  },
  {
   "cell_type": "markdown",
   "id": "019e5263",
   "metadata": {},
   "source": [
    "jk it didn't work"
   ]
  },
  {
   "cell_type": "code",
   "execution_count": null,
   "id": "983f6cc1",
   "metadata": {},
   "outputs": [],
   "source": [
    "# trying to just query the entire chromosome\n",
    "!bcftools query -f '[%CHROM:%POS %SAMPLE %GT\\n]' -i 'ID==\"rs80338839\" && GT=\"alt\"' ~/biol6150/Data/1000Genomes/phase3.chr11.GRCh38.GT.crossmap.vcf.gz > ~/biometals/AnnotateVariants/var1_AIP.txt"
   ]
  },
  {
   "cell_type": "code",
   "execution_count": null,
   "id": "4b96af00",
   "metadata": {},
   "outputs": [],
   "source": []
  },
  {
   "cell_type": "markdown",
   "id": "f4c7940a",
   "metadata": {},
   "source": [
    "# Hereditary Hemochromatosis"
   ]
  },
  {
   "cell_type": "markdown",
   "id": "d2e3ded7",
   "metadata": {},
   "source": [
    "Chromosome 6\n",
    "2 variants: \n",
    "rs1800562: Chr6:26,072,300 \n",
    "rs1799945: Chr6:26,071,919 "
   ]
  },
  {
   "cell_type": "code",
   "execution_count": 1,
   "id": "0e164f5d",
   "metadata": {},
   "outputs": [],
   "source": [
    "#--------------------------------------------------------------\n",
    "# extract a smaller sequence that contains the gene\n",
    "#--------------------------------------------------------------\n",
    "!bcftools view -r chr6:26000000-26900000 -Ov -o ~/biometals/AnnotateVariants/1000Genomes.Chr6.vcf \n",
    "    ~/biol6150/Data/1000Genomes/phase3.chr6.GRCh38.GT.crossmap.vcf.gz"
   ]
  },
  {
   "cell_type": "code",
   "execution_count": 1,
   "id": "0004d531",
   "metadata": {},
   "outputs": [],
   "source": [
    "#--------------------------------------------------------------\n",
    "# query for variant 1\n",
    "#--------------------------------------------------------------\n",
    "!bcftools query -f '[%CHROM:%POS %SAMPLE %GT\\n]' -i 'ID==\"rs1800562\" && GT=\"alt\"' \n",
    "    ~/biometals/AnnotateVariants/1000Genomes.Chr6.vcf > ~/biometals/AnnotateVariants/chr6_var1.txt"
   ]
  },
  {
   "cell_type": "code",
   "execution_count": 1,
   "id": "3d3da38a",
   "metadata": {},
   "outputs": [
    {
     "name": "stdout",
     "output_type": "stream",
     "text": [
      "    pop  count\n",
      "0   ACB      1\n",
      "1   ASW      2\n",
      "2   CEU     10\n",
      "3   CLM      3\n",
      "4   FIN      9\n",
      "5   GBR      8\n",
      "6   GIH      1\n",
      "7   IBS      9\n",
      "8   MXL      1\n",
      "9   PEL      2\n",
      "10  PUR      8\n",
      "11  STU      1\n",
      "12  TSI      6\n"
     ]
    }
   ],
   "source": [
    "#--------------------------------------------------------------\n",
    "# next step: look at the whole population data set to see what populations have the variant\n",
    "#--------------------------------------------------------------\n",
    "import pandas as pd\n",
    "\n",
    "# 1) Load the genotype text file containing chromosome position, sample ID, genotype\n",
    "genotype_file = '~/biometals/AnnotateVariants/chr6_var1.txt' \n",
    "genotype_df = pd.read_csv(genotype_file, sep='\\t', header=None)\n",
    "\n",
    "# 2) Split the genotype file into separate columns\n",
    "genotype_df[['position', 'sample', 'genotype']] = genotype_df[0].str.split(' ', expand=True)\n",
    "# Drop the old column (0) after splitting\n",
    "genotype_df = genotype_df.drop(columns=[0])\n",
    "\n",
    "# 3) load samplepopdata\n",
    "population_file = '~/biometals/samplepopdata.csv'\n",
    "population_df = pd.read_csv(population_file, sep=',', header=None, names=['sample', 'pop'])\n",
    "\n",
    "# 4) Merge the genotype data with samplepopdata\n",
    "merged_df = pd.merge(genotype_df, population_df, on='sample', how='inner')\n",
    "\n",
    "# 5) Filter for samples with the variation allele \n",
    "variation_samples = merged_df[merged_df['genotype'].str.contains('1\\|1|1\\|0|0\\|1')]\n",
    "\n",
    "# 6) Analyze the population distribution of these variation samples\n",
    "population_counts = variation_samples.groupby('pop').size().reset_index(name='count')\n",
    "print(population_counts)"
   ]
  },
  {
   "cell_type": "code",
   "execution_count": 1,
   "id": "29e5501a",
   "metadata": {},
   "outputs": [],
   "source": [
    "# query for variant 2\n",
    "!bcftools query -f '[%CHROM:%POS %SAMPLE %GT\\n]' -i 'ID==\"rs1799945\" && GT=\"alt\"' ~/biometals/AnnotateVariants/1000Genomes.Chr6.vcf > ~/biometals/AnnotateVariants/chr6_var2.txt"
   ]
  },
  {
   "cell_type": "code",
   "execution_count": 1,
   "id": "c38f5022",
   "metadata": {},
   "outputs": [
    {
     "name": "stdout",
     "output_type": "stream",
     "text": [
      "    pop  count\n",
      "0   ACB      4\n",
      "1   ASW      6\n",
      "2   BEB      5\n",
      "3   CDX      4\n",
      "4   CEU     25\n",
      "5   CHB      6\n",
      "6   CHS      5\n",
      "7   CLM     25\n",
      "8   ESN      1\n",
      "9   FIN     20\n",
      "10  GBR     31\n",
      "11  GIH     17\n",
      "12  GWD      1\n",
      "13  IBS     45\n",
      "14  ITU     20\n",
      "15  JPT      4\n",
      "16  KHV      7\n",
      "17  LWK      2\n",
      "18  MXL     14\n",
      "19  PEL      9\n",
      "20  PJL     11\n",
      "21  PUR     23\n",
      "22  STU     16\n",
      "23  TSI     34\n",
      "24  YRI      1\n"
     ]
    }
   ],
   "source": [
    "#--------------------------------------------------------------\n",
    "# next step: look at the whole population data set to see what populations have the variant\n",
    "#--------------------------------------------------------------\n",
    "import pandas as pd\n",
    "\n",
    "# 1) Load the genotype text file containing chromosome position, sample ID, genotype\n",
    "genotype_file = '~/biometals/AnnotateVariants/chr6_var2.txt' \n",
    "genotype_df = pd.read_csv(genotype_file, sep='\\t', header=None)\n",
    "\n",
    "# 2) Split the genotype file into separate columns\n",
    "genotype_df[['position', 'sample', 'genotype']] = genotype_df[0].str.split(' ', expand=True)\n",
    "# Drop the old column (0) after splitting\n",
    "genotype_df = genotype_df.drop(columns=[0])\n",
    "\n",
    "# 3) load samplepopdata\n",
    "population_file = '~/biometals/samplepopdata.csv'\n",
    "population_df = pd.read_csv(population_file, sep=',', header=None, names=['sample', 'pop'])\n",
    "\n",
    "# 4) Merge the genotype data with samplepopdata\n",
    "merged_df = pd.merge(genotype_df, population_df, on='sample', how='inner')\n",
    "\n",
    "# 5) Filter for samples with the variation allele \n",
    "variation_samples = merged_df[merged_df['genotype'].str.contains('1\\|1|1\\|0|0\\|1')]\n",
    "\n",
    "# 6) Analyze the population distribution of these variation samples\n",
    "population_counts = variation_samples.groupby('pop').size().reset_index(name='count')\n",
    "print(population_counts)"
   ]
  }
 ],
 "metadata": {
  "kernelspec": {
   "display_name": "Python [conda env:biol6150]",
   "language": "python",
   "name": "conda-env-biol6150-py"
  },
  "language_info": {
   "codemirror_mode": {
    "name": "ipython",
    "version": 3
   },
   "file_extension": ".py",
   "mimetype": "text/x-python",
   "name": "python",
   "nbconvert_exporter": "python",
   "pygments_lexer": "ipython3",
   "version": "3.11.5"
  }
 },
 "nbformat": 4,
 "nbformat_minor": 5
}
